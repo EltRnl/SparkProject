{
 "cells": [
  {
   "attachments": {},
   "cell_type": "markdown",
   "metadata": {},
   "source": [
    "# Analysing data with Spark\n",
    "\n",
    "A work by: Elliot Renel and Dorian Goepp."
   ]
  },
  {
   "attachments": {},
   "cell_type": "markdown",
   "metadata": {},
   "source": [
    "## Downloading the data\n",
    "\n",
    "Example command to download all the files for job events, running the downloads in parallel:\n",
    "\n",
    "```bash\n",
    "gsutil -m cp gs://clusterdata-2011-2/job_events/* ./job_events/\n",
    "```\n",
    "\n",
    "The parallelisation of the download is to take advantage of a high bandwidth internet connection. It would not help if the connection is slow.\n",
    "\n",
    "As these are compressed with gzip, we need to un-compress them. There is an [easy way](https://stackoverflow.com/questions/16038087/extract-and-delete-all-gz-in-a-directory-linux) to do it for all files at once:\n",
    "\n",
    "```bash\n",
    "gunzip *.gz\n",
    "```\n",
    "\n",
    "> **Note:** As an afterthought, it might have been helpful to load the data directly from gzip files, saving some disk space at the cost of an increased computational load when a file is loaded."
   ]
  },
  {
   "attachments": {},
   "cell_type": "markdown",
   "metadata": {},
   "source": [
    "## Parsing the schema file\n",
    "\n",
    "The data we are working with is stored in CSV files of different \"types\", akin to tables in a relational database. Google provided a schema file (`schema.csv`) representing the fields of these CSV types.\n",
    "\n",
    "To be able to make good use of the data, and to limit the risk of errors in selection of fields and handling of their format, we wrote a small python module to parse the schema file and help in loading and accessing the data in the CSV files."
   ]
  },
  {
   "cell_type": "code",
   "execution_count": 2,
   "metadata": {},
   "outputs": [],
   "source": [
    "# the Schema class of our utility module\n",
    "from src.schema import Schema"
   ]
  },
  {
   "attachments": {},
   "cell_type": "markdown",
   "metadata": {},
   "source": [
    "Our module is used through an instance of the Schema class, as we will see later. The initialiser takes the path to the schema file provided by Google."
   ]
  },
  {
   "cell_type": "code",
   "execution_count": 3,
   "metadata": {},
   "outputs": [],
   "source": [
    "schema = Schema(\"data/schema.csv\")"
   ]
  },
  {
   "attachments": {},
   "cell_type": "markdown",
   "metadata": {},
   "source": [
    "It is possible to print the object. This shows all the types of data in the data set. We commented the code block bellow as the output is quite verbose.\n",
    "\n",
    "Note the `formatter` field. It is a function which will parse the input data and convert it to an appropriate Python type, based on the value in the `format` field of the schema."
   ]
  },
  {
   "cell_type": "code",
   "execution_count": 3,
   "metadata": {},
   "outputs": [],
   "source": [
    "# print(schema)"
   ]
  },
  {
   "cell_type": "markdown",
   "metadata": {},
   "source": [
    "## Starting Spark"
   ]
  },
  {
   "attachments": {},
   "cell_type": "markdown",
   "metadata": {},
   "source": [
    "We use Spark locally, using all available cores."
   ]
  },
  {
   "cell_type": "code",
   "execution_count": 3,
   "metadata": {},
   "outputs": [
    {
     "name": "stderr",
     "output_type": "stream",
     "text": [
      "Setting default log level to \"WARN\".\n",
      "To adjust logging level use sc.setLogLevel(newLevel). For SparkR, use setLogLevel(newLevel).\n"
     ]
    },
    {
     "name": "stdout",
     "output_type": "stream",
     "text": [
      "23/01/17 16:34:36 WARN NativeCodeLoader: Unable to load native-hadoop library for your platform... using builtin-java classes where applicable\n"
     ]
    }
   ],
   "source": [
    "from pyspark import SparkContext\n",
    "\n",
    "# start spark with as many worker threads as available on the machine\n",
    "sc = SparkContext(\"local[*]\")\n",
    "sc.setLogLevel(\"ERROR\")"
   ]
  },
  {
   "attachments": {},
   "cell_type": "markdown",
   "metadata": {},
   "source": [
    "## Package imports and loading RDD\n",
    "\n",
    "To make launching questions separately easier, we here put the code to import all the necessary packages and functions."
   ]
  },
  {
   "cell_type": "code",
   "execution_count": 4,
   "metadata": {},
   "outputs": [],
   "source": [
    "# All exercises\n",
    "import matplotlib.pyplot as plt     # plotting package used to display graphs in several exercises\n",
    "from operator import add            # \"add\" function used in several reduce/aggregation/...\n",
    "import numpy as np                  # numpy library used to access several functions in different exercises\n",
    "from tabulate import tabulate       # used to pretty-print tabular data\n",
    "\n",
    "# Called once or twice\n",
    "from math import ceil               # ceiling mathematics operation used in question 2\n",
    "from statistics import mean,median  # classic statistics functions used in the correlation study of question 7\n",
    "from IPython.utils import io        # used to call io.capture_output(), preventing output during numpy calculations where we expect some errors"
   ]
  },
  {
   "cell_type": "code",
   "execution_count": 5,
   "metadata": {},
   "outputs": [],
   "source": [
    "# Loading RDDs\n",
    "machine_events = schema.load_rdd(sc, 'machine_events')\n",
    "job_events = schema.load_rdd(sc,'job_events')\n",
    "task_events = schema.load_rdd(sc,'task_events')\n",
    "task_usage = schema.load_rdd(sc,\"task_usage\")\n",
    "\n",
    "# Putting them in cache for better performance (can be commented out if needed)\n",
    "# machine_events = machine_events.cache()\n",
    "# job_events = job_events.cache()\n",
    "# task_events = task_events.cache()\n",
    "# task_usage = task_usage.cache()\n",
    "\n",
    "# RDD field getters\n",
    "machine_events_get = schema.field_getters('machine_events')\n",
    "job_events_get = schema.field_getters('job_events')\n",
    "task_events_get = schema.field_getters('task_events')\n",
    "task_usage_get = schema.field_getters('task_usage')"
   ]
  },
  {
   "attachments": {},
   "cell_type": "markdown",
   "metadata": {},
   "source": [
    "## Relation between resource usage peaks and task evictions (Q7)\n",
    "\n",
    "We will investigate, for any given machine, whether there is a correlation  between resource consumption peaks and task evictions."
   ]
  },
  {
   "attachments": {},
   "cell_type": "markdown",
   "metadata": {},
   "source": [
    "### Objective\n",
    "\n",
    "To find a correlation, we will first construct a timeline, for each machine, of the maximum resource used, and the eviction events. Fortunately, the table Task Usage contains data on the maximum resource used withing a given time window. As such, we just need to correlate these resources with the eviction events. The documentation does not mention that tasks are migrated between machines, so we do not have to account for that.\n",
    "\n",
    "Moreover, in the documentation we learn that the traces in our task usage data are done withing periods of 300 seconds starting at 600 seconds in the timeline. As such, to have a dataset easier to look at and perform operations on, we will form our timeline in epochs starting from 0. The first epoch 0 will therefore belongs to the time frame between 600s and 900s, epoch 1 will be between 900s and 1200s and so on.\n",
    "\n",
    "We can verify that no task usage are recorded between epochs with the following test :"
   ]
  },
  {
   "cell_type": "code",
   "execution_count": 9,
   "metadata": {},
   "outputs": [
    {
     "name": "stderr",
     "output_type": "stream",
     "text": [
      "[Stage 3:=======================================>                 (16 + 7) / 23]\r"
     ]
    },
    {
     "name": "stdout",
     "output_type": "stream",
     "text": [
      "The number of events not inside a 300s period or epoch is 0.\n"
     ]
    },
    {
     "name": "stderr",
     "output_type": "stream",
     "text": [
      "                                                                                \r"
     ]
    }
   ],
   "source": [
    "overlapping_epochs = task_usage \\\n",
    "    .map(lambda task: (task_usage_get['start time'](task), task_usage_get['end time'](task))) \\\n",
    "    .filter(lambda x: x[0]//300000000!=(x[1]-1)//300000000).count()\n",
    "    # The -1 on the end time is to account for the events that ends at the end of an epoch (ex : 675s -> 900s is still withing epoch 0)\n",
    "    \n",
    "\n",
    "print(f\"The number of events not inside a 300s period or epoch is {overlapping_epochs}.\")\n"
   ]
  },
  {
   "attachments": {},
   "cell_type": "markdown",
   "metadata": {},
   "source": [
    "Now that this is out of the way, we'll also determine the max time of our dataset, so as to know how many epochs to account for."
   ]
  },
  {
   "cell_type": "code",
   "execution_count": 8,
   "metadata": {},
   "outputs": [
    {
     "name": "stderr",
     "output_type": "stream",
     "text": [
      "                                                                                \r"
     ]
    }
   ],
   "source": [
    "usage_max_epoch = (task_usage.map(task_usage_get['start time']).max()-600000000)//300000000\n",
    "event_max_epoch = (task_events.map(task_events_get['time']).max()-600000000)//300000000\n",
    "max_epoch = min(usage_max_epoch,event_max_epoch) # We take the minimum of the two because it is going to be the relevant one in the intersection later"
   ]
  },
  {
   "attachments": {},
   "cell_type": "markdown",
   "metadata": {},
   "source": [
    "### Gathering task consumption peaks for all machines\n",
    "\n",
    "The machine resource table contains machine IDs, so we can gather task consumption peaks for all machines on the one hand, and then task eviction events for all machines on the other hand. We can assume that no task can trigger two events at the same time, so we can ignore job ID and task index and only keep the machine ID.\n",
    "\n",
    "We gather all maximum resource values for each machine, and their epochs :"
   ]
  },
  {
   "cell_type": "code",
   "execution_count": 10,
   "metadata": {},
   "outputs": [],
   "source": [
    "def event_to_peak_resources(event):\n",
    "    return {(task_usage_get['start time'](event)-600000000)//300000000 : \n",
    "                (task_usage_get['maximum CPU rate'](event), \n",
    "                task_usage_get['maximum memory usage'](event), \n",
    "                task_usage_get['maximum disk IO time'](event))\n",
    "            }\n",
    "\n",
    "def fuse_max_dictionary(d1,d2):\n",
    "    for element in d2:\n",
    "        if element in d1:\n",
    "            a1, a2, a3 = d1[element]\n",
    "            b1, b2, b3 = d2[element]\n",
    "            d1[element] = (max(a1,b1),max(a2,b2),max(a3,b3))\n",
    "        else :\n",
    "            d1[element] = d2[element]\n",
    "    return d1\n",
    "\n",
    "default_dict = dict.fromkeys([a for a in range(0,max_epoch+1)],(.0,.0,.0))\n",
    "\n",
    "\n",
    "machines_max_usage = task_usage \\\n",
    "    .filter(lambda event: task_usage_get['maximum memory usage'](event) is not None and \\\n",
    "        task_usage_get['maximum CPU rate'](event) is not None and \\\n",
    "        task_usage_get['maximum disk IO time'](event) is not None \\\n",
    "    ) \\\n",
    "    .map(lambda event: \n",
    "        (task_usage_get['machine ID'](event),\n",
    "        event_to_peak_resources(event))) \\\n",
    "    .foldByKey(default_dict,lambda measurement1, measurement2: fuse_max_dictionary(measurement1,measurement2)) \\\n",
    "    .map(lambda machine: (machine[0],\n",
    "            ([k for k,_ in machine[1].items()],\n",
    "            [v[0] for _,v in machine[1].items()],\n",
    "            [v[1] for _,v in machine[1].items()],\n",
    "            [v[2] for _,v in machine[1].items()])\n",
    "            )\n",
    "        )\\\n",
    "    .cache()"
   ]
  },
  {
   "attachments": {},
   "cell_type": "markdown",
   "metadata": {},
   "source": [
    "### Gathering task eviction events for all machines\n",
    "\n",
    "Now we look at the task events table, we only keep the EVICTION (2) events, and gather a list of epochs for each machine IDs."
   ]
  },
  {
   "cell_type": "code",
   "execution_count": 11,
   "metadata": {},
   "outputs": [],
   "source": [
    "def check(list):\n",
    "    for e in list:\n",
    "        if e!=0:\n",
    "            return True\n",
    "    return False\n",
    "\n",
    "task_evict_events = task_events \\\n",
    "    .filter(lambda task_event: task_events_get['event type'](task_event) == 2) \\\n",
    "    .map(lambda event: (\n",
    "            task_events_get['machine ID'](event),\n",
    "            (task_events_get['time'](event)-600000000)//300000000\n",
    "        )\n",
    "    ) \\\n",
    "    .groupByKey() \\\n",
    "    .mapValues(list) \\\n",
    "    .mapValues(lambda v : list(np.histogram(v,np.arange(max_epoch+2))[0])) \\\n",
    "    .filter(lambda x: check(x[1])) \\"
   ]
  },
  {
   "attachments": {},
   "cell_type": "markdown",
   "metadata": {},
   "source": [
    "### Correlation Study\n",
    "\n",
    "We perform a join operation to combine the two RDDs, considering that machine IDs only have one entry in each tables, we should still have one copy of each machine IDs in the table we obtain. As such, we obtain an RDD with the machine ID as a key, and a set of 5 arrays, representing :\n",
    "- 0 : the epochs, from 0 to *max_epoch*\n",
    "- 1 : maximum CPU rate on this machine in the corresponding epoch\n",
    "- 2 : maximum memory usage on this machine in the corresponding epoch\n",
    "- 3 : maximum disk IO time on this machine in the corresponding epoch\n",
    "- 4 : number of eviction on this machine in the corresponding epoch"
   ]
  },
  {
   "cell_type": "code",
   "execution_count": 32,
   "metadata": {},
   "outputs": [],
   "source": [
    "correlation = machines_max_usage.join(task_evict_events).mapValues(lambda x: (*x[0],x[1])).cache()"
   ]
  },
  {
   "attachments": {},
   "cell_type": "markdown",
   "metadata": {},
   "source": [
    "Now that we have our data for each machines, we need to correlate the eviction events and max resource usage for each periods. To do so we will first try to determine the correlation coefficient (also known as ***Pearson Correlation Coefficient***) for each machine and each resource usage. To do so we use the already existing *numpy* function *corrcoef*."
   ]
  },
  {
   "cell_type": "code",
   "execution_count": 35,
   "metadata": {},
   "outputs": [
    {
     "name": "stderr",
     "output_type": "stream",
     "text": [
      "                                                                                \r"
     ]
    }
   ],
   "source": [
    "coefficients = correlation.map(lambda e: ( \\\n",
    "    [np.corrcoef(np.array(e[1][4]),np.array(e[1][1]))[1][0]],\\\n",
    "    [np.corrcoef(np.array(e[1][4]),np.array(e[1][2]))[1][0]],\\\n",
    "    [np.corrcoef(np.array(e[1][4]),np.array(e[1][3]))[1][0]] \\\n",
    ")).reduce(lambda a,b: (a[0]+b[0],a[1]+b[1],a[2]+b[2]))"
   ]
  },
  {
   "cell_type": "code",
   "execution_count": 36,
   "metadata": {},
   "outputs": [
    {
     "name": "stdout",
     "output_type": "stream",
     "text": [
      "Maximum coefficients found : (0.9780996399005489, 1.0, 0.7786835576588109)\n",
      "Minimum coefficients found : (-0.686292601076302, -0.999905756749502, -0.5688337699851276)\n",
      "Average of all coefficients : (0.12192521190042006, nan, 0.07779399506536094)\n",
      "Median coefficients : (0.09863104721262035, -0.04844101105048903, 0.0645486558407862)\n"
     ]
    }
   ],
   "source": [
    "max_coefficient = tuple([max(e) for e in coefficients])\n",
    "min_coefficient = tuple([min(e) for e in coefficients])\n",
    "average_coefficient = tuple([mean(e) for e in coefficients])\n",
    "median_coefficient = tuple([median(e) for e in coefficients])\n",
    "\n",
    "print(f'Maximum coefficients found : {max_coefficient}\\nMinimum coefficients found : {min_coefficient}\\nAverage of all coefficients : {average_coefficient}\\nMedian coefficients : {median_coefficient}\")"
   ]
  },
  {
   "attachments": {},
   "cell_type": "markdown",
   "metadata": {},
   "source": [
    "As we can see, there are machines that seems to have correlations between the maximum resource used and the number of evictions, but the whole data (especially the mean and median) suggest that no such correlation exists."
   ]
  },
  {
   "attachments": {},
   "cell_type": "markdown",
   "metadata": {},
   "source": [
    "If we don't try to look at the coefficients machine by machine, but try to find the correlation coefficient of the whole data set (while keeping X being the maximum resource used and Y the number of eviction), we obtain the following numbers :"
   ]
  },
  {
   "cell_type": "code",
   "execution_count": 37,
   "metadata": {},
   "outputs": [
    {
     "name": "stderr",
     "output_type": "stream",
     "text": [
      "[Stage 71:========================================>             (86 + 12) / 114]\r"
     ]
    },
    {
     "name": "stdout",
     "output_type": "stream",
     "text": [
      "0.06332681225544091\n",
      "-0.006154405757861686\n",
      "0.013822448895748152\n"
     ]
    },
    {
     "name": "stderr",
     "output_type": "stream",
     "text": [
      "                                                                                \r"
     ]
    }
   ],
   "source": [
    "cpu = correlation.map(lambda e: (e[1][1],e[1][4])).reduce(lambda a,b: (a[0]+b[0],a[1]+b[1]))\n",
    "memory = correlation.map(lambda e: (e[1][2],e[1][4])).reduce(lambda a,b: (a[0]+b[0],a[1]+b[1]))\n",
    "disk = correlation.map(lambda e: (e[1][3],e[1][4])).reduce(lambda a,b: (a[0]+b[0],a[1]+b[1]))\n",
    "\n",
    "print(np.corrcoef(np.array(cpu[0]),np.array(cpu[1]))[1][0])\n",
    "print(np.corrcoef(np.array(memory[0]),np.array(memory[1]))[1][0])\n",
    "print(np.corrcoef(np.array(disk[0]),np.array(disk[1]))[1][0])"
   ]
  },
  {
   "attachments": {},
   "cell_type": "markdown",
   "metadata": {},
   "source": [
    "As such, we can safely conclude that there are no correlation, negative of positive, between the picks of resources of a machine and its eviction events. \n",
    "\n",
    "Just for the sake of eye candy, here are the plots for each resource types maximum usage vs task evictions, where we can clearly see no correlations :"
   ]
  },
  {
   "cell_type": "code",
   "execution_count": 38,
   "metadata": {},
   "outputs": [
    {
     "data": {
      "image/png": "[encoded data removed]",
      "text/plain": [
       "<Figure size 640x480 with 1 Axes>"
      ]
     },
     "metadata": {},
     "output_type": "display_data"
    },
    {
     "data": {
      "image/png": "[encoded data removed]",
      "text/plain": [
       "<Figure size 640x480 with 1 Axes>"
      ]
     },
     "metadata": {},
     "output_type": "display_data"
    },
    {
     "data": {
      "text/plain": [
       "Text(0, 0.5, 'Number of evictions in Epoch')"
      ]
     },
     "execution_count": 38,
     "metadata": {},
     "output_type": "execute_result"
    },
    {
     "data": {
      "image/png": "[encoded data removed]",
      "text/plain": [
       "<Figure size 640x480 with 1 Axes>"
      ]
     },
     "metadata": {},
     "output_type": "display_data"
    }
   ],
   "source": [
    "plt.scatter(*cpu)\n",
    "plt.title(\"Max CPU vs Evictions\")\n",
    "plt.xlabel(\"Maximum CPU usage of Epoch\")\n",
    "plt.ylabel(\"Number of evictions in Epoch\")\n",
    "plt.show()\n",
    "plt.scatter(*memory)\n",
    "plt.title(\"Max memory vs Evictions\")\n",
    "plt.xlabel(\"Maximum memory usage of Epoch\")\n",
    "plt.ylabel(\"Number of evictions in Epoch\")\n",
    "plt.show()\n",
    "plt.scatter(*disk)\n",
    "plt.title(\"Max disk vs Evictions\")\n",
    "plt.xlabel(\"Maximum disk usage of Epoch\")\n",
    "plt.ylabel(\"Number of evictions in Epoch\")"
   ]
  },
  {
   "attachments": {},
   "cell_type": "markdown",
   "metadata": {},
   "source": [
    "## Additional Questions (added by us)\n",
    "\n",
    "Here are the final 2 questions that we came up with, each have their precisions to explain what it is we are looking for."
   ]
  },
  {
   "attachments": {},
   "cell_type": "markdown",
   "metadata": {},
   "source": [
    "### 1 - Study of the relation between Scheduling Class and Dead Time\n",
    "\n",
    "The Google documentation tells us that scheduling classes have different levels of latency, with 3 supposedly having lower latency than 0. It also tells us that when a task dies (failed, evicted, etc.), the scheduler tries to submit it again as soon as possible. As such, we can verify the first statement by looking at the average time spent being dead for each classes. We should expect class 0 to have the most, and class 3 the least.\n",
    "\n",
    "First, let's remind ourself of the distribution of scheduling classes : "
   ]
  },
  {
   "cell_type": "code",
   "execution_count": 40,
   "metadata": {},
   "outputs": [
    {
     "name": "stderr",
     "output_type": "stream",
     "text": [
      "                                                                                \r"
     ]
    }
   ],
   "source": [
    "distribution = None\n",
    "try :\n",
    "    distribution = job_scheduling_classes\n",
    "except NameError:\n",
    "    distribution = job_events \\\n",
    "        .filter(lambda job_event: job_events_get['event type'](job_event) == 0) \\\n",
    "        .map(lambda event: (job_events_get['job ID'](event), job_events_get['scheduling class'](event))) \\\n",
    "        .distinct() \\\n",
    "        .map(lambda job_class: (job_class[1], 1)) \\\n",
    "        .reduceByKey(add) \\\n",
    "        .collect()"
   ]
  },
  {
   "cell_type": "code",
   "execution_count": 41,
   "metadata": {},
   "outputs": [
    {
     "data": {
      "image/png": "[encoded data removed]",
      "text/plain": [
       "<Figure size 640x480 with 1 Axes>"
      ]
     },
     "metadata": {},
     "output_type": "display_data"
    }
   ],
   "source": [
    "classes, hist = zip(*distribution)\n",
    "classes = [str(e) for e in classes]\n",
    "plt.bar(classes, hist)\n",
    "plt.title(\"Distribution of scheduling class\")\n",
    "plt.xlabel(\"Scheduling Class\")\n",
    "plt.ylabel(\"Number of Jobs\")\n",
    "plt.show()"
   ]
  },
  {
   "attachments": {},
   "cell_type": "markdown",
   "metadata": {},
   "source": [
    "Now let us form the timeline of each jobs, then perform the necessary transformations to have the average death time for each class."
   ]
  },
  {
   "cell_type": "code",
   "execution_count": 42,
   "metadata": {},
   "outputs": [],
   "source": [
    "jobs_timeline = job_events \\\n",
    "    .filter(lambda event: job_events_get['event type'](event) not in {7,8}) \\\n",
    "    .map(lambda event: (\n",
    "        (job_events_get['job ID'](event),job_events_get['scheduling class'](event)),\n",
    "        (job_events_get['time'](event), job_events_get['event type'](event))\n",
    "        )\n",
    "    ) \\\n",
    "    .groupByKey() \\\n",
    "    .mapValues(list) \\\n",
    "    .cache()"
   ]
  },
  {
   "cell_type": "code",
   "execution_count": 43,
   "metadata": {},
   "outputs": [
    {
     "name": "stderr",
     "output_type": "stream",
     "text": [
      "                                                                                \r"
     ]
    },
    {
     "data": {
      "image/png": "[encoded data removed]",
      "text/plain": [
       "<Figure size 640x480 with 1 Axes>"
      ]
     },
     "metadata": {},
     "output_type": "display_data"
    }
   ],
   "source": [
    "def death_times(s_class, timeline):\n",
    "    timeline.sort(key=lambda x: x[0])\n",
    "    all_deaths = []\n",
    "    for i in range(1,len(timeline)):\n",
    "        if timeline[i-1][1] in {2,3,4,5,6} and timeline[i][1] == 0:\n",
    "            all_deaths += [(s_class,timeline[i][0] - timeline[i-1][0])]\n",
    "    if all_deaths == []:\n",
    "        return [(s_class,0)]\n",
    "    return all_deaths\n",
    "\n",
    "average_death_duration_per_class = jobs_timeline \\\n",
    "    .flatMap(lambda job: death_times(job[0][1],job[1])) \\\n",
    "    .aggregateByKey(\n",
    "        (0,0),\n",
    "        lambda acc, data : (acc[0] + data, acc[1] + 1),\n",
    "        lambda acc1, acc2 : (acc1[0] + acc2[0], acc1[1] + acc2[1])\n",
    "    ).mapValues(lambda v: v[0]/v[1])\n",
    "\n",
    "_ , data_death_time = zip(*average_death_duration_per_class.sortByKey().collect())\n",
    "plt.bar([str(c) for c in range(4)],data_death_time)\n",
    "plt.title(\"Average Death Time per Scheduling Class\")\n",
    "plt.xlabel(\"Scheduling Class\")\n",
    "plt.ylabel(\"Average Death Time (ms)\")\n",
    "plt.show()"
   ]
  },
  {
   "attachments": {},
   "cell_type": "markdown",
   "metadata": {},
   "source": [
    "We can see from the above graph and raw data that scheduling class 0 is the only class with any visible latency, which is slightly unexpected but does not contradict what was said in the google documentation."
   ]
  },
  {
   "attachments": {},
   "cell_type": "markdown",
   "metadata": {},
   "source": [
    "### 2 - Task priority impact \n",
    "\n",
    "Is there a positive correlation between a task priority and the ratio of its life spent running. Logic would say that it does, as this is what we would expect the scheduler to do.\n",
    "\n",
    "Preliminary questions:\n",
    "- Can a task change priority level ?\n",
    "- Do some tasks not have a FINISH (4) event at the end of their timeline ?"
   ]
  },
  {
   "cell_type": "code",
   "execution_count": 44,
   "metadata": {},
   "outputs": [
    {
     "name": "stderr",
     "output_type": "stream",
     "text": [
      "                                                                                \r"
     ]
    },
    {
     "name": "stdout",
     "output_type": "stream",
     "text": [
      "There are 142 tasks that have changed priorities.\n"
     ]
    },
    {
     "name": "stderr",
     "output_type": "stream",
     "text": [
      "[Stage 98:====================================================>   (85 + 6) / 91]\r"
     ]
    },
    {
     "name": "stdout",
     "output_type": "stream",
     "text": [
      "The distribution of last events are as follows :\n",
      "-  -------\n",
      "0    21292\n",
      "1   128291\n",
      "2     1053\n",
      "3     3339\n",
      "4  1554453\n",
      "5   731765\n",
      "6      486\n",
      "8      200\n",
      "-  -------\n"
     ]
    },
    {
     "name": "stderr",
     "output_type": "stream",
     "text": [
      "                                                                                \r"
     ]
    }
   ],
   "source": [
    "nb_tasks_several_priorities = task_events.map(lambda event: ((task_events_get['job ID'](event), task_events_get['task index'](event)), {task_events_get['priority'](event)})) \\\n",
    "    .reduceByKey(lambda p1, p2: p1 | p2) \\\n",
    "    .filter(lambda task: len(task[1])>1) \\\n",
    "    .count()\n",
    "\n",
    "print(f\"There are {nb_tasks_several_priorities} tasks that have changed priorities.\")\n",
    "\n",
    "tasks_last_event_distribution = task_events \\\n",
    "    .map(lambda event: (\n",
    "        (task_events_get['job ID'](event), task_events_get['task index'](event)),\n",
    "        (task_events_get['time'](event), task_events_get['event type'](event))\n",
    "        )\n",
    "    ) \\\n",
    "    .reduceByKey(lambda e1,e2: e1 if e1[0] > e2[0] else e2) \\\n",
    "    .map(lambda event : (event[1][1],1)) \\\n",
    "    .reduceByKey(add) \\\n",
    "    .sortBy(lambda e: e[0]) \\\n",
    "    .collect()\n",
    "\n",
    "print(f\"The distribution of last events are as follows :\\n{tabulate(tasks_last_event_distribution)}\")\n"
   ]
  },
  {
   "attachments": {},
   "cell_type": "markdown",
   "metadata": {},
   "source": [
    "Considering what we see, we need to filter events that have actually finished to have a relevant dataset for our question, as a task with high priority could have had a short life without running, getting a poor ratio as a result. We also need to filter by the timeline that starts with a submit, to prevent the cases where where a task changed priorities, and therefore doesn't have a full timeline.\n",
    "\n",
    "Now that we know that, we just need to look at each task's timelines (similar to how we did it in question 2) and determine its running time, and whole life. \n",
    "We will need to determine the running time out of all it's life. The running time is the time between the events SCHEDULE (1) and either EVICT (2), FINISHED (4), FAIL (3), KILL (5), or LOST (6). The last 3 events can indeed happen even if the task has finished, as the Google documentation specifies, if those events happens, the scheduler will try to re-submit the task.\n",
    "\n",
    "We will filter out the updates events, as they do not change the running status of our tasks."
   ]
  },
  {
   "cell_type": "code",
   "execution_count": 45,
   "metadata": {},
   "outputs": [],
   "source": [
    "tasks_timeline = task_events \\\n",
    "    .filter(lambda event: task_events_get['event type'](event) not in {7,8}) \\\n",
    "    .map(lambda event: (\n",
    "        (task_events_get['job ID'](event), task_events_get['task index'](event), task_events_get['priority'](event)),\n",
    "        (task_events_get['time'](event), task_events_get['event type'](event))\n",
    "        )\n",
    "    ) \\\n",
    "    .aggregateByKey(None,lambda acc, e: acc+[e] if acc is not None else [e],add) \\\n",
    "    .filter(lambda task: task[1][-1][1] == 4 and task[1][0][1] == 0) \\\n",
    "    .cache()\n",
    "\n",
    "# print(f\"We have a total of {tasks_timeline.count()} tasks timelines.\")"
   ]
  },
  {
   "cell_type": "code",
   "execution_count": 46,
   "metadata": {},
   "outputs": [
    {
     "name": "stderr",
     "output_type": "stream",
     "text": [
      "                                                                                \r"
     ]
    },
    {
     "data": {
      "image/png": "[encoded data removed]",
      "text/plain": [
       "<Figure size 640x480 with 1 Axes>"
      ]
     },
     "metadata": {},
     "output_type": "display_data"
    }
   ],
   "source": [
    "def running_ratio(timeline):\n",
    "    timeline.sort(key=lambda x: x[0])\n",
    "    total_time = timeline[-1][0] - timeline[0][0]\n",
    "    if total_time==0 :\n",
    "        total_time = 1\n",
    "    running_time = 0\n",
    "    for i in range(1,len(timeline)):\n",
    "        if timeline[i-1][1] == 1 and timeline[i][1] in {2,3,4,5,6}:\n",
    "            running_time += timeline[i][0] - timeline[i-1][0]\n",
    "    return float(running_time) / float(total_time)\n",
    "\n",
    "tasks_ratio = tasks_timeline.map(lambda task: (task[0][2],running_ratio(task[1])))\n",
    "\n",
    "plt.scatter(*zip(*tasks_ratio.collect()))\n",
    "plt.show()"
   ]
  },
  {
   "attachments": {},
   "cell_type": "markdown",
   "metadata": {},
   "source": [
    "Seeing all points does not help us, so let's see the average for each priority level."
   ]
  },
  {
   "cell_type": "code",
   "execution_count": 47,
   "metadata": {},
   "outputs": [
    {
     "name": "stderr",
     "output_type": "stream",
     "text": [
      "                                                                                \r"
     ]
    },
    {
     "data": {
      "image/png": "[encoded data removed]",
      "text/plain": [
       "<Figure size 640x480 with 1 Axes>"
      ]
     },
     "metadata": {},
     "output_type": "display_data"
    }
   ],
   "source": [
    "tasks_average_ratio = tasks_ratio \\\n",
    "    .map(lambda task: (task[0],(task[1],1))) \\\n",
    "    .reduceByKey(lambda t1,t2: (t1[0]+t2[0],t1[1]+t2[1])) \\\n",
    "    .map(lambda task: (task[0],task[1][0]/task[1][1]))\n",
    "\n",
    "plt.plot(*zip(*tasks_average_ratio.collect()))\n",
    "plt.show()"
   ]
  },
  {
   "attachments": {},
   "cell_type": "markdown",
   "metadata": {},
   "source": [
    "These results are very unexpected, the google documentation (page 8, Task events table section) clearly states that 0 is the lowest priority. But the document also states that there are 3 priority categories :\n",
    "- free : lowest priority\n",
    "- production : highest priorities\n",
    "- monitoring : special category for jobs that monitor others\n",
    "\n",
    "The graph we see might be a result of those 3 ranges, if we try to perform the above computations with more tables (currently 40, below with 100), we obtain the graph below :\n",
    "\n",
    "![](priority_runtime_100tables.png)\n",
    "\n",
    "Seeing this new graph, we can have a better guess as to what the 3 categories are :\n",
    "- 0 to 2 -> *free* (low overall runtime compared to next section)\n",
    "- 3 to 8 -> *production* (consistently high overall runtime)\n",
    "- 9 to 11 -> *monitoring* (big drop in runtime)\n",
    "\n",
    "The number itself does not have much meaning then, except assigning you to one of the categories. As for the big drop in runtime for the last category, maybe monitoring has low ratios because it gets evicted often for long period monitoring, it does not need to run often, and therefore produces a lower ratio overall."
   ]
  },
  {
   "attachments": {},
   "cell_type": "markdown",
   "metadata": {},
   "source": [
    "# Extension Work : DataFrame Version of previous work\n",
    "\n",
    "As an extension for our work, we decided to use PySparkSQL DataFrame object instead of the RDD. We selected a few questions with different approach, and tried to redo them using DataFrames along with tools coming from PySparkSQL. \n",
    "\n",
    "Here are the results of our work, with both our successes and failures."
   ]
  },
  {
   "attachments": {},
   "cell_type": "markdown",
   "metadata": {},
   "source": [
    "## Starting PySparkSQL and importing the schema\n",
    "\n",
    "To use DataFrames, we need to use the SparkSession of PySparkSQL instead of the SparkContext. PySparkSQL allows the use the tabular methods provided by DataFrames. Spark offers a DataFrame API, through their Spark SQL."
   ]
  },
  {
   "cell_type": "code",
   "execution_count": 5,
   "metadata": {},
   "outputs": [],
   "source": [
    "from pyspark.sql import SparkSession\n",
    "from pyspark.sql import functions as F\n",
    "\n",
    "spark = SparkSession.builder \\\n",
    "    .master(\"local[*]\") \\\n",
    "    .appName(\"Cluster analysis\") \\\n",
    "    .getOrCreate()\n",
    "\n",
    "schema = Schema(\"./data/schema.csv\")"
   ]
  },
  {
   "attachments": {},
   "cell_type": "markdown",
   "metadata": {},
   "source": [
    "## Importing tables into DataFrame\n",
    "\n",
    "Importing .csv files into a DataFrame was a bit different from the RDD, but we found how to do it in the [documentation](https://spark.apache.org/docs/latest/api/python/reference/pyspark.sql/api/pyspark.sql.DataFrameReader.csv.html#pyspark.sql.DataFrameReader.csv) :"
   ]
  },
  {
   "cell_type": "code",
   "execution_count": 6,
   "metadata": {},
   "outputs": [],
   "source": [
    "from pyspark.sql.types import StructType, StructField\n",
    "from pyspark.sql.types import StringType, FloatType, IntegerType, LongType\n",
    "\n",
    "# Mapping from field type as provided by the schema file, to their SparkSQL equivalent types\n",
    "field_to_spark_type = {\n",
    "    'time': LongType,\n",
    "    'machine ID': LongType,\n",
    "    'event type': IntegerType,\n",
    "    'platform ID': StringType,\n",
    "    'CPUs': FloatType,\n",
    "    'Memory': FloatType\n",
    "}\n",
    "\n",
    "# Object representing the format of the data we will be loading, so SparkSQL can do the proper pre-processing\n",
    "machine_events_schema = StructType([\n",
    "    StructField(field['content'].replace(' ', '_'), field_to_spark_type[field['content']](), field['mandatory'])\n",
    "    for field in schema.get_table_schema('machine_events')['fields']\n",
    "])\n",
    "\n",
    "machine_events_df = spark.read \\\n",
    "    .format('csv') \\\n",
    "    .option(\"header\",\"false\") \\\n",
    "    .schema(machine_events_schema) \\\n",
    "    .load(\"./data/machine_events/*.csv\")"
   ]
  },
  {
   "attachments": {},
   "cell_type": "markdown",
   "metadata": {},
   "source": [
    "Let's see what the schema looks like, to see if it is what we expect it to be for machine events."
   ]
  },
  {
   "cell_type": "code",
   "execution_count": 7,
   "metadata": {},
   "outputs": [
    {
     "name": "stdout",
     "output_type": "stream",
     "text": [
      "root\n",
      " |-- time: long (nullable = true)\n",
      " |-- machine_ID: long (nullable = true)\n",
      " |-- event_type: integer (nullable = true)\n",
      " |-- platform_ID: string (nullable = true)\n",
      " |-- CPUs: float (nullable = true)\n",
      " |-- Memory: float (nullable = true)\n",
      "\n"
     ]
    }
   ],
   "source": [
    "machine_events_df.printSchema()"
   ]
  },
  {
   "attachments": {},
   "cell_type": "markdown",
   "metadata": {},
   "source": [
    "## Distribution of CPU Capacity (Q1)\n",
    "\n",
    "This question is simple enough to have a small expression that looks like what we did for RDDs :"
   ]
  },
  {
   "cell_type": "code",
   "execution_count": 18,
   "metadata": {},
   "outputs": [
    {
     "name": "stdout",
     "output_type": "stream",
     "text": [
      "+---------+-----+\n",
      "|max(CPUs)|count|\n",
      "+---------+-----+\n",
      "|     0.25|  123|\n",
      "|      0.5|11636|\n",
      "|      1.0|  796|\n",
      "+---------+-----+\n",
      "\n"
     ]
    }
   ],
   "source": [
    "creation_events = machine_events_df \\\n",
    "    .filter(machine_events_df.event_type == 0) \\\n",
    "    .filter(machine_events_df.CPUs.isNotNull())\n",
    "\n",
    "cpu_counts = creation_events \\\n",
    "    .groupBy(\"machine_ID\") \\\n",
    "    .agg({\"time\":\"max\",\"CPUs\":\"max\"}) \\\n",
    "    .groupBy(\"max(CPUs)\") \\\n",
    "    .count()\n",
    "\n",
    "cpu_counts.show()"
   ]
  },
  {
   "attachments": {},
   "cell_type": "markdown",
   "metadata": {},
   "source": [
    "It is still different enough, as we have to use an aggregation function after the *groupBy*. Furthermore, the renaming of Columns is something we need to account for, except if we want to rename them after each operations with *withColumnRenamed*.\n",
    "\n",
    "We can also use sql queries for the same purpose :"
   ]
  },
  {
   "cell_type": "code",
   "execution_count": 19,
   "metadata": {},
   "outputs": [
    {
     "name": "stdout",
     "output_type": "stream",
     "text": [
      "+---------+------------------+\n",
      "|CPU_Value|Number_Of_Machines|\n",
      "+---------+------------------+\n",
      "|     0.25|               123|\n",
      "|      0.5|             11636|\n",
      "|      1.0|               796|\n",
      "+---------+------------------+\n",
      "\n"
     ]
    }
   ],
   "source": [
    "creation_events.createOrReplaceTempView(\"creation_events\")\n",
    "\n",
    "spark.sql(\"SELECT cpu as CPU_Value, COUNT(*) AS Number_Of_Machines \"\n",
    "            \"FROM (\"\n",
    "                \"SELECT machine_ID AS ID, max(time), max(CPUs) AS cpu \"\n",
    "                \"FROM creation_events \"\n",
    "                \"GROUP BY id \"\n",
    "            \") \"\n",
    "            \"GROUP BY CPU_Value;\").show()"
   ]
  },
  {
   "attachments": {},
   "cell_type": "markdown",
   "metadata": {},
   "source": [
    "The above *select* gave small difficulties concerning the fact that we needed 2 groupBy back to back, that we were able to do via an embedded query from which we do the final groupBy. "
   ]
  },
  {
   "attachments": {},
   "cell_type": "markdown",
   "metadata": {},
   "source": [
    "## Percentage of lost computational power (Q2)\n",
    "\n",
    "We had the idea of doing this question because we thought it could be an interesting challenge, as it wasn't too hard to do it with RDD, but we didn't see how to do it with DataFrames at first. We nearly abandoned this question as an example of something we didn't manage to do with DataFrames but we managed to find a solution. This took a while.\n",
    "\n",
    "Here are the approach we took to tackle this question with DataFrames."
   ]
  },
  {
   "attachments": {},
   "cell_type": "markdown",
   "metadata": {},
   "source": [
    "#### Preliminary exploration\n",
    "\n",
    "We first need to check a few things to know what to account for in our operations. First off, let us verify if the value of CPUs can be null :"
   ]
  },
  {
   "cell_type": "code",
   "execution_count": 9,
   "metadata": {},
   "outputs": [
    {
     "data": {
      "text/plain": [
       "32"
      ]
     },
     "execution_count": 9,
     "metadata": {},
     "output_type": "execute_result"
    }
   ],
   "source": [
    "machine_events_df.createOrReplaceTempView(\"machine_events\")\n",
    "\n",
    "bad_cpu_machines = spark.sql(\"SELECT DISTINCT machine_ID \"\n",
    "                             \"FROM machine_events \"\n",
    "                             \"WHERE CPUs IS NULL\")\n",
    "bad_cpu_machines.count()"
   ]
  },
  {
   "attachments": {},
   "cell_type": "markdown",
   "metadata": {},
   "source": [
    "Indeed it can, now let us see the maximum number of events on each machine :"
   ]
  },
  {
   "cell_type": "code",
   "execution_count": 12,
   "metadata": {},
   "outputs": [
    {
     "name": "stdout",
     "output_type": "stream",
     "text": [
      "+--------+\n",
      "|n_events|\n",
      "+--------+\n",
      "|     330|\n",
      "+--------+\n",
      "\n"
     ]
    }
   ],
   "source": [
    "spark.sql(\n",
    "    \"SELECT COUNT(*) as n_events FROM machine_events \"\n",
    "    \"WHERE CPUs IS NOT NULL \"\n",
    "    \"GROUP BY machine_ID \"\n",
    "    \"ORDER BY n_events DESC \"\n",
    "    \"LIMIT 1\"\n",
    "    ).show()"
   ]
  },
  {
   "attachments": {},
   "cell_type": "markdown",
   "metadata": {},
   "source": [
    "A machine has therefore at most 330 events, it is small enough that python can handle one machine. We'll therefore group the list of events, CPUs rates and timestamps for each machine IDs, then operate on them to determine the lost computational power of the cluster."
   ]
  },
  {
   "attachments": {},
   "cell_type": "markdown",
   "metadata": {},
   "source": [
    "#### Machine timelines\n",
    "\n",
    "We here group a list of timestamps, CPU rates, and event types, for later use to determine lost computational power."
   ]
  },
  {
   "cell_type": "code",
   "execution_count": 127,
   "metadata": {},
   "outputs": [],
   "source": [
    "grouped_machine_events = machine_events_df \\\n",
    "    .orderBy(machine_events_df['time']) \\\n",
    "    .groupBy(machine_events_df['machine_ID']) \\\n",
    "    .agg(\n",
    "        F.collect_list('time').alias('time'),\n",
    "        F.collect_list('event_type').alias('event_type'),\n",
    "        F.max('CPUs').alias('cpu')) \\\n",
    "    .filter(F.col('cpu').isNotNull())"
   ]
  },
  {
   "cell_type": "code",
   "execution_count": 156,
   "metadata": {},
   "outputs": [
    {
     "name": "stdout",
     "output_type": "stream",
     "text": [
      "+----------+--------------------+----------+---+\n",
      "|machine_ID|                time|event_type|cpu|\n",
      "+----------+--------------------+----------+---+\n",
      "|         5|[835150655707, 83...| [1, 0, 0]|0.5|\n",
      "|         6|                 [0]|       [0]|0.5|\n",
      "|         7|                 [0]|       [0]|0.5|\n",
      "|        10|[1306164355566, 1...| [1, 0, 0]|0.5|\n",
      "|        13|[2447693838527, 2...| [1, 0, 0]|0.5|\n",
      "+----------+--------------------+----------+---+\n",
      "only showing top 5 rows\n",
      "\n"
     ]
    }
   ],
   "source": [
    "grouped_machine_events.show(5)"
   ]
  },
  {
   "attachments": {},
   "cell_type": "markdown",
   "metadata": {},
   "source": [
    "#### Power Lost Computation\n",
    "\n",
    "And now, we arrive at the problematic part. DataFrames are very powerful on many regards, but a weakness that we haven't found a solution to, is the fact that operations are done on columns, which is fine if there exists functions that we need in PySparkSQL. \n",
    "\n",
    "The idea we had was to add a new column with the method *withColumn*, and apply operations on the column time, event_type, and CPUs, but it wasn't a matter of just adding 3 numbers, or even do some simple vector operations. We need to retrieve the arrays inside each row, and apply operations on multiple element of the arrays at once (test 2 consecutive events, access 2 timestamps to get durations).\n",
    "\n",
    "We found a solution by defining a *udf function*, which enables us to do an operation close to \"mapping\" :"
   ]
  },
  {
   "cell_type": "code",
   "execution_count": 176,
   "metadata": {},
   "outputs": [],
   "source": [
    "from pyspark.sql.functions import udf, col\n",
    "\n",
    "# Computing the lost power for each machine\n",
    "def lost_power(time, event, cpu):\n",
    "  acc = 0\n",
    "  # The following test is here because some arrays had their first elements at the end, bu we could not figure out why\n",
    "  if time[-1]>time[0]:\n",
    "    for i in range(1,len(time)):\n",
    "      if event[i-1] ==1 and event[i] == 0:\n",
    "        acc += (time[i]-time[i-1]) * (cpu)\n",
    "  else :\n",
    "    for i in range(len(time)-1):\n",
    "      if event[(i-1)%len(time)] ==1 and event[i] == 0:\n",
    "        acc += (time[i]-time[(i-1)%len(time)]) * (cpu)\n",
    "  return acc\n",
    "\n",
    "# Finding the total power output of this machine\n",
    "def total_power(time, event, cpu, max_time):\n",
    "  if len(time)==1:\n",
    "    return (max_time - time[0]) * cpu\n",
    "\n",
    "  last_event_delete = False\n",
    "  if time[-1]>time[0]:\n",
    "    if event[-1] == 1:\n",
    "      last_event_delete = True\n",
    "  else :\n",
    "    if event[-2] == 1:\n",
    "      last_event_delete = True\n",
    "  \n",
    "  if last_event_delete:\n",
    "    return (max(time) - min(time)) * cpu\n",
    "  return (max_time - min(time)) * cpu\n",
    "\n",
    "lost_power_udf = udf(lambda time, event, cpu: lost_power(time,event,cpu))\n",
    "total_power_udf = udf(lambda time, event, cpu, max_time: total_power(time,event,cpu,max_time))\n",
    "\n",
    "max_time_tmp = machine_events_df.select(F.max(machine_events_df.time)).collect()[0].asDict()['max(time)']\n",
    "\n",
    "machine_lost_power = grouped_machine_events \\\n",
    "  .withColumn('max_time', F.lit(max_time_tmp)) \\\n",
    "  .withColumn('lost_power', lost_power_udf(col(\"time\"),col(\"event_type\"),col(\"cpu\"))) \\\n",
    "  .withColumn('total_power', total_power_udf(col(\"time\"),col(\"event_type\"),col(\"cpu\"),col(\"max_time\")))"
   ]
  },
  {
   "cell_type": "code",
   "execution_count": 177,
   "metadata": {},
   "outputs": [
    {
     "name": "stdout",
     "output_type": "stream",
     "text": [
      "+----------+--------------------+----------+---+-------------+-------------+------------------+\n",
      "|machine_ID|                time|event_type|cpu|     max_time|   lost_power|       total_power|\n",
      "+----------+--------------------+----------+---+-------------+-------------+------------------+\n",
      "|         5|[835150655707, 83...| [1, 0, 0]|0.5|2506135493517|4.871238785E8|1.2530677467585E12|\n",
      "|         6|                 [0]|       [0]|0.5|2506135493517|            0|1.2530677467585E12|\n",
      "|         7|                 [0]|       [0]|0.5|2506135493517|            0|1.2530677467585E12|\n",
      "|        10|[1306164355566, 1...| [1, 0, 0]|0.5|2506135493517| 4.99363174E8|1.2530677467585E12|\n",
      "|        13|[2447693838527, 2...| [1, 0, 0]|0.5|2506135493517|4.986401075E8|1.2530677467585E12|\n",
      "+----------+--------------------+----------+---+-------------+-------------+------------------+\n",
      "only showing top 5 rows\n",
      "\n"
     ]
    }
   ],
   "source": [
    "machine_lost_power.show(5)"
   ]
  },
  {
   "attachments": {},
   "cell_type": "markdown",
   "metadata": {},
   "source": [
    "As we can see, we needed to use the udf function to be able to do what we wanted. Now, we just need to do the final computation through a simple select and we are done."
   ]
  },
  {
   "cell_type": "code",
   "execution_count": 183,
   "metadata": {},
   "outputs": [
    {
     "name": "stdout",
     "output_type": "stream",
     "text": [
      "The cluster lost around 0.48275% of power overall.\n"
     ]
    }
   ],
   "source": [
    "percentage_of_lost_power = machine_lost_power.select(F.sum(col(\"lost_power\")) / F.sum(col(\"total_power\"))).collect()[0].asDict()['(sum(lost_power) / sum(total_power))']\n",
    "\n",
    "print(f\"The cluster lost around {percentage_of_lost_power*100:0.5f}% of power overall.\")"
   ]
  },
  {
   "attachments": {},
   "cell_type": "markdown",
   "metadata": {},
   "source": [
    "## Do tasks from the same job run on the same machine (Q5)\n",
    "\n",
    "For this question, we need to group task events by job IDs, then see how many *distinct* machine IDs we have, then do a histogram of it. With RDDs, we did it with maps and reduce using sets operations to account for distinct machine_ID. \n",
    "\n",
    "Using DataFrames, we are able to take advantage of groupBy then agg functions, along with column functions to make the process more straight forward.\n",
    "\n",
    "Let's first load the task events :"
   ]
  },
  {
   "cell_type": "code",
   "execution_count": 21,
   "metadata": {},
   "outputs": [],
   "source": [
    "# Mapping from field type as provided by the schema file, to their SparkSQL equivalent types\n",
    "from pyspark.sql.types import BooleanType\n",
    "\n",
    "field_to_spark_type = {\n",
    "    'time': LongType,\n",
    "    'missing info': LongType,\n",
    "    'job ID': LongType,\n",
    "    'task index': IntegerType,\n",
    "    'machine ID': LongType,\n",
    "    'event type': IntegerType,\n",
    "    'user': StringType,\n",
    "    'scheduling class': IntegerType,\n",
    "    'priority': IntegerType,\n",
    "    'CPU request': FloatType,\n",
    "    'memory request': FloatType,\n",
    "    'disk space request': FloatType,\n",
    "    'different machines restriction': BooleanType\n",
    "}\n",
    "\n",
    "# Object representing the format of the data we will be loading, so SparkSQL can do the proper pre-processing\n",
    "task_events_schema = StructType([\n",
    "    StructField(field['content'].replace(' ', '_'), field_to_spark_type[field['content']](), field['mandatory'])\n",
    "    for field in schema.get_table_schema('task_events')['fields']\n",
    "])\n",
    "\n",
    "task_events_df = spark.read \\\n",
    "    .format('csv') \\\n",
    "    .option(\"header\",\"false\") \\\n",
    "    .schema(task_events_schema) \\\n",
    "    .load(\"./data/task_events\")"
   ]
  },
  {
   "cell_type": "code",
   "execution_count": 23,
   "metadata": {},
   "outputs": [
    {
     "name": "stdout",
     "output_type": "stream",
     "text": [
      "+-----------+------------+----------+----------+----------+----------+--------------------+----------------+--------+-----------+--------------+------------------+------------------------------+\n",
      "|       time|missing_info|    job_ID|task_index|machine_ID|event_type|                user|scheduling_class|priority|CPU_request|memory_request|disk_space_request|different_machines_restriction|\n",
      "+-----------+------------+----------+----------+----------+----------+--------------------+----------------+--------+-----------+--------------+------------------+------------------------------+\n",
      "|95813803204|        null|6238340468|      2025| 317469463|         2|1wRYrkVgrhQf/fNZQ...|               1|       0|     0.0625|       0.03961|          3.815E-5|                          null|\n",
      "|95813803212|        null|6238340468|      2025|      null|         0|1wRYrkVgrhQf/fNZQ...|               1|       0|     0.0625|       0.03961|          3.815E-5|                          null|\n",
      "|95813803214|        null|6238340468|      2770| 317469463|         2|1wRYrkVgrhQf/fNZQ...|               1|       0|     0.0625|       0.03961|          3.815E-5|                          null|\n",
      "|95813803222|        null|6238340468|      2770|      null|         0|1wRYrkVgrhQf/fNZQ...|               1|       0|     0.0625|       0.03961|          3.815E-5|                          null|\n",
      "|95813803224|        null|6259281745|        77| 317469463|         1|E2Ck2gvizHUwShxSu...|               1|       4|     0.0625|        0.0318|          3.862E-4|                          null|\n",
      "+-----------+------------+----------+----------+----------+----------+--------------------+----------------+--------+-----------+--------------+------------------+------------------------------+\n",
      "only showing top 5 rows\n",
      "\n"
     ]
    }
   ],
   "source": [
    "task_events_df.show(5)"
   ]
  },
  {
   "attachments": {},
   "cell_type": "markdown",
   "metadata": {},
   "source": [
    "We note from the above display and the schema file that the attribute *machine_ID* can be *null*, as such, we need to filter it out before other operations."
   ]
  },
  {
   "cell_type": "code",
   "execution_count": 13,
   "metadata": {},
   "outputs": [
    {
     "name": "stderr",
     "output_type": "stream",
     "text": [
      "                                                                                \r"
     ]
    },
    {
     "name": "stdout",
     "output_type": "stream",
     "text": [
      "+----------+-----+\n",
      "|nb_machine|count|\n",
      "+----------+-----+\n",
      "|         1|37656|\n",
      "|         2| 3228|\n",
      "|         3|  665|\n",
      "|         4|  296|\n",
      "|         5|  407|\n",
      "|         6|  407|\n",
      "|         7|  199|\n",
      "|         8|  158|\n",
      "|         9|  472|\n",
      "|        10|  235|\n",
      "|        11|  848|\n",
      "|        12|  152|\n",
      "|        13|   85|\n",
      "|        14|  324|\n",
      "|        15| 1031|\n",
      "|        16|  231|\n",
      "|        17|   79|\n",
      "|        18|  107|\n",
      "|        19|   45|\n",
      "|        20|  110|\n",
      "+----------+-----+\n",
      "only showing top 20 rows\n",
      "\n"
     ]
    }
   ],
   "source": [
    "different_machines_histogram = task_events.filter(task_events.machine_ID.isNotNull())\\\n",
    "    .groupBy(\"job_ID\") \\\n",
    "    .agg(F.count_distinct(task_events.machine_ID)) \\\n",
    "    .groupBy(\"count(machine_ID)\") \\\n",
    "    .agg({\"job_ID\":\"count\"}) \\\n",
    "    .orderBy(\"count(machine_ID)\") \\\n",
    "    .withColumnRenamed(\"count(machine_ID)\",\"nb_machine\") \\\n",
    "    .withColumnRenamed(\"count(job_ID)\",\"count\") \\\n",
    "    .cache()\n",
    "\n",
    "different_machines_histogram.show()"
   ]
  },
  {
   "attachments": {},
   "cell_type": "markdown",
   "metadata": {},
   "source": [
    "Let us gather the data into a chart to see these results in a better light."
   ]
  },
  {
   "cell_type": "code",
   "execution_count": 14,
   "metadata": {},
   "outputs": [],
   "source": [
    "iterator = different_machines_histogram.toLocalIterator()\n",
    "X = []\n",
    "Y = []\n",
    "\n",
    "for row in iterator:\n",
    "    d = row.asDict()\n",
    "    X += [d[\"nb_machine\"]]\n",
    "    Y += [d[\"count\"]]"
   ]
  },
  {
   "cell_type": "code",
   "execution_count": 15,
   "metadata": {},
   "outputs": [
    {
     "data": {
      "image/png": "[encoded data removed]",
      "text/plain": [
       "<Figure size 640x480 with 1 Axes>"
      ]
     },
     "metadata": {},
     "output_type": "display_data"
    }
   ],
   "source": [
    "plt.plot(X,Y)\n",
    "plt.yscale(\"log\")\n",
    "plt.show()"
   ]
  }
 ],
 "metadata": {
  "kernelspec": {
   "display_name": "SparkProject-DTXSDDnr",
   "language": "python",
   "name": "python3"
  },
  "language_info": {
   "codemirror_mode": {
    "name": "ipython",
    "version": 3
   },
   "file_extension": ".py",
   "mimetype": "text/x-python",
   "name": "python",
   "nbconvert_exporter": "python",
   "pygments_lexer": "ipython3",
   "version": "3.10.6"
  },
  "orig_nbformat": 4,
  "vscode": {
   "interpreter": {
    "hash": "cf96d2e1563c5703f4751942328699d80d1199668a3d2612f12bdd9a534862d2"
   }
  }
 },
 "nbformat": 4,
 "nbformat_minor": 2
}
