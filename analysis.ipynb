{
 "cells": [
  {
   "attachments": {},
   "cell_type": "markdown",
   "metadata": {},
   "source": [
    "# Analysing data with Spark\n",
    "\n",
    "A work by: Elliot Renel and Dorian Goepp."
   ]
  },
  {
   "attachments": {},
   "cell_type": "markdown",
   "metadata": {},
   "source": [
    "Todo:\n",
    "- [ ] mise en forme des prints\n",
    "- [ ] ne plus afficher les exemples de données\n",
    "- [ ] relocalisation des imports\n",
    "- [ ] propre jusqu'à la question 6\n",
    "- [ ] utilisation de mapValues\n",
    "- [ ] générer un requirements.txt"
   ]
  },
  {
   "attachments": {},
   "cell_type": "markdown",
   "metadata": {},
   "source": [
    "## Dependencies for the project\n",
    "\n",
    "Please note that all dependencies for this work are specified in a `pipfile`, which can be used to generate the appropriate python virtual environment. We also have a `requirepents.txt` file.\n",
    "\n",
    "Here are all the imports we need:"
   ]
  },
  {
   "cell_type": "code",
   "execution_count": 1,
   "metadata": {},
   "outputs": [],
   "source": [
    "import matplotlib.pyplot as plt\n",
    "from itertools import accumulate, islice\n",
    "from operator import add\n",
    "from math import ceil"
   ]
  },
  {
   "attachments": {},
   "cell_type": "markdown",
   "metadata": {},
   "source": [
    "## Downloading the data\n",
    "\n",
    "Example command to download all the files for job events, running the downloads in parallel:\n",
    "\n",
    "```bash\n",
    "gsutil -m cp gs://clusterdata-2011-2/job_events/* ./job_events/\n",
    "```\n",
    "\n",
    "The parallelisation of the download is to take advantage of a high bandwidth internet connection. It would not help if the connection is slow.\n",
    "\n",
    "As these are compressed with gzip, we need to un-compress them. There is an [easy way](https://stackoverflow.com/questions/16038087/extract-and-delete-all-gz-in-a-directory-linux) to do it for all files at once:\n",
    "\n",
    "```bash\n",
    "gunzip *.gz\n",
    "```\n",
    "\n",
    "> **Note:** As an afterthought, it might have been helpful to load the data directly from gzip files, saving some disk space at the cost of an increased computational load when a file is loaded."
   ]
  },
  {
   "attachments": {},
   "cell_type": "markdown",
   "metadata": {},
   "source": [
    "## Parsing the schema file\n",
    "\n",
    "The data we are working with is stored in CSV files of different \"types\", akin to tables in a relational database. Google provided a schema file (`schema.csv`) representing the fields of these CSV types.\n",
    "\n",
    "To be able to make good use of the data, and to limit the risk of errors in selection of fields and handling of their format, we wrote a small python module to parse the schema file and help in loading and accessing the data in the CSV files."
   ]
  },
  {
   "cell_type": "code",
   "execution_count": 2,
   "metadata": {},
   "outputs": [],
   "source": [
    "# the Schema class of our utility module\n",
    "from src.schema import Schema\n",
    "# used to pretty-print tabular data\n",
    "from tabulate import tabulate"
   ]
  },
  {
   "attachments": {},
   "cell_type": "markdown",
   "metadata": {},
   "source": [
    "Our module is used through an instance of the Schema class, as we will see later. The initialiser takes the path to the schema file provided by Google."
   ]
  },
  {
   "cell_type": "code",
   "execution_count": 3,
   "metadata": {},
   "outputs": [],
   "source": [
    "schema = Schema(\"data/schema.csv\")"
   ]
  },
  {
   "attachments": {},
   "cell_type": "markdown",
   "metadata": {},
   "source": [
    "It is possible to print the object. This shows all the types of data in the data set. We commented the code block bellow as the output is quite verbose.\n",
    "\n",
    "Note the `formatter` field. It is a function which will parse the input data and convert it to an appropriate Python type, based on the value in the `format` field of the schema.\n",
    "\n",
    "With the line below, one can see all table types. We commented it to keep this document concise."
   ]
  },
  {
   "cell_type": "code",
   "execution_count": 4,
   "metadata": {},
   "outputs": [],
   "source": [
    "# print(schema)"
   ]
  },
  {
   "cell_type": "markdown",
   "metadata": {},
   "source": [
    "## Starting Spark"
   ]
  },
  {
   "attachments": {},
   "cell_type": "markdown",
   "metadata": {},
   "source": [
    "We use Spark locally, using all available cores."
   ]
  },
  {
   "cell_type": "code",
   "execution_count": 4,
   "metadata": {},
   "outputs": [
    {
     "name": "stdout",
     "output_type": "stream",
     "text": [
      "23/01/17 09:23:22 WARN Utils: Your hostname, Kixus-k resolves to a loopback address: 127.0.1.1; using 192.168.1.29 instead (on interface enx3c2c30d47db5)\n",
      "23/01/17 09:23:22 WARN Utils: Set SPARK_LOCAL_IP if you need to bind to another address\n"
     ]
    },
    {
     "name": "stderr",
     "output_type": "stream",
     "text": [
      "Setting default log level to \"WARN\".\n",
      "To adjust logging level use sc.setLogLevel(newLevel). For SparkR, use setLogLevel(newLevel).\n"
     ]
    },
    {
     "name": "stdout",
     "output_type": "stream",
     "text": [
      "23/01/17 09:23:24 WARN NativeCodeLoader: Unable to load native-hadoop library for your platform... using builtin-java classes where applicable\n"
     ]
    }
   ],
   "source": [
    "from pyspark import SparkContext\n",
    "\n",
    "# start spark with as many worker threads as available on the machine\n",
    "sc = SparkContext(\"local[*]\")\n",
    "sc.setLogLevel(\"ERROR\")"
   ]
  },
  {
   "attachments": {},
   "cell_type": "markdown",
   "metadata": {},
   "source": [
    "## Loading data and metadata\n",
    "\n",
    "### On machine events\n",
    "\n",
    "The machine events files describe events that occurred to the machines in the cluster, as well as their specifications."
   ]
  },
  {
   "attachments": {},
   "cell_type": "markdown",
   "metadata": {},
   "source": [
    "Let us now load the data in a Spark RDD. The `load_rdd` method from Schema does this for us. We give it the name of a table, and it fetches the related CSV files (if any) from the eponym folder in `data/`, here `data/machine_events`."
   ]
  },
  {
   "cell_type": "code",
   "execution_count": 5,
   "metadata": {},
   "outputs": [],
   "source": [
    "machine_events = schema.load_rdd(sc, 'machine_events')"
   ]
  },
  {
   "attachments": {},
   "cell_type": "markdown",
   "metadata": {},
   "source": [
    "A small sample of the data, to have an idea of how it looks:"
   ]
  },
  {
   "cell_type": "code",
   "execution_count": 8,
   "metadata": {},
   "outputs": [
    {
     "name": "stderr",
     "output_type": "stream",
     "text": [
      "[Stage 0:>                                                          (0 + 1) / 1]\r"
     ]
    },
    {
     "name": "stdout",
     "output_type": "stream",
     "text": [
      "  time    machine ID    event type  platform ID        CPUs    Memory\n",
      "------  ------------  ------------  ---------------  ------  --------\n",
      "     0             5             0  HofLGzk1Or/8Ild     0.5    0.2493\n",
      "                                    j2+Lqv0UGGvY82N\n",
      "                                    Loni8+J/Yy0RU=\n",
      "     0             6             0  HofLGzk1Or/8Ild     0.5    0.2493\n",
      "                                    j2+Lqv0UGGvY82N\n",
      "                                    Loni8+J/Yy0RU=\n",
      "     0             7             0  HofLGzk1Or/8Ild     0.5    0.2493\n",
      "                                    j2+Lqv0UGGvY82N\n",
      "                                    Loni8+J/Yy0RU=\n",
      "     0            10             0  HofLGzk1Or/8Ild     0.5    0.2493\n",
      "                                    j2+Lqv0UGGvY82N\n",
      "                                    Loni8+J/Yy0RU=\n",
      "     0            13             0  HofLGzk1Or/8Ild     0.5    0.2493\n",
      "                                    j2+Lqv0UGGvY82N\n",
      "                                    Loni8+J/Yy0RU=\n"
     ]
    },
    {
     "name": "stderr",
     "output_type": "stream",
     "text": [
      "                                                                                \r"
     ]
    }
   ],
   "source": [
    "print(tabulate(\n",
    "    machine_events.take(5),\n",
    "    headers=schema.get_table_field_names('machine_events'),\n",
    "    maxcolwidths=[None, None, None, 15, None, None]))"
   ]
  },
  {
   "attachments": {},
   "cell_type": "markdown",
   "metadata": {},
   "source": [
    "The following will be used later to access fields of the data by their name instead of their index."
   ]
  },
  {
   "cell_type": "code",
   "execution_count": 6,
   "metadata": {},
   "outputs": [],
   "source": [
    "machine_events_get = schema.field_getters('machine_events')"
   ]
  },
  {
   "attachments": {},
   "cell_type": "markdown",
   "metadata": {},
   "source": [
    "## Distribution of CPU capacity (Q1)\n",
    "\n",
    "We are looking for the distribution of machines according to their CPU capacity.\n",
    "\n",
    "This computation relies on the machine events. Let us represent the schema for this data:\n"
   ]
  },
  {
   "cell_type": "code",
   "execution_count": null,
   "metadata": {},
   "outputs": [
    {
     "name": "stdout",
     "output_type": "stream",
     "text": [
      "  field number  content      format       mandatory\n",
      "--------------  -----------  -----------  -----------\n",
      "             0  time         INTEGER      True\n",
      "             1  machine ID   INTEGER      True\n",
      "             2  event type   INTEGER      True\n",
      "             3  platform ID  STRING_HASH  False\n",
      "             4  CPUs         FLOAT        False\n",
      "             5  Memory       FLOAT        False\n"
     ]
    }
   ],
   "source": [
    "print(\n",
    "    tabulate(\n",
    "        schema.get_table_fields(\n",
    "            'machine_events', include_formatters=False), headers='keys'))"
   ]
  },
  {
   "cell_type": "markdown",
   "metadata": {},
   "source": [
    "\n",
    "For this analysis, we only account for the machine creation events, and keep the latest such event for any given machine. The intent is to avoid registering any machine's CPU more than once, should it have been offline for some time.\n",
    "\n",
    "Keeping the latest creation event is arbitrary, but considers that it is highly unlikely for a machine's CPU to be changed over time.\n",
    "\n",
    "The first three operations on `machine_events` concern the extraction of machine creation events and the selection of one single creation event for any given machine.\n",
    "\n",
    "The following three operations sums the numbers of machines with any given CPU capacity. We use the same method we were introduced to for words counting during the classes.\n",
    "\n",
    "Distribution of machine capacity based on their CPU power (normalised):"
   ]
  },
  {
   "cell_type": "code",
   "execution_count": 13,
   "metadata": {},
   "outputs": [
    {
     "name": "stdout",
     "output_type": "stream",
     "text": [
      "123    machines have CPU 0.25\n",
      "11636  machines have CPU 0.5\n",
      "796    machines have CPU 1.0\n"
     ]
    }
   ],
   "source": [
    "cpu = machine_events_get['CPUs']\n",
    "event_type = machine_events_get['event type']\n",
    "machine_id = machine_events_get['machine ID']\n",
    "time = machine_events_get['time']\n",
    "\n",
    "cpu_usage = machine_events \\\n",
    "    .filter(lambda event: event_type(event) == 0 and cpu(event) is not None) \\\n",
    "    .map(lambda event: (machine_id(event), event)) \\\n",
    "    .reduceByKey(lambda r1, r2: r1 if time(r1) > time(r2) else r2) \\\n",
    "    .map(lambda row: (cpu(row[1]), 1)) \\\n",
    "    .reduceByKey(add) \\\n",
    "    .sortBy(lambda x: x[0])\n",
    "\n",
    "for usage, nb in cpu_usage.collect():\n",
    "    print(f\"{nb:<6} machines have CPU {usage}\")"
   ]
  },
  {
   "attachments": {},
   "cell_type": "markdown",
   "metadata": {},
   "source": [
    "Here is a plot of the same data:"
   ]
  },
  {
   "cell_type": "code",
   "execution_count": 10,
   "metadata": {},
   "outputs": [
    {
     "data": {
      "image/png": "[encoded data removed]",
      "text/plain": [
       "<Figure size 640x480 with 1 Axes>"
      ]
     },
     "metadata": {},
     "output_type": "display_data"
    }
   ],
   "source": [
    "fig = plt.figure()\n",
    "ax = fig.add_axes([0, 0, 1, 1])\n",
    "legend = cpu_usage.map(lambda x: str(\n",
    "    x[0]) if x[0] is not None else 'None').collect()\n",
    "count = cpu_usage.sortByKey().map(lambda x: x[1]).collect()\n",
    "ax.bar(legend, count)\n",
    "\n",
    "plt.xlabel(\"CPU capacity\")\n",
    "plt.ylabel(\"Number of machines (log scale)\")\n",
    "plt.title(\"Distribution of CPU capacity\")\n",
    "\n",
    "plt.yscale(\"log\")\n",
    "plt.show()"
   ]
  },
  {
   "attachments": {},
   "cell_type": "markdown",
   "metadata": {},
   "source": [
    "Please mind the y scale which is logarithmic, to better see the lesser occuring CPU capacities.\n",
    "\n",
    "We observe that a vast majority of machines have half the maximum available CPU power. Less than ten times less machines have the full computational power and even less have a quarter of the maximal power."
   ]
  },
  {
   "attachments": {},
   "cell_type": "markdown",
   "metadata": {},
   "source": [
    "## Lost Computational Power due to maintenance (Q2)\n",
    "\n",
    "To begin with, we chose to interpret computational power as the product of CPU capacity with time. If the CPU capacity is a normalised version of CPU frequency, it means that such computational power represents a number of CPU cycles. Of course, two processors do not always perform the same number of instructions per cycle, but it is surely a good enough approximation for the task at hand.\n",
    "\n",
    "As a reminder, here is the schema of the data we use:"
   ]
  },
  {
   "cell_type": "code",
   "execution_count": null,
   "metadata": {},
   "outputs": [
    {
     "name": "stdout",
     "output_type": "stream",
     "text": [
      "  field number  content      format       mandatory\n",
      "--------------  -----------  -----------  -----------\n",
      "             0  time         INTEGER      True\n",
      "             1  machine ID   INTEGER      True\n",
      "             2  event type   INTEGER      True\n",
      "             3  platform ID  STRING_HASH  False\n",
      "             4  CPUs         FLOAT        False\n",
      "             5  Memory       FLOAT        False\n"
     ]
    }
   ],
   "source": [
    "print(\n",
    "    tabulate(\n",
    "        schema.get_table_fields(\n",
    "            'machine_events', include_formatters=False), headers='keys'))"
   ]
  },
  {
   "cell_type": "markdown",
   "metadata": {},
   "source": [
    "\n",
    "This question requires that we study the story of each machine, namely when it was brought online and when it was put offline. So, as a first step, we create a new RDD where each element is a list of events regarding a machine.\n",
    "\n",
    "To do so, we follow the map/reduce pattern. A last mapping operation removes the key-value mapping used for the map/reduce, as it is not needed later.\n",
    "\n",
    "> **Note**: The latter operation might be a candidate for optimisation, should it become a bottleneck."
   ]
  },
  {
   "cell_type": "code",
   "execution_count": 11,
   "metadata": {},
   "outputs": [],
   "source": [
    "machines_history = machine_events \\\n",
    "    .map(lambda row: (machine_id(row), row)) \\\n",
    "    .aggregateByKey(None, lambda acc, e: acc+[e] if acc is not None else [e], add) \\\n",
    "    .map(lambda machine: machine[1])"
   ]
  },
  {
   "attachments": {},
   "cell_type": "markdown",
   "metadata": {},
   "source": [
    "Let us have a preview of the resulting data, taking three entries of the RDD:"
   ]
  },
  {
   "cell_type": "code",
   "execution_count": 12,
   "metadata": {},
   "outputs": [
    {
     "name": "stderr",
     "output_type": "stream",
     "text": [
      "[Stage 28:>                                                         (0 + 2) / 2]\r"
     ]
    },
    {
     "name": "stdout",
     "output_type": "stream",
     "text": [
      "  time    machine ID    event type  platform ID        CPUs    Memory\n",
      "------  ------------  ------------  ---------------  ------  --------\n",
      "     0             6             0  HofLGzk1Or/8Ild     0.5    0.2493\n",
      "                                    j2+Lqv0UGGvY82N\n",
      "                                    Loni8+J/Yy0RU=\n",
      "\n",
      "\n",
      "         time    machine ID    event type  platform ID        CPUs    Memory\n",
      "-------------  ------------  ------------  ---------------  ------  --------\n",
      "            0            10             0  HofLGzk1Or/8Ild     0.5    0.2493\n",
      "                                           j2+Lqv0UGGvY82N\n",
      "                                           Loni8+J/Yy0RU=\n",
      "1306164355566            10             1  HofLGzk1Or/8Ild     0.5    0.2493\n",
      "                                           j2+Lqv0UGGvY82N\n",
      "                                           Loni8+J/Yy0RU=\n",
      "1307163081914            10             0  HofLGzk1Or/8Ild     0.5    0.2493\n",
      "                                           j2+Lqv0UGGvY82N\n",
      "                                           Loni8+J/Yy0RU=\n",
      "\n",
      "\n",
      "  time    machine ID    event type  platform ID        CPUs    Memory\n",
      "------  ------------  ------------  ---------------  ------  --------\n",
      "     0            14             0  HofLGzk1Or/8Ild     0.5    0.2493\n",
      "                                    j2+Lqv0UGGvY82N\n",
      "                                    Loni8+J/Yy0RU=\n",
      "\n",
      "\n"
     ]
    },
    {
     "name": "stderr",
     "output_type": "stream",
     "text": [
      "                                                                                \r"
     ]
    }
   ],
   "source": [
    "for a_story in machines_history.take(3):\n",
    "    print(tabulate(\n",
    "        a_story,\n",
    "        headers=schema.get_table_field_names('machine_events'),\n",
    "        maxcolwidths=[None, None, None, 15, None, None]))\n",
    "    print('\\n')"
   ]
  },
  {
   "attachments": {},
   "cell_type": "markdown",
   "metadata": {},
   "source": [
    "And also see how many machines are covered in this sample data:"
   ]
  },
  {
   "cell_type": "code",
   "execution_count": 76,
   "metadata": {},
   "outputs": [
    {
     "data": {
      "text/plain": [
       "12583"
      ]
     },
     "execution_count": 76,
     "metadata": {},
     "output_type": "execute_result"
    }
   ],
   "source": [
    "machines_history.count()"
   ]
  },
  {
   "attachments": {},
   "cell_type": "markdown",
   "metadata": {},
   "source": [
    "During our exploration, we wondered whether the data was already sorted in the CSV source files by event time. The following counts the number of entries which are not sorted by time."
   ]
  },
  {
   "cell_type": "code",
   "execution_count": 46,
   "metadata": {},
   "outputs": [
    {
     "data": {
      "text/plain": [
       "0"
      ]
     },
     "execution_count": 46,
     "metadata": {},
     "output_type": "execute_result"
    }
   ],
   "source": [
    "def to_event_times(history):\n",
    "    \"\"\"\n",
    "    take the history of events for a machine (a list of events)\n",
    "    and return the list of timestamps for these events, in the\n",
    "    same order.\n",
    "    \"\"\"\n",
    "    time_list = list()\n",
    "    for event in history:\n",
    "        time_list.append(machine_events_get['time'](event))\n",
    "    return time_list\n",
    "\n",
    "\n",
    "machines_history \\\n",
    "    .map(lambda events: to_event_times(events)) \\\n",
    "    .filter(lambda m: not sorted(m)) \\\n",
    "    .count()"
   ]
  },
  {
   "attachments": {},
   "cell_type": "markdown",
   "metadata": {},
   "source": [
    "The outcome is zero, showing that event entries are already sorted. The rest of our work on this question relies on this fact."
   ]
  },
  {
   "attachments": {},
   "cell_type": "markdown",
   "metadata": {},
   "source": [
    "As the documentation for the data set states, the trace period starts at 600 seconds ($6 \\times 10^{8} \\mu s$). Therefore, to obtain the time of the end of the trace, we find the latest event time and subtracted $6 \\times 10^{8}$ to it.\n",
    "\n",
    "> **Note:** This assumes the absence of records dated after the end of the trace period. For these, the time value would be $2^{63} - 1$ (MAXINT). We did not encounter this value."
   ]
  },
  {
   "cell_type": "code",
   "execution_count": 17,
   "metadata": {},
   "outputs": [
    {
     "name": "stdout",
     "output_type": "stream",
     "text": [
      "The total trace time is 2505535493517 µs ≈ 696 hours ≈ 29 days\n"
     ]
    },
    {
     "name": "stderr",
     "output_type": "stream",
     "text": [
      "                                                                                \r"
     ]
    }
   ],
   "source": [
    "total_trace_time = time(machine_events.max(lambda row: time(row))) - 6*10**8\n",
    "\n",
    "print(\n",
    "    f'The total trace time is {total_trace_time} µs ≈ {ceil(total_trace_time/(10**6 * 3600))} hours ≈ {ceil(total_trace_time/(10**6 * 3600 * 24))} days')"
   ]
  },
  {
   "attachments": {},
   "cell_type": "markdown",
   "metadata": {},
   "source": [
    "Once we have this number, computing the theoretical total computation power of a given machine is a matter of subtracting the starting time of the machine and multiplying by the CPU capacity. \n",
    "\n",
    "> **Note:** We assume that the CPU capacity of a machine never changes.\n",
    "\n",
    "Also, there are some machines that have some cpu values at None, as shown below."
   ]
  },
  {
   "cell_type": "code",
   "execution_count": 52,
   "metadata": {},
   "outputs": [
    {
     "name": "stdout",
     "output_type": "stream",
     "text": [
      "There are 32 machines with None values in their CPUs.\n"
     ]
    }
   ],
   "source": [
    "def has_none_cpu(events):\n",
    "    cpu = machine_events_get['CPUs']\n",
    "    for m in events:\n",
    "        if cpu(m) is None:\n",
    "            return True\n",
    "    return False\n",
    "\n",
    "\n",
    "print(f'There are {machines_history.filter(has_none_cpu).count()} machines with None values in their CPUs.')"
   ]
  },
  {
   "attachments": {},
   "cell_type": "markdown",
   "metadata": {},
   "source": [
    "The events for these machines could be perfectly valid. For instance, it could be an update event which does not affect the CPU. However, there are so few machines affected that we consider it harmless to exclude them from further analysis."
   ]
  },
  {
   "attachments": {},
   "cell_type": "markdown",
   "metadata": {},
   "source": [
    "We also want to know how much time a machine was off. To compute this, we look for ADD and REMOVE machine events, considering the time between an ADD and a REMOVE as active time and time between a REMOVE and an ADD as off time.\n",
    "\n",
    "> **Note:** We consider that a machine added after the start of the traces (time > 600s) has been added to the system at this point for the first time. Therefore, the time before is not counted as lost computational power.\n",
    "\n",
    "We have had to handle the special case where a machine is removed but not brought back before the end of the trace. Our tests showed at least 17% of machines were in this situation with a sample of the data (not everything). This required us to change the way we processed the data below.\n",
    "\n",
    "The function below does this processing for a given machine."
   ]
  },
  {
   "cell_type": "code",
   "execution_count": 89,
   "metadata": {},
   "outputs": [],
   "source": [
    "def lost_and_total_power(events):\n",
    "    \"\"\"\n",
    "    Compute the time between installation of the machine (or start of the trace) and its final removal (or end of the trace). This also computes the sum of times the machine was offline between the two former time points.\n",
    "\n",
    "    Then, these values are multiplied by the CPU capacity of the machine and returned as a tuple.\n",
    "    \"\"\"\n",
    "\n",
    "    # Functions and Variables\n",
    "    status = machine_events_get['event type']\n",
    "    time = machine_events_get['time']\n",
    "    start = time(events[0])\n",
    "    cpu = machine_events_get['CPUs'](events[0])\n",
    "\n",
    "    # Lost time\n",
    "    lost_time = 0\n",
    "    machine_off = True\n",
    "    last_seen = None\n",
    "    for event in events:\n",
    "        if status(event) == 1 and not machine_off:  # machine removed\n",
    "            last_seen = time(event)\n",
    "            machine_off = True\n",
    "        elif status(event) == 0 and machine_off:  # machine added\n",
    "            machine_off = False\n",
    "            if last_seen is not None:\n",
    "                lost_time += time(event) - last_seen\n",
    "\n",
    "    if machine_off and last_seen is not None:\n",
    "        lost_time += total_trace_time + 6 * 10**8 - last_seen\n",
    "\n",
    "    # Total time\n",
    "    total_time = total_trace_time if (\n",
    "        start < 6*10**8) else (total_trace_time - start + 6*10**8)\n",
    "\n",
    "    # Resulting power\n",
    "    return (lost_time*cpu, total_time*cpu)"
   ]
  },
  {
   "attachments": {},
   "cell_type": "markdown",
   "metadata": {},
   "source": [
    "The following keeps only machines which events all contain CPU information, and then applies the map/reduce scheme to compute the total and lost computational power."
   ]
  },
  {
   "cell_type": "code",
   "execution_count": 91,
   "metadata": {},
   "outputs": [
    {
     "name": "stdout",
     "output_type": "stream",
     "text": [
      "During the trace time, around 0.6836% of the computational power was lost.\n",
      "The exact percentage obtained is 0.6836169046693634% !\n"
     ]
    }
   ],
   "source": [
    "power_lost_and_total = machines_history \\\n",
    "    .filter(lambda m: not has_none_cpu(m)) \\\n",
    "    .map(lost_and_total_power) \\\n",
    "    .reduce(lambda p1, p2: (p1[0]+p2[0], p1[1]+p2[1]))\n",
    "\n",
    "print(f'During the trace time, around {(power_lost_and_total[0]/power_lost_and_total[1])*100:.4f}% of the computational power was lost.\\\n",
    "\\nThe exact percentage obtained is {(power_lost_and_total[0]/power_lost_and_total[1])*100}% !')"
   ]
  },
  {
   "attachments": {},
   "cell_type": "markdown",
   "metadata": {},
   "source": [
    "The lost computational power we obtained for the first sample of data is ≈0.68%, which seems to be quite an achievement."
   ]
  },
  {
   "attachments": {},
   "cell_type": "markdown",
   "metadata": {},
   "source": [
    "## Distribution of jobs and tasks per scheduling class (Q3)\n",
    "\n",
    "We will evaluate the distribution over **submitted** tasks and jobs. It also implies that we do not consider the distribution _over time_ but only within the _set_ of all submitted tasks and jobs.\n",
    "\n",
    "We could also consider the evolution of the scheduling class through time, looking at the event types UPDATE_PENDING and UPDATE_RUNNING. This is a different perspective where time is a key component."
   ]
  },
  {
   "cell_type": "markdown",
   "metadata": {},
   "source": [
    "### Studying jobs"
   ]
  },
  {
   "attachments": {},
   "cell_type": "markdown",
   "metadata": {},
   "source": [
    "We start our analysis with jobs. They should be fewer than tasks, as there can be many tasks per job, but one job per task.\n",
    "\n",
    "Before all, the schema for the tables we will use:"
   ]
  },
  {
   "cell_type": "code",
   "execution_count": 131,
   "metadata": {},
   "outputs": [
    {
     "name": "stdout",
     "output_type": "stream",
     "text": [
      "  field number  content           format       mandatory\n",
      "--------------  ----------------  -----------  -----------\n",
      "             0  time              INTEGER      True\n",
      "             1  missing info      INTEGER      False\n",
      "             2  job ID            INTEGER      True\n",
      "             3  event type        INTEGER      True\n",
      "             4  user              STRING_HASH  False\n",
      "             5  scheduling class  INTEGER      False\n",
      "             6  job name          STRING_HASH  False\n",
      "             7  logical job name  STRING_HASH  False\n"
     ]
    }
   ],
   "source": [
    "print(\n",
    "    tabulate(\n",
    "        schema.get_table_fields('job_events', include_formatters=False),\n",
    "        headers='keys',\n",
    "        maxcolwidths=40))"
   ]
  },
  {
   "attachments": {},
   "cell_type": "markdown",
   "metadata": {},
   "source": [
    "Firstly, we gather the events based on the task or job they refer to. We expect such lists of events to be small enough to be handled in regular python lists."
   ]
  },
  {
   "cell_type": "code",
   "execution_count": 7,
   "metadata": {},
   "outputs": [],
   "source": [
    "job_events = schema.load_rdd(sc,'job_events')\n",
    "job_events_get = schema.field_getters('job_events')"
   ]
  },
  {
   "cell_type": "code",
   "execution_count": 119,
   "metadata": {},
   "outputs": [
    {
     "name": "stderr",
     "output_type": "stream",
     "text": [
      "[Stage 181:====================================================>(497 + 3) / 500]\r"
     ]
    },
    {
     "name": "stdout",
     "output_type": "stream",
     "text": [
      "There are 2012242 job events.\n"
     ]
    },
    {
     "name": "stderr",
     "output_type": "stream",
     "text": [
      "                                                                                \r"
     ]
    }
   ],
   "source": [
    "print(f\"There are {job_events.count()} job events.\")"
   ]
  },
  {
   "attachments": {},
   "cell_type": "markdown",
   "metadata": {},
   "source": [
    "On Dorian's machine, the computation above took 46s (with other running programs).\n",
    "\n",
    "We are interested in the job submission event, which is when they are assigned their (initial) scheduling class."
   ]
  },
  {
   "cell_type": "code",
   "execution_count": 19,
   "metadata": {},
   "outputs": [],
   "source": [
    "# event type 0 = SUBMIT\n",
    "submit_events = job_events \\\n",
    "    .filter(lambda job_event: job_events_get['event type'](job_event) == 0) \\\n",
    "    .cache()"
   ]
  },
  {
   "attachments": {},
   "cell_type": "markdown",
   "metadata": {},
   "source": [
    "The documentation says that it is possible for a job to be submitted more than once, when it has been evicted, killed or when it failed but still is runnable (up to a maximal number of trials).\n",
    "\n",
    "What if the the scheduling class had been changed when the job is submitted another time?"
   ]
  },
  {
   "cell_type": "code",
   "execution_count": 20,
   "metadata": {},
   "outputs": [
    {
     "name": "stderr",
     "output_type": "stream",
     "text": [
      "[Stage 43:=====================================================>(496 + 4) / 500]\r"
     ]
    },
    {
     "name": "stdout",
     "output_type": "stream",
     "text": [
      "0\n"
     ]
    },
    {
     "name": "stderr",
     "output_type": "stream",
     "text": [
      "                                                                                \r"
     ]
    }
   ],
   "source": [
    "jobs_with_several_scheduling_classes = submit_events \\\n",
    "    .map(lambda job_event: (job_events_get['job ID'](job_event), \n",
    "                            {job_events_get['scheduling class'](job_event)})) \\\n",
    "    .reduceByKey(lambda event1, event2: event1 | event2) \\\n",
    "    .filter(lambda x: len(x[1]) > 1) \\\n",
    "    .count()\n",
    "\n",
    "print(jobs_with_several_scheduling_classes)"
   ]
  },
  {
   "attachments": {},
   "cell_type": "markdown",
   "metadata": {},
   "source": [
    "None.\n",
    "\n",
    "> **Note:** observe the curly braces used in `map` and `reduceByKey` above. We used python sets, which allow us to count all *distinct* scheduling classes a job was given.\n",
    "\n",
    "Let us then proceed with gathering the scheduling classes. The first step will be to remove any duplicate, which the initial `map` and `distinct` calls do. We chose the `map` operation such that it allowed us to use mapValues below with a constant function."
   ]
  },
  {
   "cell_type": "code",
   "execution_count": 41,
   "metadata": {},
   "outputs": [
    {
     "name": "stderr",
     "output_type": "stream",
     "text": [
      "[Stage 107:====================================================>(499 + 1) / 500]\r"
     ]
    },
    {
     "name": "stdout",
     "output_type": "stream",
     "text": [
      "257275  jobs are scheduled in class 0\n",
      "215109  jobs are scheduled in class 1\n",
      "194513  jobs are scheduled in class 2\n",
      "5177    jobs are scheduled in class 3\n"
     ]
    },
    {
     "name": "stderr",
     "output_type": "stream",
     "text": [
      "                                                                                \r"
     ]
    }
   ],
   "source": [
    "job_scheduling_classes = submit_events \\\n",
    "    .map(lambda event: (job_events_get['scheduling class'](event),\n",
    "                        job_events_get['job ID'](event))) \\\n",
    "    .distinct() \\\n",
    "    .countByKey()\n",
    "\n",
    "for scheduling_class, count in sorted(job_scheduling_classes.items()):\n",
    "    print(f\"{count:<7} jobs are scheduled in class {scheduling_class}\")"
   ]
  },
  {
   "attachments": {},
   "cell_type": "markdown",
   "metadata": {},
   "source": [
    "To better understand these values, let us plot them:"
   ]
  },
  {
   "cell_type": "code",
   "execution_count": 46,
   "metadata": {},
   "outputs": [
    {
     "data": {
      "image/png": "[encoded data removed]",
      "text/plain": [
       "<Figure size 640x480 with 1 Axes>"
      ]
     },
     "metadata": {},
     "output_type": "display_data"
    }
   ],
   "source": [
    "def bar_plot_question3(scheduling_classes, title, type):\n",
    "    fig = plt.figure()\n",
    "    ax = fig.add_axes([0, 0, 1, 1])\n",
    "    scheduling_class = list(scheduling_classes.keys())\n",
    "    count = scheduling_classes.values()\n",
    "    ax.bar(scheduling_class, count)\n",
    "    plt.xlabel(\"Scheduling classes\")\n",
    "    plt.ylabel(f\"Number of {type}\")\n",
    "    plt.xticks(scheduling_class)\n",
    "    plt.title(title)\n",
    "    plt.show()\n",
    "\n",
    "\n",
    "bar_plot_question3(job_scheduling_classes,\n",
    "                   \"Distribution of scheduling classes for all submitted jobs\", \"jobs\")"
   ]
  },
  {
   "attachments": {},
   "cell_type": "markdown",
   "metadata": {},
   "source": [
    "As a reminder, the scheduling class 3 is the most latency sensitive and 0 the least. The vast majority of jobs are of non-critical latency sensitivity, the more sensitive, the lesser the number.\n",
    "\n",
    "It should be good, as insensitive jobs can be scheduled when the sensitive ones are not running, but do not suffer from being put aside when sensitive jobs have to take over. This should help maximising resource usage."
   ]
  },
  {
   "cell_type": "markdown",
   "metadata": {},
   "source": [
    "### Repeating the analysis for tasks\n",
    "\n",
    "Let us now do the same analysis for all tasks, irrespective of which job they belong to.\n",
    "\n",
    "Starting with the schema of the tasks events table"
   ]
  },
  {
   "cell_type": "code",
   "execution_count": 8,
   "metadata": {},
   "outputs": [
    {
     "name": "stdout",
     "output_type": "stream",
     "text": [
      "  field number  content             format       mandatory\n",
      "--------------  ------------------  -----------  -----------\n",
      "             0  time                INTEGER      True\n",
      "             1  missing info        INTEGER      False\n",
      "             2  job ID              INTEGER      True\n",
      "             3  task index          INTEGER      True\n",
      "             4  machine ID          INTEGER      False\n",
      "             5  event type          INTEGER      True\n",
      "             6  user                STRING_HASH  False\n",
      "             7  scheduling class    INTEGER      False\n",
      "             8  priority            INTEGER      True\n",
      "             9  CPU request         FLOAT        False\n",
      "            10  memory request      FLOAT        False\n",
      "            11  disk space request  FLOAT        False\n",
      "            12  different machines  BOOLEAN      False\n",
      "                restriction\n"
     ]
    }
   ],
   "source": [
    "task_events_get = schema.field_getters('task_events')\n",
    "\n",
    "print(\n",
    "    tabulate(\n",
    "        schema.get_table_fields('task_events', include_formatters=False),\n",
    "        headers='keys',\n",
    "        maxcolwidths=[None, 20, None, None, 40]))"
   ]
  },
  {
   "cell_type": "markdown",
   "metadata": {},
   "source": [
    "Then, we load the data and filter for submission events."
   ]
  },
  {
   "cell_type": "code",
   "execution_count": 9,
   "metadata": {},
   "outputs": [],
   "source": [
    "task_events = schema.load_rdd(sc, 'task_events').persist()\n",
    "\n",
    "task_submit_events = task_events \\\n",
    "    .filter(lambda task_event: task_events_get['event type'](task_event) == 0) \\\n",
    "    .cache()"
   ]
  },
  {
   "attachments": {},
   "cell_type": "markdown",
   "metadata": {},
   "source": [
    "A sample of this data, commented for conciseness, can displayed below."
   ]
  },
  {
   "cell_type": "code",
   "execution_count": 24,
   "metadata": {},
   "outputs": [],
   "source": [
    "# Basic version\n",
    "\n",
    "# for task_event in task_submit_events.take(5):\n",
    "#     print(task_event)\n",
    "\n",
    "# This version is prettier, but too wide for some screens.\n",
    "\n",
    "# print(\n",
    "#     tabulate(\n",
    "#         task_submit_events.take(5),\n",
    "#         headers=schema.get_table_field_names('task_events'),\n",
    "#         maxcolwidths=[None, None, None, None, None, None, 10]))"
   ]
  },
  {
   "attachments": {},
   "cell_type": "markdown",
   "metadata": {},
   "source": [
    "Following the same idea as for jobs, let us count how many tasks have been submitted more than once within different scheduling classes.\n",
    "\n",
    "> **Note:** that here and after, we use a tuple as the key representing a task. Indeed, each task is represented by the job it belongs to and its task index. It does not have a unique identifier of its own."
   ]
  },
  {
   "cell_type": "code",
   "execution_count": 25,
   "metadata": {},
   "outputs": [
    {
     "name": "stderr",
     "output_type": "stream",
     "text": [
      "[Stage 47:=============================>                            (1 + 1) / 2]\r"
     ]
    },
    {
     "name": "stdout",
     "output_type": "stream",
     "text": [
      "0 tasks have more than one scheduling class.\n"
     ]
    },
    {
     "name": "stderr",
     "output_type": "stream",
     "text": [
      "                                                                                \r"
     ]
    }
   ],
   "source": [
    "tasks_with_several_scheduling_classes = task_submit_events \\\n",
    "    .map(lambda event: ((task_events_get['job ID'](event), task_events_get['task index'](event)), \n",
    "                        {task_events_get['scheduling class'](event)})) \\\n",
    "    .reduceByKey(lambda event1, event2: event1 | event2) \\\n",
    "    .filter(lambda x: len(x[1]) > 1)\n",
    "\n",
    "print(f'{tasks_with_several_scheduling_classes.count()} tasks have more than one scheduling class.')"
   ]
  },
  {
   "attachments": {},
   "cell_type": "markdown",
   "metadata": {},
   "source": [
    "From this, we conclude that, as with jobs, no task has ever seen its scheduling class changed after being resubmitted (due to eviction, failure, kill).\n",
    "\n",
    "On to the distribution of scheduling classes:"
   ]
  },
  {
   "cell_type": "code",
   "execution_count": 39,
   "metadata": {},
   "outputs": [
    {
     "name": "stderr",
     "output_type": "stream",
     "text": [
      "[Stage 102:============================>                            (1 + 1) / 2]\r"
     ]
    },
    {
     "name": "stdout",
     "output_type": "stream",
     "text": [
      "94244   tasks are scheduled in class 0\n",
      "26699   tasks are scheduled in class 1\n",
      "41873   tasks are scheduled in class 2\n",
      "28110   tasks are scheduled in class 3\n"
     ]
    },
    {
     "name": "stderr",
     "output_type": "stream",
     "text": [
      "                                                                                \r"
     ]
    }
   ],
   "source": [
    "task_scheduling_classes = task_submit_events \\\n",
    "    .map(lambda event: (\n",
    "        task_events_get['scheduling class'](event),\n",
    "        (task_events_get['job ID'](event), task_events_get['task index'](event)))) \\\n",
    "    .distinct() \\\n",
    "    .countByKey()\n",
    "\n",
    "for scheduling_class, count in sorted(task_scheduling_classes.items()):\n",
    "    print(f\"{count:<7} tasks are scheduled in class {scheduling_class}\")"
   ]
  },
  {
   "attachments": {},
   "cell_type": "markdown",
   "metadata": {},
   "source": [
    "And the related plot, featuring both jobs and tasks:"
   ]
  },
  {
   "cell_type": "code",
   "execution_count": 44,
   "metadata": {},
   "outputs": [
    {
     "data": {
      "image/png": "[encoded data removed]",
      "text/plain": [
       "<Figure size 640x480 with 1 Axes>"
      ]
     },
     "metadata": {},
     "output_type": "display_data"
    }
   ],
   "source": [
    "classes = range(0, 4)\n",
    "w = 0.25\n",
    "\n",
    "# Plotting jobs\n",
    "scheduling_class = list(\n",
    "    map(lambda x: (x - w/2), job_scheduling_classes.keys()))\n",
    "count = job_scheduling_classes.values()\n",
    "plt.bar(scheduling_class, count, width=w, align='center', label=\"jobs\")\n",
    "\n",
    "# Plotting tasks\n",
    "scheduling_class = list(map(lambda x: x + w/2, task_scheduling_classes.keys()))\n",
    "count = task_scheduling_classes.values()\n",
    "plt.bar(scheduling_class, count, width=w, align='center', label=\"tasks\")\n",
    "\n",
    "plt.xlabel(\"Scheduling classes\")\n",
    "plt.ylabel(\"Number of jobs/tasks\")\n",
    "plt.xticks(classes, [str(a_class) for a_class in classes])\n",
    "plt.title(\"Distribution of scheduling classes for all submitted jobs and tasks\")\n",
    "plt.legend()\n",
    "plt.show()"
   ]
  },
  {
   "attachments": {},
   "cell_type": "markdown",
   "metadata": {},
   "source": [
    "## Relation between scheduling class and eviction of tasks (Q4)\n",
    "\n",
    "We now focus on events of type 2, namely eviction events. These still rely on the task events, which schema we recall below."
   ]
  },
  {
   "cell_type": "code",
   "execution_count": 47,
   "metadata": {},
   "outputs": [
    {
     "name": "stdout",
     "output_type": "stream",
     "text": [
      "  field number  content                         format       mandatory\n",
      "--------------  ------------------------------  -----------  -----------\n",
      "             0  time                            INTEGER      True\n",
      "             1  missing info                    INTEGER      False\n",
      "             2  job ID                          INTEGER      True\n",
      "             3  task index                      INTEGER      True\n",
      "             4  machine ID                      INTEGER      False\n",
      "             5  event type                      INTEGER      True\n",
      "             6  user                            STRING_HASH  False\n",
      "             7  scheduling class                INTEGER      False\n",
      "             8  priority                        INTEGER      True\n",
      "             9  CPU request                     FLOAT        False\n",
      "            10  memory request                  FLOAT        False\n",
      "            11  disk space request              FLOAT        False\n",
      "            12  different machines restriction  BOOLEAN      False\n"
     ]
    }
   ],
   "source": [
    "print(\n",
    "    tabulate(\n",
    "        schema.get_table_fields(\n",
    "            'task_events', include_formatters=False), headers='keys'))"
   ]
  },
  {
   "cell_type": "markdown",
   "metadata": {},
   "source": [
    "Using the usual map/reduce pattern to count occurrences of a value, we gather the evictions per scheduling class."
   ]
  },
  {
   "cell_type": "code",
   "execution_count": 51,
   "metadata": {},
   "outputs": [
    {
     "name": "stderr",
     "output_type": "stream",
     "text": [
      "                                                                                \r"
     ]
    },
    {
     "name": "stdout",
     "output_type": "stream",
     "text": [
      "tasks of scheduling class 0 evicted: 2864\n",
      "tasks of scheduling class 1 evicted: 792\n",
      "tasks of scheduling class 2 evicted: 662\n",
      "tasks of scheduling class 3 evicted: 20\n"
     ]
    }
   ],
   "source": [
    "scheduling_eviction_relations = task_events \\\n",
    "    .filter(lambda event: task_events_get['event type'](event) == 2) \\\n",
    "    .map(lambda event: (task_events_get['scheduling class'](event), 1)) \\\n",
    "    .reduceByKey(add) \\\n",
    "    .sortByKey() \\\n",
    "    .collect()\n",
    "\n",
    "for relations in scheduling_eviction_relations:\n",
    "    print(f\"tasks of scheduling class {relations[0]} evicted: {relations[1]}\")"
   ]
  },
  {
   "cell_type": "code",
   "execution_count": 52,
   "metadata": {},
   "outputs": [
    {
     "data": {
      "image/png": "[encoded data removed]",
      "text/plain": [
       "<Figure size 640x480 with 1 Axes>"
      ]
     },
     "metadata": {},
     "output_type": "display_data"
    }
   ],
   "source": [
    "fig = plt.figure()\n",
    "\n",
    "legend = list(map(lambda x: x[0], scheduling_eviction_relations))\n",
    "count = list(map(lambda x: x[1], scheduling_eviction_relations))\n",
    "plt.bar(legend, count)\n",
    "\n",
    "plt.xlabel(\"Scheduling class\")\n",
    "plt.ylabel(\"Number of evictions\")\n",
    "plt.xticks(legend)\n",
    "plt.title(\"Distribution of evictions\")\n",
    "\n",
    "plt.show()"
   ]
  },
  {
   "cell_type": "markdown",
   "metadata": {},
   "source": [
    "Tasks with lower scheduling class were evicted much more than those with higher scheduling class. Note that we chose to keep all eviction events, even when a single task is evicted several times.\n",
    "\n",
    "It matches the idea that latency-sensitive tasks, represented with higher scheduling classes, need to be interrupted (namely evicted) as little as possible, so that they can be completed soon."
   ]
  },
  {
   "attachments": {},
   "cell_type": "markdown",
   "metadata": {},
   "source": [
    "## Same Job -> Same machine ? (Q5)\n",
    "\n",
    "The job events table does not contain information about the machine running it. Indeed, it is the tasks which actually run on one or more machines. We will therefore use the task_events data, which schema is recalled here."
   ]
  },
  {
   "cell_type": "code",
   "execution_count": 53,
   "metadata": {},
   "outputs": [
    {
     "name": "stdout",
     "output_type": "stream",
     "text": [
      "  field number  content                         format       mandatory\n",
      "--------------  ------------------------------  -----------  -----------\n",
      "             0  time                            INTEGER      True\n",
      "             1  missing info                    INTEGER      False\n",
      "             2  job ID                          INTEGER      True\n",
      "             3  task index                      INTEGER      True\n",
      "             4  machine ID                      INTEGER      False\n",
      "             5  event type                      INTEGER      True\n",
      "             6  user                            STRING_HASH  False\n",
      "             7  scheduling class                INTEGER      False\n",
      "             8  priority                        INTEGER      True\n",
      "             9  CPU request                     FLOAT        False\n",
      "            10  memory request                  FLOAT        False\n",
      "            11  disk space request              FLOAT        False\n",
      "            12  different machines restriction  BOOLEAN      False\n"
     ]
    }
   ],
   "source": [
    "print(\n",
    "    tabulate(\n",
    "        schema.get_table_fields(\n",
    "            'task_events', include_formatters=False), headers='keys'))"
   ]
  },
  {
   "attachments": {},
   "cell_type": "markdown",
   "metadata": {},
   "source": [
    "We will be using the fields `job ID` to identify the jobs, and `machine ID` for the tasks.\n",
    "\n",
    "Here we use every task_event associated to any job ID and then we determine the number of machine used. From that, we compute how many jobs use any number of machines, with `countByValue()`."
   ]
  },
  {
   "cell_type": "code",
   "execution_count": 71,
   "metadata": {},
   "outputs": [
    {
     "name": "stderr",
     "output_type": "stream",
     "text": [
      "[Stage 141:============================>                            (1 + 1) / 2]\r"
     ]
    },
    {
     "name": "stdout",
     "output_type": "stream",
     "text": [
      "The result contains 241 entries.\n"
     ]
    },
    {
     "name": "stderr",
     "output_type": "stream",
     "text": [
      "                                                                                \r"
     ]
    }
   ],
   "source": [
    "nb_machines_per_job = task_events \\\n",
    "    .map(lambda event: (\n",
    "        task_events_get[\"job ID\"](event),\n",
    "        {task_events_get[\"machine ID\"](event)})) \\\n",
    "    .reduceByKey(lambda machine1, machine2: machine1 | machine2) \\\n",
    "    .map(lambda job: len(job[1])) \\\n",
    "    .countByValue()\n",
    "\n",
    "print(f\"The result contains {len(nb_machines_per_job)} entries.\")"
   ]
  },
  {
   "attachments": {},
   "cell_type": "markdown",
   "metadata": {},
   "source": [
    "There are too many entries to display them all here. However, let us peek the first five of them.\n",
    "\n",
    "We added a column representing the percentage of jobs using a given number of machines."
   ]
  },
  {
   "cell_type": "code",
   "execution_count": 99,
   "metadata": {},
   "outputs": [
    {
     "name": "stderr",
     "output_type": "stream",
     "text": [
      "[Stage 151:>                                                        (0 + 2) / 2]\r"
     ]
    },
    {
     "name": "stdout",
     "output_type": "stream",
     "text": [
      "  # machines used    # jobs    percentage\n",
      "-----------------  --------  ------------\n",
      "                1      1978          40.4\n",
      "                2      1422          29.1\n",
      "                3       297           6.1\n",
      "                4        96           2\n",
      "                5       126           2.6\n"
     ]
    },
    {
     "name": "stderr",
     "output_type": "stream",
     "text": [
      "                                                                                \r"
     ]
    }
   ],
   "source": [
    "total_number_of_jobs = task_events \\\n",
    "    .map(lambda event: task_events_get['job ID'](event)) \\\n",
    "    .distinct() \\\n",
    "    .count()\n",
    "\n",
    "sample_data = list()\n",
    "for nb_machines, nb_jobs in islice(sorted(nb_machines_per_job.items()), 5):\n",
    "    sample_data += [[nb_machines, nb_jobs, round(nb_jobs/total_number_of_jobs*100, 1)]]\n",
    "\n",
    "print(tabulate(\n",
    "    sample_data,\n",
    "    headers=[\"# machines used\", \"# jobs\", \"percentage\"]))"
   ]
  },
  {
   "attachments": {},
   "cell_type": "markdown",
   "metadata": {},
   "source": [
    "A total of 69.5% of jobs used using one or two machine, with our sample of the data."
   ]
  },
  {
   "cell_type": "code",
   "execution_count": 100,
   "metadata": {},
   "outputs": [
    {
     "data": {
      "image/png": "[encoded data removed]",
      "text/plain": [
       "<Figure size 640x480 with 1 Axes>"
      ]
     },
     "metadata": {},
     "output_type": "display_data"
    }
   ],
   "source": [
    "sorted_data = list(sorted(nb_machines_per_job.items()))\n",
    "nb_machine, nb_jobs = list(zip(*sorted_data))\n",
    "\n",
    "plt.plot(nb_machine, nb_jobs)\n",
    "\n",
    "# Solution for cumulative function from https://www.geeksforgeeks.org/python-program-to-find-cumulative-sum-of-a-list/\n",
    "\n",
    "\n",
    "def cumulative_sum(input_list):\n",
    "    # Use the accumulate() function to perform a cumulative sum of the elements in the list\n",
    "    cumulative_sum_iter = accumulate(input_list, add)\n",
    "    # Convert the iterator to a list and return it\n",
    "    return list(cumulative_sum_iter)\n",
    "\n",
    "\n",
    "cumulative_count = cumulative_sum(nb_jobs)\n",
    "\n",
    "plt.plot(nb_machine, cumulative_count)\n",
    "\n",
    "plt.xlabel(\"number of machines\")\n",
    "plt.ylabel(\"number of jobs (log)\")\n",
    "plt.title(\"How many jobs use any given number of machines ?\")\n",
    "\n",
    "plt.yscale(\"log\")\n",
    "plt.show()\n"
   ]
  },
  {
   "attachments": {},
   "cell_type": "markdown",
   "metadata": {},
   "source": [
    "The orange line shows the cummulative sum of jobs. It lets us realise that the vast majority of jobs is concentrated in the very beginning, meaning with a very small number of machines. \n",
    "\n",
    "This shows again that it is most common to have all tasks from the a job run on 1 or 2 machines.\n",
    "\n",
    "> **Note:** We chose to use a regular plot for this graphical representation, although, strictly speaking, a bar plot would be more accurate. However, we could not represent the number of bars required for this amount of data. This is why we chose the less exact representation. We believe it is still relevant enough to give us the information we are looking for."
   ]
  },
  {
   "attachments": {},
   "cell_type": "markdown",
   "metadata": {},
   "source": [
    "## Comparison of resource request and resource usage of tasks (Q6)\n",
    "\n",
    "This topic requires to do the analysis for three different resources: CPU cores, RAM and disk space. We will conduct our analysis on these three at the same time.\n",
    "\n",
    "Also, our question calls for the usage of two sources of data : task events and resource usage. We will pre-process these separately and then join them."
   ]
  },
  {
   "attachments": {},
   "cell_type": "markdown",
   "metadata": {},
   "source": [
    "### Resource requests\n",
    "\n",
    "Tasks can specify resource requirements when SUBMITTED (0) and upon UPDATE_PENDING (7) and UPDATE_RUNNING (8) events.\n",
    "\n",
    "As a reminder, here is the schema for task events:"
   ]
  },
  {
   "cell_type": "code",
   "execution_count": 102,
   "metadata": {},
   "outputs": [
    {
     "name": "stdout",
     "output_type": "stream",
     "text": [
      "  field number  content                         format       mandatory\n",
      "--------------  ------------------------------  -----------  -----------\n",
      "             0  time                            INTEGER      True\n",
      "             1  missing info                    INTEGER      False\n",
      "             2  job ID                          INTEGER      True\n",
      "             3  task index                      INTEGER      True\n",
      "             4  machine ID                      INTEGER      False\n",
      "             5  event type                      INTEGER      True\n",
      "             6  user                            STRING_HASH  False\n",
      "             7  scheduling class                INTEGER      False\n",
      "             8  priority                        INTEGER      True\n",
      "             9  CPU request                     FLOAT        False\n",
      "            10  memory request                  FLOAT        False\n",
      "            11  disk space request              FLOAT        False\n",
      "            12  different machines restriction  BOOLEAN      False\n"
     ]
    }
   ],
   "source": [
    "print(\n",
    "    tabulate(\n",
    "        schema.get_table_fields('task_events', include_formatters=False),\n",
    "        headers='keys'))"
   ]
  },
  {
   "attachments": {},
   "cell_type": "markdown",
   "metadata": {},
   "source": [
    "Do tasks update their resource requests during their lifecycle ?\n",
    "\n",
    "To answer this question, we map task events to key-value pairs for each task, where the value contains the resource requests. Then with `reduceByKey`, we merge the resource requests to keep only distinct values (thanks to python's sets)."
   ]
  },
  {
   "cell_type": "code",
   "execution_count": 12,
   "metadata": {},
   "outputs": [
    {
     "name": "stderr",
     "output_type": "stream",
     "text": [
      "                                                                                \r"
     ]
    },
    {
     "name": "stdout",
     "output_type": "stream",
     "text": [
      "There has been 37333 tasks changing at least one of their resource requests during their lifetime over a total of 190926 tasks, accounting for 19.55364905775012%.\n"
     ]
    }
   ],
   "source": [
    "def task_event_to_resources(event):\n",
    "    \"\"\"\n",
    "    Convert a task event to a key-value tuple.\n",
    "    The key is the task id (combination of job ID and task index).\n",
    "    The value is a dictionary of resource requests (keys are cpu, mem and disk). Each resource request is represented as a set of one or zero element. It is empty if the value for the given field is None.\n",
    "    \"\"\"\n",
    "    task_id = (task_events_get['job ID'](event),\n",
    "               task_events_get['task index'](event))\n",
    "\n",
    "    CPU_request = task_events_get['CPU request'](event)\n",
    "    mem_request = task_events_get['memory request'](event)\n",
    "    disk_request = task_events_get['disk space request'](event)\n",
    "\n",
    "    CPU_request = {CPU_request} if CPU_request is not None else set()\n",
    "    mem_request = {mem_request} if mem_request is not None else set()\n",
    "    disk_request = {disk_request} if disk_request is not None else set()\n",
    "\n",
    "    return (task_id, {'cpu': CPU_request, 'mem': mem_request, 'disk': disk_request})\n",
    "\n",
    "\n",
    "resource_requests = task_events \\\n",
    "    .map(task_event_to_resources) \\\n",
    "    .reduceByKey(lambda r1, r2: {\n",
    "        'cpu': r1['cpu'] | r2['cpu'],\n",
    "        'mem': r1['mem'] | r2['mem'],\n",
    "        'disk': r1['disk'] | r2['disk']})\n",
    "\n",
    "multiple_requests = resource_requests.filter(lambda event: len(\n",
    "    event[1]['cpu']) > 1 or len(event[1]['mem']) > 1 or len(event[1]['disk']) > 1)\n",
    "\n",
    "print(f\"There has been {multiple_requests.count()} tasks changing at least one of their resource requests during their lifetime over a total of {resource_requests.count()} tasks, accounting for {multiple_requests.count() / resource_requests.count() * 100}%.\")"
   ]
  },
  {
   "attachments": {},
   "cell_type": "markdown",
   "metadata": {},
   "source": [
    "Many tasks made more than one resource request in their lifetime. Here is a sample, to illustrate a few tasks requiring different amounts of resources. Each resource column is a set of all distinct values requested."
   ]
  },
  {
   "cell_type": "code",
   "execution_count": 13,
   "metadata": {},
   "outputs": [
    {
     "name": "stderr",
     "output_type": "stream",
     "text": [
      "[Stage 29:>                                                         (0 + 1) / 1]\r"
     ]
    },
    {
     "name": "stdout",
     "output_type": "stream",
     "text": [
      "task          CPU               memory              disk\n",
      "------------  ----------------  ------------------  ----------------------\n",
      "(3418314, 0)  {0.125, 0.0625}   {0.07446, 0.09473}  {0.0004244, 0.0004702}\n",
      "(3418368, 0)  {0.03125, 0.125}  {0.08691, 0.09021}  {0.0008211, 0.0004549}\n",
      "(3418368, 2)  {0.03125, 0.125}  {0.08691, 0.09021}  {0.0008211, 0.0004549}\n",
      "(3418380, 0)  {0.1875, 0.125}   {0.09839, 0.08826}  {0.0008612, 0.0008135}\n",
      "(3418400, 0)  {0.125}           {0.09082, 0.08923}  {0.0004702}\n"
     ]
    },
    {
     "name": "stderr",
     "output_type": "stream",
     "text": [
      "                                                                                \r"
     ]
    }
   ],
   "source": [
    "requests = multiple_requests.take(5)\n",
    "requests = [\n",
    "    [request[0], request[1]['cpu'], request[1]['mem'], request[1]['disk']]\n",
    "    for request in requests]\n",
    "\n",
    "print(tabulate(\n",
    "    requests,\n",
    "    headers=['task', 'CPU', 'memory', 'disk']\n",
    "))"
   ]
  },
  {
   "attachments": {},
   "cell_type": "markdown",
   "metadata": {},
   "source": [
    "This implies that we will have to select which resource request to keep, or to compute an aggregate for any task.\n",
    "\n",
    "Before that, let us also see at which events the CPU request is made. Is it only done at a given event type, like SUBMIT?\n",
    "\n",
    "> **Note**: A task can be SUBMITed several times in its life."
   ]
  },
  {
   "cell_type": "code",
   "execution_count": 32,
   "metadata": {},
   "outputs": [
    {
     "name": "stderr",
     "output_type": "stream",
     "text": [
      "[Stage 52:>                                                         (0 + 2) / 2]\r"
     ]
    },
    {
     "name": "stdout",
     "output_type": "stream",
     "text": [
      "Distinct CPU requests were made at events of types:  SUBMIT, FINISH, EVICT, SCHEDULE, FAIL, KILL\n"
     ]
    },
    {
     "name": "stderr",
     "output_type": "stream",
     "text": [
      "                                                                                \r"
     ]
    }
   ],
   "source": [
    "cpu_changing_events = task_events \\\n",
    "    .filter(lambda event: task_events_get['CPU request'](event) is not None) \\\n",
    "    .map(lambda event: task_events_get['event type'](event)) \\\n",
    "    .distinct() \\\n",
    "    .cache()\n",
    "\n",
    "event_names = {\n",
    "    0: 'SUBMIT',\n",
    "    1: 'SCHEDULE',\n",
    "    2: 'EVICT',\n",
    "    3: 'FAIL',\n",
    "    4: 'FINISH',\n",
    "    5: 'KILL',\n",
    "    6: 'LOST',\n",
    "    7: 'UPDATE_PENDING',\n",
    "    8: 'UPDATE_RUNNING'\n",
    "}\n",
    "\n",
    "events = ', '.join([event_names[event]\n",
    "                   for event in cpu_changing_events.collect()])\n",
    "print(\"Distinct CPU requests were made at events of types: \", events)"
   ]
  },
  {
   "attachments": {},
   "cell_type": "markdown",
   "metadata": {},
   "source": [
    "As resource requests are made at different events, we have to process all types of events.\n",
    "\n",
    "> **Note:** We could have pursued the investigation a little further to figure at which events the resource request is *updated*, not just present. However, the following does not require this information.\n",
    "\n",
    "Since we are looking for the correlation between high resource request and high resource consumption, let us just take the highest resource request for each resource type."
   ]
  },
  {
   "cell_type": "code",
   "execution_count": 21,
   "metadata": {},
   "outputs": [],
   "source": [
    "def max_resource_request(requests1, requests2):\n",
    "    return tuple(\n",
    "        max(r1, r2) for r1, r2 in zip(requests1, requests2)\n",
    "    )\n",
    "\n",
    "\n",
    "resource_requests = task_events \\\n",
    "    .filter(lambda event:\n",
    "            task_events_get['CPU request'](event) is not None and\n",
    "            task_events_get['memory request'](event) is not None and\n",
    "            task_events_get['disk space request'](event) is not None) \\\n",
    "    .map(lambda event:\n",
    "         (\n",
    "             (task_events_get['job ID'](event),\n",
    "              task_events_get['task index'](event)),\n",
    "             (\n",
    "                 task_events_get['CPU request'](event),\n",
    "                 task_events_get['memory request'](event),\n",
    "                 task_events_get['disk space request'](event)))) \\\n",
    "    .reduceByKey(max_resource_request) \\\n",
    "    .cache()"
   ]
  },
  {
   "attachments": {},
   "cell_type": "markdown",
   "metadata": {},
   "source": [
    "### Resource usage table\n",
    "\n",
    "The resource usage information is stored in its own table. We will have to learn to use it, and also to match its data with the task events.\n",
    "\n",
    "It is to be noted that resource measurement periods might overshoot after a task is killed. We might want to remove these parts of the measurements, if they prove problematic.\n",
    "\n",
    "The documentation for the data set also specifies how the maximum measurement data is aggregated (for sub-containers), and gives a field in the table for this information. I believe, for the sake of this work, that we can spare ourselves the extra mileage of using this field, and just consider that the measurements are accurate enough."
   ]
  },
  {
   "attachments": {},
   "cell_type": "markdown",
   "metadata": {},
   "source": [
    "First thing first, loading the related data set:"
   ]
  },
  {
   "cell_type": "code",
   "execution_count": null,
   "metadata": {},
   "outputs": [
    {
     "name": "stderr",
     "output_type": "stream",
     "text": [
      "[Stage 79:>                                                         (0 + 1) / 1]\r"
     ]
    },
    {
     "name": "stdout",
     "output_type": "stream",
     "text": [
      "[600000000, 900000000, 3418309, 0, 4155527081, 0.001562, 0.06787, 0.07568, 0.001156, 0.001503, 0.06787, 2.861e-06, 0.0001869, 0.03967, 0.0003567, 2.445, 0.007243, 0.0, True, 0.0]\n",
      "[600000000, 900000000, 3418309, 1, 329150663, 0.001568, 0.06787, 0.07556, 0.0003195, 0.0007, 0.06787, 5.722e-06, 0.0001879, 0.03302, 0.0009289, 2.1, 0.005791, 0.0, True, 0.0]\n",
      "[600000000, 900000000, 3418314, 0, 3938719206, 0.0003071, 0.08044, 0.09521, 0.0002823, 0.0006704, 0.08044, 4.768e-06, 0.0001841, 0.02377, 0.0007858, 5.588, 0.0208, 0.0, True, 0.0]\n",
      "[600000000, 900000000, 3418314, 1, 351618647, 0.0003004, 0.08044, 0.09521, 0.0005369, 0.0008698, 0.08044, 9.537e-06, 0.0001831, 0.007919, 0.002285, 5.198, 0.02038, 0.0, True, 0.0]\n",
      "[600000000, 900000000, 3418319, 0, 431052910, 0.0004606, 0.07715, 0.0874, 0.0006247, 0.0008516, 0.07715, 1.907e-06, 0.0002041, 0.005112, 0.0002146, 2.937, 0.009449, 0.0, True, 0.0]\n"
     ]
    },
    {
     "name": "stderr",
     "output_type": "stream",
     "text": [
      "                                                                                \r"
     ]
    }
   ],
   "source": [
    "task_usage_get = schema.field_getters('task_usage')\n",
    "task_usage = schema.load_rdd(sc,'task_usage')\n",
    "task_usage.cache()\n",
    "\n",
    "for elem in task_usage.take(5):\n",
    "\tprint(elem)"
   ]
  },
  {
   "attachments": {},
   "cell_type": "markdown",
   "metadata": {},
   "source": [
    "Measurement records may be missing, not implying that a task is not running. Let us count how many such missing records there are, and how many tasks (ratio) are affected."
   ]
  },
  {
   "cell_type": "code",
   "execution_count": null,
   "metadata": {},
   "outputs": [],
   "source": [
    "resource_fields = [\n",
    "        'start time',\n",
    "        'end time',\n",
    "        'CPU rate',\n",
    "        'canonical memory usage',\n",
    "        'local disk space usage'\n",
    "    ]\n",
    "\n",
    "def entry_converter(entry):\n",
    "    return tuple(task_usage_get[field](entry) for field in resource_fields)\n",
    "\n",
    "def aggregator(accumulator, resource_usage):\n",
    "    accumulator[0] += resource_usage[1]-resource_usage[0]\n",
    "    for i in range(2,len(resource_usage)):\n",
    "        accumulator[i-1] += resource_usage[0]*resource_usage[i]\n",
    "    return accumulator\n",
    "\n",
    "from operator import add\n",
    "def combiner(accumulator1, accumulator2):\n",
    "    return list(map(add, accumulator1, accumulator2))\n",
    "\n",
    "resources_per_task = task_usage \\\n",
    "    .map(lambda entry: ((task_usage_get['job ID'](entry), task_usage_get['task index'](entry)),\n",
    "        entry_converter(entry))) \\\n",
    "    .aggregateByKey([0,]*(len(resource_fields)-1), aggregator, combiner) \\\n",
    "    .cache()"
   ]
  },
  {
   "cell_type": "code",
   "execution_count": null,
   "metadata": {},
   "outputs": [
    {
     "name": "stderr",
     "output_type": "stream",
     "text": [
      "[Stage 81:>                                                       (0 + 12) / 12]\r"
     ]
    },
    {
     "name": "stdout",
     "output_type": "stream",
     "text": [
      "There are 179427 tasks for which we have resource consumption data.\n"
     ]
    },
    {
     "name": "stderr",
     "output_type": "stream",
     "text": [
      "                                                                                \r"
     ]
    }
   ],
   "source": [
    "print(f\"There are {resources_per_task.count()} tasks for which we have resource consumption data.\")"
   ]
  },
  {
   "cell_type": "code",
   "execution_count": null,
   "metadata": {},
   "outputs": [
    {
     "name": "stdout",
     "output_type": "stream",
     "text": [
      "(3418309, 1)\n",
      "5100000000\n",
      "70875600.0\n",
      "3461370000.0\n",
      "9487140.0\n"
     ]
    }
   ],
   "source": [
    "for entry in resources_per_task.take(1):\n",
    "    print(entry[0])\n",
    "    # print(entry[1])\n",
    "    for x in entry[1]:\n",
    "        print(x)"
   ]
  },
  {
   "cell_type": "code",
   "execution_count": null,
   "metadata": {},
   "outputs": [],
   "source": [
    "joined = resource_requests \\\n",
    "    .join(resources_per_task) \\\n",
    "    .map(lambda x: (x[1][0], *x[1][1])) \\\n",
    "    .cache()\n",
    "    # .sortBy(lambda x: x[0]) \\"
   ]
  },
  {
   "cell_type": "code",
   "execution_count": null,
   "metadata": {},
   "outputs": [
    {
     "name": "stderr",
     "output_type": "stream",
     "text": [
      "[Stage 86:==================================================>    (95 + 8) / 103]\r"
     ]
    },
    {
     "name": "stdout",
     "output_type": "stream",
     "text": [
      "((0.0125, 0.0159, 0.0004044), 5100000000, 10813140.0, 29405310.0, 6711600.0)\n",
      "((0.0125, 0.0159, 0.0004044), 5100000000, 8654370.0, 29898840.0, 6420900.0)\n",
      "((0.0625, 0.02863, 0.000309), 5100000000, 813003000.0, 1108032000.0, 15311700.0)\n",
      "((0.0625, 0.002953, 1.907e-05), 5100000000, 2976675.0, 92164800.0, 0.0)\n",
      "((0.0625, 0.08569, 0.000926), 4500000000, 1547277000.0, 3299316000.0, 34376280.0)\n"
     ]
    },
    {
     "name": "stderr",
     "output_type": "stream",
     "text": [
      "                                                                                \r"
     ]
    }
   ],
   "source": [
    "for x in joined.take(5):\n",
    "    print(x)"
   ]
  },
  {
   "attachments": {},
   "cell_type": "markdown",
   "metadata": {},
   "source": [
    "In `joined`, the first element is a tuple of the requests for CPU, RAM, and storage space, and the following is respectively\n",
    "\n",
    "- the cumulated duration of the task,\n",
    "- the total amount of CPU.s for the task,\n",
    "- the RAM used,\n",
    "- the disk storage used."
   ]
  },
  {
   "cell_type": "code",
   "execution_count": null,
   "metadata": {},
   "outputs": [
    {
     "name": "stderr",
     "output_type": "stream",
     "text": [
      "                                                                                \r"
     ]
    }
   ],
   "source": [
    "cpu_req_vs_coresec = joined \\\n",
    "    .map(lambda x: (x[0][0],(x[2],1))) \\\n",
    "    .reduceByKey(lambda x,y: (x[0]+y[0],x[1]+y[1])) \\\n",
    "    .map(lambda x: (x[0],x[1][0]/x[1][1]))\\\n",
    "    .sortByKey()\\\n",
    "    .collect()\n",
    "\n",
    "mem_req_vs_coresec = joined \\\n",
    "    .map(lambda x: (x[0][1],(x[3],1))) \\\n",
    "    .reduceByKey(lambda x,y: (x[0]+y[0],x[1]+y[1])) \\\n",
    "    .map(lambda x: (x[0],x[1][0]/x[1][1]))\\\n",
    "    .sortByKey()\\\n",
    "    .collect()\n",
    "\n",
    "disk_req_vs_coresec = joined \\\n",
    "    .map(lambda x: (x[0][2],(x[4],1))) \\\n",
    "    .reduceByKey(lambda x,y: (x[0]+y[0],x[1]+y[1])) \\\n",
    "    .map(lambda x: (x[0],x[1][0]/x[1][1]))\\\n",
    "    .sortByKey()\\\n",
    "    .collect()"
   ]
  },
  {
   "cell_type": "code",
   "execution_count": null,
   "metadata": {},
   "outputs": [
    {
     "data": {
      "image/png": "[encoded data removed]",
      "text/plain": [
       "<Figure size 640x480 with 1 Axes>"
      ]
     },
     "metadata": {},
     "output_type": "display_data"
    }
   ],
   "source": [
    "S=5\n",
    "\n",
    "plt.scatter(*zip(*cpu_req_vs_coresec),s=S)\n",
    "plt.scatter(*zip(*mem_req_vs_coresec),s=S)\n",
    "plt.scatter(*zip(*disk_req_vs_coresec),s=S)\n",
    "# plt.yscale(\"log\")\n",
    "plt.show()"
   ]
  },
  {
   "attachments": {},
   "cell_type": "markdown",
   "metadata": {},
   "source": [
    "Below, the code `.map(lambda x: (x[0],x[1][0]/x[1][1]))` performs averaging"
   ]
  },
  {
   "cell_type": "code",
   "execution_count": null,
   "metadata": {},
   "outputs": [
    {
     "name": "stderr",
     "output_type": "stream",
     "text": [
      "                                                                                \r"
     ]
    }
   ],
   "source": [
    "cpu_req_vs_core = joined \\\n",
    "    .map(lambda x: (x[0][0],(x[2]/x[1],1))) \\\n",
    "    .reduceByKey(lambda x,y: (x[0]+y[0],x[1]+y[1])) \\\n",
    "    .map(lambda x: (x[0],x[1][0]/x[1][1]))\\\n",
    "    .sortByKey()\\\n",
    "    .collect()\n",
    "\n",
    "mem_req_vs_core = joined \\\n",
    "    .map(lambda x: (x[0][1],(x[3]/x[1],1))) \\\n",
    "    .reduceByKey(lambda x,y: (x[0]+y[0],x[1]+y[1])) \\\n",
    "    .map(lambda x: (x[0],x[1][0]/x[1][1]))\\\n",
    "    .sortByKey()\\\n",
    "    .collect()\n",
    "\n",
    "disk_req_vs_core = joined \\\n",
    "    .map(lambda x: (x[0][2],(x[4]/x[1],1))) \\\n",
    "    .reduceByKey(lambda x,y: (x[0]+y[0],x[1]+y[1])) \\\n",
    "    .map(lambda x: (x[0],x[1][0]/x[1][1]))\\\n",
    "    .sortByKey()\\\n",
    "    .collect()"
   ]
  },
  {
   "cell_type": "code",
   "execution_count": null,
   "metadata": {},
   "outputs": [
    {
     "data": {
      "image/png": "[encoded data removed]",
      "text/plain": [
       "<Figure size 640x480 with 1 Axes>"
      ]
     },
     "metadata": {},
     "output_type": "display_data"
    }
   ],
   "source": [
    "plt.scatter(*zip(*cpu_req_vs_core),s=S)\n",
    "plt.scatter(*zip(*mem_req_vs_core),s=S)\n",
    "plt.scatter(*zip(*disk_req_vs_core),s=S)\n",
    "#plt.xscale(\"log\")\n",
    "plt.show()"
   ]
  },
  {
   "cell_type": "code",
   "execution_count": null,
   "metadata": {},
   "outputs": [
    {
     "data": {
      "image/png": "[encoded data removed]",
      "text/plain": [
       "<Figure size 640x480 with 3 Axes>"
      ]
     },
     "metadata": {},
     "output_type": "display_data"
    }
   ],
   "source": [
    "rspl = plt.subplot(2, 2, 1)\n",
    "rspl.scatter(*zip(*cpu_req_vs_core),s=S)\n",
    "plt.yscale(\"log\")\n",
    "plt.xscale(\"log\")\n",
    "plt.title(\"CPU\")\n",
    "rspl = plt.subplot(2, 2, 2)\n",
    "rspl.scatter(*zip(*mem_req_vs_core),s=S)\n",
    "plt.yscale(\"log\")\n",
    "plt.xscale(\"log\")\n",
    "plt.title(\"memory\")\n",
    "rspl = plt.subplot(2, 2, 3)\n",
    "rspl.scatter(*zip(*disk_req_vs_core),s=S)\n",
    "plt.yscale(\"log\")\n",
    "plt.xscale(\"log\")\n",
    "plt.title(\"storage\")\n",
    "plt.show()"
   ]
  },
  {
   "attachments": {},
   "cell_type": "markdown",
   "metadata": {},
   "source": [
    "These plots shows that, in general, there are no trends regarding the CPU and Disk requests vs their real usage. However, we can clearly see that there is one for the memory."
   ]
  }
 ],
 "metadata": {
  "kernelspec": {
   "display_name": "5_SparkProject-Tuj_Du56",
   "language": "python",
   "name": "python3"
  },
  "language_info": {
   "codemirror_mode": {
    "name": "ipython",
    "version": 3
   },
   "file_extension": ".py",
   "mimetype": "text/x-python",
   "name": "python",
   "nbconvert_exporter": "python",
   "pygments_lexer": "ipython3",
   "version": "3.10.6"
  },
  "orig_nbformat": 4,
  "vscode": {
   "interpreter": {
    "hash": "f7ede0eb55671c30ba8a6f7c0b4ab1936479b84180dfb1e39512798d9c89e30c"
   }
  }
 },
 "nbformat": 4,
 "nbformat_minor": 2
}
