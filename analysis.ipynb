{
 "cells": [
  {
   "attachments": {},
   "cell_type": "markdown",
   "metadata": {},
   "source": [
    "# Analysing data with Spark\n",
    "\n",
    "A work by: Elliot Renel and Dorian Goepp."
   ]
  },
  {
   "attachments": {},
   "cell_type": "markdown",
   "metadata": {},
   "source": [
    "## Downloading the data\n",
    "\n",
    "Example command to download all the files for job events, running the downloads in parallel:\n",
    "\n",
    "```bash\n",
    "gsutil -m cp gs://clusterdata-2011-2/job_events/* ./job_events/\n",
    "```\n",
    "\n",
    "The parallelisation of the download is to take advantage of a high bandwidth internet connection. It would not help if the connection is slow.\n",
    "\n",
    "As these are compressed with gzip, we need to un-compress them. There is an [easy way](https://stackoverflow.com/questions/16038087/extract-and-delete-all-gz-in-a-directory-linux) to do it for all files at once:\n",
    "\n",
    "```bash\n",
    "gunzip *.gz\n",
    "```\n",
    "\n",
    "> **Note:** As an afterthought, it might have been helpful to load the data directly from gzip files, saving some disk space at the cost of an increased computational load when a file is loaded."
   ]
  },
  {
   "attachments": {},
   "cell_type": "markdown",
   "metadata": {},
   "source": [
    "## Parsing the schema file\n",
    "\n",
    "The data we are working with is stored in CSV files of different \"types\", akin to tables in a relational database. Google provided a schema file (`schema.csv`) representing the fields of these CSV types.\n",
    "\n",
    "To be able to make good use of the data, and to limit the risk of errors in selection of fields and handling of their format, we wrote a small python module to parse the schema file and help in loading and accessing the data in the CSV files."
   ]
  },
  {
   "cell_type": "code",
   "execution_count": 2,
   "metadata": {},
   "outputs": [],
   "source": [
    "# the Schema class of our utility module\n",
    "from src.schema import Schema\n",
    "# used to pretty-print tabular data\n",
    "from tabulate import tabulate"
   ]
  },
  {
   "attachments": {},
   "cell_type": "markdown",
   "metadata": {},
   "source": [
    "Our module is used through an instance of the Schema class, as we will see later. The initialiser takes the path to the schema file provided by Google."
   ]
  },
  {
   "cell_type": "code",
   "execution_count": 3,
   "metadata": {},
   "outputs": [],
   "source": [
    "schema = Schema(\"data/schema.csv\")"
   ]
  },
  {
   "attachments": {},
   "cell_type": "markdown",
   "metadata": {},
   "source": [
    "It is possible to print the object. This shows all the types of data in the data set. We commented the code block bellow as the output is quite verbose.\n",
    "\n",
    "Note the `formatter` field. It is a function which will parse the input data and convert it to an appropriate Python type, based on the value in the `format` field of the schema."
   ]
  },
  {
   "cell_type": "code",
   "execution_count": 4,
   "metadata": {},
   "outputs": [],
   "source": [
    "# print(schema)"
   ]
  },
  {
   "cell_type": "markdown",
   "metadata": {},
   "source": [
    "## Starting Spark"
   ]
  },
  {
   "attachments": {},
   "cell_type": "markdown",
   "metadata": {},
   "source": [
    "We use Spark locally, using all available cores."
   ]
  },
  {
   "cell_type": "code",
   "execution_count": 5,
   "metadata": {},
   "outputs": [
    {
     "name": "stderr",
     "output_type": "stream",
     "text": [
      "Setting default log level to \"WARN\".\n",
      "To adjust logging level use sc.setLogLevel(newLevel). For SparkR, use setLogLevel(newLevel).\n"
     ]
    },
    {
     "name": "stdout",
     "output_type": "stream",
     "text": [
      "23/01/15 17:55:13 WARN NativeCodeLoader: Unable to load native-hadoop library for your platform... using builtin-java classes where applicable\n",
      "23/01/15 17:55:14 WARN Utils: Service 'SparkUI' could not bind on port 4040. Attempting port 4041.\n"
     ]
    }
   ],
   "source": [
    "from pyspark import SparkContext\n",
    "\n",
    "# start spark with as many worker threads as available on the machine\n",
    "sc = SparkContext(\"local[*]\")\n",
    "sc.setLogLevel(\"ERROR\")"
   ]
  },
  {
   "attachments": {},
   "cell_type": "markdown",
   "metadata": {},
   "source": [
    "## Analysis on machine events (Q1 & Q2)\n",
    "\n",
    "The machine events files describe events that occurred to the machines in the cluster, as well as their specifications (mostly in the initial events).\n",
    "\n",
    "First, let us see the schema of this file's data:"
   ]
  },
  {
   "cell_type": "code",
   "execution_count": 6,
   "metadata": {},
   "outputs": [
    {
     "name": "stdout",
     "output_type": "stream",
     "text": [
      "  field number  content      format       mandatory\n",
      "--------------  -----------  -----------  -----------\n",
      "             0  time         INTEGER      True\n",
      "             1  machine ID   INTEGER      True\n",
      "             2  event type   INTEGER      True\n",
      "             3  platform ID  STRING_HASH  False\n",
      "             4  CPUs         FLOAT        False\n",
      "             5  Memory       FLOAT        False\n"
     ]
    }
   ],
   "source": [
    "print(\n",
    "    tabulate(\n",
    "        schema.get_table_fields(\n",
    "            'machine_events', include_formatters=False), headers='keys'))\n"
   ]
  },
  {
   "attachments": {},
   "cell_type": "markdown",
   "metadata": {},
   "source": [
    "Let us now load the data in a Spark RDD. The `load_rdd` method from Schema does this for us. We give it the name of a table, and it fetches the related CSV files (if any) from the eponym folder in `data/`, here `data/machine_events`."
   ]
  },
  {
   "cell_type": "code",
   "execution_count": 7,
   "metadata": {},
   "outputs": [],
   "source": [
    "machine_events = schema.load_rdd(sc, 'machine_events')"
   ]
  },
  {
   "attachments": {},
   "cell_type": "markdown",
   "metadata": {},
   "source": [
    "A small sample of the data, to have an idea of how it looks:"
   ]
  },
  {
   "cell_type": "code",
   "execution_count": 8,
   "metadata": {},
   "outputs": [
    {
     "name": "stdout",
     "output_type": "stream",
     "text": [
      "  time    machine ID    event type  platform ID        CPUs    Memory\n",
      "------  ------------  ------------  ---------------  ------  --------\n",
      "     0             5             0  HofLGzk1Or/8Ild     0.5    0.2493\n",
      "                                    j2+Lqv0UGGvY82N\n",
      "                                    Loni8+J/Yy0RU=\n",
      "     0             6             0  HofLGzk1Or/8Ild     0.5    0.2493\n",
      "                                    j2+Lqv0UGGvY82N\n",
      "                                    Loni8+J/Yy0RU=\n",
      "     0             7             0  HofLGzk1Or/8Ild     0.5    0.2493\n",
      "                                    j2+Lqv0UGGvY82N\n",
      "                                    Loni8+J/Yy0RU=\n",
      "     0            10             0  HofLGzk1Or/8Ild     0.5    0.2493\n",
      "                                    j2+Lqv0UGGvY82N\n",
      "                                    Loni8+J/Yy0RU=\n",
      "     0            13             0  HofLGzk1Or/8Ild     0.5    0.2493\n",
      "                                    j2+Lqv0UGGvY82N\n",
      "                                    Loni8+J/Yy0RU=\n"
     ]
    },
    {
     "name": "stderr",
     "output_type": "stream",
     "text": [
      "                                                                                \r"
     ]
    }
   ],
   "source": [
    "print(tabulate(\n",
    "\tmachine_events.take(5),\n",
    "\theaders=schema.get_table_field_names('machine_events'),\n",
    "\tmaxcolwidths = [None, None, None, 15, None, None]))"
   ]
  },
  {
   "attachments": {},
   "cell_type": "markdown",
   "metadata": {},
   "source": [
    "The following will be used later to access fields of the data by their name instead of their index."
   ]
  },
  {
   "cell_type": "code",
   "execution_count": 9,
   "metadata": {},
   "outputs": [],
   "source": [
    "machine_events_get = schema.field_getters('machine_events')"
   ]
  },
  {
   "attachments": {},
   "cell_type": "markdown",
   "metadata": {},
   "source": [
    "### Distribution of CPU capacity (Q1)\n",
    "\n",
    "We are looking for the distribution of machines according to their CPU capacity.\n",
    "\n",
    "For this analysis, we only account for the machine creation events, and keep the latest such event for any given machine. The intent is to avoid registering any machine's CPU more than once, should it have been offline for some time.\n",
    "\n",
    "Keeping the latest creation event is arbitrary, but considers that it is highly unlikely for a machine's CPU to be changed over time.\n",
    "\n",
    "The first three operations on `machine_events` concern the extraction of machine creation events and the selection of one single creation event for any given machine.\n",
    "\n",
    "The following three operations sums the numbers of machines with any given CPU capacity. We use the same method we were introduced to for words counting during the classes.\n",
    "\n",
    "Distribution of machine capacity based on their CPU power (normalised):"
   ]
  },
  {
   "cell_type": "code",
   "execution_count": 10,
   "metadata": {},
   "outputs": [
    {
     "name": "stdout",
     "output_type": "stream",
     "text": [
      "123 machines have CPU 0.25\n",
      "11636 machines have CPU 0.5\n",
      "796 machines have CPU 1.0\n"
     ]
    }
   ],
   "source": [
    "from operator import add\n",
    "\n",
    "cpu = machine_events_get['CPUs']\n",
    "event_type = machine_events_get['event type']\n",
    "machine_id = machine_events_get['machine ID']\n",
    "time = machine_events_get['time']\n",
    "\n",
    "cpu_usage = machine_events \\\n",
    "    .filter(lambda event: event_type(event) == 0 and cpu(event) is not None) \\\n",
    "    .map(lambda event: (machine_id(event),event)) \\\n",
    "    .reduceByKey(lambda r1,r2: r1 if time(r1)>time(r2) else r2) \\\n",
    "    .map(lambda row: (cpu(row[1]), 1)) \\\n",
    "    .reduceByKey(add) \\\n",
    "    .sortBy(lambda x: x[0])\n",
    "\n",
    "for usage,nb in cpu_usage.collect():\n",
    "    print(f\"{nb} machines have CPU {usage}\")\n"
   ]
  },
  {
   "attachments": {},
   "cell_type": "markdown",
   "metadata": {},
   "source": [
    "Here is a plot of the same data:"
   ]
  },
  {
   "cell_type": "code",
   "execution_count": 11,
   "metadata": {},
   "outputs": [
    {
     "data": {
      "image/png": "[encoded data removed]",
      "text/plain": [
       "<Figure size 640x480 with 1 Axes>"
      ]
     },
     "metadata": {},
     "output_type": "display_data"
    }
   ],
   "source": [
    "import matplotlib.pyplot as plt\n",
    "\n",
    "fig = plt.figure()\n",
    "ax = fig.add_axes([0,0,1,1])\n",
    "legend = cpu_usage.map(lambda x: str(x[0]) if x[0] is not None else 'None').collect()\n",
    "count = cpu_usage.sortByKey().map(lambda x: x[1]).collect()\n",
    "ax.bar(legend,count)\n",
    "\n",
    "plt.xlabel(\"CPU capacity\")\n",
    "plt.ylabel(\"Number of machines (log scale)\")\n",
    "plt.title(\"Distribution of CPU capacity\")\n",
    "\n",
    "plt.yscale(\"log\")\n",
    "plt.show()"
   ]
  },
  {
   "attachments": {},
   "cell_type": "markdown",
   "metadata": {},
   "source": [
    "Please mind the y scale which is logarithmic, to better see the lesser frequent CPU capacities.\n",
    "\n",
    "We observe that a vast majority of machines have half the maximum available CPU power. Less than ten times less machines have the full computational power and even less have a quarter of the maximal power."
   ]
  },
  {
   "attachments": {},
   "cell_type": "markdown",
   "metadata": {},
   "source": [
    "### Lost Computational Power due to maintenance (Q2)"
   ]
  },
  {
   "cell_type": "code",
   "execution_count": 12,
   "metadata": {},
   "outputs": [
    {
     "name": "stdout",
     "output_type": "stream",
     "text": [
      "  time    machine ID    event type  platform ID        CPUs    Memory\n",
      "------  ------------  ------------  ---------------  ------  --------\n",
      "     0             6             0  HofLGzk1Or/8Ild     0.5    0.2493\n",
      "                                    j2+Lqv0UGGvY82N\n",
      "                                    Loni8+J/Yy0RU=\n",
      "\n",
      "\n",
      "         time    machine ID    event type  platform ID        CPUs    Memory\n",
      "-------------  ------------  ------------  ---------------  ------  --------\n",
      "            0            10             0  HofLGzk1Or/8Ild     0.5    0.2493\n",
      "                                           j2+Lqv0UGGvY82N\n",
      "                                           Loni8+J/Yy0RU=\n",
      "1306164355566            10             1  HofLGzk1Or/8Ild     0.5    0.2493\n",
      "                                           j2+Lqv0UGGvY82N\n",
      "                                           Loni8+J/Yy0RU=\n",
      "1307163081914            10             0  HofLGzk1Or/8Ild     0.5    0.2493\n",
      "                                           j2+Lqv0UGGvY82N\n",
      "                                           Loni8+J/Yy0RU=\n",
      "\n",
      "\n",
      "  time    machine ID    event type  platform ID        CPUs    Memory\n",
      "------  ------------  ------------  ---------------  ------  --------\n",
      "     0            14             0  HofLGzk1Or/8Ild     0.5    0.2493\n",
      "                                    j2+Lqv0UGGvY82N\n",
      "                                    Loni8+J/Yy0RU=\n",
      "\n",
      "\n"
     ]
    }
   ],
   "source": [
    "machines_history = machine_events \\\n",
    "    .map(lambda row: (machine_id(row),row)) \\\n",
    "    .aggregateByKey(None,lambda acc, e: acc+[e] if acc is not None else [e],add) \\\n",
    "    .map(lambda machine: machine[1])\n",
    "\n",
    "for a_story in machines_history.take(3):\n",
    "    print(tabulate(\n",
    "        a_story,\n",
    "        headers=schema.get_table_field_names('machine_events'),\n",
    "        maxcolwidths = [None, None, None, 15, None, None]))\n",
    "    print('\\n')"
   ]
  },
  {
   "cell_type": "code",
   "execution_count": 13,
   "metadata": {},
   "outputs": [
    {
     "data": {
      "text/plain": [
       "0"
      ]
     },
     "execution_count": 13,
     "metadata": {},
     "output_type": "execute_result"
    }
   ],
   "source": [
    "machines_history.filter(lambda m: sorted(m)).count() - machines_history.count()"
   ]
  },
  {
   "cell_type": "markdown",
   "metadata": {},
   "source": [
    "The trace period starts at 600 seconds (aka $6 \\times 10^{8}$ microseconds), to obtain the total trace time, we find the latest event time and subtracted $6 \\times 10^{8}$ to it."
   ]
  },
  {
   "cell_type": "code",
   "execution_count": 14,
   "metadata": {},
   "outputs": [
    {
     "name": "stdout",
     "output_type": "stream",
     "text": [
      "The total trace time is 2505535493517 µs ≈ 696 hours ≈ 29 days\n"
     ]
    }
   ],
   "source": [
    "from math import ceil\n",
    "\n",
    "total_trace_time = time(machine_events.max(lambda row: time(row))) - 6*10**8\n",
    "\n",
    "print(f'The total trace time is {total_trace_time} µs ≈ {ceil(total_trace_time/(10**6 * 3600))} hours ≈ {ceil(total_trace_time/(10**6 * 3600 * 24))} days')"
   ]
  },
  {
   "cell_type": "markdown",
   "metadata": {},
   "source": [
    "Once we have this number, computing the total computation power of a given machine is a matter of subtracting the starting time of the machine and multiplying by the CPU capacity. We assume here that the CPU capacity of a machine never changes, and we remove the machines that have some cpu values at None to prevent weird events."
   ]
  },
  {
   "cell_type": "code",
   "execution_count": 15,
   "metadata": {},
   "outputs": [
    {
     "name": "stdout",
     "output_type": "stream",
     "text": [
      "There are 32 machines with None values in their CPUs. They will not be evaluated.\n",
      "During the trace time, around 0.4798% of the computational power was lost.\n",
      "The exact percentage obtained is 0.4798129882918588% !\n"
     ]
    }
   ],
   "source": [
    "def lost_and_total_power(events):\n",
    "    # Functions and Variables\n",
    "    status = machine_events_get['event type']\n",
    "    time = machine_events_get['time']\n",
    "    start = time(events[0])\n",
    "    cpu = machine_events_get['CPUs'](events[0])\n",
    "\n",
    "    # Lost time\n",
    "    lost_time = 0\n",
    "    for i,m in enumerate(events):\n",
    "        if i==0:\n",
    "            continue\n",
    "        if status(m)==0 and status(events[i-1])==1:\n",
    "            lost_time += time(m) - time(events[i-1])\n",
    "        \n",
    "    # Total time\n",
    "    total_time = total_trace_time if (start < 6*10**8) else (total_trace_time - start + 6*10**8)\n",
    "\n",
    "    # Resulting power\n",
    "    return (lost_time*cpu,total_time*cpu)\n",
    "\n",
    "def has_none_cpu(events):\n",
    "    cpu = machine_events_get['CPUs']\n",
    "    for m in events:\n",
    "        if cpu(m) is None:\n",
    "            return True\n",
    "    return False\n",
    "\n",
    "print(f'There are {machines_history.filter(has_none_cpu).count()} machines with None values in their CPUs. They will not be evaluated.')\n",
    "\n",
    "power_lost_and_total = machines_history \\\n",
    "    .filter(lambda m: not has_none_cpu(m)) \\\n",
    "    .map(lost_and_total_power) \\\n",
    "    .reduce(lambda p1,p2: (p1[0]+p2[0],p1[1]+p2[1]))\n",
    "\n",
    "print(f'During the trace time, around {(power_lost_and_total[0]/power_lost_and_total[1])*100:.4f}% of the computational power was lost.\\\n",
    "\\nThe exact percentage obtained is {(power_lost_and_total[0]/power_lost_and_total[1])*100}% !')\n"
   ]
  },
  {
   "attachments": {},
   "cell_type": "markdown",
   "metadata": {},
   "source": [
    "## Distribution of jobs and tasks per scheduling class (Q3)\n",
    "\n",
    "We will evaluate the distribution over **submitted** tasks and jobs. It also implies that we do not consider the distribution _over time_ but only within the _set_ of all submitted tasks and jobs.\n",
    "\n",
    "We could also consider the evolution of the scheduling class through time, looking at the event types UPDATE_PENDING and UPDATE_RUNNING. This is a different perspective where time is a key component."
   ]
  },
  {
   "cell_type": "markdown",
   "metadata": {},
   "source": [
    "### Studying jobs"
   ]
  },
  {
   "cell_type": "markdown",
   "metadata": {},
   "source": [
    "We start our analysis with jobs. They should be fewer, as there can be many tasks per job, but one job per task.\n",
    "\n",
    "Before all, the schema for the tables we will use:"
   ]
  },
  {
   "cell_type": "code",
   "execution_count": 16,
   "metadata": {},
   "outputs": [
    {
     "name": "stdout",
     "output_type": "stream",
     "text": [
      "  field number  content           format       mandatory    formatter\n",
      "--------------  ----------------  -----------  -----------  --------------------------------------\n",
      "             0  time              INTEGER      True         <function\n",
      "                                                            parse_schema_line.<locals>.<lambda> at\n",
      "                                                            0x7f5b046c79a0>\n",
      "             1  missing info      INTEGER      False        <function\n",
      "                                                            parse_schema_line.<locals>.<lambda> at\n",
      "                                                            0x7f5b005ae680>\n",
      "             2  job ID            INTEGER      True         <function\n",
      "                                                            parse_schema_line.<locals>.<lambda> at\n",
      "                                                            0x7f5b005ae710>\n",
      "             3  event type        INTEGER      True         <function\n",
      "                                                            parse_schema_line.<locals>.<lambda> at\n",
      "                                                            0x7f5b005ae7a0>\n",
      "             4  user              STRING_HASH  False        <function\n",
      "                                                            parse_schema_line.<locals>.<lambda> at\n",
      "                                                            0x7f5b0472d630>\n",
      "             5  scheduling class  INTEGER      False        <function\n",
      "                                                            parse_schema_line.<locals>.<lambda> at\n",
      "                                                            0x7f5b005ae0e0>\n",
      "             6  job name          STRING_HASH  False        <function\n",
      "                                                            parse_schema_line.<locals>.<lambda> at\n",
      "                                                            0x7f5b005ae950>\n",
      "             7  logical job name  STRING_HASH  False        <function\n",
      "                                                            parse_schema_line.<locals>.<lambda> at\n",
      "                                                            0x7f5b005ae9e0>\n"
     ]
    }
   ],
   "source": [
    "print(tabulate(schema.get_table_schema('job_events')['fields'], headers='keys', maxcolwidths=40))"
   ]
  },
  {
   "cell_type": "markdown",
   "metadata": {},
   "source": [
    "First step, gather the events based on the task or job they refer to. We expect such lists of events to be small enough to be handled in regular python lists."
   ]
  },
  {
   "cell_type": "code",
   "execution_count": 17,
   "metadata": {},
   "outputs": [
    {
     "name": "stdout",
     "output_type": "stream",
     "text": [
      "-------------    ----------  -  --------------------------------------------  -  --------------------------------------------  --------------------------------------------\n",
      "1909868492595    6428560827  1  mbrS6V2tRbksMPO0y8EI9B9XT2ASaPRTNndslCGN/2A=  1  tur2a3qtIIAnEmscQ9ezBuVjYMYLljG6lq82AtxQQoc=  R4IlJBrXJrMe97DPfoV0yvynagxCV2ZeEOoLsQXJjdY=\n",
      "1909871210758    6428532659  0  0LDWGmHtacCZ9lRhf84At4JNXg9NC0MXWExqxgC12M0=  2  /Mp0R7dBC/iOhCzzqDFfvze5GnMI3SV178LXrBXIzOg=  Z2U5C2yAoFJch4xM2GyffUmIrXNEEyskkwamgREq4/I=\n",
      "1909872325546    6428531614  4  F2+Gv53Pxd4KDRb/UsGECThH/XUOpcWKElUXJkhkt1c=  0  4m7As6A4qnk1L6sLqKjDi5wPRTDuMYAMkRH+JtWXQXs=  j25eTfDZ4FFHzd7p+VKe13tP4+iQbKkHk9VI0SBK/nE=\n",
      "1909873285332    6428532659  1  0LDWGmHtacCZ9lRhf84At4JNXg9NC0MXWExqxgC12M0=  2  /Mp0R7dBC/iOhCzzqDFfvze5GnMI3SV178LXrBXIzOg=  Z2U5C2yAoFJch4xM2GyffUmIrXNEEyskkwamgREq4/I=\n",
      "1909873285336    6428540144  0  0LDWGmHtacCZ9lRhf84At4JNXg9NC0MXWExqxgC12M0=  0  yjXYiJwmUAZ6ukIccIJdJ+4CMMU+rPI/f9zhnJfDPbY=  fEfZo0mZ954hSAUufSSk94qZMq+wgTlNEbUTQ6t97Hg=\n",
      "1909873285337    6428540426  0  0LDWGmHtacCZ9lRhf84At4JNXg9NC0MXWExqxgC12M0=  2  IpmqCNnnqEffynjYzZr8MBBYvu2BnBcp/IDsqgh+VSQ=  C8M7m+W0YaJPpePXQlLaTZuqQXROmynJ0MTQd9oC9Ig=\n",
      "1909874175164    6428540144  1  0LDWGmHtacCZ9lRhf84At4JNXg9NC0MXWExqxgC12M0=  0  yjXYiJwmUAZ6ukIccIJdJ+4CMMU+rPI/f9zhnJfDPbY=  fEfZo0mZ954hSAUufSSk94qZMq+wgTlNEbUTQ6t97Hg=\n",
      "1909874182112    6428540426  1  0LDWGmHtacCZ9lRhf84At4JNXg9NC0MXWExqxgC12M0=  2  IpmqCNnnqEffynjYzZr8MBBYvu2BnBcp/IDsqgh+VSQ=  C8M7m+W0YaJPpePXQlLaTZuqQXROmynJ0MTQd9oC9Ig=\n",
      "1909874372130    6428529021  4  fJeARInTaIjFrdXGqxap6x2T3TpJB84y9zvFsoGGhjk=  1  m18OGW0BcVRokaBn0JgK9PbISLr0R8qPzEyDGSm8J3c=  YWqKdvnUOE5McnnBz/heKxQfl/XHyGWawXjzloPw0ss=\n",
      "1909876553100    6428529405  4  fJeARInTaIjFrdXGqxap6x2T3TpJB84y9zvFsoGGhjk=  1  bavLpxwkdHkdIqB0RVPdN/zTmweMErE6L74w1B0Zi9E=  GZYU+WA6XUrBkN60tqHfMbjddiYcsw65ArZIfDOjsVw=\n",
      "-------------    ----------  -  --------------------------------------------  -  --------------------------------------------  --------------------------------------------\n"
     ]
    }
   ],
   "source": [
    "job_events = schema.load_rdd(sc,'job_events')\n",
    "job_events.persist()\n",
    "\n",
    "job_events_get = schema.field_getters('job_events')\n",
    "\n",
    "print(tabulate(job_events.take(10)))"
   ]
  },
  {
   "cell_type": "code",
   "execution_count": 18,
   "metadata": {},
   "outputs": [
    {
     "name": "stderr",
     "output_type": "stream",
     "text": [
      "[Stage 40:=====================================================>(494 + 6) / 500]\r"
     ]
    },
    {
     "name": "stdout",
     "output_type": "stream",
     "text": [
      "There is an estimated 2012241 number of job events\n"
     ]
    }
   ],
   "source": [
    "print(f\"There is an estimated {job_events.countApprox(10)} number of job events\")"
   ]
  },
  {
   "attachments": {},
   "cell_type": "markdown",
   "metadata": {},
   "source": [
    "On Dorian's machine, the computation above took 1m 46s (with other running jobs such as browser and synchronisation service)."
   ]
  },
  {
   "cell_type": "markdown",
   "metadata": {},
   "source": [
    "We are interested in the job submission event, which is when they are assigned their (initial) scheduling class."
   ]
  },
  {
   "cell_type": "code",
   "execution_count": 19,
   "metadata": {},
   "outputs": [],
   "source": [
    "# event type 0 = SUBMIT\n",
    "scheduling_events = job_events \\\n",
    "    .filter(lambda job_event: job_events_get['event type'](job_event) == 0)"
   ]
  },
  {
   "cell_type": "markdown",
   "metadata": {},
   "source": [
    "The documentation says that it is possible for a job to be submitted more than once, when it has evicted, failed or been killed but still is runnable (up to a maximal number of trials).\n",
    "\n",
    "Do we have any such situation ?"
   ]
  },
  {
   "cell_type": "code",
   "execution_count": 20,
   "metadata": {},
   "outputs": [
    {
     "name": "stderr",
     "output_type": "stream",
     "text": [
      "[Stage 42:=================================================>   (464 + 12) / 500]\r"
     ]
    },
    {
     "name": "stdout",
     "output_type": "stream",
     "text": [
      "1 jobs have more than one scheduling class.\n"
     ]
    },
    {
     "name": "stderr",
     "output_type": "stream",
     "text": [
      "                                                                                \r"
     ]
    }
   ],
   "source": [
    "jobs_with_several_scheduling_classes = scheduling_events \\\n",
    "    .map(lambda job_event: (job_events_get['job ID'](job_event), \n",
    "                            [job_events_get['scheduling class'](job_event)])) \\\n",
    "    .reduceByKey(lambda event1, event2: event1 + event2) \\\n",
    "    .filter(lambda x: len(x[1]) > 1) \\\n",
    "    .count()\n",
    "\n",
    "print(f'{jobs_with_several_scheduling_classes} jobs have more than one scheduling class.')"
   ]
  },
  {
   "attachments": {},
   "cell_type": "markdown",
   "metadata": {},
   "source": [
    "No.\n",
    "\n",
    "Let us then proceed with gathering the scheduling classes."
   ]
  },
  {
   "cell_type": "code",
   "execution_count": 21,
   "metadata": {},
   "outputs": [
    {
     "name": "stderr",
     "output_type": "stream",
     "text": [
      "[Stage 44:=====================================================>(492 + 8) / 500]\r"
     ]
    },
    {
     "name": "stdout",
     "output_type": "stream",
     "text": [
      "(0, 257276)\n",
      "(1, 215109)\n",
      "(2, 194513)\n",
      "(3, 5177)\n"
     ]
    },
    {
     "name": "stderr",
     "output_type": "stream",
     "text": [
      "                                                                                \r"
     ]
    }
   ],
   "source": [
    "job_scheduling_classes = scheduling_events \\\n",
    "    .map(lambda event: (job_events_get['scheduling class'](event), 1)) \\\n",
    "    .reduceByKey(add) \\\n",
    "    .collect()\n",
    "\n",
    "for scheduling_class in job_scheduling_classes:\n",
    "    print(scheduling_class)"
   ]
  },
  {
   "cell_type": "code",
   "execution_count": 22,
   "metadata": {},
   "outputs": [
    {
     "data": {
      "image/png": "[encoded data removed]",
      "text/plain": [
       "<Figure size 640x480 with 1 Axes>"
      ]
     },
     "metadata": {},
     "output_type": "display_data"
    }
   ],
   "source": [
    "def bar_plot_question3(scheduling_classes, title):\n",
    "    # TODO : make this into a proper function and put it in another file (plot.py ?)\n",
    "    fig = plt.figure()\n",
    "    ax = fig.add_axes([0,0,1,1])\n",
    "    scheduling_class = list(map(lambda x: x[0], scheduling_classes))\n",
    "    count = list(map(lambda x: x[1], scheduling_classes))\n",
    "    ax.bar(scheduling_class,count)\n",
    "    plt.xlabel(\"Scheduling classes\")\n",
    "    plt.ylabel(\"Number of jobs\")\n",
    "    plt.xticks(scheduling_class)\n",
    "    plt.title(title)\n",
    "    plt.show()\n",
    "\n",
    "bar_plot_question3(job_scheduling_classes, \"Distribution of scheduling classes for all submitted jobs\")"
   ]
  },
  {
   "cell_type": "markdown",
   "metadata": {},
   "source": [
    "### Repeating the analysis for tasks\n",
    "\n",
    "Let us now do the same analysis for all tasks, irrespective of which job they belong to.\n",
    "\n",
    "Starting with the schema of the tasks events table"
   ]
  },
  {
   "cell_type": "code",
   "execution_count": 23,
   "metadata": {},
   "outputs": [
    {
     "name": "stdout",
     "output_type": "stream",
     "text": [
      "  field number  content             format       mandatory    formatter\n",
      "--------------  ------------------  -----------  -----------  --------------------------------------\n",
      "             0  time                INTEGER      True         <function\n",
      "                                                              parse_schema_line.<locals>.<lambda> at\n",
      "                                                              0x7f5b005ae830>\n",
      "             1  missing info        INTEGER      False        <function\n",
      "                                                              parse_schema_line.<locals>.<lambda> at\n",
      "                                                              0x7f5b005ae8c0>\n",
      "             2  job ID              INTEGER      True         <function\n",
      "                                                              parse_schema_line.<locals>.<lambda> at\n",
      "                                                              0x7f5b005aea70>\n",
      "             3  task index          INTEGER      True         <function\n",
      "                                                              parse_schema_line.<locals>.<lambda> at\n",
      "                                                              0x7f5b005aeb00>\n",
      "             4  machine ID          INTEGER      False        <function\n",
      "                                                              parse_schema_line.<locals>.<lambda> at\n",
      "                                                              0x7f5b005aeb90>\n",
      "             5  event type          INTEGER      True         <function\n",
      "                                                              parse_schema_line.<locals>.<lambda> at\n",
      "                                                              0x7f5b005aec20>\n",
      "             6  user                STRING_HASH  False        <function\n",
      "                                                              parse_schema_line.<locals>.<lambda> at\n",
      "                                                              0x7f5b005aedd0>\n",
      "             7  scheduling class    INTEGER      False        <function\n",
      "                                                              parse_schema_line.<locals>.<lambda> at\n",
      "                                                              0x7f5b005aed40>\n",
      "             8  priority            INTEGER      True         <function\n",
      "                                                              parse_schema_line.<locals>.<lambda> at\n",
      "                                                              0x7f5b005aecb0>\n",
      "             9  CPU request         FLOAT        False        <function\n",
      "                                                              parse_schema_line.<locals>.<lambda> at\n",
      "                                                              0x7f5b005aeef0>\n",
      "            10  memory request      FLOAT        False        <function\n",
      "                                                              parse_schema_line.<locals>.<lambda> at\n",
      "                                                              0x7f5b005aef80>\n",
      "            11  disk space request  FLOAT        False        <function\n",
      "                                                              parse_schema_line.<locals>.<lambda> at\n",
      "                                                              0x7f5b005af010>\n",
      "            12  different machines  BOOLEAN      False        <function\n",
      "                restriction                                   parse_schema_line.<locals>.<lambda> at\n",
      "                                                              0x7f5b005af1c0>\n"
     ]
    }
   ],
   "source": [
    "task_events_get = schema.field_getters('task_events')\n",
    "\n",
    "print(tabulate(\n",
    "    schema.get_table_schema('task_events')['fields'], \n",
    "    headers='keys',\n",
    "    maxcolwidths=[None, 20, None, None, 40]))"
   ]
  },
  {
   "cell_type": "markdown",
   "metadata": {},
   "source": [
    "Then, we load the data and filter for submission events."
   ]
  },
  {
   "cell_type": "code",
   "execution_count": 24,
   "metadata": {},
   "outputs": [
    {
     "name": "stderr",
     "output_type": "stream",
     "text": [
      "[Stage 45:>                                                         (0 + 1) / 1]\r"
     ]
    },
    {
     "name": "stdout",
     "output_type": "stream",
     "text": [
      "[125880666625, None, 515042969, 17, None, 0, '/fk1fVcVxZ6iM6gHZzqbIyq56m5zrmHfpdcZ/zzkq4c=', 2, 0, 0.01562, 0.01553, 0.0002155, False]\n",
      "[125880666637, None, 515042969, 19, None, 0, '/fk1fVcVxZ6iM6gHZzqbIyq56m5zrmHfpdcZ/zzkq4c=', 2, 0, 0.01562, 0.01553, 0.0002155, False]\n",
      "[125881649347, None, 6238340468, 622, None, 0, '1wRYrkVgrhQf/fNZQV2VHyG306siaFFyZMEM1r1cW2E=', 1, 0, 0.0625, 0.03961, 3.815e-05, False]\n",
      "[125881676818, None, 6238340468, 249, None, 0, '1wRYrkVgrhQf/fNZQV2VHyG306siaFFyZMEM1r1cW2E=', 1, 0, 0.0625, 0.03961, 3.815e-05, False]\n",
      "[125881676828, None, 6238340468, 2363, None, 0, '1wRYrkVgrhQf/fNZQV2VHyG306siaFFyZMEM1r1cW2E=', 1, 0, 0.0625, 0.03961, 3.815e-05, False]\n"
     ]
    },
    {
     "name": "stderr",
     "output_type": "stream",
     "text": [
      "                                                                                \r"
     ]
    }
   ],
   "source": [
    "task_events = schema.load_rdd(sc,'task_events').persist()\n",
    "\n",
    "task_submit_events = task_events.filter(\n",
    "    lambda task_event: task_events_get['event type'](task_event) == 0)\n",
    "\n",
    "# task_headers = map(lambda field: field['content'], task_events_schema['fields'])\n",
    "# print(tabulate(task_submit_events.take(5), headers=task_headers))\n",
    "for task_event in task_submit_events.take(5):\n",
    "    print(task_event)"
   ]
  },
  {
   "cell_type": "code",
   "execution_count": 25,
   "metadata": {},
   "outputs": [
    {
     "name": "stderr",
     "output_type": "stream",
     "text": [
      "[Stage 47:=========================================>             (69 + 12) / 91]\r"
     ]
    },
    {
     "name": "stdout",
     "output_type": "stream",
     "text": [
      "0 tasks have more than one scheduling class.\n"
     ]
    },
    {
     "name": "stderr",
     "output_type": "stream",
     "text": [
      "                                                                                \r"
     ]
    }
   ],
   "source": [
    "tasks_with_several_scheduling_classes = task_submit_events \\\n",
    "    .map(lambda event: ((task_events_get['job ID'](event), task_events_get['task index'](event)), \n",
    "                        {task_events_get['scheduling class'](event)})) \\\n",
    "    .reduceByKey(lambda event1, event2: event1 | event2) \\\n",
    "    .filter(lambda x: len(x[1]) > 1)\n",
    "\n",
    "print(f'{tasks_with_several_scheduling_classes.count()} tasks have more than one scheduling class.')"
   ]
  },
  {
   "cell_type": "markdown",
   "metadata": {},
   "source": [
    "From this, we conclude that, as with jobs, no task has ever seen its scheduling class changed after being resubmitted (due to eviction, failure, kill)."
   ]
  },
  {
   "cell_type": "code",
   "execution_count": 26,
   "metadata": {},
   "outputs": [
    {
     "name": "stderr",
     "output_type": "stream",
     "text": [
      "[Stage 48:=======================================================>(90 + 1) / 91]\r"
     ]
    },
    {
     "name": "stdout",
     "output_type": "stream",
     "text": [
      "(0, 5633188)\n",
      "(1, 1218508)\n",
      "(2, 358848)\n",
      "(3, 51384)\n"
     ]
    },
    {
     "name": "stderr",
     "output_type": "stream",
     "text": [
      "                                                                                \r"
     ]
    }
   ],
   "source": [
    "task_scheduling_classes = task_submit_events \\\n",
    "    .map(lambda event: (task_events_get['scheduling class'](event), 1)) \\\n",
    "    .reduceByKey(add) \\\n",
    "    .collect()\n",
    "\n",
    "for scheduling_class in task_scheduling_classes:\n",
    "    print(scheduling_class)"
   ]
  },
  {
   "cell_type": "code",
   "execution_count": 27,
   "metadata": {},
   "outputs": [
    {
     "data": {
      "image/png": "[encoded data removed]",
      "text/plain": [
       "<Figure size 640x480 with 1 Axes>"
      ]
     },
     "metadata": {},
     "output_type": "display_data"
    }
   ],
   "source": [
    "bar_plot_question3(task_scheduling_classes, \"Distribution of scheduling classes for all submitted tasks\")"
   ]
  },
  {
   "attachments": {},
   "cell_type": "markdown",
   "metadata": {},
   "source": [
    "## Relation between scheduling class and eviction of tasks (Q4)"
   ]
  },
  {
   "cell_type": "code",
   "execution_count": 28,
   "metadata": {},
   "outputs": [
    {
     "name": "stderr",
     "output_type": "stream",
     "text": [
      "[Stage 55:====================================================>   (85 + 6) / 91]\r"
     ]
    },
    {
     "name": "stdout",
     "output_type": "stream",
     "text": [
      "(0, 740876)\n",
      "(1, 232409)\n",
      "(2, 90950)\n",
      "(3, 8590)\n"
     ]
    },
    {
     "name": "stderr",
     "output_type": "stream",
     "text": [
      "                                                                                \r"
     ]
    }
   ],
   "source": [
    "scheduling_eviction_relations = task_events \\\n",
    "    .filter(lambda event: task_events_get['event type'](event) == 2) \\\n",
    "    .map(lambda event: (task_events_get['scheduling class'](event), 1)) \\\n",
    "    .reduceByKey(add) \\\n",
    "    .sortBy(lambda x: x[0])\n",
    "\n",
    "for relations in scheduling_eviction_relations.collect():\n",
    "    print(relations)"
   ]
  },
  {
   "cell_type": "markdown",
   "metadata": {},
   "source": [
    "Tasks with lower scheduling class were evicted much more than those with higher scheduling class. Note that we chose to keep all eviction events, even when a single task is evicted several times.\n",
    "\n",
    "It matches the idea that latency-sensitive tasks, represented with higher scheduling classes, need to be interrupted (namely evicted) as little as possible, so that they can be completed soon."
   ]
  },
  {
   "attachments": {},
   "cell_type": "markdown",
   "metadata": {},
   "source": [
    "## Same Job -> Same machine ? (Q5)\n",
    "\n",
    "We here take into account every task with the same job, and for each index we determine the number of machine used."
   ]
  },
  {
   "cell_type": "code",
   "execution_count": 29,
   "metadata": {},
   "outputs": [
    {
     "name": "stderr",
     "output_type": "stream",
     "text": [
      "                                                                                \r"
     ]
    },
    {
     "name": "stdout",
     "output_type": "stream",
     "text": [
      "2169714 tasks have 1 or 2 machines.\n",
      "271165 tasks have more than 2 machines.\n"
     ]
    },
    {
     "name": "stderr",
     "output_type": "stream",
     "text": [
      "                                                                                \r"
     ]
    },
    {
     "data": {
      "image/png": "[encoded data removed]",
      "text/plain": [
       "<Figure size 640x480 with 1 Axes>"
      ]
     },
     "metadata": {},
     "output_type": "display_data"
    }
   ],
   "source": [
    "nb_machines_per_job = task_events \\\n",
    "    .map(lambda event: ((task_events_get[\"job ID\"](event),task_events_get[\"task index\"](event)),{task_events_get[\"machine ID\"](event)})) \\\n",
    "    .reduceByKey(lambda machine1,machine2: machine1 | machine2) \\\n",
    "    .map(lambda job: len(job[1])) \n",
    "\n",
    "same_and_different_distribution = nb_machines_per_job \\\n",
    "    .map(lambda count: \"1 or 2\" if count<=2 else \"more than 2\") \\\n",
    "    .countByValue() \\\n",
    "    .items()\n",
    "\n",
    "for stat in same_and_different_distribution:\n",
    "    print(f\"{stat[1]} tasks have {stat[0]} machines.\")\n",
    "\n",
    "final = list(nb_machines_per_job.countByValue().items())\n",
    "final.sort(key=lambda x:x[0])\n",
    "\n",
    "plt.plot(*zip(*final))\n",
    "plt.yscale(\"log\")\n",
    "plt.show()"
   ]
  },
  {
   "attachments": {},
   "cell_type": "markdown",
   "metadata": {},
   "source": [
    "As we can see, it is indeed most common to have our tasks from the same job run on 1 or 2 machines."
   ]
  },
  {
   "attachments": {},
   "cell_type": "markdown",
   "metadata": {},
   "source": [
    "## Comparison of resource request and resource usage for tasks (Q6)\n",
    "\n",
    "This topic requires to do the analysis for three different resources: CPU cores, RAM and disk space. To start with, and become acquainted with the question at hand, we start with the CPU."
   ]
  },
  {
   "attachments": {},
   "cell_type": "markdown",
   "metadata": {},
   "source": [
    "### Resource requests\n",
    "\n",
    "Tasks can specify resource requirements when SUBMITTED (0) and upon UPDATE_PENDING (7) and UPDATE_RUNNING (8) events. Do they actually update their resource requests ?"
   ]
  },
  {
   "cell_type": "code",
   "execution_count": 30,
   "metadata": {},
   "outputs": [
    {
     "name": "stderr",
     "output_type": "stream",
     "text": [
      "[Stage 68:===================================================>    (83 + 8) / 91]\r"
     ]
    },
    {
     "name": "stdout",
     "output_type": "stream",
     "text": [
      "There has been 37559 tasks changing their resource requests during their lifetime over a total of 2440879, accounting for 1.5387489506853884%. Here is a sample of those:\n",
      "- task (4707865726, 44) requested the following resources: ({0.0625, 0.1514}, {0.01746, 0.2327}, {0.003395, 0.0006104})\n",
      "- task (6176858948, 1771) requested the following resources: ({0.01874, 0.0625}, {0.05316, 0.003109}, {0.000308, 2.67e-05})\n",
      "- task (5950955866, 46) requested the following resources: ({0.03125, 0.06567}, {0.01605, 0.09778}, {9.06e-05, 9.155e-05})\n",
      "- task (6176871439, 88) requested the following resources: ({0.01874, 0.0625}, {0.05316, 0.003887}, {0.000308, 2.67e-05})\n",
      "- task (6176871439, 1393) requested the following resources: ({0.01874, 0.0625}, {0.05316, 0.003887}, {0.000308, 2.67e-05})\n"
     ]
    },
    {
     "name": "stderr",
     "output_type": "stream",
     "text": [
      "                                                                                \r"
     ]
    }
   ],
   "source": [
    "resource_requests = task_events \\\n",
    "    .filter(lambda event: task_events_get['CPU request'](event) is not None \\\n",
    "        and task_events_get['memory request'](event) is not None \\\n",
    "        and task_events_get['disk space request'](event) is not None) \\\n",
    "    .map(lambda event: ((task_events_get['job ID'](event), task_events_get['task index'](event)),\n",
    "        ({task_events_get['CPU request'](event)}, \\\n",
    "        {task_events_get['memory request'](event)}, \\\n",
    "        {task_events_get['disk space request'](event)}))) \\\n",
    "    .reduceByKey(lambda r1, r2: (r1[0] | r2[0], r1[1] | r2[1], r1[2] | r2[2]))\n",
    "\n",
    "multiple_requests = resource_requests.filter(lambda event: len(event[1][0]) > 1 or len(event[1][1]) > 1 or len(event[1][2]) > 1)\n",
    "\n",
    "print(f\"There has been {multiple_requests.count()} tasks changing their resource requests during their lifetime over a total of {resource_requests.count()}, accounting for {multiple_requests.count() / resource_requests.count() * 100}%. Here is a sample of those:\")\n",
    "\n",
    "for req in multiple_requests.take(5):\n",
    "    print(f\"- task {req[0]} requested the following resources: {req[1]}\")"
   ]
  },
  {
   "attachments": {},
   "cell_type": "markdown",
   "metadata": {},
   "source": [
    "Many tasks made more than one resource request in their lifetime."
   ]
  },
  {
   "attachments": {},
   "cell_type": "markdown",
   "metadata": {},
   "source": [
    "Let us also see when the CPU request is made. Is it only done at submit time or later ?"
   ]
  },
  {
   "cell_type": "code",
   "execution_count": 31,
   "metadata": {},
   "outputs": [
    {
     "name": "stderr",
     "output_type": "stream",
     "text": [
      "[Stage 72:======================================>                (64 + 12) / 91]\r"
     ]
    },
    {
     "name": "stdout",
     "output_type": "stream",
     "text": [
      "defaultdict(<class 'int'>, {0: 2307875, 1: 133004})\n"
     ]
    },
    {
     "name": "stderr",
     "output_type": "stream",
     "text": [
      "                                                                                \r"
     ]
    }
   ],
   "source": [
    "print(task_events.filter(lambda event: task_events_get['CPU request'](event) is not None) \\\n",
    "    .map(lambda event: ((task_events_get['job ID'](event), task_events_get['task index'](event)),\n",
    "        (task_events_get['event type'](event), task_events_get['time'](event)))) \\\n",
    "    .reduceByKey(lambda event1, event2: event1 if event1[1] < event2[1] else event2) \\\n",
    "    .map(lambda entry: entry[1][0]) \\\n",
    "    .countByValue())"
   ]
  },
  {
   "attachments": {},
   "cell_type": "markdown",
   "metadata": {},
   "source": [
    "We see that the vast majority of CPU requests are made at task submission. When it is not the case, the earliest CPU request is at scheduling. To our understanding, the SCHEDULE (1) event is caused by the system, not by the user, so we choose to only keep CPU requests defined at submission."
   ]
  },
  {
   "attachments": {},
   "cell_type": "markdown",
   "metadata": {},
   "source": [
    "Removing the tasks who make several different CPU requests."
   ]
  },
  {
   "cell_type": "code",
   "execution_count": 32,
   "metadata": {},
   "outputs": [
    {
     "name": "stderr",
     "output_type": "stream",
     "text": [
      "[Stage 75:====================================>                  (60 + 12) / 91]\r"
     ]
    },
    {
     "name": "stdout",
     "output_type": "stream",
     "text": [
      "frozenset({0, 1, 3, 5, 7, 8})\n",
      "frozenset({8, 1})\n",
      "frozenset({0, 1, 3, 7, 8})\n",
      "frozenset({0, 1, 2, 3, 5, 8})\n",
      "frozenset({0})\n",
      "frozenset({0, 1, 2, 3, 4, 5})\n",
      "frozenset({0, 1, 4, 6})\n",
      "frozenset({0, 1, 5})\n",
      "frozenset({0, 1, 2, 3, 6})\n",
      "frozenset({0, 1, 3, 4})\n",
      "frozenset({0, 1, 2, 4, 5, 6})\n",
      "frozenset({0, 1, 2, 4, 5})\n",
      "frozenset({1})\n",
      "frozenset({0, 1, 2, 3})\n",
      "frozenset({0, 1, 5, 6})\n",
      "frozenset({8, 0, 1})\n",
      "frozenset({0, 1, 3, 8})\n",
      "frozenset({0, 1, 4})\n",
      "frozenset({0, 2, 5})\n",
      "frozenset({0, 6})\n",
      "frozenset({0, 1, 3, 4, 5})\n",
      "frozenset({0, 1, 2, 4, 6})\n",
      "frozenset({0, 1, 2, 5, 7})\n",
      "frozenset({0, 1})\n",
      "frozenset({0, 1, 2, 3, 5, 7})\n",
      "frozenset({0, 1, 5, 8})\n",
      "frozenset({0, 1, 2, 3, 4})\n",
      "frozenset({0, 1, 3, 5})\n",
      "frozenset({0, 5})\n",
      "frozenset({0, 1, 2, 6})\n",
      "frozenset({0, 1, 3})\n",
      "frozenset({0, 1, 2, 5, 6})\n",
      "frozenset({0, 1, 4, 5})\n",
      "frozenset({0, 1, 3, 5, 8})\n",
      "frozenset({0, 1, 2, 5})\n",
      "frozenset({0, 1, 2, 4})\n",
      "frozenset({0, 4})\n",
      "frozenset({0, 1, 3, 6})\n",
      "frozenset({1, 5})\n",
      "frozenset({0, 1, 2, 8})\n",
      "frozenset({0, 1, 2, 5, 8})\n",
      "frozenset({0, 1, 2})\n",
      "frozenset({0, 1, 2, 3, 5})\n",
      "frozenset({0, 1, 6})\n",
      "frozenset({0, 1, 3, 5, 6})\n",
      "frozenset({0, 1, 5, 7})\n"
     ]
    },
    {
     "name": "stderr",
     "output_type": "stream",
     "text": [
      "                                                                                \r"
     ]
    }
   ],
   "source": [
    "cpu_changing_events = task_events \\\n",
    "    .filter(lambda event: task_events_get['CPU request'](event) is not None) \\\n",
    "    .map(lambda event: ((task_events_get['job ID'](event), task_events_get['task index'](event)),\n",
    "        {task_events_get['event type'](event)})) \\\n",
    "    .reduceByKey(lambda cpu_request1, cpu_request2: cpu_request1 | cpu_request2) \\\n",
    "    .cache()\n",
    "\n",
    "for event in cpu_changing_events.map(lambda event: frozenset(event[1])).distinct().collect():\n",
    "    print(event)"
   ]
  },
  {
   "cell_type": "code",
   "execution_count": 33,
   "metadata": {},
   "outputs": [
    {
     "name": "stderr",
     "output_type": "stream",
     "text": [
      "                                                                                \r"
     ]
    },
    {
     "data": {
      "text/plain": [
       "2440751"
      ]
     },
     "execution_count": 33,
     "metadata": {},
     "output_type": "execute_result"
    }
   ],
   "source": [
    "task_events \\\n",
    "    .filter(lambda event: task_events_get['CPU request'](event) is not None and task_events_get['event type'](event) == 0) \\\n",
    "    .map(lambda event: ((task_events_get['job ID'](event), task_events_get['task index'](event)), 1)) \\\n",
    "    .reduceByKey(add) \\\n",
    "    .count()"
   ]
  },
  {
   "cell_type": "code",
   "execution_count": 34,
   "metadata": {},
   "outputs": [],
   "source": [
    "resource_requests = task_events \\\n",
    "    .filter(lambda event: task_events_get['CPU request'](event) is not None \\\n",
    "        and task_events_get['memory request'](event) is not None \\\n",
    "        and task_events_get['disk space request'](event) is not None \\\n",
    "        and task_events_get['event type'](event) == 0) \\\n",
    "    .map(lambda event: ((task_events_get['job ID'](event), task_events_get['task index'](event)),\n",
    "        (task_events_get['CPU request'](event),task_events_get['memory request'](event),task_events_get['disk space request'](event)))) \\\n",
    "    .reduceByKey(lambda r1, r2: r1 if r1 == r2 else None) \\\n",
    "    .filter(lambda event: event[1] is not None) \\\n",
    "    .cache()"
   ]
  },
  {
   "cell_type": "code",
   "execution_count": 35,
   "metadata": {},
   "outputs": [
    {
     "name": "stderr",
     "output_type": "stream",
     "text": [
      "[Stage 78:=======================================================>(90 + 1) / 91]\r"
     ]
    },
    {
     "name": "stdout",
     "output_type": "stream",
     "text": [
      "((5950955866, 47), (0.03125, 0.01605, 9.155e-05))\n",
      "((6266791942, 57), (0.0625, 0.0318, 0.0007715))\n",
      "((6266791942, 146), (0.0625, 0.0318, 0.0007715))\n",
      "((6266791942, 147), (0.0625, 0.0318, 0.0007715))\n",
      "((6266791942, 244), (0.0625, 0.0318, 0.0007715))\n"
     ]
    },
    {
     "name": "stderr",
     "output_type": "stream",
     "text": [
      "                                                                                \r"
     ]
    }
   ],
   "source": [
    "for request in resource_requests.take(5):\n",
    "    print(request)"
   ]
  },
  {
   "attachments": {},
   "cell_type": "markdown",
   "metadata": {},
   "source": [
    "### Resource usage table\n",
    "\n",
    "The resource usage information is stored in its own table. We will have to learn to use it, and also to match its data with the task events.\n",
    "\n",
    "It is to be noted that resource measurement periods might overshoot after a task is killed. We might want to remove these parts of the measurements, if they prove problematic.\n",
    "\n",
    "The documentation for the data set also specifies how the maximum measurement data is aggregated (for sub-containers), and gives a field in the table for this information. I believe, for the sake of this work, that we can spare ourselves the extra mileage of using this field, and just consider that the measurements are accurate enough."
   ]
  },
  {
   "attachments": {},
   "cell_type": "markdown",
   "metadata": {},
   "source": [
    "First thing first, loading the related data set:"
   ]
  },
  {
   "cell_type": "code",
   "execution_count": 36,
   "metadata": {},
   "outputs": [
    {
     "name": "stderr",
     "output_type": "stream",
     "text": [
      "[Stage 80:>                                                         (0 + 1) / 1]\r"
     ]
    },
    {
     "name": "stdout",
     "output_type": "stream",
     "text": [
      "[5612000000, 5700000000, 4665712499, 369, 4820204869, 0.03143, 0.05389, 0.06946, 0.005997, 0.006645, 0.05408, 7.629e-05, 0.0003834, 0.2415, 0.002571, 2.911, None, 0.0, False, 0.02457]\n",
      "[5612000000, 5700000000, 4665712499, 798, 3349189123, 0.02698, 0.06714, 0.07715, 0.004219, 0.004868, 0.06726, 7.915e-05, 0.0003681, 0.27, 0.00293, 3.285, 0.008261, 0.0, False, 0.01608]\n",
      "[5612000000, 5700000000, 4665896876, 251, 372630265, 0.04114, 0.06714, 0.07739, 0.002956, 0.003605, 0.0675, 0.0001135, 0.000371, 0.1086, 0.004784, 1.551, 0.002311, 0.0, False, 0.05286]\n",
      "[5612000000, 5613000000, 5285926325, 0, 2850406, 0.0, 0.0, 0.0, 0.0, 0.0, 0.0, 0.0, 0.0, 0.0, 0.0, None, None, 0.0, False, 0.0]\n",
      "[5612000000, 5700000000, 6000618870, 74, 1437119225, 0.07275, 0.01898, 0.02716, 0.0008469, 0.002251, 0.01901, 0.0, 0.0, 0.2415, 0.0, 1.3, 0.0005437, 0.0, False, 0.06238]\n"
     ]
    },
    {
     "name": "stderr",
     "output_type": "stream",
     "text": [
      "                                                                                \r"
     ]
    }
   ],
   "source": [
    "task_usage_get = schema.field_getters('task_usage')\n",
    "task_usage = schema.load_rdd(sc,'task_usage')\n",
    "task_usage.cache()\n",
    "\n",
    "for elem in task_usage.take(5):\n",
    "\tprint(elem)"
   ]
  },
  {
   "attachments": {},
   "cell_type": "markdown",
   "metadata": {},
   "source": [
    "Measurement records may be missing, not implying that a task is not running. Let us count how many such missing records there are, and how many tasks (ratio) are affected."
   ]
  },
  {
   "cell_type": "code",
   "execution_count": 37,
   "metadata": {},
   "outputs": [],
   "source": [
    "resource_fields = [\n",
    "        'start time',\n",
    "        'end time',\n",
    "        'CPU rate',\n",
    "        'canonical memory usage',\n",
    "        'local disk space usage'\n",
    "    ]\n",
    "\n",
    "def entry_converter(entry):\n",
    "    return tuple(task_usage_get[field](entry) for field in resource_fields)\n",
    "\n",
    "def aggregator(accumulator, resource_usage):\n",
    "    accumulator[0] += resource_usage[1]-resource_usage[0]\n",
    "    for i in range(2,len(resource_usage)):\n",
    "        accumulator[i-1] += resource_usage[0]*resource_usage[i]\n",
    "    return accumulator\n",
    "\n",
    "from operator import add\n",
    "def combiner(accumulator1, accumulator2):\n",
    "    return list(map(add, accumulator1, accumulator2))\n",
    "\n",
    "resources_per_task = task_usage \\\n",
    "    .map(lambda entry: ((task_usage_get['job ID'](entry), task_usage_get['task index'](entry)),\n",
    "        entry_converter(entry))) \\\n",
    "    .aggregateByKey([0,]*(len(resource_fields)-1), aggregator, combiner) \\\n",
    "    .cache()"
   ]
  },
  {
   "cell_type": "code",
   "execution_count": 38,
   "metadata": {},
   "outputs": [
    {
     "name": "stderr",
     "output_type": "stream",
     "text": [
      "[Stage 82:============================>                          (12 + 11) / 23]\r"
     ]
    },
    {
     "name": "stdout",
     "output_type": "stream",
     "text": [
      "There are 197032 tasks for which we have resource consumption data.\n"
     ]
    },
    {
     "name": "stderr",
     "output_type": "stream",
     "text": [
      "                                                                                \r"
     ]
    }
   ],
   "source": [
    "print(f\"There are {resources_per_task.count()} tasks for which we have resource consumption data.\")"
   ]
  },
  {
   "cell_type": "code",
   "execution_count": 39,
   "metadata": {},
   "outputs": [
    {
     "name": "stdout",
     "output_type": "stream",
     "text": [
      "(6218406404, 1085)\n",
      "3742000000\n",
      "549308957.1\n",
      "83101644.5\n",
      "17030.2209\n"
     ]
    }
   ],
   "source": [
    "for entry in resources_per_task.take(1):\n",
    "    print(entry[0])\n",
    "    # print(entry[1])\n",
    "    for x in entry[1]:\n",
    "        print(x)"
   ]
  },
  {
   "cell_type": "code",
   "execution_count": 40,
   "metadata": {},
   "outputs": [
    {
     "name": "stderr",
     "output_type": "stream",
     "text": [
      "                                                                                \r"
     ]
    }
   ],
   "source": [
    "joined = resource_requests \\\n",
    "    .join(resources_per_task) \\\n",
    "    .map(lambda x: (x[1][0], *x[1][1])) \\\n",
    "    .sortBy(lambda x: x[0]) \\\n",
    "    .cache()"
   ]
  },
  {
   "cell_type": "code",
   "execution_count": 41,
   "metadata": {},
   "outputs": [
    {
     "name": "stderr",
     "output_type": "stream",
     "text": [
      "[Stage 96:==============================================>      (100 + 13) / 114]\r"
     ]
    },
    {
     "name": "stdout",
     "output_type": "stream",
     "text": [
      "((0.0, 0.0, 0.0), 9657000000, 14938228.77, 85873695.79999998, 0.0)\n",
      "((0.0, 0.0, 0.0), 10200000000, 1502556.3, 22338810.0, 0.0)\n",
      "((0.0, 0.0001554, 0.0), 20000000, 705389.63, 0.0, 0.0)\n",
      "((0.0, 0.0001554, 0.0), 15000000, 982104.5, 0.0, 0.0)\n",
      "((0.0, 0.0001554, 0.0), 17000000, 630080.88, 0.0, 0.0)\n"
     ]
    },
    {
     "name": "stderr",
     "output_type": "stream",
     "text": [
      "                                                                                \r"
     ]
    }
   ],
   "source": [
    "for x in joined.take(5):\n",
    "    print(x)"
   ]
  },
  {
   "attachments": {},
   "cell_type": "markdown",
   "metadata": {},
   "source": [
    "In `joined`, the first element is a tuple of the requests for CPU, RAM, and storage space, and the following is respectively\n",
    "\n",
    "- the cumulated duration of the task,\n",
    "- the total amount of CPU.s for the task,\n",
    "- the RAM used,\n",
    "- the disk storage used."
   ]
  },
  {
   "cell_type": "code",
   "execution_count": 42,
   "metadata": {},
   "outputs": [
    {
     "name": "stderr",
     "output_type": "stream",
     "text": [
      "                                                                                \r"
     ]
    }
   ],
   "source": [
    "cpu_req_vs_coresec = joined \\\n",
    "    .map(lambda x: (x[0][0],(x[2],1))) \\\n",
    "    .reduceByKey(lambda x,y: (x[0]+y[0],x[1]+y[1])) \\\n",
    "    .map(lambda x: (x[0],x[1][0]/x[1][1]))\\\n",
    "    .sortByKey()\\\n",
    "    .collect()\n",
    "\n",
    "mem_req_vs_coresec = joined \\\n",
    "    .map(lambda x: (x[0][1],(x[3],1))) \\\n",
    "    .reduceByKey(lambda x,y: (x[0]+y[0],x[1]+y[1])) \\\n",
    "    .map(lambda x: (x[0],x[1][0]/x[1][1]))\\\n",
    "    .sortByKey()\\\n",
    "    .collect()\n",
    "\n",
    "disk_req_vs_coresec = joined \\\n",
    "    .map(lambda x: (x[0][2],(x[4],1))) \\\n",
    "    .reduceByKey(lambda x,y: (x[0]+y[0],x[1]+y[1])) \\\n",
    "    .map(lambda x: (x[0],x[1][0]/x[1][1]))\\\n",
    "    .sortByKey()\\\n",
    "    .collect()"
   ]
  },
  {
   "cell_type": "code",
   "execution_count": 43,
   "metadata": {},
   "outputs": [
    {
     "data": {
      "image/png": "[encoded data removed]",
      "text/plain": [
       "<Figure size 640x480 with 1 Axes>"
      ]
     },
     "metadata": {},
     "output_type": "display_data"
    }
   ],
   "source": [
    "S=5\n",
    "\n",
    "plt.scatter(*zip(*cpu_req_vs_coresec),s=S)\n",
    "plt.scatter(*zip(*mem_req_vs_coresec),s=S)\n",
    "plt.scatter(*zip(*disk_req_vs_coresec),s=S)\n",
    "# plt.yscale(\"log\")\n",
    "plt.show()"
   ]
  },
  {
   "attachments": {},
   "cell_type": "markdown",
   "metadata": {},
   "source": [
    "Below, the code `.map(lambda x: (x[0],x[1][0]/x[1][1]))` performs averaging"
   ]
  },
  {
   "cell_type": "code",
   "execution_count": 44,
   "metadata": {},
   "outputs": [
    {
     "name": "stderr",
     "output_type": "stream",
     "text": [
      "                                                                                \r"
     ]
    }
   ],
   "source": [
    "cpu_req_vs_core = joined \\\n",
    "    .map(lambda x: (x[0][0],(x[2]/x[1],1))) \\\n",
    "    .reduceByKey(lambda x,y: (x[0]+y[0],x[1]+y[1])) \\\n",
    "    .map(lambda x: (x[0],x[1][0]/x[1][1]))\\\n",
    "    .sortByKey()\\\n",
    "    .collect()\n",
    "\n",
    "mem_req_vs_core = joined \\\n",
    "    .map(lambda x: (x[0][1],(x[3]/x[1],1))) \\\n",
    "    .reduceByKey(lambda x,y: (x[0]+y[0],x[1]+y[1])) \\\n",
    "    .map(lambda x: (x[0],x[1][0]/x[1][1]))\\\n",
    "    .sortByKey()\\\n",
    "    .collect()\n",
    "\n",
    "disk_req_vs_core = joined \\\n",
    "    .map(lambda x: (x[0][2],(x[4]/x[1],1))) \\\n",
    "    .reduceByKey(lambda x,y: (x[0]+y[0],x[1]+y[1])) \\\n",
    "    .map(lambda x: (x[0],x[1][0]/x[1][1]))\\\n",
    "    .sortByKey()\\\n",
    "    .collect()"
   ]
  },
  {
   "cell_type": "code",
   "execution_count": 45,
   "metadata": {},
   "outputs": [
    {
     "data": {
      "image/png": "[encoded data removed]",
      "text/plain": [
       "<Figure size 640x480 with 1 Axes>"
      ]
     },
     "metadata": {},
     "output_type": "display_data"
    }
   ],
   "source": [
    "plt.scatter(*zip(*cpu_req_vs_core),s=S)\n",
    "plt.scatter(*zip(*mem_req_vs_core),s=S)\n",
    "plt.scatter(*zip(*disk_req_vs_core),s=S)\n",
    "#plt.xscale(\"log\")\n",
    "plt.show()"
   ]
  },
  {
   "cell_type": "code",
   "execution_count": 46,
   "metadata": {},
   "outputs": [
    {
     "data": {
      "image/png": "[encoded data removed]",
      "text/plain": [
       "<Figure size 640x480 with 3 Axes>"
      ]
     },
     "metadata": {},
     "output_type": "display_data"
    }
   ],
   "source": [
    "rspl = plt.subplot(2, 2, 1)\n",
    "rspl.scatter(*zip(*cpu_req_vs_core),s=S)\n",
    "plt.yscale(\"log\")\n",
    "plt.xscale(\"log\")\n",
    "plt.title(\"CPU\")\n",
    "rspl = plt.subplot(2, 2, 2)\n",
    "rspl.scatter(*zip(*mem_req_vs_core),s=S)\n",
    "plt.yscale(\"log\")\n",
    "plt.xscale(\"log\")\n",
    "plt.title(\"memory\")\n",
    "rspl = plt.subplot(2, 2, 3)\n",
    "rspl.scatter(*zip(*disk_req_vs_core),s=S)\n",
    "plt.yscale(\"log\")\n",
    "plt.xscale(\"log\")\n",
    "plt.title(\"storage\")\n",
    "plt.show()"
   ]
  },
  {
   "attachments": {},
   "cell_type": "markdown",
   "metadata": {},
   "source": [
    "These plots shows that, in general, there are no trends regarding the CPU and Disk requests vs their real usage. However, we can clearly see that there is one for the memory."
   ]
  },
  {
   "attachments": {},
   "cell_type": "markdown",
   "metadata": {},
   "source": [
    "## Relation between resource usage peaks and task evictions (Q7)\n",
    "\n",
    "We will investigate, for any given machine, whether there is a correlation  between resource consumption peaks and task evictions."
   ]
  },
  {
   "attachments": {},
   "cell_type": "markdown",
   "metadata": {},
   "source": [
    "### Objective\n",
    "\n",
    "To find a correlation, we will first construct a timeline, for each machine, of the maximum resource used, and the eviction events. Fortunately, the table Task Usage contains data on the maximum resource used withing a given time window. As such, we just need to correlate these resources with the eviction events. The documentation does not mention that tasks are migrated between machines, so we do not have to account for that.\n",
    "\n",
    "Moreover, in the documentation we learn that the traces in our task usage data are done withing periods of 300 seconds starting at 600 seconds in the timeline. As such, to have a dataset easier to look at and perform operations on, we will form our timeline in epochs starting from 0. The first epoch 0 will therefore belongs to the time frame between 600s and 900s, epoch 1 will be between 900s and 1200s and so on.\n",
    "\n",
    "Doing so, we find that there are 17 epochs in total for both task usage and task events.\n",
    "\n",
    "Below are some tests showing that no task usage recording are in between epochs :"
   ]
  },
  {
   "cell_type": "code",
   "execution_count": 47,
   "metadata": {},
   "outputs": [
    {
     "name": "stderr",
     "output_type": "stream",
     "text": [
      "[Stage 212:============================>                         (12 + 11) / 23]\r"
     ]
    },
    {
     "name": "stdout",
     "output_type": "stream",
     "text": [
      "The number of events not inside a 300s period or epoch is 0.\n"
     ]
    },
    {
     "name": "stderr",
     "output_type": "stream",
     "text": [
      "                                                                                \r"
     ]
    }
   ],
   "source": [
    "overlapping_epochs = task_usage \\\n",
    "    .map(lambda task: ((task_usage_get['start time'](task), task_usage_get['end time'](task)), 0)) \\\n",
    "    .filter(lambda x: x[0][0]//300000000!=(x[0][1]-1)//300000000).count()\n",
    "    # The -1 on the end time is to account for the events that ends at the end of an epoch (ex : 675s -> 900s is still withing epoch 0)\n",
    "    \n",
    "\n",
    "print(f\"The number of events not inside a 300s period or epoch is {overlapping_epochs}.\")\n"
   ]
  },
  {
   "attachments": {},
   "cell_type": "markdown",
   "metadata": {},
   "source": [
    "### Gathering task consumption peaks for all machines\n",
    "\n",
    "The machine resource table contains machine IDs, so we can gather task consumption peaks for all machines on the one hand, and then task eviction events for all machines on the other hand. We can assume that no task can trigger two events at the same time, so we can ignore job ID and task index and only keep the machine ID.\n",
    "\n",
    "We gather all maximum resource values for each machine, and their epochs. This should allow to later plot, or do some form of aggregation, for instance the count of values above a threshold."
   ]
  },
  {
   "cell_type": "code",
   "execution_count": 48,
   "metadata": {},
   "outputs": [],
   "source": [
    "def event_to_peak_resources(event):\n",
    "    return {(task_usage_get['start time'](event)-600000000)//300000000 : \n",
    "                (task_usage_get['maximum CPU rate'](event), \n",
    "                task_usage_get['maximum memory usage'](event), \n",
    "                task_usage_get['maximum disk IO time'](event))\n",
    "            }\n",
    "\n",
    "def fuse_max_dictionary(d1,d2):\n",
    "    for element in d2:\n",
    "        if element in d1:\n",
    "            a1, a2, a3 = d1[element]\n",
    "            b1, b2, b3 = d2[element]\n",
    "            d1[element] = (max(a1,b1),max(a2,b2),max(a3,b3))\n",
    "        else :\n",
    "            d1[element] = d2[element]\n",
    "    return d1\n",
    "\n",
    "default_dict = dict.fromkeys([a for a in range(0,34)],(.0,.0,.0))\n",
    "\n",
    "\n",
    "machines_max_usage = task_usage \\\n",
    "    .filter(lambda event: task_usage_get['maximum memory usage'](event) is not None and \\\n",
    "        task_usage_get['maximum CPU rate'](event) is not None and \\\n",
    "        task_usage_get['maximum disk IO time'](event) is not None \\\n",
    "    ) \\\n",
    "    .map(lambda event: \n",
    "        (task_usage_get['machine ID'](event),\n",
    "        event_to_peak_resources(event))) \\\n",
    "    .foldByKey(default_dict,lambda measurement1, measurement2: fuse_max_dictionary(measurement1,measurement2)) \\\n",
    "    .map(lambda machine: (machine[0],\n",
    "            ([k for k,_ in machine[1].items()],\n",
    "            [v[0] for _,v in machine[1].items()],\n",
    "            [v[1] for _,v in machine[1].items()],\n",
    "            [v[2] for _,v in machine[1].items()])\n",
    "            )\n",
    "        )\\\n",
    "    .cache()"
   ]
  },
  {
   "attachments": {},
   "cell_type": "markdown",
   "metadata": {},
   "source": [
    "### Gathering task eviction events for all machines\n",
    "\n",
    "So, we mapped machine IDs to the related resource information we have. Let us now map machine IDs to eviction events. Joining the two should give us something we can analyze."
   ]
  },
  {
   "cell_type": "code",
   "execution_count": 49,
   "metadata": {},
   "outputs": [],
   "source": [
    "from numpy import histogram,arange\n",
    "\n",
    "def check(list):\n",
    "    for e in list:\n",
    "        if e!=0:\n",
    "            return True\n",
    "    return False\n",
    "\n",
    "task_evict_events = task_events \\\n",
    "    .filter(lambda task_event: task_events_get['event type'](task_event) == 2) \\\n",
    "    .map(lambda event: (\n",
    "            task_events_get['machine ID'](event),\n",
    "            [(\n",
    "                (task_events_get['time'](event)-600000000)//300000000\n",
    "            )]\n",
    "        )\n",
    "    ) \\\n",
    "    .reduceByKey(lambda events1, events2: events1 + events2) \\\n",
    "    .mapValues(lambda v : list(histogram(v,arange(35))[0])) \\\n",
    "    .filter(lambda x: check(x[1])) \\\n",
    "    .cache()"
   ]
  },
  {
   "attachments": {},
   "cell_type": "markdown",
   "metadata": {},
   "source": [
    "### Correlation Study\n",
    "\n",
    "Now, how do we associate these two sets of values ? A simple join is enough as we need to correlate datasets with the same machine ID."
   ]
  },
  {
   "cell_type": "code",
   "execution_count": 50,
   "metadata": {},
   "outputs": [],
   "source": [
    "correlation = machines_max_usage.join(task_evict_events).mapValues(lambda x: (*x[0],x[1])).cache()"
   ]
  },
  {
   "attachments": {},
   "cell_type": "markdown",
   "metadata": {},
   "source": [
    "Now that we have our data for each machines, we need to correlate the eviction events and max resource usage for each periods. To do so we will first try to determine the correlation coefficient (also known as ***Pearson Correlation Coefficient***) for each machine and each resource usage. To do so we use the already existing *numpy* function *corrcoef*."
   ]
  },
  {
   "cell_type": "code",
   "execution_count": null,
   "metadata": {},
   "outputs": [],
   "source": [
    "import numpy as np\n",
    "\n",
    "coef = correlation.map(lambda e: ( \\\n",
    "    [np.corrcoef(np.array(e[1][4]),np.array(e[1][1]))[1][0]],\\\n",
    "    [np.corrcoef(np.array(e[1][4]),np.array(e[1][2]))[1][0]],\\\n",
    "    [np.corrcoef(np.array(e[1][4]),np.array(e[1][3]))[1][0]] \\\n",
    ")).reduce(lambda a,b: (a[0]+b[0],a[1]+b[1],a[2]+b[2]))"
   ]
  },
  {
   "cell_type": "code",
   "execution_count": 52,
   "metadata": {},
   "outputs": [
    {
     "name": "stdout",
     "output_type": "stream",
     "text": [
      "Maximum coefficients found : (0.9780996399005489, 1.0, 0.7786835576588109)\n",
      "Minimum coefficients found : (-0.686292601076302, -0.999905756749502, -0.5688337699851276)\n",
      "Average of all coefficients : (0.12192521190042006, nan, 0.07779399506536094)\n",
      "Median coefficients : (0.09863104721262035, -0.04844101105048903, 0.0645486558407862)\n"
     ]
    }
   ],
   "source": [
    "from statistics import mean,median\n",
    "\n",
    "max_coef = tuple([max(e) for e in coef])\n",
    "min_coef = tuple([min(e) for e in coef])\n",
    "average_coef = tuple([mean(e) for e in coef])\n",
    "median_coef = tuple([median(e) for e in coef])\n",
    "\n",
    "print(f\"Maximum coefficients found : {max_coef}\\nMinimum coefficients found : {min_coef}\\nAverage of all coefficients : {average_coef}\\nMedian coefficients : {median_coef}\")"
   ]
  },
  {
   "attachments": {},
   "cell_type": "markdown",
   "metadata": {},
   "source": [
    "As we can see, there are machines that seems to have correlations between the maximum resource used and the number of evictions, but the whole data (especially the mean and median) suggest that no such correlation exists."
   ]
  },
  {
   "attachments": {},
   "cell_type": "markdown",
   "metadata": {},
   "source": [
    "If we don't try to look at the coefficients machine by machine, but try to find the correlation coefficient of the whole data set (while keeping X being the maximum resource used and Y the number of eviction), we obtain the following numbers :"
   ]
  },
  {
   "cell_type": "code",
   "execution_count": 53,
   "metadata": {},
   "outputs": [
    {
     "name": "stderr",
     "output_type": "stream",
     "text": [
      "[Stage 228:======================================>              (83 + 12) / 114]\r"
     ]
    },
    {
     "name": "stdout",
     "output_type": "stream",
     "text": [
      "0.06332681225544091\n",
      "-0.006154405757861686\n",
      "0.013822448895748152\n"
     ]
    },
    {
     "name": "stderr",
     "output_type": "stream",
     "text": [
      "                                                                                \r"
     ]
    }
   ],
   "source": [
    "cpu = correlation.map(lambda e: (e[1][1],e[1][4])).reduce(lambda a,b: (a[0]+b[0],a[1]+b[1]))\n",
    "memory = correlation.map(lambda e: (e[1][2],e[1][4])).reduce(lambda a,b: (a[0]+b[0],a[1]+b[1]))\n",
    "disk = correlation.map(lambda e: (e[1][3],e[1][4])).reduce(lambda a,b: (a[0]+b[0],a[1]+b[1]))\n",
    "\n",
    "print(np.corrcoef(np.array(cpu[0]),np.array(cpu[1]))[1][0])\n",
    "print(np.corrcoef(np.array(memory[0]),np.array(memory[1]))[1][0])\n",
    "print(np.corrcoef(np.array(disk[0]),np.array(disk[1]))[1][0])"
   ]
  },
  {
   "attachments": {},
   "cell_type": "markdown",
   "metadata": {},
   "source": [
    "As such, we can safely conclude that there are no correlation, negative of positive, between the picks of resources of a machine and its eviction events. \n",
    "\n",
    "Just for the sake of eye candy, here are the plots for each resource types maximum usage vs task evictions, where we can clearly see no correlations :"
   ]
  },
  {
   "cell_type": "code",
   "execution_count": 54,
   "metadata": {},
   "outputs": [
    {
     "data": {
      "image/png": "[encoded data removed]",
      "text/plain": [
       "<Figure size 640x480 with 1 Axes>"
      ]
     },
     "metadata": {},
     "output_type": "display_data"
    },
    {
     "data": {
      "image/png": "[encoded data removed]",
      "text/plain": [
       "<Figure size 640x480 with 1 Axes>"
      ]
     },
     "metadata": {},
     "output_type": "display_data"
    },
    {
     "data": {
      "text/plain": [
       "Text(0, 0.5, 'Number of evictions in Epoch')"
      ]
     },
     "execution_count": 54,
     "metadata": {},
     "output_type": "execute_result"
    },
    {
     "data": {
      "image/png": "[encoded data removed]",
      "text/plain": [
       "<Figure size 640x480 with 1 Axes>"
      ]
     },
     "metadata": {},
     "output_type": "display_data"
    }
   ],
   "source": [
    "plt.scatter(*cpu)\n",
    "plt.title(\"Max CPU vs Evictions\")\n",
    "plt.xlabel(\"Maximum CPU usage of Epoch\")\n",
    "plt.ylabel(\"Number of evictions in Epoch\")\n",
    "plt.show()\n",
    "plt.scatter(*memory)\n",
    "plt.title(\"Max memory vs Evictions\")\n",
    "plt.xlabel(\"Maximum memory usage of Epoch\")\n",
    "plt.ylabel(\"Number of evictions in Epoch\")\n",
    "plt.show()\n",
    "plt.scatter(*disk)\n",
    "plt.title(\"Max disk vs Evictions\")\n",
    "plt.xlabel(\"Maximum disk usage of Epoch\")\n",
    "plt.ylabel(\"Number of evictions in Epoch\")"
   ]
  },
  {
   "attachments": {},
   "cell_type": "markdown",
   "metadata": {},
   "source": [
    "## Additional Questions (added by us)\n",
    "\n",
    "Here are the final 2 questions that we came up with, each have their precisions to explain what it is we are looking for."
   ]
  },
  {
   "attachments": {},
   "cell_type": "markdown",
   "metadata": {},
   "source": [
    "### 1 - Study of the relation between Scheduling Class and Dead Time\n",
    "\n",
    "The Google documentation tells us that scheduling classes have different levels of latency, with 3 supposedly having lower latency than 0. It also tells us that when a task dies (failed, evicted, etc.), the scheduler tries to submit it again as soon as possible. As such, we can verify the first statement by looking at the average time spent being dead for each classes. We should expect class 0 to have the most, and class 3 the least.\n",
    "\n",
    "First, let's remind ourself of the distribution of scheduling classes : "
   ]
  },
  {
   "cell_type": "code",
   "execution_count": 55,
   "metadata": {},
   "outputs": [
    {
     "data": {
      "image/png": "[encoded data removed]",
      "text/plain": [
       "<Figure size 640x480 with 1 Axes>"
      ]
     },
     "metadata": {},
     "output_type": "display_data"
    }
   ],
   "source": [
    "classes, hist = zip(*job_scheduling_classes)\n",
    "classes = [str(e) for e in classes]\n",
    "plt.bar(classes, hist)\n",
    "plt.title(\"Distribution of scheduling class\")\n",
    "plt.xlabel(\"Scheduling Class\")\n",
    "plt.ylabel(\"Number of Jobs\")\n",
    "plt.show()"
   ]
  },
  {
   "attachments": {},
   "cell_type": "markdown",
   "metadata": {},
   "source": [
    "Now let us form the timeline of each jobs, then perform the necessary transformations to have the average death time for each class."
   ]
  },
  {
   "cell_type": "code",
   "execution_count": 56,
   "metadata": {},
   "outputs": [],
   "source": [
    "jobs_timeline = job_events \\\n",
    "    .filter(lambda event: job_events_get['event type'](event) not in {7,8}) \\\n",
    "    .map(lambda event: (\n",
    "        (job_events_get['job ID'](event),job_events_get['scheduling class'](event)),\n",
    "        (job_events_get['time'](event), job_events_get['event type'](event))\n",
    "        )\n",
    "    ) \\\n",
    "    .groupByKey() \\\n",
    "    .mapValues(list) \\\n",
    "    .cache()"
   ]
  },
  {
   "cell_type": "code",
   "execution_count": 57,
   "metadata": {},
   "outputs": [
    {
     "name": "stderr",
     "output_type": "stream",
     "text": [
      "                                                                                \r"
     ]
    },
    {
     "data": {
      "image/png": "[encoded data removed]",
      "text/plain": [
       "<Figure size 640x480 with 1 Axes>"
      ]
     },
     "metadata": {},
     "output_type": "display_data"
    }
   ],
   "source": [
    "def death_times(s_class, timeline):\n",
    "    timeline.sort(key=lambda x: x[0])\n",
    "    all_deaths = []\n",
    "    for i in range(1,len(timeline)):\n",
    "        if timeline[i-1][1] in {2,3,4,5,6} and timeline[i][1] == 0:\n",
    "            all_deaths += [(s_class,timeline[i][0] - timeline[i-1][0])]\n",
    "    if all_deaths == []:\n",
    "        return [(s_class,0)]\n",
    "    return all_deaths\n",
    "\n",
    "average_death_duration_per_class = jobs_timeline \\\n",
    "    .flatMap(lambda job: death_times(job[0][1],job[1])) \\\n",
    "    .aggregateByKey(\n",
    "        (0,0),\n",
    "        lambda acc, data : (acc[0] + data, acc[1] + 1),\n",
    "        lambda acc1, acc2 : (acc1[0] + acc2[0], acc1[1] + acc2[1])\n",
    "    ).mapValues(lambda v: v[0]/v[1])\n",
    "\n",
    "_ , data_death_time = zip(*average_death_duration_per_class.sortByKey().collect())\n",
    "plt.bar([str(c) for c in range(4)],data_death_time)\n",
    "plt.title(\"Average Death Time per Scheduling Class\")\n",
    "plt.xlabel(\"Scheduling Class\")\n",
    "plt.ylabel(\"Average Death Time (ms)\")\n",
    "plt.show()"
   ]
  },
  {
   "attachments": {},
   "cell_type": "markdown",
   "metadata": {},
   "source": [
    "We can see from the above graph and raw data that scheduling class 0 is the only class with any visible latency, which is slightly unexpected but does not contradict what was said in the google documentation."
   ]
  },
  {
   "attachments": {},
   "cell_type": "markdown",
   "metadata": {},
   "source": [
    "### 2 - Task priority impact \n",
    "\n",
    "Is there a positive correlation between a task priority and the ratio of its life spent running. Logic would say that it does, as this is what we would expect the scheduler to do.\n",
    "\n",
    "Preliminary questions:\n",
    "- Can a task change priority level ?\n",
    "- Do some tasks not have a FINISH (4) event at the end of their timeline ?"
   ]
  },
  {
   "cell_type": "code",
   "execution_count": 58,
   "metadata": {},
   "outputs": [
    {
     "name": "stderr",
     "output_type": "stream",
     "text": [
      "                                                                                \r"
     ]
    },
    {
     "name": "stdout",
     "output_type": "stream",
     "text": [
      "There are 142 tasks that have changed priorities.\n"
     ]
    },
    {
     "name": "stderr",
     "output_type": "stream",
     "text": [
      "[Stage 249:===========================================>          (73 + 12) / 91]\r"
     ]
    },
    {
     "name": "stdout",
     "output_type": "stream",
     "text": [
      "The distribution of last events are as follows :\n",
      "-  -------\n",
      "0    21292\n",
      "1   128291\n",
      "2     1053\n",
      "3     3339\n",
      "4  1554453\n",
      "5   731765\n",
      "6      486\n",
      "8      200\n",
      "-  -------\n"
     ]
    },
    {
     "name": "stderr",
     "output_type": "stream",
     "text": [
      "                                                                                \r"
     ]
    }
   ],
   "source": [
    "nb_tasks_several_priorities = task_events.map(lambda event: ((task_events_get['job ID'](event), task_events_get['task index'](event)), {task_events_get['priority'](event)})) \\\n",
    "    .reduceByKey(lambda p1, p2: p1 | p2) \\\n",
    "    .filter(lambda task: len(task[1])>1) \\\n",
    "    .count()\n",
    "\n",
    "print(f\"There are {nb_tasks_several_priorities} tasks that have changed priorities.\")\n",
    "\n",
    "tasks_last_event_distribution = task_events \\\n",
    "    .map(lambda event: (\n",
    "        (task_events_get['job ID'](event), task_events_get['task index'](event)),\n",
    "        (task_events_get['time'](event), task_events_get['event type'](event))\n",
    "        )\n",
    "    ) \\\n",
    "    .reduceByKey(lambda e1,e2: e1 if e1[0] > e2[0] else e2) \\\n",
    "    .map(lambda event : (event[1][1],1)) \\\n",
    "    .reduceByKey(add) \\\n",
    "    .sortBy(lambda e: e[0]) \\\n",
    "    .collect()\n",
    "\n",
    "print(f\"The distribution of last events are as follows :\\n{tabulate(tasks_last_event_distribution)}\")\n"
   ]
  },
  {
   "attachments": {},
   "cell_type": "markdown",
   "metadata": {},
   "source": [
    "Considering what we see, we need to filter events that have actually finished to have a relevant dataset for our question, as a task with high priority could have had a short life without running, getting a poor ratio. \n",
    "\n",
    "Now that we know that, we just need to look at each task's timelines (similar to how we did it in question 2) and determine its running time, and whole life. \n",
    "We will need to determine the running time out of all it's life. The running time is the time between the events SCHEDULE (1) and either EVICT (2), FINISHED (4), FAIL (3), KILL (5), or LOST (6).\n",
    "\n",
    "We will filter out the updates events, as they do not change the running status of our tasks."
   ]
  },
  {
   "cell_type": "code",
   "execution_count": 59,
   "metadata": {},
   "outputs": [],
   "source": [
    "tasks_timeline = task_events \\\n",
    "    .filter(lambda event: task_events_get['event type'](event) not in {7,8}) \\\n",
    "    .map(lambda event: (\n",
    "        (task_events_get['job ID'](event), task_events_get['task index'](event), task_events_get['priority'](event)),\n",
    "        (task_events_get['time'](event), task_events_get['event type'](event))\n",
    "        )\n",
    "    ) \\\n",
    "    .aggregateByKey(None,lambda acc, e: acc+[e] if acc is not None else [e],add) \\\n",
    "    .filter(lambda task: task[1][-1][1] == 4) \\\n",
    "    .cache()\n",
    "\n",
    "# print(f\"We have a total of {tasks_timeline.count()} tasks timelines.\")"
   ]
  },
  {
   "cell_type": "code",
   "execution_count": 60,
   "metadata": {},
   "outputs": [
    {
     "name": "stderr",
     "output_type": "stream",
     "text": [
      "                                                                                \r"
     ]
    },
    {
     "data": {
      "image/png": "[encoded data removed]",
      "text/plain": [
       "<Figure size 640x480 with 1 Axes>"
      ]
     },
     "metadata": {},
     "output_type": "display_data"
    }
   ],
   "source": [
    "def running_ratio(timeline):\n",
    "    timeline.sort(key=lambda x: x[0])\n",
    "    total_time = timeline[-1][0] - timeline[0][0]\n",
    "    if total_time==0 :\n",
    "        total_time = 1\n",
    "    running_time = 0\n",
    "    for i in range(1,len(timeline)):\n",
    "        if timeline[i-1][1] == 1 and timeline[i][1] in {2,3,4,5,6}:\n",
    "            running_time += timeline[i][0] - timeline[i-1][0]\n",
    "    return float(running_time) / float(total_time)\n",
    "\n",
    "tasks_ratio = tasks_timeline.map(lambda task: (task[0][2],running_ratio(task[1])))\n",
    "\n",
    "plt.scatter(*zip(*tasks_ratio.collect()))\n",
    "plt.show()"
   ]
  },
  {
   "attachments": {},
   "cell_type": "markdown",
   "metadata": {},
   "source": [
    "Seeing all points does not help us, so let's see the average for each priority level."
   ]
  },
  {
   "cell_type": "code",
   "execution_count": 61,
   "metadata": {},
   "outputs": [
    {
     "name": "stderr",
     "output_type": "stream",
     "text": [
      "                                                                                \r"
     ]
    },
    {
     "data": {
      "image/png": "[encoded data removed]",
      "text/plain": [
       "<Figure size 640x480 with 1 Axes>"
      ]
     },
     "metadata": {},
     "output_type": "display_data"
    }
   ],
   "source": [
    "tasks_average_ratio = tasks_ratio \\\n",
    "    .map(lambda task: (task[0],(task[1],1))) \\\n",
    "    .reduceByKey(lambda t1,t2: (t1[0]+t2[0],t1[1]+t2[1])) \\\n",
    "    .map(lambda task: (task[0],task[1][0]/task[1][1]))\n",
    "\n",
    "plt.plot(*zip(*tasks_average_ratio.collect()))\n",
    "plt.show()"
   ]
  },
  {
   "attachments": {},
   "cell_type": "markdown",
   "metadata": {},
   "source": [
    "These results are very unexpected, the google documentation (page 8, Task events table section) clearly states that 0 is the lowest priority. But the document also states that there are 3 priority categories :\n",
    "- free : lowest priority\n",
    "- production : highest priorities\n",
    "- monitoring : special category for jobs that monitor others\n",
    "\n",
    "It might be that the ranges we see are those 3 categories, with 0 to 2 being \"free\", 3 to 8 being \"production\", and 9 to 11 being monitoring. Maybe monitoring has low ratios because it gets evicted often for long period monitoring, it does not need to run often, and therefore produces a lower ratio overall."
   ]
  }
 ],
 "metadata": {
  "kernelspec": {
   "display_name": "SparkProject-DTXSDDnr",
   "language": "python",
   "name": "python3"
  },
  "language_info": {
   "codemirror_mode": {
    "name": "ipython",
    "version": 3
   },
   "file_extension": ".py",
   "mimetype": "text/x-python",
   "name": "python",
   "nbconvert_exporter": "python",
   "pygments_lexer": "ipython3",
   "version": "3.10.6 (main, Nov 14 2022, 16:10:14) [GCC 11.3.0]"
  },
  "orig_nbformat": 4,
  "vscode": {
   "interpreter": {
    "hash": "cf96d2e1563c5703f4751942328699d80d1199668a3d2612f12bdd9a534862d2"
   }
  }
 },
 "nbformat": 4,
 "nbformat_minor": 2
}
