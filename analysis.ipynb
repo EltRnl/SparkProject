{
 "cells": [
  {
   "attachments": {},
   "cell_type": "markdown",
   "metadata": {},
   "source": [
    "# Analysing data with Spark\n",
    "\n",
    "A work by: Elliot Renel and Dorian Goepp."
   ]
  },
  {
   "attachments": {},
   "cell_type": "markdown",
   "metadata": {},
   "source": [
    "Todo:\n",
    "- [ ] mise en forme des prints\n",
    "- [ ] ne plus afficher les exemples de données\n",
    "- [ ] relocalisation des imports\n",
    "- [ ] propre jusqu'à la question 6\n",
    "- [ ] utilisation de mapValues\n",
    "- [ ] générer un requirements.txt"
   ]
  },
  {
   "attachments": {},
   "cell_type": "markdown",
   "metadata": {},
   "source": [
    "## Dependencies for the project\n",
    "\n",
    "Please note that all dependencies for this work are specified in a `pipfile`, which can be used to generate the appropriate python virtual environment. We also have a `requirepents.txt` file.\n",
    "\n",
    "Here are all the imports we need:"
   ]
  },
  {
   "cell_type": "code",
   "execution_count": 16,
   "metadata": {},
   "outputs": [],
   "source": [
    "import matplotlib.pyplot as plt\n",
    "from operator import add\n",
    "from math import ceil"
   ]
  },
  {
   "attachments": {},
   "cell_type": "markdown",
   "metadata": {},
   "source": [
    "## Downloading the data\n",
    "\n",
    "Example command to download all the files for job events, running the downloads in parallel:\n",
    "\n",
    "```bash\n",
    "gsutil -m cp gs://clusterdata-2011-2/job_events/* ./job_events/\n",
    "```\n",
    "\n",
    "The parallelisation of the download is to take advantage of a high bandwidth internet connection. It would not help if the connection is slow.\n",
    "\n",
    "As these are compressed with gzip, we need to un-compress them. There is an [easy way](https://stackoverflow.com/questions/16038087/extract-and-delete-all-gz-in-a-directory-linux) to do it for all files at once:\n",
    "\n",
    "```bash\n",
    "gunzip *.gz\n",
    "```\n",
    "\n",
    "> **Note:** As an afterthought, it might have been helpful to load the data directly from gzip files, saving some disk space at the cost of an increased computational load when a file is loaded."
   ]
  },
  {
   "attachments": {},
   "cell_type": "markdown",
   "metadata": {},
   "source": [
    "## Parsing the schema file\n",
    "\n",
    "The data we are working with is stored in CSV files of different \"types\", akin to tables in a relational database. Google provided a schema file (`schema.csv`) representing the fields of these CSV types.\n",
    "\n",
    "To be able to make good use of the data, and to limit the risk of errors in selection of fields and handling of their format, we wrote a small python module to parse the schema file and help in loading and accessing the data in the CSV files."
   ]
  },
  {
   "cell_type": "code",
   "execution_count": 2,
   "metadata": {},
   "outputs": [],
   "source": [
    "# the Schema class of our utility module\n",
    "from src.schema import Schema\n",
    "# used to pretty-print tabular data\n",
    "from tabulate import tabulate"
   ]
  },
  {
   "attachments": {},
   "cell_type": "markdown",
   "metadata": {},
   "source": [
    "Our module is used through an instance of the Schema class, as we will see later. The initialiser takes the path to the schema file provided by Google."
   ]
  },
  {
   "cell_type": "code",
   "execution_count": 3,
   "metadata": {},
   "outputs": [],
   "source": [
    "schema = Schema(\"data/schema.csv\")"
   ]
  },
  {
   "attachments": {},
   "cell_type": "markdown",
   "metadata": {},
   "source": [
    "It is possible to print the object. This shows all the types of data in the data set. We commented the code block bellow as the output is quite verbose.\n",
    "\n",
    "Note the `formatter` field. It is a function which will parse the input data and convert it to an appropriate Python type, based on the value in the `format` field of the schema.\n",
    "\n",
    "With the line below, one can see all table types. We commented it to keep this document concise."
   ]
  },
  {
   "cell_type": "code",
   "execution_count": 4,
   "metadata": {},
   "outputs": [],
   "source": [
    "# print(schema)"
   ]
  },
  {
   "cell_type": "markdown",
   "metadata": {},
   "source": [
    "## Starting Spark"
   ]
  },
  {
   "attachments": {},
   "cell_type": "markdown",
   "metadata": {},
   "source": [
    "We use Spark locally, using all available cores."
   ]
  },
  {
   "cell_type": "code",
   "execution_count": 5,
   "metadata": {},
   "outputs": [
    {
     "name": "stdout",
     "output_type": "stream",
     "text": [
      "23/01/16 11:17:55 WARN Utils: Your hostname, Kixus-k resolves to a loopback address: 127.0.1.1; using 192.168.1.29 instead (on interface enx3c2c30d47db5)\n",
      "23/01/16 11:17:55 WARN Utils: Set SPARK_LOCAL_IP if you need to bind to another address\n"
     ]
    },
    {
     "name": "stderr",
     "output_type": "stream",
     "text": [
      "Setting default log level to \"WARN\".\n",
      "To adjust logging level use sc.setLogLevel(newLevel). For SparkR, use setLogLevel(newLevel).\n"
     ]
    },
    {
     "name": "stdout",
     "output_type": "stream",
     "text": [
      "23/01/16 11:17:57 WARN NativeCodeLoader: Unable to load native-hadoop library for your platform... using builtin-java classes where applicable\n"
     ]
    }
   ],
   "source": [
    "from pyspark import SparkContext\n",
    "\n",
    "# start spark with as many worker threads as available on the machine\n",
    "sc = SparkContext(\"local[*]\")\n",
    "sc.setLogLevel(\"ERROR\")"
   ]
  },
  {
   "attachments": {},
   "cell_type": "markdown",
   "metadata": {},
   "source": [
    "## Loading data and metadata\n",
    "\n",
    "### On machine events\n",
    "\n",
    "The machine events files describe events that occurred to the machines in the cluster, as well as their specifications."
   ]
  },
  {
   "attachments": {},
   "cell_type": "markdown",
   "metadata": {},
   "source": [
    "Let us now load the data in a Spark RDD. The `load_rdd` method from Schema does this for us. We give it the name of a table, and it fetches the related CSV files (if any) from the eponym folder in `data/`, here `data/machine_events`."
   ]
  },
  {
   "cell_type": "code",
   "execution_count": 7,
   "metadata": {},
   "outputs": [],
   "source": [
    "machine_events = schema.load_rdd(sc, 'machine_events')"
   ]
  },
  {
   "attachments": {},
   "cell_type": "markdown",
   "metadata": {},
   "source": [
    "A small sample of the data, to have an idea of how it looks:"
   ]
  },
  {
   "cell_type": "code",
   "execution_count": 8,
   "metadata": {},
   "outputs": [
    {
     "name": "stderr",
     "output_type": "stream",
     "text": [
      "[Stage 0:>                                                          (0 + 1) / 1]\r"
     ]
    },
    {
     "name": "stdout",
     "output_type": "stream",
     "text": [
      "  time    machine ID    event type  platform ID        CPUs    Memory\n",
      "------  ------------  ------------  ---------------  ------  --------\n",
      "     0             5             0  HofLGzk1Or/8Ild     0.5    0.2493\n",
      "                                    j2+Lqv0UGGvY82N\n",
      "                                    Loni8+J/Yy0RU=\n",
      "     0             6             0  HofLGzk1Or/8Ild     0.5    0.2493\n",
      "                                    j2+Lqv0UGGvY82N\n",
      "                                    Loni8+J/Yy0RU=\n",
      "     0             7             0  HofLGzk1Or/8Ild     0.5    0.2493\n",
      "                                    j2+Lqv0UGGvY82N\n",
      "                                    Loni8+J/Yy0RU=\n",
      "     0            10             0  HofLGzk1Or/8Ild     0.5    0.2493\n",
      "                                    j2+Lqv0UGGvY82N\n",
      "                                    Loni8+J/Yy0RU=\n",
      "     0            13             0  HofLGzk1Or/8Ild     0.5    0.2493\n",
      "                                    j2+Lqv0UGGvY82N\n",
      "                                    Loni8+J/Yy0RU=\n"
     ]
    },
    {
     "name": "stderr",
     "output_type": "stream",
     "text": [
      "                                                                                \r"
     ]
    }
   ],
   "source": [
    "print(tabulate(\n",
    "    machine_events.take(5),\n",
    "    headers=schema.get_table_field_names('machine_events'),\n",
    "    maxcolwidths=[None, None, None, 15, None, None]))"
   ]
  },
  {
   "attachments": {},
   "cell_type": "markdown",
   "metadata": {},
   "source": [
    "The following will be used later to access fields of the data by their name instead of their index."
   ]
  },
  {
   "cell_type": "code",
   "execution_count": 9,
   "metadata": {},
   "outputs": [],
   "source": [
    "machine_events_get = schema.field_getters('machine_events')"
   ]
  },
  {
   "attachments": {},
   "cell_type": "markdown",
   "metadata": {},
   "source": [
    "## Distribution of CPU capacity (Q1)\n",
    "\n",
    "We are looking for the distribution of machines according to their CPU capacity.\n",
    "\n",
    "This computation relies on the machine events. Let us represent the schema for this data:\n"
   ]
  },
  {
   "cell_type": "code",
   "execution_count": null,
   "metadata": {},
   "outputs": [
    {
     "name": "stdout",
     "output_type": "stream",
     "text": [
      "  field number  content      format       mandatory\n",
      "--------------  -----------  -----------  -----------\n",
      "             0  time         INTEGER      True\n",
      "             1  machine ID   INTEGER      True\n",
      "             2  event type   INTEGER      True\n",
      "             3  platform ID  STRING_HASH  False\n",
      "             4  CPUs         FLOAT        False\n",
      "             5  Memory       FLOAT        False\n"
     ]
    }
   ],
   "source": [
    "print(\n",
    "    tabulate(\n",
    "        schema.get_table_fields(\n",
    "            'machine_events', include_formatters=False), headers='keys'))"
   ]
  },
  {
   "cell_type": "markdown",
   "metadata": {},
   "source": [
    "\n",
    "For this analysis, we only account for the machine creation events, and keep the latest such event for any given machine. The intent is to avoid registering any machine's CPU more than once, should it have been offline for some time.\n",
    "\n",
    "Keeping the latest creation event is arbitrary, but considers that it is highly unlikely for a machine's CPU to be changed over time.\n",
    "\n",
    "The first three operations on `machine_events` concern the extraction of machine creation events and the selection of one single creation event for any given machine.\n",
    "\n",
    "The following three operations sums the numbers of machines with any given CPU capacity. We use the same method we were introduced to for words counting during the classes.\n",
    "\n",
    "Distribution of machine capacity based on their CPU power (normalised):"
   ]
  },
  {
   "cell_type": "code",
   "execution_count": 13,
   "metadata": {},
   "outputs": [
    {
     "name": "stdout",
     "output_type": "stream",
     "text": [
      "123    machines have CPU 0.25\n",
      "11636  machines have CPU 0.5\n",
      "796    machines have CPU 1.0\n"
     ]
    }
   ],
   "source": [
    "cpu = machine_events_get['CPUs']\n",
    "event_type = machine_events_get['event type']\n",
    "machine_id = machine_events_get['machine ID']\n",
    "time = machine_events_get['time']\n",
    "\n",
    "cpu_usage = machine_events \\\n",
    "    .filter(lambda event: event_type(event) == 0 and cpu(event) is not None) \\\n",
    "    .map(lambda event: (machine_id(event), event)) \\\n",
    "    .reduceByKey(lambda r1, r2: r1 if time(r1) > time(r2) else r2) \\\n",
    "    .map(lambda row: (cpu(row[1]), 1)) \\\n",
    "    .reduceByKey(add) \\\n",
    "    .sortBy(lambda x: x[0])\n",
    "\n",
    "for usage, nb in cpu_usage.collect():\n",
    "    print(f\"{nb:<6} machines have CPU {usage}\")"
   ]
  },
  {
   "attachments": {},
   "cell_type": "markdown",
   "metadata": {},
   "source": [
    "Here is a plot of the same data:"
   ]
  },
  {
   "cell_type": "code",
   "execution_count": 10,
   "metadata": {},
   "outputs": [
    {
     "data": {
      "image/png": "[encoded data removed]",
      "text/plain": [
       "<Figure size 640x480 with 1 Axes>"
      ]
     },
     "metadata": {},
     "output_type": "display_data"
    }
   ],
   "source": [
    "fig = plt.figure()\n",
    "ax = fig.add_axes([0, 0, 1, 1])\n",
    "legend = cpu_usage.map(lambda x: str(\n",
    "    x[0]) if x[0] is not None else 'None').collect()\n",
    "count = cpu_usage.sortByKey().map(lambda x: x[1]).collect()\n",
    "ax.bar(legend, count)\n",
    "\n",
    "plt.xlabel(\"CPU capacity\")\n",
    "plt.ylabel(\"Number of machines (log scale)\")\n",
    "plt.title(\"Distribution of CPU capacity\")\n",
    "\n",
    "plt.yscale(\"log\")\n",
    "plt.show()"
   ]
  },
  {
   "attachments": {},
   "cell_type": "markdown",
   "metadata": {},
   "source": [
    "Please mind the y scale which is logarithmic, to better see the lesser occuring CPU capacities.\n",
    "\n",
    "We observe that a vast majority of machines have half the maximum available CPU power. Less than ten times less machines have the full computational power and even less have a quarter of the maximal power."
   ]
  },
  {
   "attachments": {},
   "cell_type": "markdown",
   "metadata": {},
   "source": [
    "## Lost Computational Power due to maintenance (Q2)\n",
    "\n",
    "To begin with, we chose to interpret computational power as the product of CPU capacity with time. If the CPU capacity is a normalised version of CPU frequency, it means that such computational power represents a number of CPU cycles. Of course, two processors do not always perform the same number of instructions per cycle, but it is surely a good enough approximation for the task at hand.\n",
    "\n",
    "As a reminder, here is the schema of the data we use:"
   ]
  },
  {
   "cell_type": "code",
   "execution_count": null,
   "metadata": {},
   "outputs": [
    {
     "name": "stdout",
     "output_type": "stream",
     "text": [
      "  field number  content      format       mandatory\n",
      "--------------  -----------  -----------  -----------\n",
      "             0  time         INTEGER      True\n",
      "             1  machine ID   INTEGER      True\n",
      "             2  event type   INTEGER      True\n",
      "             3  platform ID  STRING_HASH  False\n",
      "             4  CPUs         FLOAT        False\n",
      "             5  Memory       FLOAT        False\n"
     ]
    }
   ],
   "source": [
    "print(\n",
    "    tabulate(\n",
    "        schema.get_table_fields(\n",
    "            'machine_events', include_formatters=False), headers='keys'))"
   ]
  },
  {
   "cell_type": "markdown",
   "metadata": {},
   "source": [
    "\n",
    "This question requires that we study the story of each machine, namely when it was brought online and when it was put offline. So, as a first step, we create a new RDD where each element is a list of events regarding a machine.\n",
    "\n",
    "To do so, we follow the map/reduce pattern. A last mapping operation removes the key-value mapping used for the map/reduce, as it is not needed later.\n",
    "\n",
    "> **Note**: The latter operation might be a candidate for optimisation, should it become a bottleneck."
   ]
  },
  {
   "cell_type": "code",
   "execution_count": 11,
   "metadata": {},
   "outputs": [],
   "source": [
    "machines_history = machine_events \\\n",
    "    .map(lambda row: (machine_id(row), row)) \\\n",
    "    .aggregateByKey(None, lambda acc, e: acc+[e] if acc is not None else [e], add) \\\n",
    "    .map(lambda machine: machine[1])"
   ]
  },
  {
   "attachments": {},
   "cell_type": "markdown",
   "metadata": {},
   "source": [
    "Let us have a preview of the resulting data, taking three entries of the RDD:"
   ]
  },
  {
   "cell_type": "code",
   "execution_count": 12,
   "metadata": {},
   "outputs": [
    {
     "name": "stderr",
     "output_type": "stream",
     "text": [
      "[Stage 28:>                                                         (0 + 2) / 2]\r"
     ]
    },
    {
     "name": "stdout",
     "output_type": "stream",
     "text": [
      "  time    machine ID    event type  platform ID        CPUs    Memory\n",
      "------  ------------  ------------  ---------------  ------  --------\n",
      "     0             6             0  HofLGzk1Or/8Ild     0.5    0.2493\n",
      "                                    j2+Lqv0UGGvY82N\n",
      "                                    Loni8+J/Yy0RU=\n",
      "\n",
      "\n",
      "         time    machine ID    event type  platform ID        CPUs    Memory\n",
      "-------------  ------------  ------------  ---------------  ------  --------\n",
      "            0            10             0  HofLGzk1Or/8Ild     0.5    0.2493\n",
      "                                           j2+Lqv0UGGvY82N\n",
      "                                           Loni8+J/Yy0RU=\n",
      "1306164355566            10             1  HofLGzk1Or/8Ild     0.5    0.2493\n",
      "                                           j2+Lqv0UGGvY82N\n",
      "                                           Loni8+J/Yy0RU=\n",
      "1307163081914            10             0  HofLGzk1Or/8Ild     0.5    0.2493\n",
      "                                           j2+Lqv0UGGvY82N\n",
      "                                           Loni8+J/Yy0RU=\n",
      "\n",
      "\n",
      "  time    machine ID    event type  platform ID        CPUs    Memory\n",
      "------  ------------  ------------  ---------------  ------  --------\n",
      "     0            14             0  HofLGzk1Or/8Ild     0.5    0.2493\n",
      "                                    j2+Lqv0UGGvY82N\n",
      "                                    Loni8+J/Yy0RU=\n",
      "\n",
      "\n"
     ]
    },
    {
     "name": "stderr",
     "output_type": "stream",
     "text": [
      "                                                                                \r"
     ]
    }
   ],
   "source": [
    "for a_story in machines_history.take(3):\n",
    "    print(tabulate(\n",
    "        a_story,\n",
    "        headers=schema.get_table_field_names('machine_events'),\n",
    "        maxcolwidths=[None, None, None, 15, None, None]))\n",
    "    print('\\n')"
   ]
  },
  {
   "attachments": {},
   "cell_type": "markdown",
   "metadata": {},
   "source": [
    "And also see how many machines are covered in this sample data:"
   ]
  },
  {
   "cell_type": "code",
   "execution_count": 76,
   "metadata": {},
   "outputs": [
    {
     "data": {
      "text/plain": [
       "12583"
      ]
     },
     "execution_count": 76,
     "metadata": {},
     "output_type": "execute_result"
    }
   ],
   "source": [
    "machines_history.count()"
   ]
  },
  {
   "attachments": {},
   "cell_type": "markdown",
   "metadata": {},
   "source": [
    "During our exploration, we wondered whether the data was already sorted in the CSV source files by event time. The following counts the number of entries which are not sorted by time."
   ]
  },
  {
   "cell_type": "code",
   "execution_count": 46,
   "metadata": {},
   "outputs": [
    {
     "data": {
      "text/plain": [
       "0"
      ]
     },
     "execution_count": 46,
     "metadata": {},
     "output_type": "execute_result"
    }
   ],
   "source": [
    "def to_event_times(history):\n",
    "    \"\"\"\n",
    "    take the history of events for a machine (a list of events)\n",
    "    and return the list of timestamps for these events, in the\n",
    "    same order.\n",
    "    \"\"\"\n",
    "    time_list = list()\n",
    "    for event in history:\n",
    "        time_list.append(machine_events_get['time'](event))\n",
    "    return time_list\n",
    "\n",
    "\n",
    "machines_history \\\n",
    "    .map(lambda events: to_event_times(events)) \\\n",
    "    .filter(lambda m: not sorted(m)) \\\n",
    "    .count()"
   ]
  },
  {
   "attachments": {},
   "cell_type": "markdown",
   "metadata": {},
   "source": [
    "The outcome is zero, showing that event entries are already sorted. The rest of our work on this question relies on this fact."
   ]
  },
  {
   "attachments": {},
   "cell_type": "markdown",
   "metadata": {},
   "source": [
    "As the documentation for the data set states, the trace period starts at 600 seconds ($6 \\times 10^{8} \\mu s$). Therefore, to obtain the time of the end of the trace, we find the latest event time and subtracted $6 \\times 10^{8}$ to it.\n",
    "\n",
    "> **Note:** This assumes the absence of records dated after the end of the trace period. For these, the time value would be $2^{63} - 1$ (MAXINT). We did not encounter this value."
   ]
  },
  {
   "cell_type": "code",
   "execution_count": 17,
   "metadata": {},
   "outputs": [
    {
     "name": "stdout",
     "output_type": "stream",
     "text": [
      "The total trace time is 2505535493517 µs ≈ 696 hours ≈ 29 days\n"
     ]
    },
    {
     "name": "stderr",
     "output_type": "stream",
     "text": [
      "                                                                                \r"
     ]
    }
   ],
   "source": [
    "total_trace_time = time(machine_events.max(lambda row: time(row))) - 6*10**8\n",
    "\n",
    "print(\n",
    "    f'The total trace time is {total_trace_time} µs ≈ {ceil(total_trace_time/(10**6 * 3600))} hours ≈ {ceil(total_trace_time/(10**6 * 3600 * 24))} days')"
   ]
  },
  {
   "attachments": {},
   "cell_type": "markdown",
   "metadata": {},
   "source": [
    "Once we have this number, computing the theoretical total computation power of a given machine is a matter of subtracting the starting time of the machine and multiplying by the CPU capacity. \n",
    "\n",
    "> **Note:** We assume that the CPU capacity of a machine never changes.\n",
    "\n",
    "Also, there are some machines that have some cpu values at None, as shown below."
   ]
  },
  {
   "cell_type": "code",
   "execution_count": 52,
   "metadata": {},
   "outputs": [
    {
     "name": "stdout",
     "output_type": "stream",
     "text": [
      "There are 32 machines with None values in their CPUs.\n"
     ]
    }
   ],
   "source": [
    "def has_none_cpu(events):\n",
    "    cpu = machine_events_get['CPUs']\n",
    "    for m in events:\n",
    "        if cpu(m) is None:\n",
    "            return True\n",
    "    return False\n",
    "\n",
    "print(f'There are {machines_history.filter(has_none_cpu).count()} machines with None values in their CPUs.')"
   ]
  },
  {
   "attachments": {},
   "cell_type": "markdown",
   "metadata": {},
   "source": [
    "The events for these machines could be perfectly valid. For instance, it could be an update event which does not affect the CPU. However, there are so few machines affected that we consider it harmless to exclude them from further analysis."
   ]
  },
  {
   "attachments": {},
   "cell_type": "markdown",
   "metadata": {},
   "source": [
    "We also want to know how much time a machine was off. To compute this, we look for ADD and REMOVE machine events, considering the time between an ADD and a REMOVE as active time and time between a REMOVE and an ADD as off time.\n",
    "\n",
    "> **Note:** We consider that a machine added after the start of the traces (time > 600s) has been added to the system at this point for the first time. Therefore, the time before is not counted as lost computational power.\n",
    "\n",
    "We have had to handle the special case where a machine is removed but not brought back before the end of the trace. Our tests showed at least 17% of machines were in this situation with a sample of the data (not everything). This required us to change the way we processed the data below.\n",
    "\n",
    "The function below does this processing for a given machine."
   ]
  },
  {
   "cell_type": "code",
   "execution_count": 89,
   "metadata": {},
   "outputs": [],
   "source": [
    "def lost_and_total_power(events):\n",
    "    \"\"\"\n",
    "    Compute the time between installation of the machine (or start of the trace) and its final removal (or end of the trace). This also computes the sum of times the machine was offline between the two former time points.\n",
    "\n",
    "    Then, these values are multiplied by the CPU capacity of the machine and returned as a tuple.\n",
    "    \"\"\"\n",
    "\n",
    "    # Functions and Variables\n",
    "    status = machine_events_get['event type']\n",
    "    time = machine_events_get['time']\n",
    "    start = time(events[0])\n",
    "    cpu = machine_events_get['CPUs'](events[0])\n",
    "\n",
    "    # Lost time\n",
    "    lost_time = 0\n",
    "    machine_off = True\n",
    "    last_seen = None\n",
    "    for event in events:\n",
    "        if status(event) == 1 and not machine_off: # machine removed\n",
    "            last_seen = time(event)\n",
    "            machine_off = True\n",
    "        elif status(event) == 0 and machine_off: # machine added\n",
    "            machine_off = False\n",
    "            if last_seen is not None:\n",
    "                lost_time += time(event) - last_seen\n",
    "    \n",
    "    if machine_off and last_seen is not None:\n",
    "        lost_time += total_trace_time + 6 * 10**8 - last_seen\n",
    "\n",
    "    # Total time\n",
    "    total_time = total_trace_time if (\n",
    "        start < 6*10**8) else (total_trace_time - start + 6*10**8)\n",
    "\n",
    "    # Resulting power\n",
    "    return (lost_time*cpu, total_time*cpu)"
   ]
  },
  {
   "attachments": {},
   "cell_type": "markdown",
   "metadata": {},
   "source": [
    "The following keeps only machines which events all contain CPU information, and then applies the map/reduce scheme to compute the total and lost computational power."
   ]
  },
  {
   "cell_type": "code",
   "execution_count": 91,
   "metadata": {},
   "outputs": [
    {
     "name": "stdout",
     "output_type": "stream",
     "text": [
      "During the trace time, around 0.6836% of the computational power was lost.\n",
      "The exact percentage obtained is 0.6836169046693634% !\n"
     ]
    }
   ],
   "source": [
    "power_lost_and_total = machines_history \\\n",
    "    .filter(lambda m: not has_none_cpu(m)) \\\n",
    "    .map(lost_and_total_power) \\\n",
    "    .reduce(lambda p1, p2: (p1[0]+p2[0], p1[1]+p2[1]))\n",
    "\n",
    "print(f'During the trace time, around {(power_lost_and_total[0]/power_lost_and_total[1])*100:.4f}% of the computational power was lost.\\\n",
    "\\nThe exact percentage obtained is {(power_lost_and_total[0]/power_lost_and_total[1])*100}% !')"
   ]
  },
  {
   "attachments": {},
   "cell_type": "markdown",
   "metadata": {},
   "source": [
    "The lost computational power we obtained for the first sample of data is ≈0.68%, which seems to be quite an achievement."
   ]
  },
  {
   "attachments": {},
   "cell_type": "markdown",
   "metadata": {},
   "source": [
    "## Distribution of jobs and tasks per scheduling class (Q3)\n",
    "\n",
    "We will evaluate the distribution over **submitted** tasks and jobs. It also implies that we do not consider the distribution _over time_ but only within the _set_ of all submitted tasks and jobs.\n",
    "\n",
    "We could also consider the evolution of the scheduling class through time, looking at the event types UPDATE_PENDING and UPDATE_RUNNING. This is a different perspective where time is a key component."
   ]
  },
  {
   "cell_type": "markdown",
   "metadata": {},
   "source": [
    "### Studying jobs"
   ]
  },
  {
   "attachments": {},
   "cell_type": "markdown",
   "metadata": {},
   "source": [
    "We start our analysis with jobs. They should be fewer than tasks, as there can be many tasks per job, but one job per task.\n",
    "\n",
    "Before all, the schema for the tables we will use:"
   ]
  },
  {
   "cell_type": "code",
   "execution_count": 131,
   "metadata": {},
   "outputs": [
    {
     "name": "stdout",
     "output_type": "stream",
     "text": [
      "  field number  content           format       mandatory\n",
      "--------------  ----------------  -----------  -----------\n",
      "             0  time              INTEGER      True\n",
      "             1  missing info      INTEGER      False\n",
      "             2  job ID            INTEGER      True\n",
      "             3  event type        INTEGER      True\n",
      "             4  user              STRING_HASH  False\n",
      "             5  scheduling class  INTEGER      False\n",
      "             6  job name          STRING_HASH  False\n",
      "             7  logical job name  STRING_HASH  False\n"
     ]
    }
   ],
   "source": [
    "print(\n",
    "    tabulate(\n",
    "        schema.get_table_fields('job_events', include_formatters=False),\n",
    "        headers='keys',\n",
    "        maxcolwidths=40))"
   ]
  },
  {
   "attachments": {},
   "cell_type": "markdown",
   "metadata": {},
   "source": [
    "Firstly, we gather the events based on the task or job they refer to. We expect such lists of events to be small enough to be handled in regular python lists."
   ]
  },
  {
   "cell_type": "code",
   "execution_count": 18,
   "metadata": {},
   "outputs": [],
   "source": [
    "job_events = schema.load_rdd(sc,'job_events')\n",
    "job_events_get = schema.field_getters('job_events')"
   ]
  },
  {
   "cell_type": "code",
   "execution_count": 119,
   "metadata": {},
   "outputs": [
    {
     "name": "stderr",
     "output_type": "stream",
     "text": [
      "[Stage 181:====================================================>(497 + 3) / 500]\r"
     ]
    },
    {
     "name": "stdout",
     "output_type": "stream",
     "text": [
      "There are 2012242 job events.\n"
     ]
    },
    {
     "name": "stderr",
     "output_type": "stream",
     "text": [
      "                                                                                \r"
     ]
    }
   ],
   "source": [
    "print(f\"There are {job_events.count()} job events.\")"
   ]
  },
  {
   "attachments": {},
   "cell_type": "markdown",
   "metadata": {},
   "source": [
    "On Dorian's machine, the computation above took 46s (with other running programs).\n",
    "\n",
    "We are interested in the job submission event, which is when they are assigned their (initial) scheduling class."
   ]
  },
  {
   "cell_type": "code",
   "execution_count": 19,
   "metadata": {},
   "outputs": [],
   "source": [
    "# event type 0 = SUBMIT\n",
    "submit_events = job_events \\\n",
    "    .filter(lambda job_event: job_events_get['event type'](job_event) == 0) \\\n",
    "    .cache()"
   ]
  },
  {
   "attachments": {},
   "cell_type": "markdown",
   "metadata": {},
   "source": [
    "The documentation says that it is possible for a job to be submitted more than once, when it has been evicted, killed or when it failed but still is runnable (up to a maximal number of trials).\n",
    "\n",
    "What if the the scheduling class had been changed when the job is submitted another time?"
   ]
  },
  {
   "cell_type": "code",
   "execution_count": 20,
   "metadata": {},
   "outputs": [
    {
     "name": "stderr",
     "output_type": "stream",
     "text": [
      "[Stage 43:=====================================================>(496 + 4) / 500]\r"
     ]
    },
    {
     "name": "stdout",
     "output_type": "stream",
     "text": [
      "0\n"
     ]
    },
    {
     "name": "stderr",
     "output_type": "stream",
     "text": [
      "                                                                                \r"
     ]
    }
   ],
   "source": [
    "jobs_with_several_scheduling_classes = submit_events \\\n",
    "    .map(lambda job_event: (job_events_get['job ID'](job_event), \n",
    "                            {job_events_get['scheduling class'](job_event)})) \\\n",
    "    .reduceByKey(lambda event1, event2: event1 | event2) \\\n",
    "    .filter(lambda x: len(x[1]) > 1) \\\n",
    "    .count()\n",
    "\n",
    "print(jobs_with_several_scheduling_classes)"
   ]
  },
  {
   "attachments": {},
   "cell_type": "markdown",
   "metadata": {},
   "source": [
    "None.\n",
    "\n",
    "> **Note:** observe the curly braces used in `map` and `reduceByKey` above. We used python sets, which allow us to count all *distinct* scheduling classes a job was given.\n",
    "\n",
    "Let us then proceed with gathering the scheduling classes. The first step will be to remove any duplicate, which the initial `map` and `distinct` calls do. We chose the `map` operation such that it allowed us to use mapValues below with a constant function."
   ]
  },
  {
   "cell_type": "code",
   "execution_count": 41,
   "metadata": {},
   "outputs": [
    {
     "name": "stderr",
     "output_type": "stream",
     "text": [
      "[Stage 107:====================================================>(499 + 1) / 500]\r"
     ]
    },
    {
     "name": "stdout",
     "output_type": "stream",
     "text": [
      "257275  jobs are scheduled in class 0\n",
      "215109  jobs are scheduled in class 1\n",
      "194513  jobs are scheduled in class 2\n",
      "5177    jobs are scheduled in class 3\n"
     ]
    },
    {
     "name": "stderr",
     "output_type": "stream",
     "text": [
      "                                                                                \r"
     ]
    }
   ],
   "source": [
    "job_scheduling_classes = submit_events \\\n",
    "    .map(lambda event: (job_events_get['scheduling class'](event),\n",
    "                        job_events_get['job ID'](event))) \\\n",
    "    .distinct() \\\n",
    "    .countByKey()\n",
    "\n",
    "for scheduling_class, count in sorted(job_scheduling_classes.items()):\n",
    "    print(f\"{count:<7} jobs are scheduled in class {scheduling_class}\")"
   ]
  },
  {
   "attachments": {},
   "cell_type": "markdown",
   "metadata": {},
   "source": [
    "To better understand these values, let us plot them:"
   ]
  },
  {
   "cell_type": "code",
   "execution_count": 46,
   "metadata": {},
   "outputs": [
    {
     "data": {
      "image/png": "[encoded data removed]",
      "text/plain": [
       "<Figure size 640x480 with 1 Axes>"
      ]
     },
     "metadata": {},
     "output_type": "display_data"
    }
   ],
   "source": [
    "def bar_plot_question3(scheduling_classes, title, type):\n",
    "    fig = plt.figure()\n",
    "    ax = fig.add_axes([0, 0, 1, 1])\n",
    "    scheduling_class = list(scheduling_classes.keys())\n",
    "    count = scheduling_classes.values()\n",
    "    ax.bar(scheduling_class, count)\n",
    "    plt.xlabel(\"Scheduling classes\")\n",
    "    plt.ylabel(f\"Number of {type}\")\n",
    "    plt.xticks(scheduling_class)\n",
    "    plt.title(title)\n",
    "    plt.show()\n",
    "\n",
    "\n",
    "bar_plot_question3(job_scheduling_classes,\n",
    "                   \"Distribution of scheduling classes for all submitted jobs\", \"jobs\")"
   ]
  },
  {
   "attachments": {},
   "cell_type": "markdown",
   "metadata": {},
   "source": [
    "As a reminder, the scheduling class 3 is the most latency sensitive and 0 the least. The vast majority of jobs are of non-critical latency sensitivity, the more sensitive, the lesser the number.\n",
    "\n",
    "It should be good, as insensitive jobs can be scheduled when the sensitive ones are not running, but do not suffer from being put aside when sensitive jobs have to take over. This should help maximising resource usage."
   ]
  },
  {
   "cell_type": "markdown",
   "metadata": {},
   "source": [
    "### Repeating the analysis for tasks\n",
    "\n",
    "Let us now do the same analysis for all tasks, irrespective of which job they belong to.\n",
    "\n",
    "Starting with the schema of the tasks events table"
   ]
  },
  {
   "cell_type": "code",
   "execution_count": 22,
   "metadata": {},
   "outputs": [
    {
     "name": "stdout",
     "output_type": "stream",
     "text": [
      "  field number  content             format       mandatory\n",
      "--------------  ------------------  -----------  -----------\n",
      "             0  time                INTEGER      True\n",
      "             1  missing info        INTEGER      False\n",
      "             2  job ID              INTEGER      True\n",
      "             3  task index          INTEGER      True\n",
      "             4  machine ID          INTEGER      False\n",
      "             5  event type          INTEGER      True\n",
      "             6  user                STRING_HASH  False\n",
      "             7  scheduling class    INTEGER      False\n",
      "             8  priority            INTEGER      True\n",
      "             9  CPU request         FLOAT        False\n",
      "            10  memory request      FLOAT        False\n",
      "            11  disk space request  FLOAT        False\n",
      "            12  different machines  BOOLEAN      False\n",
      "                restriction\n"
     ]
    }
   ],
   "source": [
    "task_events_get = schema.field_getters('task_events')\n",
    "\n",
    "print(\n",
    "    tabulate(\n",
    "        schema.get_table_fields('task_events', include_formatters=False),\n",
    "        headers='keys',\n",
    "        maxcolwidths=[None, 20, None, None, 40]))"
   ]
  },
  {
   "cell_type": "markdown",
   "metadata": {},
   "source": [
    "Then, we load the data and filter for submission events."
   ]
  },
  {
   "cell_type": "code",
   "execution_count": 23,
   "metadata": {},
   "outputs": [],
   "source": [
    "task_events = schema.load_rdd(sc,'task_events').persist()\n",
    "\n",
    "task_submit_events = task_events \\\n",
    "    .filter(lambda task_event: task_events_get['event type'](task_event) == 0) \\\n",
    "    .cache()"
   ]
  },
  {
   "attachments": {},
   "cell_type": "markdown",
   "metadata": {},
   "source": [
    "A sample of this data, commented for conciseness, can displayed below."
   ]
  },
  {
   "cell_type": "code",
   "execution_count": 24,
   "metadata": {},
   "outputs": [],
   "source": [
    "# Basic version\n",
    "\n",
    "# for task_event in task_submit_events.take(5):\n",
    "#     print(task_event)\n",
    "\n",
    "# This version is prettier, but too wide for some screens.\n",
    "\n",
    "# print(\n",
    "#     tabulate(\n",
    "#         task_submit_events.take(5),\n",
    "#         headers=schema.get_table_field_names('task_events'),\n",
    "#         maxcolwidths=[None, None, None, None, None, None, 10]))"
   ]
  },
  {
   "attachments": {},
   "cell_type": "markdown",
   "metadata": {},
   "source": [
    "Following the same idea as for jobs, let us count how many tasks have been submitted more than once within different scheduling classes.\n",
    "\n",
    "> **Note:** that here and after, we use a tuple as the key representing a task. Indeed, each task is represented by the job it belongs to and its task index. It does not have a unique identifier of its own."
   ]
  },
  {
   "cell_type": "code",
   "execution_count": 25,
   "metadata": {},
   "outputs": [
    {
     "name": "stderr",
     "output_type": "stream",
     "text": [
      "[Stage 47:=============================>                            (1 + 1) / 2]\r"
     ]
    },
    {
     "name": "stdout",
     "output_type": "stream",
     "text": [
      "0 tasks have more than one scheduling class.\n"
     ]
    },
    {
     "name": "stderr",
     "output_type": "stream",
     "text": [
      "                                                                                \r"
     ]
    }
   ],
   "source": [
    "tasks_with_several_scheduling_classes = task_submit_events \\\n",
    "    .map(lambda event: ((task_events_get['job ID'](event), task_events_get['task index'](event)), \n",
    "                        {task_events_get['scheduling class'](event)})) \\\n",
    "    .reduceByKey(lambda event1, event2: event1 | event2) \\\n",
    "    .filter(lambda x: len(x[1]) > 1)\n",
    "\n",
    "print(f'{tasks_with_several_scheduling_classes.count()} tasks have more than one scheduling class.')"
   ]
  },
  {
   "attachments": {},
   "cell_type": "markdown",
   "metadata": {},
   "source": [
    "From this, we conclude that, as with jobs, no task has ever seen its scheduling class changed after being resubmitted (due to eviction, failure, kill).\n",
    "\n",
    "On to the distribution of scheduling classes:"
   ]
  },
  {
   "cell_type": "code",
   "execution_count": 39,
   "metadata": {},
   "outputs": [
    {
     "name": "stderr",
     "output_type": "stream",
     "text": [
      "[Stage 102:============================>                            (1 + 1) / 2]\r"
     ]
    },
    {
     "name": "stdout",
     "output_type": "stream",
     "text": [
      "94244   tasks are scheduled in class 0\n",
      "26699   tasks are scheduled in class 1\n",
      "41873   tasks are scheduled in class 2\n",
      "28110   tasks are scheduled in class 3\n"
     ]
    },
    {
     "name": "stderr",
     "output_type": "stream",
     "text": [
      "                                                                                \r"
     ]
    }
   ],
   "source": [
    "task_scheduling_classes = task_submit_events \\\n",
    "    .map(lambda event: (\n",
    "        task_events_get['scheduling class'](event),\n",
    "        (task_events_get['job ID'](event), task_events_get['task index'](event)))) \\\n",
    "    .distinct() \\\n",
    "    .countByKey()\n",
    "\n",
    "for scheduling_class, count in sorted(task_scheduling_classes.items()):\n",
    "    print(f\"{count:<7} tasks are scheduled in class {scheduling_class}\")"
   ]
  },
  {
   "attachments": {},
   "cell_type": "markdown",
   "metadata": {},
   "source": [
    "And the related plot, featuring both jobs and tasks:"
   ]
  },
  {
   "cell_type": "code",
   "execution_count": 44,
   "metadata": {},
   "outputs": [
    {
     "data": {
      "image/png": "[encoded data removed]",
      "text/plain": [
       "<Figure size 640x480 with 1 Axes>"
      ]
     },
     "metadata": {},
     "output_type": "display_data"
    }
   ],
   "source": [
    "classes = range(0, 4)\n",
    "w = 0.25\n",
    "\n",
    "# Plotting jobs\n",
    "scheduling_class = list(map(lambda x: (x - w/2), job_scheduling_classes.keys()))\n",
    "count = job_scheduling_classes.values()\n",
    "plt.bar(scheduling_class, count, width=w, align='center', label=\"jobs\")\n",
    "\n",
    "# Plotting tasks\n",
    "scheduling_class = list(map(lambda x: x + w/2, task_scheduling_classes.keys()))\n",
    "count = task_scheduling_classes.values()\n",
    "plt.bar(scheduling_class, count, width=w, align='center', label=\"tasks\")\n",
    "\n",
    "plt.xlabel(\"Scheduling classes\")\n",
    "plt.ylabel(\"Number of jobs/tasks\")\n",
    "plt.xticks(classes, [str(a_class) for a_class in classes])\n",
    "plt.title(\"Distribution of scheduling classes for all submitted jobs and tasks\")\n",
    "plt.legend()\n",
    "plt.show()"
   ]
  },
  {
   "attachments": {},
   "cell_type": "markdown",
   "metadata": {},
   "source": [
    "This plot seems counter-intuitive. I suspect that we might need to process all the data for a more comprehensive view."
   ]
  },
  {
   "attachments": {},
   "cell_type": "markdown",
   "metadata": {},
   "source": [
    "## Relation between scheduling class and eviction of tasks (Q4)\n",
    "\n",
    "We now focus on events of type 2, namely eviction events. These still rely on the task events, which schema we recall below."
   ]
  },
  {
   "cell_type": "code",
   "execution_count": 47,
   "metadata": {},
   "outputs": [
    {
     "name": "stdout",
     "output_type": "stream",
     "text": [
      "  field number  content                         format       mandatory\n",
      "--------------  ------------------------------  -----------  -----------\n",
      "             0  time                            INTEGER      True\n",
      "             1  missing info                    INTEGER      False\n",
      "             2  job ID                          INTEGER      True\n",
      "             3  task index                      INTEGER      True\n",
      "             4  machine ID                      INTEGER      False\n",
      "             5  event type                      INTEGER      True\n",
      "             6  user                            STRING_HASH  False\n",
      "             7  scheduling class                INTEGER      False\n",
      "             8  priority                        INTEGER      True\n",
      "             9  CPU request                     FLOAT        False\n",
      "            10  memory request                  FLOAT        False\n",
      "            11  disk space request              FLOAT        False\n",
      "            12  different machines restriction  BOOLEAN      False\n"
     ]
    }
   ],
   "source": [
    "print(\n",
    "    tabulate(\n",
    "        schema.get_table_fields(\n",
    "            'task_events', include_formatters=False), headers='keys'))"
   ]
  },
  {
   "cell_type": "markdown",
   "metadata": {},
   "source": [
    "Using the usual map/reduce pattern to count occurrences of a value, we gather the evictions per scheduling class."
   ]
  },
  {
   "cell_type": "code",
   "execution_count": 51,
   "metadata": {},
   "outputs": [
    {
     "name": "stderr",
     "output_type": "stream",
     "text": [
      "                                                                                \r"
     ]
    },
    {
     "name": "stdout",
     "output_type": "stream",
     "text": [
      "tasks of scheduling class 0 evicted: 2864\n",
      "tasks of scheduling class 1 evicted: 792\n",
      "tasks of scheduling class 2 evicted: 662\n",
      "tasks of scheduling class 3 evicted: 20\n"
     ]
    }
   ],
   "source": [
    "scheduling_eviction_relations = task_events \\\n",
    "    .filter(lambda event: task_events_get['event type'](event) == 2) \\\n",
    "    .map(lambda event: (task_events_get['scheduling class'](event), 1)) \\\n",
    "    .reduceByKey(add) \\\n",
    "    .sortByKey() \\\n",
    "    .collect()\n",
    "\n",
    "for relations in scheduling_eviction_relations:\n",
    "    print(f\"tasks of scheduling class {relations[0]} evicted: {relations[1]}\")"
   ]
  },
  {
   "cell_type": "code",
   "execution_count": 52,
   "metadata": {},
   "outputs": [
    {
     "data": {
      "image/png": "[encoded data removed]",
      "text/plain": [
       "<Figure size 640x480 with 1 Axes>"
      ]
     },
     "metadata": {},
     "output_type": "display_data"
    }
   ],
   "source": [
    "fig = plt.figure()\n",
    "\n",
    "legend = list(map(lambda x: x[0], scheduling_eviction_relations))\n",
    "count = list(map(lambda x: x[1], scheduling_eviction_relations))\n",
    "plt.bar(legend, count)\n",
    "\n",
    "plt.xlabel(\"Scheduling class\")\n",
    "plt.ylabel(\"Number of evictions\")\n",
    "plt.xticks(legend)\n",
    "plt.title(\"Distribution of evictions\")\n",
    "\n",
    "plt.show()"
   ]
  },
  {
   "cell_type": "markdown",
   "metadata": {},
   "source": [
    "Tasks with lower scheduling class were evicted much more than those with higher scheduling class. Note that we chose to keep all eviction events, even when a single task is evicted several times.\n",
    "\n",
    "It matches the idea that latency-sensitive tasks, represented with higher scheduling classes, need to be interrupted (namely evicted) as little as possible, so that they can be completed soon."
   ]
  }
 ],
 "metadata": {
  "kernelspec": {
   "display_name": "5_SparkProject-Tuj_Du56",
   "language": "python",
   "name": "python3"
  },
  "language_info": {
   "codemirror_mode": {
    "name": "ipython",
    "version": 3
   },
   "file_extension": ".py",
   "mimetype": "text/x-python",
   "name": "python",
   "nbconvert_exporter": "python",
   "pygments_lexer": "ipython3",
   "version": "3.10.6"
  },
  "orig_nbformat": 4,
  "vscode": {
   "interpreter": {
    "hash": "f7ede0eb55671c30ba8a6f7c0b4ab1936479b84180dfb1e39512798d9c89e30c"
   }
  }
 },
 "nbformat": 4,
 "nbformat_minor": 2
}
