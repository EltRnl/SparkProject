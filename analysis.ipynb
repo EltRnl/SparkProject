{
 "cells": [
  {
   "attachments": {},
   "cell_type": "markdown",
   "metadata": {},
   "source": [
    "# Analysing data with Spark\n",
    "\n",
    "A work by: Elliot Renel and Dorian Goepp."
   ]
  },
  {
   "attachments": {},
   "cell_type": "markdown",
   "metadata": {},
   "source": [
    "## Downloading the data\n",
    "\n",
    "Example command to download all the files for job events, running the downloads in parallel:\n",
    "\n",
    "```bash\n",
    "gsutil -m cp gs://clusterdata-2011-2/job_events/* ./job_events/\n",
    "```\n",
    "\n",
    "The parallelisation of the download is to take advantage of a high bandwidth internet connection. It would not help if the connection is slow.\n",
    "\n",
    "As these are compressed with gzip, we need to un-compress them. There is an [easy way](https://stackoverflow.com/questions/16038087/extract-and-delete-all-gz-in-a-directory-linux) to do it for all files at once:\n",
    "\n",
    "```bash\n",
    "gunzip *.gz\n",
    "```\n",
    "\n",
    "> **Note:** As an afterthought, it might have been helpful to load the data directly from gzip files, saving some disk space at the cost of an increased computational load when a file is loaded."
   ]
  },
  {
   "attachments": {},
   "cell_type": "markdown",
   "metadata": {},
   "source": [
    "## Parsing the schema file\n",
    "\n",
    "The data we are working with is stored in CSV files of different \"types\", akin to tables in a relational database. Google provided a schema file (`schema.csv`) representing the fields of these CSV types.\n",
    "\n",
    "To be able to make good use of the data, and to limit the risk of errors in selection of fields and handling of their format, we wrote a small python module to parse the schema file and help in loading and accessing the data in the CSV files."
   ]
  },
  {
   "cell_type": "code",
   "execution_count": 1,
   "metadata": {},
   "outputs": [],
   "source": [
    "# the Schema class of our utility module\n",
    "from src.schema import Schema\n",
    "# used to pretty-print tabular data\n",
    "from tabulate import tabulate"
   ]
  },
  {
   "attachments": {},
   "cell_type": "markdown",
   "metadata": {},
   "source": [
    "Our module is used through an instance of the Schema class, as we will see later. The initialiser takes the path to the schema file provided by Google."
   ]
  },
  {
   "cell_type": "code",
   "execution_count": 2,
   "metadata": {},
   "outputs": [],
   "source": [
    "schema = Schema(\"data/schema.csv\")"
   ]
  },
  {
   "attachments": {},
   "cell_type": "markdown",
   "metadata": {},
   "source": [
    "It is possible to print the object. This shows all the types of data in the data set. We commented the code block bellow as the output is quite verbose.\n",
    "\n",
    "Note the `formatter` field. It is a function which will parse the input data and convert it to an appropriate Python type, based on the value in the `format` field of the schema."
   ]
  },
  {
   "cell_type": "code",
   "execution_count": 3,
   "metadata": {},
   "outputs": [],
   "source": [
    "# print(schema)"
   ]
  },
  {
   "cell_type": "markdown",
   "metadata": {},
   "source": [
    "## Starting Spark"
   ]
  },
  {
   "attachments": {},
   "cell_type": "markdown",
   "metadata": {},
   "source": [
    "We use Spark locally, using all available cores."
   ]
  },
  {
   "cell_type": "code",
   "execution_count": 4,
   "metadata": {},
   "outputs": [
    {
     "name": "stdout",
     "output_type": "stream",
     "text": [
      "23/01/14 22:48:13 WARN Utils: Your hostname, Kixus-k resolves to a loopback address: 127.0.1.1; using 192.168.1.29 instead (on interface enx3c2c30d47db5)\n",
      "23/01/14 22:48:13 WARN Utils: Set SPARK_LOCAL_IP if you need to bind to another address\n"
     ]
    },
    {
     "name": "stderr",
     "output_type": "stream",
     "text": [
      "Setting default log level to \"WARN\".\n",
      "To adjust logging level use sc.setLogLevel(newLevel). For SparkR, use setLogLevel(newLevel).\n"
     ]
    },
    {
     "name": "stdout",
     "output_type": "stream",
     "text": [
      "23/01/14 22:48:15 WARN NativeCodeLoader: Unable to load native-hadoop library for your platform... using builtin-java classes where applicable\n",
      "23/01/14 22:48:18 WARN Utils: Service 'SparkUI' could not bind on port 4040. Attempting port 4041.\n"
     ]
    }
   ],
   "source": [
    "from pyspark import SparkContext\n",
    "\n",
    "# start spark with as many worker threads as available on the machine\n",
    "sc = SparkContext(\"local[*]\")\n",
    "sc.setLogLevel(\"ERROR\")"
   ]
  },
  {
   "attachments": {},
   "cell_type": "markdown",
   "metadata": {},
   "source": [
    "## Analysis on machine events (Q1 & Q2)\n",
    "\n",
    "The machine events files describe events that occurred to the machines in the cluster, as well as their specifications (mostly in the initial events).\n",
    "\n",
    "First, let us see the schema of this file's data:"
   ]
  },
  {
   "cell_type": "code",
   "execution_count": 5,
   "metadata": {},
   "outputs": [
    {
     "name": "stdout",
     "output_type": "stream",
     "text": [
      "  field number  content      format       mandatory\n",
      "--------------  -----------  -----------  -----------\n",
      "             0  time         INTEGER      True\n",
      "             1  machine ID   INTEGER      True\n",
      "             2  event type   INTEGER      True\n",
      "             3  platform ID  STRING_HASH  False\n",
      "             4  CPUs         FLOAT        False\n",
      "             5  Memory       FLOAT        False\n"
     ]
    }
   ],
   "source": [
    "print(\n",
    "    tabulate(\n",
    "        schema.get_table_fields(\n",
    "            'machine_events', include_formatters=False), headers='keys'))\n"
   ]
  },
  {
   "attachments": {},
   "cell_type": "markdown",
   "metadata": {},
   "source": [
    "Let us now load the data in a Spark RDD. The `load_rdd` method from Schema does this for us. We give it the name of a table, and it fetches the related CSV files (if any) from the eponym folder in `data/`, here `data/machine_events`."
   ]
  },
  {
   "cell_type": "code",
   "execution_count": 10,
   "metadata": {},
   "outputs": [],
   "source": [
    "machine_events = schema.load_rdd(sc, 'machine_events')"
   ]
  },
  {
   "attachments": {},
   "cell_type": "markdown",
   "metadata": {},
   "source": [
    "A small sample of the data, to have an idea of how it looks:"
   ]
  },
  {
   "cell_type": "code",
   "execution_count": 11,
   "metadata": {},
   "outputs": [
    {
     "name": "stdout",
     "output_type": "stream",
     "text": [
      "  time    machine ID    event type  platform ID        CPUs    Memory\n",
      "------  ------------  ------------  ---------------  ------  --------\n",
      "     0             5             0  HofLGzk1Or/8Ild     0.5    0.2493\n",
      "                                    j2+Lqv0UGGvY82N\n",
      "                                    Loni8+J/Yy0RU=\n",
      "     0             6             0  HofLGzk1Or/8Ild     0.5    0.2493\n",
      "                                    j2+Lqv0UGGvY82N\n",
      "                                    Loni8+J/Yy0RU=\n",
      "     0             7             0  HofLGzk1Or/8Ild     0.5    0.2493\n",
      "                                    j2+Lqv0UGGvY82N\n",
      "                                    Loni8+J/Yy0RU=\n",
      "     0            10             0  HofLGzk1Or/8Ild     0.5    0.2493\n",
      "                                    j2+Lqv0UGGvY82N\n",
      "                                    Loni8+J/Yy0RU=\n",
      "     0            13             0  HofLGzk1Or/8Ild     0.5    0.2493\n",
      "                                    j2+Lqv0UGGvY82N\n",
      "                                    Loni8+J/Yy0RU=\n"
     ]
    }
   ],
   "source": [
    "print(tabulate(\n",
    "\tmachine_events.take(5),\n",
    "\theaders=schema.get_table_field_names('machine_events'),\n",
    "\tmaxcolwidths = [None, None, None, 15, None, None]))"
   ]
  },
  {
   "attachments": {},
   "cell_type": "markdown",
   "metadata": {},
   "source": [
    "The following will be used later to access fields of the data by their name instead of their index."
   ]
  },
  {
   "cell_type": "code",
   "execution_count": 9,
   "metadata": {},
   "outputs": [],
   "source": [
    "machine_events_get = schema.field_getters('machine_events')"
   ]
  },
  {
   "attachments": {},
   "cell_type": "markdown",
   "metadata": {},
   "source": [
    "### Distribution of CPU capacity (Q1)\n",
    "\n",
    "We are looking for the distribution of machines according to their CPU capacity.\n",
    "\n",
    "For this analysis, we only account for the machine creation events, and keep the latest such event for any given machine. The intent is to avoid registering any machine's CPU more than once, should it have been offline for some time.\n",
    "\n",
    "Keeping the latest creation event is arbitrary, but considers that it is highly unlikely for a machine's CPU to be changed over time.\n",
    "\n",
    "The first three operations on `machine_events` concern the extraction of machine creation events and the selection of one single creation event for any given machine.\n",
    "\n",
    "The following three operations sums the numbers of machines with any given CPU capacity. We use the same method we were introduced to for words counting during the classes.\n",
    "\n",
    "Distribution of machine capacity based on their CPU power (normalised):"
   ]
  },
  {
   "cell_type": "code",
   "execution_count": 13,
   "metadata": {},
   "outputs": [
    {
     "name": "stderr",
     "output_type": "stream",
     "text": [
      "                                                                                \r"
     ]
    },
    {
     "name": "stdout",
     "output_type": "stream",
     "text": [
      "123 machines have CPU 0.25\n",
      "11636 machines have CPU 0.5\n",
      "796 machines have CPU 1.0\n"
     ]
    }
   ],
   "source": [
    "from operator import add\n",
    "\n",
    "cpu = machine_events_get['CPUs']\n",
    "event_type = machine_events_get['event type']\n",
    "machine_id = machine_events_get['machine ID']\n",
    "time = machine_events_get['time']\n",
    "\n",
    "cpu_usage = machine_events \\\n",
    "    .filter(lambda event: event_type(event) == 0 and cpu(event) is not None) \\\n",
    "    .map(lambda event: (machine_id(event),event)) \\\n",
    "    .reduceByKey(lambda r1,r2: r1 if time(r1)>time(r2) else r2) \\\n",
    "    .map(lambda row: (cpu(row[1]), 1)) \\\n",
    "    .reduceByKey(add) \\\n",
    "    .sortBy(lambda x: x[0])\n",
    "\n",
    "for usage,nb in cpu_usage.collect():\n",
    "    print(f\"{nb} machines have CPU {usage}\")\n"
   ]
  },
  {
   "attachments": {},
   "cell_type": "markdown",
   "metadata": {},
   "source": [
    "Here is a plot of the same data:"
   ]
  },
  {
   "cell_type": "code",
   "execution_count": 16,
   "metadata": {},
   "outputs": [
    {
     "data": {
      "image/png": "[encoded data removed]",
      "text/plain": [
       "<Figure size 640x480 with 1 Axes>"
      ]
     },
     "metadata": {},
     "output_type": "display_data"
    }
   ],
   "source": [
    "import matplotlib.pyplot as plt\n",
    "\n",
    "fig = plt.figure()\n",
    "ax = fig.add_axes([0,0,1,1])\n",
    "legend = cpu_usage.map(lambda x: str(x[0]) if x[0] is not None else 'None').collect()\n",
    "count = cpu_usage.sortByKey().map(lambda x: x[1]).collect()\n",
    "ax.bar(legend,count)\n",
    "\n",
    "plt.xlabel(\"CPU capacity\")\n",
    "plt.ylabel(\"Number of machines (log scale)\")\n",
    "plt.title(\"Distribution of CPU capacity\")\n",
    "\n",
    "plt.yscale(\"log\")\n",
    "plt.show()"
   ]
  },
  {
   "attachments": {},
   "cell_type": "markdown",
   "metadata": {},
   "source": [
    "Please mind the y scale which is logarithmic, to better see the lesser frequent CPU capacities.\n",
    "\n",
    "We observe that a vast majority of machines have half the maximum available CPU power. Less than ten times less machines have the full computational power and even less have a quarter of the maximal power."
   ]
  },
  {
   "attachments": {},
   "cell_type": "markdown",
   "metadata": {},
   "source": [
    "### Lost Computational Power due to maintenance (Q2)"
   ]
  },
  {
   "cell_type": "code",
   "execution_count": 23,
   "metadata": {},
   "outputs": [
    {
     "name": "stdout",
     "output_type": "stream",
     "text": [
      "  time    machine ID    event type  platform ID        CPUs    Memory\n",
      "------  ------------  ------------  ---------------  ------  --------\n",
      "     0             6             0  HofLGzk1Or/8Ild     0.5    0.2493\n",
      "                                    j2+Lqv0UGGvY82N\n",
      "                                    Loni8+J/Yy0RU=\n",
      "\n",
      "\n",
      "         time    machine ID    event type  platform ID        CPUs    Memory\n",
      "-------------  ------------  ------------  ---------------  ------  --------\n",
      "            0            10             0  HofLGzk1Or/8Ild     0.5    0.2493\n",
      "                                           j2+Lqv0UGGvY82N\n",
      "                                           Loni8+J/Yy0RU=\n",
      "1306164355566            10             1  HofLGzk1Or/8Ild     0.5    0.2493\n",
      "                                           j2+Lqv0UGGvY82N\n",
      "                                           Loni8+J/Yy0RU=\n",
      "1307163081914            10             0  HofLGzk1Or/8Ild     0.5    0.2493\n",
      "                                           j2+Lqv0UGGvY82N\n",
      "                                           Loni8+J/Yy0RU=\n",
      "\n",
      "\n",
      "  time    machine ID    event type  platform ID        CPUs    Memory\n",
      "------  ------------  ------------  ---------------  ------  --------\n",
      "     0            14             0  HofLGzk1Or/8Ild     0.5    0.2493\n",
      "                                    j2+Lqv0UGGvY82N\n",
      "                                    Loni8+J/Yy0RU=\n",
      "\n",
      "\n"
     ]
    }
   ],
   "source": [
    "machines_history = machine_events \\\n",
    "    .map(lambda row: (machine_id(row),row)) \\\n",
    "    .aggregateByKey(None,lambda acc, e: acc+[e] if acc is not None else [e],add) \\\n",
    "    .map(lambda machine: machine[1])\n",
    "\n",
    "for a_story in machines_history.take(3):\n",
    "    print(tabulate(\n",
    "        a_story,\n",
    "        headers=schema.get_table_field_names('machine_events'),\n",
    "        maxcolwidths = [None, None, None, 15, None, None]))\n",
    "    print('\\n')"
   ]
  },
  {
   "cell_type": "code",
   "execution_count": 10,
   "metadata": {},
   "outputs": [
    {
     "data": {
      "text/plain": [
       "0"
      ]
     },
     "execution_count": 10,
     "metadata": {},
     "output_type": "execute_result"
    }
   ],
   "source": [
    "machines_history.filter(lambda m: sorted(m)).count() - machines_history.count()"
   ]
  },
  {
   "cell_type": "markdown",
   "metadata": {},
   "source": [
    "The trace period starts at 600 seconds (aka $6 \\times 10^{8}$ microseconds), to obtain the total trace time, we find the latest event time and subtracted $6 \\times 10^{8}$ to it."
   ]
  },
  {
   "cell_type": "code",
   "execution_count": 11,
   "metadata": {},
   "outputs": [
    {
     "name": "stdout",
     "output_type": "stream",
     "text": [
      "The total trace time is 2505535493517 µs ≈ 696 hours ≈ 29 days\n"
     ]
    }
   ],
   "source": [
    "from math import ceil\n",
    "\n",
    "total_trace_time = time(machine_events.max(lambda row: time(row))) - 6*10**8\n",
    "\n",
    "print(f'The total trace time is {total_trace_time} µs ≈ {ceil(total_trace_time/(10**6 * 3600))} hours ≈ {ceil(total_trace_time/(10**6 * 3600 * 24))} days')"
   ]
  },
  {
   "cell_type": "markdown",
   "metadata": {},
   "source": [
    "Once we have this number, computing the total computation power of a given machine is a matter of subtracting the starting time of the machine and multiplying by the CPU capacity. We assume here that the CPU capacity of a machine never changes, and we remove the machines that have some cpu values at None to prevent weird events."
   ]
  },
  {
   "cell_type": "code",
   "execution_count": 12,
   "metadata": {},
   "outputs": [
    {
     "name": "stdout",
     "output_type": "stream",
     "text": [
      "There are 32 machines with None values in their CPUs. They will not be evaluated.\n",
      "During the trace time, around 0.4798% of the computational power was lost.\n",
      "The exact percentage obtained is 0.4798129882918588% !\n"
     ]
    }
   ],
   "source": [
    "def lost_and_total_power(events):\n",
    "    # Functions and Variables\n",
    "    status = machine_events_get['event type']\n",
    "    time = machine_events_get['time']\n",
    "    start = time(events[0])\n",
    "    cpu = machine_events_get['CPUs'](events[0])\n",
    "\n",
    "    # Lost time\n",
    "    lost_time = 0\n",
    "    for i,m in enumerate(events):\n",
    "        if i==0:\n",
    "            continue\n",
    "        if status(m)==0 and status(events[i-1])==1:\n",
    "            lost_time += time(m) - time(events[i-1])\n",
    "        \n",
    "    # Total time\n",
    "    total_time = total_trace_time if (start < 6*10**8) else (total_trace_time - start + 6*10**8)\n",
    "\n",
    "    # Resulting power\n",
    "    return (lost_time*cpu,total_time*cpu)\n",
    "\n",
    "def has_none_cpu(events):\n",
    "    cpu = machine_events_get['CPUs']\n",
    "    for m in events:\n",
    "        if cpu(m) is None:\n",
    "            return True\n",
    "    return False\n",
    "\n",
    "print(f'There are {machines_history.filter(has_none_cpu).count()} machines with None values in their CPUs. They will not be evaluated.')\n",
    "\n",
    "power_lost_and_total = machines_history \\\n",
    "    .filter(lambda m: not has_none_cpu(m)) \\\n",
    "    .map(lost_and_total_power) \\\n",
    "    .reduce(lambda p1,p2: (p1[0]+p2[0],p1[1]+p2[1]))\n",
    "\n",
    "print(f'During the trace time, around {(power_lost_and_total[0]/power_lost_and_total[1])*100:.4f}% of the computational power was lost.\\\n",
    "\\nThe exact percentage obtained is {(power_lost_and_total[0]/power_lost_and_total[1])*100}% !')\n"
   ]
  },
  {
   "attachments": {},
   "cell_type": "markdown",
   "metadata": {},
   "source": [
    "## Distribution of jobs and tasks per scheduling class (Q3)\n",
    "\n",
    "We will evaluate the distribution over **submitted** tasks and jobs. It also implies that we do not consider the distribution _over time_ but only within the _set_ of all submitted tasks and jobs.\n",
    "\n",
    "We could also consider the evolution of the scheduling class through time, looking at the event types UPDATE_PENDING and UPDATE_RUNNING. This is a different perspective where time is a key component."
   ]
  },
  {
   "cell_type": "markdown",
   "metadata": {},
   "source": [
    "### Studying jobs"
   ]
  },
  {
   "cell_type": "markdown",
   "metadata": {},
   "source": [
    "We start our analysis with jobs. They should be fewer, as there can be many tasks per job, but one job per task.\n",
    "\n",
    "Before all, the schema for the tables we will use:"
   ]
  },
  {
   "cell_type": "code",
   "execution_count": 13,
   "metadata": {},
   "outputs": [
    {
     "name": "stdout",
     "output_type": "stream",
     "text": [
      "  field number  content           format       mandatory    formatter\n",
      "--------------  ----------------  -----------  -----------  --------------------------------------\n",
      "             0  time              INTEGER      True         <function\n",
      "                                                            parse_schema_line.<locals>.<lambda> at\n",
      "                                                            0x7fa9debcc280>\n",
      "             1  missing info      INTEGER      False        <function\n",
      "                                                            parse_schema_line.<locals>.<lambda> at\n",
      "                                                            0x7fa9debcd120>\n",
      "             2  job ID            INTEGER      True         <function\n",
      "                                                            parse_schema_line.<locals>.<lambda> at\n",
      "                                                            0x7fa9debcc9d0>\n",
      "             3  event type        INTEGER      True         <function\n",
      "                                                            parse_schema_line.<locals>.<lambda> at\n",
      "                                                            0x7fa9debcd1b0>\n",
      "             4  user              STRING_HASH  False        <function\n",
      "                                                            parse_schema_line.<locals>.<lambda> at\n",
      "                                                            0x7fa9debcd000>\n",
      "             5  scheduling class  INTEGER      False        <function\n",
      "                                                            parse_schema_line.<locals>.<lambda> at\n",
      "                                                            0x7fa9debcc160>\n",
      "             6  job name          STRING_HASH  False        <function\n",
      "                                                            parse_schema_line.<locals>.<lambda> at\n",
      "                                                            0x7fa9debcd480>\n",
      "             7  logical job name  STRING_HASH  False        <function\n",
      "                                                            parse_schema_line.<locals>.<lambda> at\n",
      "                                                            0x7fa9debcd3f0>\n"
     ]
    }
   ],
   "source": [
    "print(tabulate(schema.get_table_schema('job_events')['fields'], headers='keys', maxcolwidths=40))"
   ]
  },
  {
   "cell_type": "markdown",
   "metadata": {},
   "source": [
    "First step, gather the events based on the task or job they refer to. We expect such lists of events to be small enough to be handled in regular python lists."
   ]
  },
  {
   "cell_type": "code",
   "execution_count": 14,
   "metadata": {},
   "outputs": [
    {
     "name": "stdout",
     "output_type": "stream",
     "text": [
      "-------------    ----------  -  --------------------------------------------  -  --------------------------------------------  --------------------------------------------\n",
      "1759537643559    6416951808  0  68CsCZngOkuQn5lVo+dNXKGoFx9ZmJXWR+W7NAUmEH4=  2  hsNjJ1kuW0Fjw19LCKSNMoIedO6dXEwotcAwuZzN+W8=  tjDJ4Yi7F2TEXAS8aMiOSj0Gnf0fMQU71fbn4Hh7YaQ=\n",
      "1759537651487    6416951928  0  CyS0bJ1mSJjSSGuoHDUH9h1P9aCRWvC13/GWBPTKDWw=  2  BsI3s4eBz40Sw71oIDYmHa97gITSve44lxrA1wfeE80=  XJDU79m2icgPfbSC3t76/jDJ852+gvKUykoSUdjFzBo=\n",
      "1759538717557    6416951928  1  CyS0bJ1mSJjSSGuoHDUH9h1P9aCRWvC13/GWBPTKDWw=  2  BsI3s4eBz40Sw71oIDYmHa97gITSve44lxrA1wfeE80=  XJDU79m2icgPfbSC3t76/jDJ852+gvKUykoSUdjFzBo=\n",
      "1759538717561    6416951972  0  CyS0bJ1mSJjSSGuoHDUH9h1P9aCRWvC13/GWBPTKDWw=  2  aooVLhky98Hvzrvek0uHJVrpiG/T64405SdKVcrweOc=  bMH3deZyAJjfJKj5cwdPHB77S8p/ApWpTAaQR/uMGWc=\n",
      "1759538717582    6416951808  1  68CsCZngOkuQn5lVo+dNXKGoFx9ZmJXWR+W7NAUmEH4=  2  hsNjJ1kuW0Fjw19LCKSNMoIedO6dXEwotcAwuZzN+W8=  tjDJ4Yi7F2TEXAS8aMiOSj0Gnf0fMQU71fbn4Hh7YaQ=\n",
      "1759538717586    6416951908  0  68CsCZngOkuQn5lVo+dNXKGoFx9ZmJXWR+W7NAUmEH4=  0  Mic2u3/UDJEvTLZFXe6RRZ5hVZoM/puk7HRATPSqTo4=  UKue5EtVO44+uXdNFl7uMDfNmoSBfSFXu5UAvMSxSGw=\n",
      "1759538717587    6416951974  0  68CsCZngOkuQn5lVo+dNXKGoFx9ZmJXWR+W7NAUmEH4=  0  cdz9VYTUBSBfL8ozLVpQohehcUgXqT9+rumD3prDKuE=  /wAQ5YEd5raeXyZr8VmQ2iR5nI6tyyPszObciMeYajw=\n",
      "1759538717588    6416952043  0  68CsCZngOkuQn5lVo+dNXKGoFx9ZmJXWR+W7NAUmEH4=  2  w/kjiyE2vyBEGPjOOnjcucrXTMvB7MjjZHT6aqu/hrM=  BpmFzGpl9TLJCqySUPsjJtBIb+Ow/QiK15WXEJFb74M=\n",
      "1759539286190    6416951908  1  68CsCZngOkuQn5lVo+dNXKGoFx9ZmJXWR+W7NAUmEH4=  0  Mic2u3/UDJEvTLZFXe6RRZ5hVZoM/puk7HRATPSqTo4=  UKue5EtVO44+uXdNFl7uMDfNmoSBfSFXu5UAvMSxSGw=\n",
      "1759539286215    6416951974  1  68CsCZngOkuQn5lVo+dNXKGoFx9ZmJXWR+W7NAUmEH4=  0  cdz9VYTUBSBfL8ozLVpQohehcUgXqT9+rumD3prDKuE=  /wAQ5YEd5raeXyZr8VmQ2iR5nI6tyyPszObciMeYajw=\n",
      "-------------    ----------  -  --------------------------------------------  -  --------------------------------------------  --------------------------------------------\n"
     ]
    }
   ],
   "source": [
    "job_events = schema.load_rdd(sc,'job_events')\n",
    "job_events.persist()\n",
    "\n",
    "job_events_get = schema.field_getters('job_events')\n",
    "\n",
    "print(tabulate(job_events.take(10)))"
   ]
  },
  {
   "cell_type": "code",
   "execution_count": 15,
   "metadata": {},
   "outputs": [
    {
     "name": "stderr",
     "output_type": "stream",
     "text": [
      "[Stage 40:=====================================================>(496 + 4) / 500]\r"
     ]
    },
    {
     "name": "stdout",
     "output_type": "stream",
     "text": [
      "There is an estimated 2012242 number of job events\n"
     ]
    },
    {
     "name": "stderr",
     "output_type": "stream",
     "text": [
      "[Stage 40:=====================================================>(498 + 2) / 500]\r"
     ]
    }
   ],
   "source": [
    "print(f\"There is an estimated {job_events.countApprox(10)} number of job events\")"
   ]
  },
  {
   "attachments": {},
   "cell_type": "markdown",
   "metadata": {},
   "source": [
    "On Dorian's machine, the computation above took 1m 46s (with other running jobs such as browser and synchronisation service)."
   ]
  },
  {
   "cell_type": "markdown",
   "metadata": {},
   "source": [
    "We are interested in the job submission event, which is when they are assigned their (initial) scheduling class."
   ]
  },
  {
   "cell_type": "code",
   "execution_count": 16,
   "metadata": {},
   "outputs": [],
   "source": [
    "# event type 0 = SUBMIT\n",
    "scheduling_events = job_events \\\n",
    "    .filter(lambda job_event: job_events_get['event type'](job_event) == 0)"
   ]
  },
  {
   "cell_type": "markdown",
   "metadata": {},
   "source": [
    "The documentation says that it is possible for a job to be submitted more than once, when it has evicted, failed or been killed but still is runnable (up to a maximal number of trials).\n",
    "\n",
    "Do we have any such situation ?"
   ]
  },
  {
   "cell_type": "code",
   "execution_count": 17,
   "metadata": {},
   "outputs": [
    {
     "name": "stderr",
     "output_type": "stream",
     "text": [
      "[Stage 42:=====================================================>(494 + 4) / 500]\r"
     ]
    },
    {
     "name": "stdout",
     "output_type": "stream",
     "text": [
      "1 jobs have more than one scheduling class.\n"
     ]
    },
    {
     "name": "stderr",
     "output_type": "stream",
     "text": [
      "                                                                                \r"
     ]
    }
   ],
   "source": [
    "jobs_with_several_scheduling_classes = scheduling_events \\\n",
    "    .map(lambda job_event: (job_events_get['job ID'](job_event), \n",
    "                            [job_events_get['scheduling class'](job_event)])) \\\n",
    "    .reduceByKey(lambda event1, event2: event1 + event2) \\\n",
    "    .filter(lambda x: len(x[1]) > 1) \\\n",
    "    .count()\n",
    "\n",
    "print(f'{jobs_with_several_scheduling_classes} jobs have more than one scheduling class.')"
   ]
  },
  {
   "attachments": {},
   "cell_type": "markdown",
   "metadata": {},
   "source": [
    "No.\n",
    "\n",
    "Let us then proceed with gathering the scheduling classes."
   ]
  },
  {
   "cell_type": "code",
   "execution_count": 24,
   "metadata": {},
   "outputs": [
    {
     "name": "stderr",
     "output_type": "stream",
     "text": [
      "[Stage 52:=====================================================>(491 + 4) / 500]\r"
     ]
    },
    {
     "name": "stdout",
     "output_type": "stream",
     "text": [
      "(0, 257276)\n",
      "(1, 215109)\n",
      "(2, 194513)\n",
      "(3, 5177)\n"
     ]
    },
    {
     "name": "stderr",
     "output_type": "stream",
     "text": [
      "                                                                                \r"
     ]
    }
   ],
   "source": [
    "job_scheduling_classes = scheduling_events \\\n",
    "    .map(lambda event: (job_events_get['scheduling class'](event), 1)) \\\n",
    "    .reduceByKey(add) \\\n",
    "    .collect()\n",
    "\n",
    "for scheduling_class in job_scheduling_classes:\n",
    "    print(scheduling_class)"
   ]
  },
  {
   "cell_type": "code",
   "execution_count": 21,
   "metadata": {},
   "outputs": [
    {
     "data": {
      "image/png": "[encoded data removed]",
      "text/plain": [
       "<Figure size 640x480 with 1 Axes>"
      ]
     },
     "metadata": {},
     "output_type": "display_data"
    }
   ],
   "source": [
    "def bar_plot_question3(scheduling_classes, title):\n",
    "    # TODO : make this into a proper function and put it in another file (plot.py ?)\n",
    "    fig = plt.figure()\n",
    "    ax = fig.add_axes([0,0,1,1])\n",
    "    scheduling_class = list(map(lambda x: x[0], scheduling_classes))\n",
    "    count = list(map(lambda x: x[1], scheduling_classes))\n",
    "    ax.bar(scheduling_class,count)\n",
    "    plt.xlabel(\"Scheduling classes\")\n",
    "    plt.ylabel(\"Number of jobs\")\n",
    "    plt.xticks(scheduling_class)\n",
    "    plt.title(title)\n",
    "    plt.show()\n",
    "\n",
    "bar_plot_question3(job_scheduling_classes, \"Distribution of scheduling classes for all submitted jobs\")"
   ]
  },
  {
   "cell_type": "markdown",
   "metadata": {},
   "source": [
    "### Repeating the analysis for tasks\n",
    "\n",
    "Let us now do the same analysis for all tasks, irrespective of which job they belong to.\n",
    "\n",
    "Starting with the schema of the tasks events table"
   ]
  },
  {
   "cell_type": "code",
   "execution_count": 18,
   "metadata": {},
   "outputs": [
    {
     "name": "stdout",
     "output_type": "stream",
     "text": [
      "  field number  content             format       mandatory    formatter\n",
      "--------------  ------------------  -----------  -----------  --------------------------------------\n",
      "             0  time                INTEGER      True         <function\n",
      "                                                              parse_schema_line.<locals>.<lambda> at\n",
      "                                                              0x7f5ae5d82830>\n",
      "             1  missing info        INTEGER      False        <function\n",
      "                                                              parse_schema_line.<locals>.<lambda> at\n",
      "                                                              0x7f5ae5d828c0>\n",
      "             2  job ID              INTEGER      True         <function\n",
      "                                                              parse_schema_line.<locals>.<lambda> at\n",
      "                                                              0x7f5ae5d82a70>\n",
      "             3  task index          INTEGER      True         <function\n",
      "                                                              parse_schema_line.<locals>.<lambda> at\n",
      "                                                              0x7f5ae5d82b00>\n",
      "             4  machine ID          INTEGER      False        <function\n",
      "                                                              parse_schema_line.<locals>.<lambda> at\n",
      "                                                              0x7f5ae5d82b90>\n",
      "             5  event type          INTEGER      True         <function\n",
      "                                                              parse_schema_line.<locals>.<lambda> at\n",
      "                                                              0x7f5ae5d82c20>\n",
      "             6  user                STRING_HASH  False        <function\n",
      "                                                              parse_schema_line.<locals>.<lambda> at\n",
      "                                                              0x7f5ae5d82dd0>\n",
      "             7  scheduling class    INTEGER      False        <function\n",
      "                                                              parse_schema_line.<locals>.<lambda> at\n",
      "                                                              0x7f5ae5d82d40>\n",
      "             8  priority            INTEGER      True         <function\n",
      "                                                              parse_schema_line.<locals>.<lambda> at\n",
      "                                                              0x7f5ae5d82cb0>\n",
      "             9  CPU request         FLOAT        False        <function\n",
      "                                                              parse_schema_line.<locals>.<lambda> at\n",
      "                                                              0x7f5ae5d82ef0>\n",
      "            10  memory request      FLOAT        False        <function\n",
      "                                                              parse_schema_line.<locals>.<lambda> at\n",
      "                                                              0x7f5ae5d82f80>\n",
      "            11  disk space request  FLOAT        False        <function\n",
      "                                                              parse_schema_line.<locals>.<lambda> at\n",
      "                                                              0x7f5ae5d83010>\n",
      "            12  different machines  BOOLEAN      False        <function\n",
      "                restriction                                   parse_schema_line.<locals>.<lambda> at\n",
      "                                                              0x7f5ae5d831c0>\n"
     ]
    }
   ],
   "source": [
    "task_events_get = schema.field_getters('task_events')\n",
    "\n",
    "print(tabulate(\n",
    "    schema.get_table_schema('task_events')['fields'], \n",
    "    headers='keys',\n",
    "    maxcolwidths=[None, 20, None, None, 40]))"
   ]
  },
  {
   "cell_type": "markdown",
   "metadata": {},
   "source": [
    "Then, we load the data and filter for submission events."
   ]
  },
  {
   "cell_type": "code",
   "execution_count": 19,
   "metadata": {},
   "outputs": [
    {
     "name": "stderr",
     "output_type": "stream",
     "text": [
      "[Stage 44:>                                                         (0 + 1) / 1]\r"
     ]
    },
    {
     "name": "stdout",
     "output_type": "stream",
     "text": [
      "[0, 2, 3418309, 0, 4155527081, 0, '70s3v5qRyCO/1PCdI6fVXnrW8FU/w+5CKRSa72xgcIo=', 3, 9, None, None, None, None]\n",
      "[0, 2, 3418309, 1, 329150663, 0, '70s3v5qRyCO/1PCdI6fVXnrW8FU/w+5CKRSa72xgcIo=', 3, 9, None, None, None, None]\n",
      "[0, None, 3418314, 0, 3938719206, 0, '70s3v5qRyCO/1PCdI6fVXnrW8FU/w+5CKRSa72xgcIo=', 3, 9, 0.125, 0.07446, 0.0004244, False]\n",
      "[0, None, 3418314, 1, 351618647, 0, '70s3v5qRyCO/1PCdI6fVXnrW8FU/w+5CKRSa72xgcIo=', 3, 9, 0.125, 0.07446, 0.0004244, False]\n",
      "[0, 2, 3418319, 0, 431052910, 0, '70s3v5qRyCO/1PCdI6fVXnrW8FU/w+5CKRSa72xgcIo=', 3, 9, None, None, None, None]\n"
     ]
    },
    {
     "name": "stderr",
     "output_type": "stream",
     "text": [
      "                                                                                \r"
     ]
    }
   ],
   "source": [
    "task_events = schema.load_rdd(sc,'task_events').persist()\n",
    "\n",
    "task_submit_events = task_events.filter(\n",
    "    lambda task_event: task_events_get['event type'](task_event) == 0)\n",
    "\n",
    "# task_headers = map(lambda field: field['content'], task_events_schema['fields'])\n",
    "# print(tabulate(task_submit_events.take(5), headers=task_headers))\n",
    "for task_event in task_submit_events.take(5):\n",
    "    print(task_event)"
   ]
  },
  {
   "cell_type": "code",
   "execution_count": 20,
   "metadata": {},
   "outputs": [
    {
     "name": "stderr",
     "output_type": "stream",
     "text": [
      "[Stage 45:=============================>                            (1 + 1) / 2]\r"
     ]
    },
    {
     "name": "stdout",
     "output_type": "stream",
     "text": [
      "0 tasks have more than one scheduling class.\n"
     ]
    },
    {
     "name": "stderr",
     "output_type": "stream",
     "text": [
      "                                                                                \r"
     ]
    }
   ],
   "source": [
    "tasks_with_several_scheduling_classes = task_submit_events \\\n",
    "    .map(lambda event: ((task_events_get['job ID'](event), task_events_get['task index'](event)), \n",
    "                        {task_events_get['scheduling class'](event)})) \\\n",
    "    .reduceByKey(lambda event1, event2: event1 | event2) \\\n",
    "    .filter(lambda x: len(x[1]) > 1)\n",
    "\n",
    "print(f'{tasks_with_several_scheduling_classes.count()} tasks have more than one scheduling class.')"
   ]
  },
  {
   "cell_type": "markdown",
   "metadata": {},
   "source": [
    "From this, we conclude that, as with jobs, no task has ever seen its scheduling class changed after being resubmitted (due to eviction, failure, kill)."
   ]
  },
  {
   "cell_type": "code",
   "execution_count": 21,
   "metadata": {},
   "outputs": [
    {
     "name": "stdout",
     "output_type": "stream",
     "text": [
      "(2, 47599)\n",
      "(0, 98066)\n",
      "(3, 28192)\n",
      "(1, 27634)\n"
     ]
    }
   ],
   "source": [
    "task_scheduling_classes = task_submit_events \\\n",
    "    .map(lambda event: (task_events_get['scheduling class'](event), 1)) \\\n",
    "    .reduceByKey(add) \\\n",
    "    .collect()\n",
    "\n",
    "for scheduling_class in task_scheduling_classes:\n",
    "    print(scheduling_class)"
   ]
  },
  {
   "cell_type": "code",
   "execution_count": 22,
   "metadata": {},
   "outputs": [
    {
     "data": {
      "image/png": "[encoded data removed]",
      "text/plain": [
       "<Figure size 640x480 with 1 Axes>"
      ]
     },
     "metadata": {},
     "output_type": "display_data"
    }
   ],
   "source": [
    "bar_plot_question3(task_scheduling_classes, \"Distribution of scheduling classes for all submitted tasks\")"
   ]
  },
  {
   "attachments": {},
   "cell_type": "markdown",
   "metadata": {},
   "source": [
    "## Relation between scheduling class and eviction of tasks (Q4)"
   ]
  },
  {
   "cell_type": "code",
   "execution_count": 23,
   "metadata": {},
   "outputs": [
    {
     "name": "stdout",
     "output_type": "stream",
     "text": [
      "(0, 2864)\n",
      "(1, 792)\n",
      "(2, 662)\n",
      "(3, 20)\n"
     ]
    }
   ],
   "source": [
    "scheduling_eviction_relations = task_events \\\n",
    "    .filter(lambda event: task_events_get['event type'](event) == 2) \\\n",
    "    .map(lambda event: (task_events_get['scheduling class'](event), 1)) \\\n",
    "    .reduceByKey(add) \\\n",
    "    .sortBy(lambda x: x[0])\n",
    "\n",
    "for relations in scheduling_eviction_relations.collect():\n",
    "    print(relations)"
   ]
  },
  {
   "cell_type": "markdown",
   "metadata": {},
   "source": [
    "Tasks with lower scheduling class were evicted much more than those with higher scheduling class. Note that we chose to keep all eviction events, even when a single task is evicted several times.\n",
    "\n",
    "It matches the idea that latency-sensitive tasks, represented with higher scheduling classes, need to be interrupted (namely evicted) as little as possible, so that they can be completed soon."
   ]
  }
 ],
 "metadata": {
  "kernelspec": {
   "display_name": "5_SparkProject-Tuj_Du56",
   "language": "python",
   "name": "python3"
  },
  "language_info": {
   "codemirror_mode": {
    "name": "ipython",
    "version": 3
   },
   "file_extension": ".py",
   "mimetype": "text/x-python",
   "name": "python",
   "nbconvert_exporter": "python",
   "pygments_lexer": "ipython3",
   "version": "3.10.6 (main, Nov 14 2022, 16:10:14) [GCC 11.3.0]"
  },
  "orig_nbformat": 4,
  "vscode": {
   "interpreter": {
    "hash": "f7ede0eb55671c30ba8a6f7c0b4ab1936479b84180dfb1e39512798d9c89e30c"
   }
  }
 },
 "nbformat": 4,
 "nbformat_minor": 2
}
