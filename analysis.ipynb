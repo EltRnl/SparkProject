{
 "cells": [
  {
   "attachments": {},
   "cell_type": "markdown",
   "metadata": {},
   "source": [
    "# Analysing data with Spark\n",
    "\n",
    "A work by: Elliot Renel and Dorian Goepp."
   ]
  },
  {
   "attachments": {},
   "cell_type": "markdown",
   "metadata": {},
   "source": [
    "Todo:\n",
    "- [x] mise en forme des prints\n",
    "- [x] ne plus afficher les exemples de données\n",
    "- [x] relocalisation des imports\n",
    "- [x] propre jusqu'à la question 6\n",
    "- [x] utilisation de mapValues\n",
    "- [x] générer un requirements.txt\n",
    "- [ ] [générer un PDF](https://towardsdatascience.com/how-to-convert-jupyter-notebooks-into-pdf-5accaef3758)"
   ]
  },
  {
   "attachments": {},
   "cell_type": "markdown",
   "metadata": {},
   "source": [
    "## Dependencies for the project\n",
    "\n",
    "Please note that all dependencies for this work are specified in a `pipfile`, which can be used to generate the appropriate python virtual environment. We also have a `requirements.txt` file.\n",
    "\n",
    "Here are all the imports we need:"
   ]
  },
  {
   "cell_type": "code",
   "execution_count": 1,
   "metadata": {},
   "outputs": [],
   "source": [
    "import matplotlib.pyplot as plt\n",
    "from itertools import accumulate, islice\n",
    "from operator import add\n",
    "from math import ceil\n",
    "import numpy as np\n",
    "from tabulate import tabulate\n",
    "from statistics import mean,median\n",
    "from IPython.utils import io"
   ]
  },
  {
   "attachments": {},
   "cell_type": "markdown",
   "metadata": {},
   "source": [
    "## Downloading the data\n",
    "\n",
    "Example command to download all the files for job events, running the downloads in parallel:\n",
    "\n",
    "```bash\n",
    "gsutil -m cp gs://clusterdata-2011-2/job_events/* ./job_events/\n",
    "```\n",
    "\n",
    "The parallelisation of the download is to take advantage of a high bandwidth internet connection. It would not help if the connection is slow.\n",
    "\n",
    "As these are compressed with gzip, we need to un-compress them. There is an [easy way](https://stackoverflow.com/questions/16038087/extract-and-delete-all-gz-in-a-directory-linux) to do it for all files at once:\n",
    "\n",
    "```bash\n",
    "gunzip *.gz\n",
    "```\n",
    "\n",
    "> **Note:** As an afterthought, it might have been helpful to load the data directly from gzip files, saving some disk space at the cost of an increased computational load when a file is loaded."
   ]
  },
  {
   "attachments": {},
   "cell_type": "markdown",
   "metadata": {},
   "source": [
    "## Parsing the schema file\n",
    "\n",
    "The data we are working with is stored in CSV files of different \"types\", akin to tables in a relational database. Google provided a schema file (`schema.csv`) representing the fields of these CSV types.\n",
    "\n",
    "To be able to make good use of the data, and to limit the risk of errors in selection of fields and handling of their format, we wrote a small python module to parse the schema file and help in loading and accessing the data in the CSV files."
   ]
  },
  {
   "cell_type": "code",
   "execution_count": 3,
   "metadata": {},
   "outputs": [],
   "source": [
    "# the Schema class of our utility module\n",
    "from src.schema import Schema"
   ]
  },
  {
   "attachments": {},
   "cell_type": "markdown",
   "metadata": {},
   "source": [
    "Our module is used through an instance of the Schema class, as we will see later. The initialiser takes the path to the schema file provided by Google."
   ]
  },
  {
   "cell_type": "code",
   "execution_count": 3,
   "metadata": {},
   "outputs": [],
   "source": [
    "schema = Schema(\"data/schema.csv\")"
   ]
  },
  {
   "attachments": {},
   "cell_type": "markdown",
   "metadata": {},
   "source": [
    "It is possible to print the object. This shows all the types of data in the data set. We commented the code block bellow as the output is quite verbose.\n",
    "\n",
    "Note the `formatter` field. It is a function which will parse the input data and convert it to an appropriate Python type, based on the value in the `format` field of the schema.\n",
    "\n",
    "With the line below, one can see all table types. We commented it to keep this document concise."
   ]
  },
  {
   "cell_type": "code",
   "execution_count": 4,
   "metadata": {},
   "outputs": [],
   "source": [
    "# print(schema)"
   ]
  },
  {
   "cell_type": "markdown",
   "metadata": {},
   "source": [
    "## Starting Spark"
   ]
  },
  {
   "attachments": {},
   "cell_type": "markdown",
   "metadata": {},
   "source": [
    "We use Spark locally, using all available cores."
   ]
  },
  {
   "cell_type": "code",
   "execution_count": 5,
   "metadata": {},
   "outputs": [
    {
     "name": "stderr",
     "output_type": "stream",
     "text": [
      "Setting default log level to \"WARN\".\n",
      "To adjust logging level use sc.setLogLevel(newLevel). For SparkR, use setLogLevel(newLevel).\n"
     ]
    },
    {
     "name": "stdout",
     "output_type": "stream",
     "text": [
      "23/01/17 21:09:37 WARN NativeCodeLoader: Unable to load native-hadoop library for your platform... using builtin-java classes where applicable\n"
     ]
    }
   ],
   "source": [
    "from pyspark import SparkContext\n",
    "\n",
    "# start spark with as many worker threads as available on the machine\n",
    "sc = SparkContext(\"local[*]\")\n",
    "sc.setLogLevel(\"ERROR\")"
   ]
  },
  {
   "attachments": {},
   "cell_type": "markdown",
   "metadata": {},
   "source": [
    "## Loading data and metadata\n",
    "\n",
    "We here load all the tables we will use in this file. The `load_rdd` method we wrote in the Schema class does this for us. We give it the name of a table, and it fetches the related CSV files (if any) from the eponym folder in `data/` (for example, `data/machine_events`)."
   ]
  },
  {
   "cell_type": "code",
   "execution_count": 6,
   "metadata": {},
   "outputs": [],
   "source": [
    "# Loading RDDs\n",
    "machine_events = schema.load_rdd(sc, 'machine_events')\n",
    "job_events = schema.load_rdd(sc,'job_events')\n",
    "task_events = schema.load_rdd(sc,'task_events')\n",
    "task_usage = schema.load_rdd(sc,\"task_usage\")"
   ]
  },
  {
   "attachments": {},
   "cell_type": "markdown",
   "metadata": {},
   "source": [
    "The following methods will be used later to access fields of the data by their name instead of their index."
   ]
  },
  {
   "cell_type": "code",
   "execution_count": 7,
   "metadata": {},
   "outputs": [],
   "source": [
    "# RDD field getters\n",
    "machine_events_get = schema.field_getters('machine_events')\n",
    "job_events_get = schema.field_getters('job_events')\n",
    "task_events_get = schema.field_getters('task_events')\n",
    "task_usage_get = schema.field_getters('task_usage')"
   ]
  },
  {
   "attachments": {},
   "cell_type": "markdown",
   "metadata": {},
   "source": [
    "## Distribution of CPU capacity (Q1)\n",
    "\n",
    "We are looking for the distribution of machines according to their CPU capacity.\n",
    "\n",
    "This computation relies on the machine events. Let us represent the schema for this data:\n"
   ]
  },
  {
   "cell_type": "code",
   "execution_count": 10,
   "metadata": {},
   "outputs": [
    {
     "name": "stdout",
     "output_type": "stream",
     "text": [
      "  field number  content      format       mandatory\n",
      "--------------  -----------  -----------  -----------\n",
      "             0  time         INTEGER      True\n",
      "             1  machine ID   INTEGER      True\n",
      "             2  event type   INTEGER      True\n",
      "             3  platform ID  STRING_HASH  False\n",
      "             4  CPUs         FLOAT        False\n",
      "             5  Memory       FLOAT        False\n"
     ]
    }
   ],
   "source": [
    "print(\n",
    "    tabulate(\n",
    "        schema.get_table_fields('machine_events', include_formatters=False),\n",
    "        headers='keys'))"
   ]
  },
  {
   "cell_type": "markdown",
   "metadata": {},
   "source": [
    "\n",
    "For this analysis, we only account for the machine creation events, and keep the latest such event for any given machine. The intent is to avoid registering any machine's CPU more than once, should it have been offline for some time.\n",
    "\n",
    "Keeping the latest creation event is arbitrary, but considers that it is highly unlikely for a machine's CPU to be changed over time.\n",
    "\n",
    "The first three operations on `machine_events` concern the extraction of machine creation events and the selection of one single creation event for any given machine.\n",
    "\n",
    "The following three operations sums the numbers of machines with any given CPU capacity. We use the same method we were introduced to for words counting during the classes.\n",
    "\n",
    "Distribution of machine capacity based on their CPU power (normalised):"
   ]
  },
  {
   "cell_type": "code",
   "execution_count": 11,
   "metadata": {},
   "outputs": [
    {
     "name": "stderr",
     "output_type": "stream",
     "text": [
      "                                                                                \r"
     ]
    },
    {
     "name": "stdout",
     "output_type": "stream",
     "text": [
      "123    machines have CPU 0.25\n",
      "11636  machines have CPU 0.5\n",
      "796    machines have CPU 1.0\n"
     ]
    }
   ],
   "source": [
    "cpu = machine_events_get['CPUs']\n",
    "event_type = machine_events_get['event type']\n",
    "machine_id = machine_events_get['machine ID']\n",
    "time = machine_events_get['time']\n",
    "\n",
    "cpu_usage = machine_events \\\n",
    "    .filter(lambda event: event_type(event) == 0 and cpu(event) is not None) \\\n",
    "    .map(lambda event: (machine_id(event), event)) \\\n",
    "    .reduceByKey(lambda r1, r2: r1 if time(r1) > time(r2) else r2) \\\n",
    "    .map(lambda row: (cpu(row[1]), 1)) \\\n",
    "    .reduceByKey(add) \\\n",
    "    .sortBy(lambda x: x[0])\n",
    "\n",
    "for usage, nb in cpu_usage.collect():\n",
    "    print(f\"{nb:<6} machines have CPU {usage}\")"
   ]
  },
  {
   "attachments": {},
   "cell_type": "markdown",
   "metadata": {},
   "source": [
    "Here is a plot of the same data:"
   ]
  },
  {
   "cell_type": "code",
   "execution_count": 12,
   "metadata": {},
   "outputs": [
    {
     "data": {
      "image/png": "[encoded data removed]",
      "text/plain": [
       "<Figure size 640x480 with 1 Axes>"
      ]
     },
     "metadata": {},
     "output_type": "display_data"
    }
   ],
   "source": [
    "fig = plt.figure()\n",
    "ax = fig.add_axes([0, 0, 1, 1])\n",
    "legend = cpu_usage.map(lambda x: str(\n",
    "    x[0]) if x[0] is not None else 'None').collect()\n",
    "count = cpu_usage.sortByKey().map(lambda x: x[1]).collect()\n",
    "ax.bar(legend, count)\n",
    "\n",
    "plt.xlabel(\"CPU capacity\")\n",
    "plt.ylabel(\"Number of machines (log scale)\")\n",
    "plt.title(\"Distribution of CPU capacity\")\n",
    "\n",
    "plt.yscale(\"log\")\n",
    "plt.show()"
   ]
  },
  {
   "attachments": {},
   "cell_type": "markdown",
   "metadata": {},
   "source": [
    "Please mind the y scale which is logarithmic, to better see the lesser occuring CPU capacities.\n",
    "\n",
    "We observe that a vast majority of machines have half the maximum available CPU power. Less than ten times less machines have the full computational power and even less have a quarter of the maximal power."
   ]
  },
  {
   "attachments": {},
   "cell_type": "markdown",
   "metadata": {},
   "source": [
    "## Lost Computational Power due to maintenance (Q2)\n",
    "\n",
    "To begin with, we chose to interpret computational power as the product of CPU capacity with time. If the CPU capacity is a normalised version of CPU frequency, it means that such computational power represents a number of CPU cycles. Of course, two processors do not always perform the same number of instructions per cycle, but it is surely a good enough approximation for the task at hand.\n",
    "\n",
    "As a reminder, here is the schema of the data we use:"
   ]
  },
  {
   "cell_type": "code",
   "execution_count": 9,
   "metadata": {},
   "outputs": [
    {
     "name": "stdout",
     "output_type": "stream",
     "text": [
      "  field number  content      format       mandatory\n",
      "--------------  -----------  -----------  -----------\n",
      "             0  time         INTEGER      True\n",
      "             1  machine ID   INTEGER      True\n",
      "             2  event type   INTEGER      True\n",
      "             3  platform ID  STRING_HASH  False\n",
      "             4  CPUs         FLOAT        False\n",
      "             5  Memory       FLOAT        False\n"
     ]
    }
   ],
   "source": [
    "print(\n",
    "    tabulate(\n",
    "        schema.get_table_fields('machine_events', include_formatters=False),\n",
    "        headers='keys')\n",
    ")"
   ]
  },
  {
   "cell_type": "markdown",
   "metadata": {},
   "source": [
    "\n",
    "This question requires that we study the story of each machine, namely when it was brought online and when it was put offline. So, as a first step, we create a new RDD where each element is a list of events regarding a machine.\n",
    "\n",
    "To do so, we follow the map/reduce pattern. A last mapping operation removes the key-value mapping used for the map/reduce, as it is not needed later.\n",
    "\n",
    "> **Note**: The latter operation might be a candidate for optimisation, should it become a bottleneck."
   ]
  },
  {
   "cell_type": "code",
   "execution_count": 13,
   "metadata": {},
   "outputs": [],
   "source": [
    "machines_history = machine_events \\\n",
    "    .map(lambda row: (machine_id(row), row)) \\\n",
    "    .aggregateByKey(None, lambda acc, e: acc+[e] if acc is not None else [e], add) \\\n",
    "    .map(lambda machine: machine[1])"
   ]
  },
  {
   "attachments": {},
   "cell_type": "markdown",
   "metadata": {},
   "source": [
    "Let us have a preview of the resulting data, taking three entries of the RDD:"
   ]
  },
  {
   "cell_type": "code",
   "execution_count": 14,
   "metadata": {},
   "outputs": [
    {
     "name": "stdout",
     "output_type": "stream",
     "text": [
      "  time    machine ID    event type  platform ID        CPUs    Memory\n",
      "------  ------------  ------------  ---------------  ------  --------\n",
      "     0             6             0  HofLGzk1Or/8Ild     0.5    0.2493\n",
      "                                    j2+Lqv0UGGvY82N\n",
      "                                    Loni8+J/Yy0RU=\n",
      "\n",
      "\n",
      "         time    machine ID    event type  platform ID        CPUs    Memory\n",
      "-------------  ------------  ------------  ---------------  ------  --------\n",
      "            0            10             0  HofLGzk1Or/8Ild     0.5    0.2493\n",
      "                                           j2+Lqv0UGGvY82N\n",
      "                                           Loni8+J/Yy0RU=\n",
      "1306164355566            10             1  HofLGzk1Or/8Ild     0.5    0.2493\n",
      "                                           j2+Lqv0UGGvY82N\n",
      "                                           Loni8+J/Yy0RU=\n",
      "1307163081914            10             0  HofLGzk1Or/8Ild     0.5    0.2493\n",
      "                                           j2+Lqv0UGGvY82N\n",
      "                                           Loni8+J/Yy0RU=\n",
      "\n",
      "\n",
      "  time    machine ID    event type  platform ID        CPUs    Memory\n",
      "------  ------------  ------------  ---------------  ------  --------\n",
      "     0            14             0  HofLGzk1Or/8Ild     0.5    0.2493\n",
      "                                    j2+Lqv0UGGvY82N\n",
      "                                    Loni8+J/Yy0RU=\n",
      "\n",
      "\n"
     ]
    }
   ],
   "source": [
    "for a_story in machines_history.take(3):\n",
    "    print(tabulate(\n",
    "        a_story,\n",
    "        headers=schema.get_table_field_names('machine_events'),\n",
    "        maxcolwidths=[None, None, None, 15, None, None]))\n",
    "    print('\\n')"
   ]
  },
  {
   "attachments": {},
   "cell_type": "markdown",
   "metadata": {},
   "source": [
    "And also see how many machines are covered in this sample data:"
   ]
  },
  {
   "cell_type": "code",
   "execution_count": 15,
   "metadata": {},
   "outputs": [
    {
     "data": {
      "text/plain": [
       "12583"
      ]
     },
     "execution_count": 15,
     "metadata": {},
     "output_type": "execute_result"
    }
   ],
   "source": [
    "machines_history.count()"
   ]
  },
  {
   "attachments": {},
   "cell_type": "markdown",
   "metadata": {},
   "source": [
    "During our exploration, we wondered whether the data was already sorted in the CSV source files by event time. The following counts the number of entries which are not sorted by time."
   ]
  },
  {
   "cell_type": "code",
   "execution_count": 16,
   "metadata": {},
   "outputs": [
    {
     "data": {
      "text/plain": [
       "0"
      ]
     },
     "execution_count": 16,
     "metadata": {},
     "output_type": "execute_result"
    }
   ],
   "source": [
    "def to_event_times(history):\n",
    "    \"\"\"\n",
    "    take the history of events for a machine (a list of events)\n",
    "    and return the list of timestamps for these events, in the\n",
    "    same order.\n",
    "    \"\"\"\n",
    "    time_list = list()\n",
    "    for event in history:\n",
    "        time_list.append(machine_events_get['time'](event))\n",
    "    return time_list\n",
    "\n",
    "\n",
    "machines_history \\\n",
    "    .map(lambda events: to_event_times(events)) \\\n",
    "    .filter(lambda m: not sorted(m)) \\\n",
    "    .count()"
   ]
  },
  {
   "attachments": {},
   "cell_type": "markdown",
   "metadata": {},
   "source": [
    "The outcome is zero, showing that event entries are already sorted. The rest of our work on this question relies on this fact."
   ]
  },
  {
   "attachments": {},
   "cell_type": "markdown",
   "metadata": {},
   "source": [
    "As the documentation for the data set states, the trace period starts at 600 seconds ($6 \\times 10^{8} \\mu s$). Therefore, to obtain the time of the end of the trace, we find the latest event time and subtracted $6 \\times 10^{8}$ to it.\n",
    "\n",
    "> **Note:** This assumes the absence of records dated after the end of the trace period. For these, the time value would be $2^{63} - 1$ (MAXINT). We did not encounter this value."
   ]
  },
  {
   "cell_type": "code",
   "execution_count": 17,
   "metadata": {},
   "outputs": [
    {
     "name": "stdout",
     "output_type": "stream",
     "text": [
      "The total trace time is 2505535493517 µs ≈ 696 hours ≈ 29 days\n"
     ]
    }
   ],
   "source": [
    "total_trace_time = time(machine_events.max(lambda row: time(row))) - 6*10**8\n",
    "\n",
    "print(\n",
    "    f'The total trace time is {total_trace_time} µs ≈ {ceil(total_trace_time/(10**6 * 3600))} hours ≈ {ceil(total_trace_time/(10**6 * 3600 * 24))} days')"
   ]
  },
  {
   "attachments": {},
   "cell_type": "markdown",
   "metadata": {},
   "source": [
    "Once we have this number, computing the theoretical total computation power of a given machine is a matter of subtracting the starting time of the machine and multiplying by the CPU capacity. \n",
    "\n",
    "> **Note:** We assume that the CPU capacity of a machine never changes.\n",
    "\n",
    "Also, there are some machines that have some cpu values at None, as shown below."
   ]
  },
  {
   "cell_type": "code",
   "execution_count": 18,
   "metadata": {},
   "outputs": [
    {
     "name": "stdout",
     "output_type": "stream",
     "text": [
      "There are 32 machines with None values in their CPUs.\n"
     ]
    }
   ],
   "source": [
    "def has_none_cpu(events):\n",
    "    cpu = machine_events_get['CPUs']\n",
    "    for m in events:\n",
    "        if cpu(m) is None:\n",
    "            return True\n",
    "    return False\n",
    "\n",
    "\n",
    "print(f'There are {machines_history.filter(has_none_cpu).count()} machines with None values in their CPUs.')"
   ]
  },
  {
   "attachments": {},
   "cell_type": "markdown",
   "metadata": {},
   "source": [
    "The events for these machines could be perfectly valid. For instance, it could be an update event which does not affect the CPU. However, there are so few machines affected that we consider it harmless to exclude them from further analysis."
   ]
  },
  {
   "attachments": {},
   "cell_type": "markdown",
   "metadata": {},
   "source": [
    "We also want to know how much time a machine was off. To compute this, we look for ADD and REMOVE machine events, considering the time between an ADD and a REMOVE as active time and time between a REMOVE and an ADD as off time.\n",
    "\n",
    "> **Note:** We consider that a machine added after the start of the traces (time > 600s) has been added to the system at this point for the first time. Therefore, the time before is not counted as lost computational power.\n",
    "\n",
    "We have had to handle the special case where a machine is removed but not brought back before the end of the trace. Our tests showed at least 17% of machines were in this situation with a sample of the data (not everything). This required us to change the way we processed the data below.\n",
    "\n",
    "The function below does this processing for a given machine."
   ]
  },
  {
   "cell_type": "code",
   "execution_count": 19,
   "metadata": {},
   "outputs": [],
   "source": [
    "def lost_and_total_power(events):\n",
    "    \"\"\"\n",
    "    Compute the time between installation of the machine (or start of the trace) and its final removal (or end of the trace). This also computes the sum of times the machine was offline between the two former time points.\n",
    "\n",
    "    Then, these values are multiplied by the CPU capacity of the machine and returned as a tuple.\n",
    "    \"\"\"\n",
    "\n",
    "    # Functions and Variables\n",
    "    status = machine_events_get['event type']\n",
    "    time = machine_events_get['time']\n",
    "    start = time(events[0])\n",
    "    cpu = machine_events_get['CPUs'](events[0])\n",
    "\n",
    "    # Lost time\n",
    "    lost_time = 0\n",
    "    machine_off = True\n",
    "    last_seen = None\n",
    "    for event in events:\n",
    "        if status(event) == 1 and not machine_off:  # machine removed\n",
    "            last_seen = time(event)\n",
    "            machine_off = True\n",
    "        elif status(event) == 0 and machine_off:  # machine added\n",
    "            machine_off = False\n",
    "            if last_seen is not None:\n",
    "                lost_time += time(event) - last_seen\n",
    "\n",
    "    if machine_off and last_seen is not None:\n",
    "        lost_time += total_trace_time + 6 * 10**8 - last_seen\n",
    "\n",
    "    # Total time\n",
    "    total_time = total_trace_time if (\n",
    "        start < 6*10**8) else (total_trace_time - start + 6*10**8)\n",
    "\n",
    "    # Resulting power\n",
    "    return (lost_time*cpu, total_time*cpu)"
   ]
  },
  {
   "attachments": {},
   "cell_type": "markdown",
   "metadata": {},
   "source": [
    "The following keeps only machines which events all contain CPU information, and then applies the map/reduce scheme to compute the total and lost computational power."
   ]
  },
  {
   "cell_type": "code",
   "execution_count": 22,
   "metadata": {},
   "outputs": [
    {
     "name": "stdout",
     "output_type": "stream",
     "text": [
      "During the trace time, around 0.6836% of the computational power was lost.\n",
      "The exact percentage obtained is 0.6836289476194652% !\n"
     ]
    }
   ],
   "source": [
    "power_lost_and_total = machines_history \\\n",
    "    .filter(lambda m: not has_none_cpu(m)) \\\n",
    "    .map(lost_and_total_power) \\\n",
    "    .reduce(lambda p1, p2: (p1[0]+p2[0], p1[1]+p2[1]))\n",
    "\n",
    "print(f'During the trace time, around {(power_lost_and_total[0]/power_lost_and_total[1])*100:.4f}% of the computational power was lost.\\\n",
    "\\nThe exact percentage obtained is {(power_lost_and_total[0]/power_lost_and_total[1])*100}% !')"
   ]
  },
  {
   "attachments": {},
   "cell_type": "markdown",
   "metadata": {},
   "source": [
    "The lost computational power we obtained for the first sample of data is ≈0.68%, which seems to be quite an achievement."
   ]
  },
  {
   "attachments": {},
   "cell_type": "markdown",
   "metadata": {},
   "source": [
    "## Distribution of jobs and tasks per scheduling class (Q3)\n",
    "\n",
    "We will evaluate the distribution over **submitted** tasks and jobs. It also implies that we do not consider the distribution _over time_ but only within the _set_ of all submitted tasks and jobs.\n",
    "\n",
    "We could also consider the evolution of the scheduling class through time, looking at the event types UPDATE_PENDING and UPDATE_RUNNING. This is a different perspective where time is a key component."
   ]
  },
  {
   "cell_type": "markdown",
   "metadata": {},
   "source": [
    "### Studying jobs"
   ]
  },
  {
   "attachments": {},
   "cell_type": "markdown",
   "metadata": {},
   "source": [
    "We start our analysis with jobs. They should be fewer than tasks, as there can be many tasks per job, but one job per task.\n",
    "\n",
    "Before all, the schema for the tables we will use:"
   ]
  },
  {
   "cell_type": "code",
   "execution_count": 23,
   "metadata": {},
   "outputs": [
    {
     "name": "stdout",
     "output_type": "stream",
     "text": [
      "  field number  content           format       mandatory\n",
      "--------------  ----------------  -----------  -----------\n",
      "             0  time              INTEGER      True\n",
      "             1  missing info      INTEGER      False\n",
      "             2  job ID            INTEGER      True\n",
      "             3  event type        INTEGER      True\n",
      "             4  user              STRING_HASH  False\n",
      "             5  scheduling class  INTEGER      False\n",
      "             6  job name          STRING_HASH  False\n",
      "             7  logical job name  STRING_HASH  False\n"
     ]
    }
   ],
   "source": [
    "print(\n",
    "    tabulate(\n",
    "        schema.get_table_fields('job_events', include_formatters=False),\n",
    "        headers='keys',\n",
    "        maxcolwidths=40))"
   ]
  },
  {
   "attachments": {},
   "cell_type": "markdown",
   "metadata": {},
   "source": [
    "Firstly, we gather the events based on the task or job they refer to. We expect such lists of events to be small enough to be handled in regular python lists."
   ]
  },
  {
   "cell_type": "code",
   "execution_count": 24,
   "metadata": {},
   "outputs": [],
   "source": [
    "job_events = schema.load_rdd(sc,'job_events')\n",
    "job_events_get = schema.field_getters('job_events')"
   ]
  },
  {
   "cell_type": "code",
   "execution_count": 25,
   "metadata": {},
   "outputs": [
    {
     "name": "stderr",
     "output_type": "stream",
     "text": [
      "[Stage 42:==================================================>  (480 + 12) / 500]\r"
     ]
    },
    {
     "name": "stdout",
     "output_type": "stream",
     "text": [
      "There are 2012242 job events.\n"
     ]
    },
    {
     "name": "stderr",
     "output_type": "stream",
     "text": [
      "                                                                                \r"
     ]
    }
   ],
   "source": [
    "print(f\"There are {job_events.count()} job events.\")"
   ]
  },
  {
   "attachments": {},
   "cell_type": "markdown",
   "metadata": {},
   "source": [
    "On Dorian's machine, the computation above took 46s (with other running programs).\n",
    "\n",
    "We are interested in the job submission event, which is when they are assigned their (initial) scheduling class."
   ]
  },
  {
   "cell_type": "code",
   "execution_count": 26,
   "metadata": {},
   "outputs": [],
   "source": [
    "# event type 0 = SUBMIT\n",
    "submit_events = job_events \\\n",
    "    .filter(lambda job_event: job_events_get['event type'](job_event) == 0) \\\n",
    "    .cache()"
   ]
  },
  {
   "attachments": {},
   "cell_type": "markdown",
   "metadata": {},
   "source": [
    "The documentation says that it is possible for a job to be submitted more than once, when it has been evicted, killed or when it failed but still is runnable (up to a maximal number of trials).\n",
    "\n",
    "What if the the scheduling class had been changed when the job is submitted another time?"
   ]
  },
  {
   "cell_type": "code",
   "execution_count": 27,
   "metadata": {},
   "outputs": [
    {
     "name": "stderr",
     "output_type": "stream",
     "text": [
      "[Stage 44:=================================================>   (467 + 12) / 500]\r"
     ]
    },
    {
     "name": "stdout",
     "output_type": "stream",
     "text": [
      "0\n"
     ]
    },
    {
     "name": "stderr",
     "output_type": "stream",
     "text": [
      "                                                                                \r"
     ]
    }
   ],
   "source": [
    "jobs_with_several_scheduling_classes = submit_events \\\n",
    "    .map(lambda job_event: (job_events_get['job ID'](job_event), \n",
    "                            {job_events_get['scheduling class'](job_event)})) \\\n",
    "    .reduceByKey(lambda event1, event2: event1 | event2) \\\n",
    "    .filter(lambda x: len(x[1]) > 1) \\\n",
    "    .count()\n",
    "\n",
    "print(jobs_with_several_scheduling_classes)"
   ]
  },
  {
   "attachments": {},
   "cell_type": "markdown",
   "metadata": {},
   "source": [
    "None.\n",
    "\n",
    "> **Note:** observe the curly braces used in `map` and `reduceByKey` above. We used python sets, which allow us to count all *distinct* scheduling classes a job was given.\n",
    "\n",
    "Let us then proceed with gathering the scheduling classes. The first step will be to remove any duplicate, which the initial `map` and `distinct` calls do. We chose the `map` operation such that it allowed us to use mapValues below with a constant function."
   ]
  },
  {
   "cell_type": "code",
   "execution_count": 28,
   "metadata": {},
   "outputs": [
    {
     "name": "stderr",
     "output_type": "stream",
     "text": [
      "[Stage 46:=================================================>   (465 + 12) / 500]\r"
     ]
    },
    {
     "name": "stdout",
     "output_type": "stream",
     "text": [
      "257275  jobs are scheduled in class 0\n",
      "215109  jobs are scheduled in class 1\n",
      "194513  jobs are scheduled in class 2\n",
      "5177    jobs are scheduled in class 3\n"
     ]
    },
    {
     "name": "stderr",
     "output_type": "stream",
     "text": [
      "                                                                                \r"
     ]
    }
   ],
   "source": [
    "job_scheduling_classes = submit_events \\\n",
    "    .map(lambda event: (job_events_get['scheduling class'](event),\n",
    "                        job_events_get['job ID'](event))) \\\n",
    "    .distinct() \\\n",
    "    .countByKey()\n",
    "\n",
    "for scheduling_class, count in sorted(job_scheduling_classes.items()):\n",
    "    print(f\"{count:<7} jobs are scheduled in class {scheduling_class}\")"
   ]
  },
  {
   "attachments": {},
   "cell_type": "markdown",
   "metadata": {},
   "source": [
    "To better understand these values, let us plot them:"
   ]
  },
  {
   "cell_type": "code",
   "execution_count": 29,
   "metadata": {},
   "outputs": [
    {
     "data": {
      "image/png": "[encoded data removed]",
      "text/plain": [
       "<Figure size 640x480 with 1 Axes>"
      ]
     },
     "metadata": {},
     "output_type": "display_data"
    }
   ],
   "source": [
    "def bar_plot_question3(scheduling_classes, title, type):\n",
    "    fig = plt.figure()\n",
    "    ax = fig.add_axes([0, 0, 1, 1])\n",
    "    scheduling_class = list(scheduling_classes.keys())\n",
    "    count = scheduling_classes.values()\n",
    "    ax.bar(scheduling_class, count)\n",
    "    plt.xlabel(\"Scheduling classes\")\n",
    "    plt.ylabel(f\"Number of {type}\")\n",
    "    plt.xticks(scheduling_class)\n",
    "    plt.title(title)\n",
    "    plt.show()\n",
    "\n",
    "\n",
    "bar_plot_question3(job_scheduling_classes,\n",
    "                   \"Distribution of scheduling classes for all submitted jobs\", \"jobs\")"
   ]
  },
  {
   "attachments": {},
   "cell_type": "markdown",
   "metadata": {},
   "source": [
    "As a reminder, the scheduling class 3 is the most latency sensitive and 0 the least. The vast majority of jobs are of non-critical latency sensitivity, the more sensitive, the lesser the number.\n",
    "\n",
    "It should be good, as insensitive jobs can be scheduled when the sensitive ones are not running, but do not suffer from being put aside when sensitive jobs have to take over. This should help maximising resource usage."
   ]
  },
  {
   "cell_type": "markdown",
   "metadata": {},
   "source": [
    "### Repeating the analysis for tasks\n",
    "\n",
    "Let us now do the same analysis for all tasks, irrespective of which job they belong to.\n",
    "\n",
    "Starting with the schema of the tasks events table"
   ]
  },
  {
   "cell_type": "code",
   "execution_count": 30,
   "metadata": {},
   "outputs": [
    {
     "name": "stdout",
     "output_type": "stream",
     "text": [
      "  field number  content             format       mandatory\n",
      "--------------  ------------------  -----------  -----------\n",
      "             0  time                INTEGER      True\n",
      "             1  missing info        INTEGER      False\n",
      "             2  job ID              INTEGER      True\n",
      "             3  task index          INTEGER      True\n",
      "             4  machine ID          INTEGER      False\n",
      "             5  event type          INTEGER      True\n",
      "             6  user                STRING_HASH  False\n",
      "             7  scheduling class    INTEGER      False\n",
      "             8  priority            INTEGER      True\n",
      "             9  CPU request         FLOAT        False\n",
      "            10  memory request      FLOAT        False\n",
      "            11  disk space request  FLOAT        False\n",
      "            12  different machines  BOOLEAN      False\n",
      "                restriction\n"
     ]
    }
   ],
   "source": [
    "task_events_get = schema.field_getters('task_events')\n",
    "\n",
    "print(\n",
    "    tabulate(\n",
    "        schema.get_table_fields('task_events', include_formatters=False),\n",
    "        headers='keys',\n",
    "        maxcolwidths=[None, 20, None, None, 40]))"
   ]
  },
  {
   "cell_type": "markdown",
   "metadata": {},
   "source": [
    "Then, we load the data and filter for submission events."
   ]
  },
  {
   "cell_type": "code",
   "execution_count": 31,
   "metadata": {},
   "outputs": [],
   "source": [
    "task_events = schema.load_rdd(sc, 'task_events').persist()\n",
    "\n",
    "task_submit_events = task_events \\\n",
    "    .filter(lambda task_event: task_events_get['event type'](task_event) == 0) \\\n",
    "    .cache()"
   ]
  },
  {
   "attachments": {},
   "cell_type": "markdown",
   "metadata": {},
   "source": [
    "A sample of this data, commented for conciseness, can displayed below."
   ]
  },
  {
   "cell_type": "code",
   "execution_count": 32,
   "metadata": {},
   "outputs": [],
   "source": [
    "# Basic version\n",
    "\n",
    "# for task_event in task_submit_events.take(5):\n",
    "#     print(task_event)\n",
    "\n",
    "# This version is prettier, but too wide for some screens.\n",
    "\n",
    "# print(\n",
    "#     tabulate(\n",
    "#         task_submit_events.take(5),\n",
    "#         headers=schema.get_table_field_names('task_events'),\n",
    "#         maxcolwidths=[None, None, None, None, None, None, 10]))"
   ]
  },
  {
   "attachments": {},
   "cell_type": "markdown",
   "metadata": {},
   "source": [
    "Following the same idea as for jobs, let us count how many tasks have been submitted more than once within different scheduling classes.\n",
    "\n",
    "> **Note:** that here and after, we use a tuple as the key representing a task. Indeed, each task is represented by the job it belongs to and its task index. It does not have a unique identifier of its own."
   ]
  },
  {
   "cell_type": "code",
   "execution_count": 33,
   "metadata": {},
   "outputs": [
    {
     "name": "stderr",
     "output_type": "stream",
     "text": [
      "[Stage 48:======================================================> (89 + 2) / 91]\r"
     ]
    },
    {
     "name": "stdout",
     "output_type": "stream",
     "text": [
      "0 tasks have more than one scheduling class.\n"
     ]
    },
    {
     "name": "stderr",
     "output_type": "stream",
     "text": [
      "                                                                                \r"
     ]
    }
   ],
   "source": [
    "tasks_with_several_scheduling_classes = task_submit_events \\\n",
    "    .map(lambda event: ((task_events_get['job ID'](event), task_events_get['task index'](event)), \n",
    "                        {task_events_get['scheduling class'](event)})) \\\n",
    "    .reduceByKey(lambda event1, event2: event1 | event2) \\\n",
    "    .filter(lambda x: len(x[1]) > 1)\n",
    "\n",
    "print(f'{tasks_with_several_scheduling_classes.count()} tasks have more than one scheduling class.')"
   ]
  },
  {
   "attachments": {},
   "cell_type": "markdown",
   "metadata": {},
   "source": [
    "From this, we conclude that, as with jobs, no task has ever seen its scheduling class changed after being resubmitted (due to eviction, failure, kill).\n",
    "\n",
    "On to the distribution of scheduling classes:"
   ]
  },
  {
   "cell_type": "code",
   "execution_count": 34,
   "metadata": {},
   "outputs": [
    {
     "name": "stderr",
     "output_type": "stream",
     "text": [
      "[Stage 50:===========================================>           (72 + 12) / 91]\r"
     ]
    },
    {
     "name": "stdout",
     "output_type": "stream",
     "text": [
      "2058961 tasks are scheduled in class 0\n",
      "262933  tasks are scheduled in class 1\n",
      "85911   tasks are scheduled in class 2\n",
      "33074   tasks are scheduled in class 3\n"
     ]
    },
    {
     "name": "stderr",
     "output_type": "stream",
     "text": [
      "                                                                                \r"
     ]
    }
   ],
   "source": [
    "task_scheduling_classes = task_submit_events \\\n",
    "    .map(lambda event: (\n",
    "        task_events_get['scheduling class'](event),\n",
    "        (task_events_get['job ID'](event), task_events_get['task index'](event)))) \\\n",
    "    .distinct() \\\n",
    "    .countByKey()\n",
    "\n",
    "for scheduling_class, count in sorted(task_scheduling_classes.items()):\n",
    "    print(f\"{count:<7} tasks are scheduled in class {scheduling_class}\")"
   ]
  },
  {
   "attachments": {},
   "cell_type": "markdown",
   "metadata": {},
   "source": [
    "And the related plot, featuring both jobs and tasks:"
   ]
  },
  {
   "cell_type": "code",
   "execution_count": 35,
   "metadata": {},
   "outputs": [
    {
     "data": {
      "image/png": "[encoded data removed]",
      "text/plain": [
       "<Figure size 640x480 with 1 Axes>"
      ]
     },
     "metadata": {},
     "output_type": "display_data"
    }
   ],
   "source": [
    "classes = range(0, 4)\n",
    "w = 0.25\n",
    "\n",
    "# Plotting jobs\n",
    "scheduling_class = list(\n",
    "    map(lambda x: (x - w/2), job_scheduling_classes.keys()))\n",
    "count = job_scheduling_classes.values()\n",
    "plt.bar(scheduling_class, count, width=w, align='center', label=\"jobs\")\n",
    "\n",
    "# Plotting tasks\n",
    "scheduling_class = list(map(lambda x: x + w/2, task_scheduling_classes.keys()))\n",
    "count = task_scheduling_classes.values()\n",
    "plt.bar(scheduling_class, count, width=w, align='center', label=\"tasks\")\n",
    "\n",
    "plt.xlabel(\"Scheduling classes\")\n",
    "plt.ylabel(\"Number of jobs/tasks\")\n",
    "plt.xticks(classes, [str(a_class) for a_class in classes])\n",
    "plt.title(\"Distribution of scheduling classes for all submitted jobs and tasks\")\n",
    "plt.legend()\n",
    "plt.show()"
   ]
  },
  {
   "attachments": {},
   "cell_type": "markdown",
   "metadata": {},
   "source": [
    "## Relation between scheduling class and eviction of tasks (Q4)\n",
    "\n",
    "We now focus on events of type 2, namely eviction events. These still rely on the task events, which schema we recall below."
   ]
  },
  {
   "cell_type": "code",
   "execution_count": 36,
   "metadata": {},
   "outputs": [
    {
     "name": "stdout",
     "output_type": "stream",
     "text": [
      "  field number  content                         format       mandatory\n",
      "--------------  ------------------------------  -----------  -----------\n",
      "             0  time                            INTEGER      True\n",
      "             1  missing info                    INTEGER      False\n",
      "             2  job ID                          INTEGER      True\n",
      "             3  task index                      INTEGER      True\n",
      "             4  machine ID                      INTEGER      False\n",
      "             5  event type                      INTEGER      True\n",
      "             6  user                            STRING_HASH  False\n",
      "             7  scheduling class                INTEGER      False\n",
      "             8  priority                        INTEGER      True\n",
      "             9  CPU request                     FLOAT        False\n",
      "            10  memory request                  FLOAT        False\n",
      "            11  disk space request              FLOAT        False\n",
      "            12  different machines restriction  BOOLEAN      False\n"
     ]
    }
   ],
   "source": [
    "print(\n",
    "    tabulate(\n",
    "        schema.get_table_fields(\n",
    "            'task_events', include_formatters=False), headers='keys'))"
   ]
  },
  {
   "cell_type": "markdown",
   "metadata": {},
   "source": [
    "Using the usual map/reduce pattern to count occurrences of a value, we gather the evictions per scheduling class."
   ]
  },
  {
   "cell_type": "code",
   "execution_count": 37,
   "metadata": {},
   "outputs": [
    {
     "name": "stderr",
     "output_type": "stream",
     "text": [
      "[Stage 57:================================================>      (80 + 11) / 91]\r"
     ]
    },
    {
     "name": "stdout",
     "output_type": "stream",
     "text": [
      "tasks of scheduling class 0 evicted: 740876\n",
      "tasks of scheduling class 1 evicted: 232409\n",
      "tasks of scheduling class 2 evicted: 90950\n",
      "tasks of scheduling class 3 evicted: 8590\n"
     ]
    },
    {
     "name": "stderr",
     "output_type": "stream",
     "text": [
      "                                                                                \r"
     ]
    }
   ],
   "source": [
    "scheduling_eviction_relations = task_events \\\n",
    "    .filter(lambda event: task_events_get['event type'](event) == 2) \\\n",
    "    .map(lambda event: (task_events_get['scheduling class'](event), 1)) \\\n",
    "    .reduceByKey(add) \\\n",
    "    .sortByKey() \\\n",
    "    .collect()\n",
    "\n",
    "for relations in scheduling_eviction_relations:\n",
    "    print(f\"tasks of scheduling class {relations[0]} evicted: {relations[1]}\")"
   ]
  },
  {
   "cell_type": "code",
   "execution_count": 38,
   "metadata": {},
   "outputs": [
    {
     "data": {
      "image/png": "[encoded data removed]",
      "text/plain": [
       "<Figure size 640x480 with 1 Axes>"
      ]
     },
     "metadata": {},
     "output_type": "display_data"
    }
   ],
   "source": [
    "fig = plt.figure()\n",
    "\n",
    "legend = list(map(lambda x: x[0], scheduling_eviction_relations))\n",
    "count = list(map(lambda x: x[1], scheduling_eviction_relations))\n",
    "plt.bar(legend, count)\n",
    "\n",
    "plt.xlabel(\"Scheduling class\")\n",
    "plt.ylabel(\"Number of evictions\")\n",
    "plt.xticks(legend)\n",
    "plt.title(\"Distribution of evictions\")\n",
    "\n",
    "plt.show()"
   ]
  },
  {
   "cell_type": "markdown",
   "metadata": {},
   "source": [
    "Tasks with lower scheduling class were evicted much more than those with higher scheduling class. Note that we chose to keep all eviction events, even when a single task is evicted several times.\n",
    "\n",
    "It matches the idea that latency-sensitive tasks, represented with higher scheduling classes, need to be interrupted (namely evicted) as little as possible, so that they can be completed soon."
   ]
  },
  {
   "attachments": {},
   "cell_type": "markdown",
   "metadata": {},
   "source": [
    "## Same Job -> Same machine ? (Q5)\n",
    "\n",
    "The job events table does not contain information about the machine running it. Indeed, it is the tasks which actually run on one or more machines. We will therefore use the task_events data, which schema is recalled here."
   ]
  },
  {
   "cell_type": "code",
   "execution_count": 39,
   "metadata": {},
   "outputs": [
    {
     "name": "stdout",
     "output_type": "stream",
     "text": [
      "  field number  content                         format       mandatory\n",
      "--------------  ------------------------------  -----------  -----------\n",
      "             0  time                            INTEGER      True\n",
      "             1  missing info                    INTEGER      False\n",
      "             2  job ID                          INTEGER      True\n",
      "             3  task index                      INTEGER      True\n",
      "             4  machine ID                      INTEGER      False\n",
      "             5  event type                      INTEGER      True\n",
      "             6  user                            STRING_HASH  False\n",
      "             7  scheduling class                INTEGER      False\n",
      "             8  priority                        INTEGER      True\n",
      "             9  CPU request                     FLOAT        False\n",
      "            10  memory request                  FLOAT        False\n",
      "            11  disk space request              FLOAT        False\n",
      "            12  different machines restriction  BOOLEAN      False\n"
     ]
    }
   ],
   "source": [
    "print(\n",
    "    tabulate(\n",
    "        schema.get_table_fields(\n",
    "            'task_events', include_formatters=False), headers='keys'))"
   ]
  },
  {
   "attachments": {},
   "cell_type": "markdown",
   "metadata": {},
   "source": [
    "We will be using the fields `job ID` to identify the jobs, and `machine ID` for the tasks.\n",
    "\n",
    "Here we use every task_event associated to any job ID and then we determine the number of machine used. From that, we compute how many jobs use any number of machines, with `countByValue()`."
   ]
  },
  {
   "cell_type": "code",
   "execution_count": 40,
   "metadata": {},
   "outputs": [
    {
     "name": "stderr",
     "output_type": "stream",
     "text": [
      "[Stage 59:====================================>                  (60 + 12) / 91]\r"
     ]
    },
    {
     "name": "stdout",
     "output_type": "stream",
     "text": [
      "The result contains 1044 entries.\n"
     ]
    },
    {
     "name": "stderr",
     "output_type": "stream",
     "text": [
      "                                                                                \r"
     ]
    }
   ],
   "source": [
    "nb_machines_per_job = task_events \\\n",
    "    .map(lambda event: (\n",
    "        task_events_get[\"job ID\"](event),\n",
    "        {task_events_get[\"machine ID\"](event)})) \\\n",
    "    .reduceByKey(lambda machine1, machine2: machine1 | machine2) \\\n",
    "    .map(lambda job: len(job[1])) \\\n",
    "    .countByValue()\n",
    "\n",
    "print(f\"The result contains {len(nb_machines_per_job)} entries.\")"
   ]
  },
  {
   "attachments": {},
   "cell_type": "markdown",
   "metadata": {},
   "source": [
    "There are too many entries to display them all here. However, let us peek the first five of them.\n",
    "\n",
    "We added a column representing the percentage of jobs using a given number of machines."
   ]
  },
  {
   "cell_type": "code",
   "execution_count": 41,
   "metadata": {},
   "outputs": [
    {
     "name": "stderr",
     "output_type": "stream",
     "text": [
      "[Stage 61:===================================================>    (84 + 7) / 91]\r"
     ]
    },
    {
     "name": "stdout",
     "output_type": "stream",
     "text": [
      "  # machines used    # jobs    percentage\n",
      "-----------------  --------  ------------\n",
      "                1      1635           3\n",
      "                2     36621          67.8\n",
      "                3      3102           5.7\n",
      "                4       578           1.1\n",
      "                5       341           0.6\n"
     ]
    },
    {
     "name": "stderr",
     "output_type": "stream",
     "text": [
      "                                                                                \r"
     ]
    }
   ],
   "source": [
    "total_number_of_jobs = task_events \\\n",
    "    .map(lambda event: task_events_get['job ID'](event)) \\\n",
    "    .distinct() \\\n",
    "    .count()\n",
    "\n",
    "sample_data = list()\n",
    "for nb_machines, nb_jobs in islice(sorted(nb_machines_per_job.items()), 5):\n",
    "    sample_data += [[nb_machines, nb_jobs, round(nb_jobs/total_number_of_jobs*100, 1)]]\n",
    "\n",
    "print(tabulate(\n",
    "    sample_data,\n",
    "    headers=[\"# machines used\", \"# jobs\", \"percentage\"]))"
   ]
  },
  {
   "attachments": {},
   "cell_type": "markdown",
   "metadata": {},
   "source": [
    "A total of 69.5% of jobs used using one or two machine, with our sample of the data."
   ]
  },
  {
   "cell_type": "code",
   "execution_count": 42,
   "metadata": {},
   "outputs": [
    {
     "data": {
      "image/png": "[encoded data removed]",
      "text/plain": [
       "<Figure size 640x480 with 1 Axes>"
      ]
     },
     "metadata": {},
     "output_type": "display_data"
    }
   ],
   "source": [
    "sorted_data = list(sorted(nb_machines_per_job.items()))\n",
    "nb_machine, nb_jobs = list(zip(*sorted_data))\n",
    "\n",
    "plt.plot(nb_machine, nb_jobs)\n",
    "\n",
    "# Solution for cumulative function from https://www.geeksforgeeks.org/python-program-to-find-cumulative-sum-of-a-list/\n",
    "\n",
    "\n",
    "def cumulative_sum(input_list):\n",
    "    # Use the accumulate() function to perform a cumulative sum of the elements in the list\n",
    "    cumulative_sum_iter = accumulate(input_list, add)\n",
    "    # Convert the iterator to a list and return it\n",
    "    return list(cumulative_sum_iter)\n",
    "\n",
    "\n",
    "cumulative_count = cumulative_sum(nb_jobs)\n",
    "\n",
    "plt.plot(nb_machine, cumulative_count)\n",
    "\n",
    "plt.xlabel(\"number of machines\")\n",
    "plt.ylabel(\"number of jobs (log)\")\n",
    "plt.title(\"How many jobs use any given number of machines ?\")\n",
    "\n",
    "plt.yscale(\"log\")\n",
    "plt.show()\n"
   ]
  },
  {
   "attachments": {},
   "cell_type": "markdown",
   "metadata": {},
   "source": [
    "The orange line shows the cummulative sum of jobs. It lets us realise that the vast majority of jobs is concentrated in the very beginning, meaning with a very small number of machines. \n",
    "\n",
    "This shows again that it is most common to have all tasks from the a job run on 1 or 2 machines.\n",
    "\n",
    "> **Note:** We chose to use a regular plot for this graphical representation, although, strictly speaking, a bar plot would be more accurate. However, we could not represent the number of bars required for this amount of data. This is why we chose the less exact representation. We believe it is still relevant enough to give us the information we are looking for."
   ]
  },
  {
   "attachments": {},
   "cell_type": "markdown",
   "metadata": {},
   "source": [
    "## Comparison of resource request and resource usage of tasks (Q6)\n",
    "\n",
    "This topic requires to do the analysis for three different resources: CPU cores, RAM and disk space. We will conduct our analysis on these three at the same time.\n",
    "\n",
    "Also, our question calls for the usage of two sources of data : task events and resource usage. We will pre-process these separately and then join them."
   ]
  },
  {
   "attachments": {},
   "cell_type": "markdown",
   "metadata": {},
   "source": [
    "### Resource requests\n",
    "\n",
    "Tasks can specify resource requirements when SUBMITTED (0) and upon UPDATE_PENDING (7) and UPDATE_RUNNING (8) events.\n",
    "\n",
    "As a reminder, here is the schema for task events:"
   ]
  },
  {
   "cell_type": "code",
   "execution_count": 43,
   "metadata": {},
   "outputs": [
    {
     "name": "stdout",
     "output_type": "stream",
     "text": [
      "  field number  content                         format       mandatory\n",
      "--------------  ------------------------------  -----------  -----------\n",
      "             0  time                            INTEGER      True\n",
      "             1  missing info                    INTEGER      False\n",
      "             2  job ID                          INTEGER      True\n",
      "             3  task index                      INTEGER      True\n",
      "             4  machine ID                      INTEGER      False\n",
      "             5  event type                      INTEGER      True\n",
      "             6  user                            STRING_HASH  False\n",
      "             7  scheduling class                INTEGER      False\n",
      "             8  priority                        INTEGER      True\n",
      "             9  CPU request                     FLOAT        False\n",
      "            10  memory request                  FLOAT        False\n",
      "            11  disk space request              FLOAT        False\n",
      "            12  different machines restriction  BOOLEAN      False\n"
     ]
    }
   ],
   "source": [
    "print(\n",
    "    tabulate(\n",
    "        schema.get_table_fields('task_events', include_formatters=False),\n",
    "        headers='keys'))"
   ]
  },
  {
   "attachments": {},
   "cell_type": "markdown",
   "metadata": {},
   "source": [
    "Do tasks update their resource requests during their lifecycle ?\n",
    "\n",
    "To answer this question, we map task events to key-value pairs for each task, where the value contains the resource requests. Then with `reduceByKey`, we merge the resource requests to keep only distinct values (thanks to python's sets)."
   ]
  },
  {
   "cell_type": "code",
   "execution_count": 44,
   "metadata": {},
   "outputs": [
    {
     "name": "stderr",
     "output_type": "stream",
     "text": [
      "[Stage 62:========================>                              (40 + 12) / 91]\r"
     ]
    }
   ],
   "source": [
    "def task_event_to_resources(event):\n",
    "    \"\"\"\n",
    "    Convert a task event to a key-value tuple.\n",
    "    The key is the task id (combination of job ID and task index).\n",
    "    The value is a dictionary of resource requests (keys are cpu, mem and disk). Each resource request is represented as a set of one or zero element. It is empty if the value for the given field is None.\n",
    "    \"\"\"\n",
    "    task_id = (task_events_get['job ID'](event),\n",
    "               task_events_get['task index'](event))\n",
    "\n",
    "    CPU_request = task_events_get['CPU request'](event)\n",
    "    mem_request = task_events_get['memory request'](event)\n",
    "    disk_request = task_events_get['disk space request'](event)\n",
    "\n",
    "    CPU_request = {CPU_request} if CPU_request is not None else set()\n",
    "    mem_request = {mem_request} if mem_request is not None else set()\n",
    "    disk_request = {disk_request} if disk_request is not None else set()\n",
    "\n",
    "    return (task_id, {'cpu': CPU_request, 'mem': mem_request, 'disk': disk_request})\n",
    "\n",
    "\n",
    "resource_requests = task_events \\\n",
    "    .map(task_event_to_resources) \\\n",
    "    .reduceByKey(lambda r1, r2: {\n",
    "        'cpu': r1['cpu'] | r2['cpu'],\n",
    "        'mem': r1['mem'] | r2['mem'],\n",
    "        'disk': r1['disk'] | r2['disk']})\n",
    "\n",
    "multiple_requests = resource_requests.filter(lambda event: len(\n",
    "    event[1]['cpu']) > 1 or len(event[1]['mem']) > 1 or len(event[1]['disk']) > 1)\n",
    "\n",
    "print(f\"There has been {multiple_requests.count()} tasks changing at least one of their resource requests during their lifetime over a total of {resource_requests.count()} tasks, accounting for {multiple_requests.count() / resource_requests.count() * 100}%.\")"
   ]
  },
  {
   "attachments": {},
   "cell_type": "markdown",
   "metadata": {},
   "source": [
    "Many tasks made more than one resource request in their lifetime. Here is a sample, to illustrate a few tasks requiring different amounts of resources. Each resource column is a set of all distinct values requested."
   ]
  },
  {
   "cell_type": "code",
   "execution_count": null,
   "metadata": {},
   "outputs": [
    {
     "name": "stderr",
     "output_type": "stream",
     "text": [
      "[Stage 29:>                                                         (0 + 1) / 1]\r"
     ]
    },
    {
     "name": "stdout",
     "output_type": "stream",
     "text": [
      "task          CPU               memory              disk\n",
      "------------  ----------------  ------------------  ----------------------\n",
      "(3418314, 0)  {0.125, 0.0625}   {0.07446, 0.09473}  {0.0004244, 0.0004702}\n",
      "(3418368, 0)  {0.03125, 0.125}  {0.08691, 0.09021}  {0.0008211, 0.0004549}\n",
      "(3418368, 2)  {0.03125, 0.125}  {0.08691, 0.09021}  {0.0008211, 0.0004549}\n",
      "(3418380, 0)  {0.1875, 0.125}   {0.09839, 0.08826}  {0.0008612, 0.0008135}\n",
      "(3418400, 0)  {0.125}           {0.09082, 0.08923}  {0.0004702}\n"
     ]
    },
    {
     "name": "stderr",
     "output_type": "stream",
     "text": [
      "                                                                                \r"
     ]
    }
   ],
   "source": [
    "requests = multiple_requests.take(5)\n",
    "requests = [\n",
    "    [request[0], request[1]['cpu'], request[1]['mem'], request[1]['disk']]\n",
    "    for request in requests]\n",
    "\n",
    "print(tabulate(\n",
    "    requests,\n",
    "    headers=['task', 'CPU', 'memory', 'disk']\n",
    "))"
   ]
  },
  {
   "attachments": {},
   "cell_type": "markdown",
   "metadata": {},
   "source": [
    "This implies that we will have to select which resource request to keep, or to compute an aggregate for any task.\n",
    "\n",
    "Before that, let us also see at which events the CPU request is made. Is it only done at a given event type, like SUBMIT?\n",
    "\n",
    "> **Note**: A task can be SUBMITed several times in its life."
   ]
  },
  {
   "cell_type": "code",
   "execution_count": null,
   "metadata": {},
   "outputs": [
    {
     "name": "stderr",
     "output_type": "stream",
     "text": [
      "[Stage 52:>                                                         (0 + 2) / 2]\r"
     ]
    },
    {
     "name": "stdout",
     "output_type": "stream",
     "text": [
      "Distinct CPU requests were made at events of types:  SUBMIT, FINISH, EVICT, SCHEDULE, FAIL, KILL\n"
     ]
    },
    {
     "name": "stderr",
     "output_type": "stream",
     "text": [
      "                                                                                \r"
     ]
    }
   ],
   "source": [
    "cpu_changing_events = task_events \\\n",
    "    .filter(lambda event: task_events_get['CPU request'](event) is not None) \\\n",
    "    .map(lambda event: task_events_get['event type'](event)) \\\n",
    "    .distinct() \\\n",
    "    .cache()\n",
    "\n",
    "event_names = {\n",
    "    0: 'SUBMIT',\n",
    "    1: 'SCHEDULE',\n",
    "    2: 'EVICT',\n",
    "    3: 'FAIL',\n",
    "    4: 'FINISH',\n",
    "    5: 'KILL',\n",
    "    6: 'LOST',\n",
    "    7: 'UPDATE_PENDING',\n",
    "    8: 'UPDATE_RUNNING'\n",
    "}\n",
    "\n",
    "events = ', '.join([event_names[event]\n",
    "                   for event in cpu_changing_events.collect()])\n",
    "print(\"Distinct CPU requests were made at events of types: \", events)"
   ]
  },
  {
   "attachments": {},
   "cell_type": "markdown",
   "metadata": {},
   "source": [
    "As resource requests are made at different events, we have to process all types of events.\n",
    "\n",
    "> **Note:** We could have pursued the investigation a little further to figure at which events the resource request is *updated*, not just present. However, the following does not require this information.\n",
    "\n",
    "Since we are looking for the correlation between high resource request and high resource consumption, let us just take the highest resource request for each resource type."
   ]
  },
  {
   "cell_type": "code",
   "execution_count": null,
   "metadata": {},
   "outputs": [],
   "source": [
    "def max_resource_request(requests1, requests2):\n",
    "    return tuple(\n",
    "        max(r1, r2) for r1, r2 in zip(requests1, requests2)\n",
    "    )\n",
    "\n",
    "\n",
    "resource_requests = task_events \\\n",
    "    .filter(lambda event:\n",
    "            task_events_get['CPU request'](event) is not None or\n",
    "            task_events_get['memory request'](event) is not None or\n",
    "            task_events_get['disk space request'](event) is not None) \\\n",
    "    .map(lambda event:\n",
    "         (\n",
    "             (task_events_get['job ID'](event),\n",
    "              task_events_get['task index'](event)),\n",
    "             (\n",
    "                 task_events_get['CPU request'](event),\n",
    "                 task_events_get['memory request'](event),\n",
    "                 task_events_get['disk space request'](event)))) \\\n",
    "    .reduceByKey(max_resource_request) \\\n",
    "    .cache()"
   ]
  },
  {
   "attachments": {},
   "cell_type": "markdown",
   "metadata": {},
   "source": [
    "This aggregate will be used later in combination with the actual resource consumption of the tasks.\n",
    "\n",
    "For now, we still have to gather the latter information."
   ]
  },
  {
   "attachments": {},
   "cell_type": "markdown",
   "metadata": {},
   "source": [
    "### Resource usage table\n",
    "\n",
    "The resource usage information is stored in its own table, `task_usage`.\n",
    "\n",
    "> **Note:** The documentation for the data set specifies how the maximum measurement data is aggregated (for sub-containers), and gives a field in the table for this information. We believe, for the sake of this work, that we can spare ourselves the extra mileage of using this field, and just consider that the measurements are accurate enough. However, should we want a very accurate measurement, we would be more meticulous about this.\n",
    "\n",
    "> **Note:** It is to be noted that resource measurement periods might overshoot after a task is killed. They did not prove problematic, so we kept these in our data."
   ]
  },
  {
   "attachments": {},
   "cell_type": "markdown",
   "metadata": {},
   "source": [
    "First thing first, loading the related data set:"
   ]
  },
  {
   "cell_type": "code",
   "execution_count": null,
   "metadata": {},
   "outputs": [],
   "source": [
    "task_usage_get = schema.field_getters('task_usage')\n",
    "task_usage = schema.load_rdd(sc,'task_usage')"
   ]
  },
  {
   "attachments": {},
   "cell_type": "markdown",
   "metadata": {},
   "source": [
    "Let us see the format of this table:"
   ]
  },
  {
   "cell_type": "code",
   "execution_count": null,
   "metadata": {},
   "outputs": [
    {
     "name": "stdout",
     "output_type": "stream",
     "text": [
      "  field number  content                          format    mandatory\n",
      "--------------  -------------------------------  --------  -----------\n",
      "             0  start time                       INTEGER   True\n",
      "             1  end time                         INTEGER   True\n",
      "             2  job ID                           INTEGER   True\n",
      "             3  task index                       INTEGER   True\n",
      "             4  machine ID                       INTEGER   True\n",
      "             5  CPU rate                         FLOAT     False\n",
      "             6  canonical memory usage           FLOAT     False\n",
      "             7  assigned memory usage            FLOAT     False\n",
      "             8  unmapped page cache              FLOAT     False\n",
      "             9  total page cache                 FLOAT     False\n",
      "            10  maximum memory usage             FLOAT     False\n",
      "            11  disk I/O time                    FLOAT     False\n",
      "            12  local disk space usage           FLOAT     False\n",
      "            13  maximum CPU rate                 FLOAT     False\n",
      "            14  maximum disk IO time             FLOAT     False\n",
      "            15  cycles per instruction           FLOAT     False\n",
      "            16  memory accesses per instruction  FLOAT     False\n",
      "            17  sample portion                   FLOAT     False\n",
      "            18  aggregation type                 BOOLEAN   False\n",
      "            19  sampled CPU usage                FLOAT     False\n"
     ]
    }
   ],
   "source": [
    "print(\n",
    "    tabulate(\n",
    "        schema.get_table_fields('task_usage', include_formatters=False),\n",
    "        headers='keys'))"
   ]
  },
  {
   "attachments": {},
   "cell_type": "markdown",
   "metadata": {},
   "source": [
    "There are many fields, but we will only use those on start/end time, job ID and task index (to identify a task) and maximum resource usage (fields 10, 12, 13). We chose to use the 'local disk space usage' field rather than focus on disk I/O time, as the only data we have for disk resource request is on disk space, not bandwidth.\n",
    "\n",
    "To gather the resource usage per task, create a mapping between tasks and their resource usage. We then take the maximum of their usage on each resource, with `foldByKey`."
   ]
  },
  {
   "cell_type": "code",
   "execution_count": null,
   "metadata": {},
   "outputs": [],
   "source": [
    "resource_fields = [\n",
    "    'maximum CPU rate',\n",
    "    'maximum memory usage',\n",
    "    'local disk space usage',\n",
    "]\n",
    "\n",
    "\n",
    "def entry_converter(entry):\n",
    "    \"\"\" Extract selected resource fields from a task usage record\"\"\"\n",
    "    return tuple(task_usage_get[field](entry) for field in resource_fields)\n",
    "\n",
    "\n",
    "def combiner(elem1, elem2):\n",
    "    \"\"\" Merge resource consumption records together, taking the highest value \"\"\"\n",
    "    return list(map(max, elem1, elem2))\n",
    "\n",
    "\n",
    "resources_per_task = task_usage \\\n",
    "    .map(lambda entry: ((task_usage_get['job ID'](entry), task_usage_get['task index'](entry)),\n",
    "                        entry_converter(entry))) \\\n",
    "    .foldByKey([0,]*(len(resource_fields)), combiner) \\\n",
    "    .cache()"
   ]
  },
  {
   "cell_type": "code",
   "execution_count": null,
   "metadata": {},
   "outputs": [],
   "source": [
    "# To make sure that we formatted our data properly, let us show one sample\n",
    "\n",
    "# for entry in resources_per_task.take(1):\n",
    "#     print(f\"The task {entry[0]} used at most :\")\n",
    "#     print(tabulate(zip(resource_fields, entry[1]), headers=['resource type', 'max usage']))"
   ]
  },
  {
   "attachments": {},
   "cell_type": "markdown",
   "metadata": {},
   "source": [
    "### Joining resource request with actual usage\n",
    "\n",
    "In the previous two sections, we gathered resource requests and usage for each task. Having indexed the data by task identifiers, we can now use them to join and compare resource requests and usages for the tasks."
   ]
  },
  {
   "cell_type": "code",
   "execution_count": null,
   "metadata": {},
   "outputs": [],
   "source": [
    "joined = resource_requests \\\n",
    "    .join(resources_per_task) \\\n",
    "    .mapValues(lambda x: {\n",
    "        'cpu': (x[0][0], x[1][0]),\n",
    "        'mem': (x[0][1], x[1][1]),\n",
    "        'disk': (x[0][2], x[1][2])}) \\\n",
    "    .cache()"
   ]
  },
  {
   "cell_type": "code",
   "execution_count": null,
   "metadata": {},
   "outputs": [],
   "source": [
    "#A sample of this merged data\n",
    "\n",
    "# for x in joined.take(5):\n",
    "#     print(x)"
   ]
  },
  {
   "attachments": {},
   "cell_type": "markdown",
   "metadata": {},
   "source": [
    "We extract now the CPU, memory and disk request/usage data in their own variables to be plotted later."
   ]
  },
  {
   "cell_type": "code",
   "execution_count": null,
   "metadata": {},
   "outputs": [
    {
     "name": "stderr",
     "output_type": "stream",
     "text": [
      "                                                                                \r"
     ]
    }
   ],
   "source": [
    "cpu_req_vs_usage = joined \\\n",
    "    .map(lambda x: x[1]['cpu']) \\\n",
    "    .collect()\n",
    "\n",
    "mem_req_vs_usage = joined \\\n",
    "    .map(lambda x: x[1]['mem']) \\\n",
    "    .collect()\n",
    "\n",
    "disk_req_vs_usage = joined \\\n",
    "    .map(lambda x: x[1]['disk']) \\\n",
    "    .collect()"
   ]
  },
  {
   "attachments": {},
   "cell_type": "markdown",
   "metadata": {},
   "source": [
    "And now, let us see how tasks use what they asked for."
   ]
  },
  {
   "cell_type": "code",
   "execution_count": null,
   "metadata": {},
   "outputs": [
    {
     "data": {
      "image/png": "[encoded data removed]",
      "text/plain": [
       "<Figure size 640x480 with 3 Axes>"
      ]
     },
     "metadata": {},
     "output_type": "display_data"
    }
   ],
   "source": [
    "# Size of the dots in the scatter plots\n",
    "S=5\n",
    "\n",
    "rspl = plt.subplot(2, 2, 1)\n",
    "rspl.scatter(*zip(*cpu_req_vs_usage), s=S, alpha=0.2)\n",
    "plt.yscale(\"log\")\n",
    "plt.xscale(\"log\")\n",
    "plt.ylabel(\"used\")\n",
    "plt.title(\"CPU\")\n",
    "rspl = plt.subplot(2, 2, 2)\n",
    "rspl.scatter(*zip(*mem_req_vs_usage), s=S, alpha=0.2)\n",
    "plt.yscale(\"log\")\n",
    "plt.xscale(\"log\")\n",
    "plt.xlabel(\"requested\")\n",
    "plt.title(\"memory\")\n",
    "rspl = plt.subplot(2, 2, 3)\n",
    "rspl.scatter(*zip(*disk_req_vs_usage), s=S, alpha=0.2)\n",
    "plt.yscale(\"log\")\n",
    "plt.xscale(\"log\")\n",
    "plt.xlabel(\"requested\")\n",
    "plt.ylabel(\"used\")\n",
    "plt.title(\"disk\")\n",
    "plt.show()"
   ]
  },
  {
   "attachments": {},
   "cell_type": "markdown",
   "metadata": {},
   "source": [
    "These plots shows no stark correlation between CPU request and usage. There just are slightly higher CPU usage values at the right, and lower on the left of the plot.\n",
    "\n",
    "However, we can observe a correlation for the memory and disk. At least the usages are capped by the request. It might be thanks to OS-based resource capping."
   ]
  },
  {
   "attachments": {},
   "cell_type": "markdown",
   "metadata": {},
   "source": [
    "#### Discussion on resource usage metrics\n",
    "\n",
    "Likewise, the choice of the metric for CPU usage could be argued. For the plots above, we used the CPU rate. We had also earlier tried about the sampled CPU usage, about which which the documentation says (our emphasis)\n",
    "\n",
    ">  It is the average CPU usage during a one-second period that is picked uniformly at random from the 5-minute measurement period used for the other data in the row. For long-running tasks, this data can be used to build a *reasonably accurate stochastic model of CPU usage*.\n",
    "\n",
    "This metric has by far been the most difficult to process, as it is difficult to interpret its meaning.\n",
    "\n",
    "Regarding memory, we chose to keep the maximum memory used by the task. We consider it as a sensitive metric, as this is what we need to be ready for when allocating space for a task, notwithstanding the overbooking which Google says to have done in their cluster for better actual resource usage.\n",
    "\n",
    "We have to be careful when interpreting disk space usage. The documentation states:\n",
    "\n",
    "> Disk space recorded in this trace represents runtime local disk capacity usage. Disk usage  required for binaries and other read-only, pre-staged runtime files is ​not​ included. Additionally, most disk space used by distributed, persistent storage (e.g. GFS, Colossus) is not accounted for in this trace.\n",
    "\n",
    "Meaning that what we plotted accounts only for a part of the real disk space used by tasks."
   ]
  },
  {
   "attachments": {},
   "cell_type": "markdown",
   "metadata": {},
   "source": [
    "## Relation between resource usage peaks and task evictions (Q7)\n",
    "\n",
    "We will investigate, for any given machine, whether there is a correlation  between resource consumption peaks and task evictions."
   ]
  },
  {
   "attachments": {},
   "cell_type": "markdown",
   "metadata": {},
   "source": [
    "### Objective\n",
    "\n",
    "To find a correlation, we will first construct a timeline, for each machine, of the maximum resource used, and the eviction events. Fortunately, the table Task Usage contains data on the maximum resource used withing a given time window. As such, we just need to correlate these resources with the eviction events. The documentation does not mention that tasks are migrated between machines, so we do not have to account for that.\n",
    "\n",
    "Moreover, in the documentation we learn that the traces in our task usage data are done withing periods of 300 seconds starting at 600 seconds in the timeline. As such, to have a dataset easier to look at and perform operations on, we will form our timeline in epochs starting from 0. The first epoch 0 will therefore belongs to the time frame between 600s and 900s, epoch 1 will be between 900s and 1200s and so on.\n",
    "\n",
    "We can verify that no task usage are recorded between epochs with the following test :"
   ]
  },
  {
   "cell_type": "code",
   "execution_count": 9,
   "metadata": {},
   "outputs": [
    {
     "name": "stderr",
     "output_type": "stream",
     "text": [
      "[Stage 0:=======================================>                 (16 + 7) / 23]\r"
     ]
    },
    {
     "name": "stdout",
     "output_type": "stream",
     "text": [
      "The number of events not inside a 300s period or epoch is 0.\n"
     ]
    },
    {
     "name": "stderr",
     "output_type": "stream",
     "text": [
      "                                                                                \r"
     ]
    }
   ],
   "source": [
    "overlapping_epochs = task_usage \\\n",
    "    .map(lambda task: (task_usage_get['start time'](task), task_usage_get['end time'](task))) \\\n",
    "    .filter(lambda x: x[0]//300000000!=(x[1]-1)//300000000).count()\n",
    "    # The -1 on the end time is to account for the events that ends at the end of an epoch (ex : 675s -> 900s is still withing epoch 0)\n",
    "    \n",
    "\n",
    "print(f\"The number of events not inside a 300s period or epoch is {overlapping_epochs}.\")\n"
   ]
  },
  {
   "attachments": {},
   "cell_type": "markdown",
   "metadata": {},
   "source": [
    "Now that this is out of the way, we will also determine the maximum time of our dataset, so as to know how many epochs to account for."
   ]
  },
  {
   "cell_type": "code",
   "execution_count": 10,
   "metadata": {},
   "outputs": [
    {
     "name": "stderr",
     "output_type": "stream",
     "text": [
      "                                                                                \r"
     ]
    }
   ],
   "source": [
    "usage_max_epoch = (task_usage.map(task_usage_get['start time']).max()-600000000)//300000000\n",
    "event_max_epoch = (task_events.map(task_events_get['time']).max()-600000000)//300000000\n",
    "max_epoch = min(usage_max_epoch,event_max_epoch) # We take the minimum of the two because it is going to be the relevant one in the intersection later"
   ]
  },
  {
   "attachments": {},
   "cell_type": "markdown",
   "metadata": {},
   "source": [
    "### Gathering task consumption peaks for all machines\n",
    "\n",
    "The machine resource table contains machine IDs, so we can gather task consumption peaks for all machines on the one hand, and then task eviction events for all machines on the other hand. We can assume that no task can trigger two events at the same time, so we can ignore job ID and task index and only keep the machine ID.\n",
    "\n",
    "We gather all maximum resource values for each machine, and their epochs :"
   ]
  },
  {
   "cell_type": "code",
   "execution_count": 11,
   "metadata": {},
   "outputs": [],
   "source": [
    "def event_to_peak_resources(event):\n",
    "    return {(task_usage_get['start time'](event)-600000000)//300000000 : \n",
    "                (task_usage_get['maximum CPU rate'](event), \n",
    "                task_usage_get['maximum memory usage'](event), \n",
    "                task_usage_get['maximum disk IO time'](event))\n",
    "            }\n",
    "\n",
    "def fuse_max_dictionary(d1,d2):\n",
    "    for element in d2:\n",
    "        if element in d1:\n",
    "            a1, a2, a3 = d1[element]\n",
    "            b1, b2, b3 = d2[element]\n",
    "            d1[element] = (max(a1,b1),max(a2,b2),max(a3,b3))\n",
    "        else :\n",
    "            d1[element] = d2[element]\n",
    "    return d1\n",
    "\n",
    "default_dict = dict.fromkeys([a for a in range(0,max_epoch+1)],(.0,.0,.0))\n",
    "\n",
    "\n",
    "machines_max_usage = task_usage \\\n",
    "    .filter(lambda event: task_usage_get['maximum memory usage'](event) is not None and \\\n",
    "        task_usage_get['maximum CPU rate'](event) is not None and \\\n",
    "        task_usage_get['maximum disk IO time'](event) is not None \\\n",
    "    ) \\\n",
    "    .map(lambda event: \n",
    "        (task_usage_get['machine ID'](event),\n",
    "        event_to_peak_resources(event))) \\\n",
    "    .foldByKey(default_dict,lambda measurement1, measurement2: fuse_max_dictionary(measurement1,measurement2)) \\\n",
    "    .map(lambda machine: (machine[0],\n",
    "            ([k for k,_ in machine[1].items()],\n",
    "            [v[0] for _,v in machine[1].items()],\n",
    "            [v[1] for _,v in machine[1].items()],\n",
    "            [v[2] for _,v in machine[1].items()])\n",
    "            )\n",
    "        )\\\n",
    "    .cache()"
   ]
  },
  {
   "attachments": {},
   "cell_type": "markdown",
   "metadata": {},
   "source": [
    "### Gathering task eviction events for all machines\n",
    "\n",
    "Now we look at the task events table, we only keep the EVICTION (2) events, and gather a list of epochs for each machine IDs."
   ]
  },
  {
   "cell_type": "code",
   "execution_count": 12,
   "metadata": {},
   "outputs": [],
   "source": [
    "def check(list):\n",
    "    for e in list:\n",
    "        if e!=0:\n",
    "            return True\n",
    "    return False\n",
    "\n",
    "task_evict_events = task_events \\\n",
    "    .filter(lambda task_event: task_events_get['event type'](task_event) == 2) \\\n",
    "    .map(lambda event: (\n",
    "            task_events_get['machine ID'](event),\n",
    "            (task_events_get['time'](event)-600000000)//300000000\n",
    "        )\n",
    "    ) \\\n",
    "    .groupByKey() \\\n",
    "    .mapValues(list) \\\n",
    "    .mapValues(lambda v : list(np.histogram(v,np.arange(max_epoch+2))[0])) \\\n",
    "    .filter(lambda x: check(x[1]))"
   ]
  },
  {
   "attachments": {},
   "cell_type": "markdown",
   "metadata": {},
   "source": [
    "### Correlation Study\n",
    "\n",
    "We perform a join operation to combine the two RDDs, considering that machine IDs only have one entry in each tables, we should still have one copy of each machine IDs in the table we obtain. As such, we obtain an RDD with the machine ID as a key, and a set of 5 arrays, representing :\n",
    "- 0 : the epochs, from 0 to *max_epoch*\n",
    "- 1 : maximum CPU rate on this machine in the corresponding epoch\n",
    "- 2 : maximum memory usage on this machine in the corresponding epoch\n",
    "- 3 : maximum disk IO time on this machine in the corresponding epoch\n",
    "- 4 : number of eviction on this machine in the corresponding epoch"
   ]
  },
  {
   "cell_type": "code",
   "execution_count": 14,
   "metadata": {},
   "outputs": [],
   "source": [
    "correlation = machines_max_usage.join(\n",
    "    task_evict_events).mapValues(lambda x: (*x[0], x[1])) \\\n",
    "    .cache()\n"
   ]
  },
  {
   "attachments": {},
   "cell_type": "markdown",
   "metadata": {},
   "source": [
    "Now that we have our data for each machines, we need to correlate the eviction events and max resource usage for each periods. To do so we will first try to determine the correlation coefficient (also known as ***Pearson Correlation Coefficient***) for each machine and each resource usage. To do so we use the already existing *numpy* function *corrcoef*."
   ]
  },
  {
   "cell_type": "code",
   "execution_count": 15,
   "metadata": {},
   "outputs": [
    {
     "name": "stderr",
     "output_type": "stream",
     "text": [
      "/home/akuma/.local/share/virtualenvs/SparkProject-DTXSDDnr/lib/python3.10/site-packages/numpy/lib/function_base.py:2854: RuntimeWarning: invalid value encountered in divide\n",
      "  c /= stddev[:, None]\n",
      "/home/akuma/.local/share/virtualenvs/SparkProject-DTXSDDnr/lib/python3.10/site-packages/numpy/lib/function_base.py:2855: RuntimeWarning: invalid value encountered in divide\n",
      "  c /= stddev[None, :]\n",
      "/home/akuma/.local/share/virtualenvs/SparkProject-DTXSDDnr/lib/python3.10/site-packages/numpy/lib/function_base.py:2854: RuntimeWarning: invalid value encountered in divide\n",
      "  c /= stddev[:, None]\n",
      "/home/akuma/.local/share/virtualenvs/SparkProject-DTXSDDnr/lib/python3.10/site-packages/numpy/lib/function_base.py:2854: RuntimeWarning: invalid value encountered in divide\n",
      "  c /= stddev[:, None]\n",
      "/home/akuma/.local/share/virtualenvs/SparkProject-DTXSDDnr/lib/python3.10/site-packages/numpy/lib/function_base.py:2855: RuntimeWarning: invalid value encountered in divide\n",
      "  c /= stddev[None, :]\n",
      "/home/akuma/.local/share/virtualenvs/SparkProject-DTXSDDnr/lib/python3.10/site-packages/numpy/lib/function_base.py:2855: RuntimeWarning: invalid value encountered in divide\n",
      "  c /= stddev[None, :]\n",
      "/home/akuma/.local/share/virtualenvs/SparkProject-DTXSDDnr/lib/python3.10/site-packages/numpy/lib/function_base.py:2854: RuntimeWarning: invalid value encountered in divide\n",
      "  c /= stddev[:, None]\n",
      "/home/akuma/.local/share/virtualenvs/SparkProject-DTXSDDnr/lib/python3.10/site-packages/numpy/lib/function_base.py:2855: RuntimeWarning: invalid value encountered in divide\n",
      "  c /= stddev[None, :]\n",
      "/home/akuma/.local/share/virtualenvs/SparkProject-DTXSDDnr/lib/python3.10/site-packages/numpy/lib/function_base.py:2854: RuntimeWarning: invalid value encountered in divide\n",
      "  c /= stddev[:, None]\n",
      "/home/akuma/.local/share/virtualenvs/SparkProject-DTXSDDnr/lib/python3.10/site-packages/numpy/lib/function_base.py:2855: RuntimeWarning: invalid value encountered in divide\n",
      "  c /= stddev[None, :]\n",
      "/home/akuma/.local/share/virtualenvs/SparkProject-DTXSDDnr/lib/python3.10/site-packages/numpy/lib/function_base.py:2854: RuntimeWarning: invalid value encountered in divide\n",
      "  c /= stddev[:, None]\n",
      "/home/akuma/.local/share/virtualenvs/SparkProject-DTXSDDnr/lib/python3.10/site-packages/numpy/lib/function_base.py:2855: RuntimeWarning: invalid value encountered in divide\n",
      "  c /= stddev[None, :]\n",
      "/home/akuma/.local/share/virtualenvs/SparkProject-DTXSDDnr/lib/python3.10/site-packages/numpy/lib/function_base.py:2854: RuntimeWarning: invalid value encountered in divide\n",
      "  c /= stddev[:, None]\n",
      "/home/akuma/.local/share/virtualenvs/SparkProject-DTXSDDnr/lib/python3.10/site-packages/numpy/lib/function_base.py:2855: RuntimeWarning: invalid value encountered in divide\n",
      "  c /= stddev[None, :]\n",
      "/home/akuma/.local/share/virtualenvs/SparkProject-DTXSDDnr/lib/python3.10/site-packages/numpy/lib/function_base.py:2854: RuntimeWarning: invalid value encountered in divide\n",
      "  c /= stddev[:, None]\n",
      "/home/akuma/.local/share/virtualenvs/SparkProject-DTXSDDnr/lib/python3.10/site-packages/numpy/lib/function_base.py:2855: RuntimeWarning: invalid value encountered in divide\n",
      "  c /= stddev[None, :]\n",
      "/home/akuma/.local/share/virtualenvs/SparkProject-DTXSDDnr/lib/python3.10/site-packages/numpy/lib/function_base.py:2854: RuntimeWarning: invalid value encountered in divide\n",
      "  c /= stddev[:, None]\n",
      "/home/akuma/.local/share/virtualenvs/SparkProject-DTXSDDnr/lib/python3.10/site-packages/numpy/lib/function_base.py:2855: RuntimeWarning: invalid value encountered in divide\n",
      "  c /= stddev[None, :]\n",
      "/home/akuma/.local/share/virtualenvs/SparkProject-DTXSDDnr/lib/python3.10/site-packages/numpy/lib/function_base.py:2854: RuntimeWarning: invalid value encountered in divide\n",
      "  c /= stddev[:, None]\n",
      "/home/akuma/.local/share/virtualenvs/SparkProject-DTXSDDnr/lib/python3.10/site-packages/numpy/lib/function_base.py:2855: RuntimeWarning: invalid value encountered in divide\n",
      "  c /= stddev[None, :]\n",
      "/home/akuma/.local/share/virtualenvs/SparkProject-DTXSDDnr/lib/python3.10/site-packages/numpy/lib/function_base.py:2854: RuntimeWarning: invalid value encountered in divide\n",
      "  c /= stddev[:, None]\n",
      "/home/akuma/.local/share/virtualenvs/SparkProject-DTXSDDnr/lib/python3.10/site-packages/numpy/lib/function_base.py:2855: RuntimeWarning: invalid value encountered in divide\n",
      "  c /= stddev[None, :]\n",
      "/home/akuma/.local/share/virtualenvs/SparkProject-DTXSDDnr/lib/python3.10/site-packages/numpy/lib/function_base.py:2854: RuntimeWarning: invalid value encountered in divide\n",
      "  c /= stddev[:, None]\n",
      "/home/akuma/.local/share/virtualenvs/SparkProject-DTXSDDnr/lib/python3.10/site-packages/numpy/lib/function_base.py:2855: RuntimeWarning: invalid value encountered in divide\n",
      "  c /= stddev[None, :]\n",
      "/home/akuma/.local/share/virtualenvs/SparkProject-DTXSDDnr/lib/python3.10/site-packages/numpy/lib/function_base.py:2854: RuntimeWarning: invalid value encountered in divide\n",
      "  c /= stddev[:, None]\n",
      "/home/akuma/.local/share/virtualenvs/SparkProject-DTXSDDnr/lib/python3.10/site-packages/numpy/lib/function_base.py:2855: RuntimeWarning: invalid value encountered in divide\n",
      "  c /= stddev[None, :]\n",
      "/home/akuma/.local/share/virtualenvs/SparkProject-DTXSDDnr/lib/python3.10/site-packages/numpy/lib/function_base.py:2854: RuntimeWarning: invalid value encountered in divide\n",
      "  c /= stddev[:, None]\n",
      "/home/akuma/.local/share/virtualenvs/SparkProject-DTXSDDnr/lib/python3.10/site-packages/numpy/lib/function_base.py:2855: RuntimeWarning: invalid value encountered in divide\n",
      "  c /= stddev[None, :]\n",
      "/home/akuma/.local/share/virtualenvs/SparkProject-DTXSDDnr/lib/python3.10/site-packages/numpy/lib/function_base.py:2854: RuntimeWarning: invalid value encountered in divide\n",
      "  c /= stddev[:, None]\n",
      "/home/akuma/.local/share/virtualenvs/SparkProject-DTXSDDnr/lib/python3.10/site-packages/numpy/lib/function_base.py:2855: RuntimeWarning: invalid value encountered in divide\n",
      "  c /= stddev[None, :]\n",
      "/home/akuma/.local/share/virtualenvs/SparkProject-DTXSDDnr/lib/python3.10/site-packages/numpy/lib/function_base.py:2854: RuntimeWarning: invalid value encountered in divide\n",
      "  c /= stddev[:, None]\n",
      "/home/akuma/.local/share/virtualenvs/SparkProject-DTXSDDnr/lib/python3.10/site-packages/numpy/lib/function_base.py:2855: RuntimeWarning: invalid value encountered in divide\n",
      "  c /= stddev[None, :]\n",
      "/home/akuma/.local/share/virtualenvs/SparkProject-DTXSDDnr/lib/python3.10/site-packages/numpy/lib/function_base.py:2854: RuntimeWarning: invalid value encountered in divide\n",
      "  c /= stddev[:, None]\n",
      "/home/akuma/.local/share/virtualenvs/SparkProject-DTXSDDnr/lib/python3.10/site-packages/numpy/lib/function_base.py:2855: RuntimeWarning: invalid value encountered in divide\n",
      "  c /= stddev[None, :]\n",
      "/home/akuma/.local/share/virtualenvs/SparkProject-DTXSDDnr/lib/python3.10/site-packages/numpy/lib/function_base.py:2854: RuntimeWarning: invalid value encountered in divide\n",
      "  c /= stddev[:, None]\n",
      "/home/akuma/.local/share/virtualenvs/SparkProject-DTXSDDnr/lib/python3.10/site-packages/numpy/lib/function_base.py:2855: RuntimeWarning: invalid value encountered in divide\n",
      "  c /= stddev[None, :]\n",
      "/home/akuma/.local/share/virtualenvs/SparkProject-DTXSDDnr/lib/python3.10/site-packages/numpy/lib/function_base.py:2854: RuntimeWarning: invalid value encountered in divide\n",
      "  c /= stddev[:, None]\n",
      "/home/akuma/.local/share/virtualenvs/SparkProject-DTXSDDnr/lib/python3.10/site-packages/numpy/lib/function_base.py:2855: RuntimeWarning: invalid value encountered in divide\n",
      "  c /= stddev[None, :]\n",
      "                                                                                \r"
     ]
    }
   ],
   "source": [
    "coefficients = correlation.map(lambda e: (\n",
    "    [np.corrcoef(np.array(e[1][4]), np.array(e[1][1]))[1][0]],\n",
    "    [np.corrcoef(np.array(e[1][4]), np.array(e[1][2]))[1][0]],\n",
    "    [np.corrcoef(np.array(e[1][4]), np.array(e[1][3]))[1][0]]\n",
    ")).reduce(lambda a, b: (a[0]+b[0], a[1]+b[1], a[2]+b[2]))\n"
   ]
  },
  {
   "attachments": {},
   "cell_type": "markdown",
   "metadata": {},
   "source": [
    "The display of errors above is to be expected as the correlation coefficient needs to divide by the standard deviation of our sets, and some machines didn't have any eviction events, therefore end up with a standard deviation of 0."
   ]
  },
  {
   "cell_type": "code",
   "execution_count": 16,
   "metadata": {},
   "outputs": [
    {
     "name": "stdout",
     "output_type": "stream",
     "text": [
      "Maximum coefficients found : (0.9780996399005489, 1.0, 0.7786835576588109)\n",
      "Minimum coefficients found : (-0.686292601076302, -0.999905756749502, -0.5688337699851276)\n",
      "Average of all coefficients : (0.12192521190042006, nan, 0.07779399506536094)\n",
      "Median coefficients : (0.09863104721262035, -0.04844101105048903, 0.0645486558407862)\n"
     ]
    }
   ],
   "source": [
    "max_coefficient = tuple([max(e) for e in coefficients])\n",
    "min_coefficient = tuple([min(e) for e in coefficients])\n",
    "average_coefficient = tuple([mean(e) for e in coefficients])\n",
    "median_coefficient = tuple([median(e) for e in coefficients])\n",
    "\n",
    "print(f\"Maximum coefficients found : {max_coefficient}\\nMinimum coefficients found : {min_coefficient}\\nAverage of all coefficients : {average_coefficient}\\nMedian coefficients : {median_coefficient}\")"
   ]
  },
  {
   "attachments": {},
   "cell_type": "markdown",
   "metadata": {},
   "source": [
    "As we can see, there are machines that seems to have correlations between the maximum resource used and the number of evictions, but the whole data (especially the mean and median) suggest that no such correlation exists."
   ]
  },
  {
   "attachments": {},
   "cell_type": "markdown",
   "metadata": {},
   "source": [
    "If we don't try to look at the coefficients machine by machine, but try to find the correlation coefficient of the whole data set (while keeping X being the maximum resource used and Y the number of eviction), we obtain the following numbers :"
   ]
  },
  {
   "cell_type": "code",
   "execution_count": 18,
   "metadata": {},
   "outputs": [
    {
     "name": "stderr",
     "output_type": "stream",
     "text": [
      "[Stage 30:========================================>             (85 + 12) / 114]\r"
     ]
    },
    {
     "name": "stdout",
     "output_type": "stream",
     "text": [
      "The correlation coefficient between the number of evictions and the maximum cpu usage per epochs is 0.06333\n",
      "The correlation coefficient between the number of evictions and the maximum memory usage per epochs is -0.006154\n",
      "The correlation coefficient between the number of evictions and the maximum disk usage per epochs is 0.01382\n"
     ]
    },
    {
     "name": "stderr",
     "output_type": "stream",
     "text": [
      "                                                                                \r"
     ]
    }
   ],
   "source": [
    "cpu = correlation.map(lambda e: (e[1][1],e[1][4])).reduce(lambda a,b: (a[0]+b[0],a[1]+b[1]))\n",
    "memory = correlation.map(lambda e: (e[1][2],e[1][4])).reduce(lambda a,b: (a[0]+b[0],a[1]+b[1]))\n",
    "disk = correlation.map(lambda e: (e[1][3],e[1][4])).reduce(lambda a,b: (a[0]+b[0],a[1]+b[1]))\n",
    "\n",
    "cpu_corr = np.corrcoef(np.array(cpu[0]),np.array(cpu[1]))[1][0]\n",
    "memory_corr = np.corrcoef(np.array(memory[0]),np.array(memory[1]))[1][0]\n",
    "disk_corr = np.corrcoef(np.array(disk[0]),np.array(disk[1]))[1][0]\n",
    "\n",
    "print(f\"The correlation coefficient between the number of evictions and the maximum cpu usage per epochs is {cpu_corr:0.4}\")\n",
    "print(f\"The correlation coefficient between the number of evictions and the maximum memory usage per epochs is {memory_corr:0.4}\")\n",
    "print(f\"The correlation coefficient between the number of evictions and the maximum disk usage per epochs is {disk_corr:0.4}\")"
   ]
  },
  {
   "attachments": {},
   "cell_type": "markdown",
   "metadata": {},
   "source": [
    "As such, we can safely conclude that there are no correlation, negative of positive, between the picks of resources of a machine and its eviction events. \n",
    "\n",
    "Just for the sake of eye candy, here are the plots for each resource types maximum usage vs task evictions, where we can clearly see no correlations :"
   ]
  },
  {
   "cell_type": "code",
   "execution_count": 19,
   "metadata": {},
   "outputs": [
    {
     "data": {
      "image/png": "[encoded data removed]",
      "text/plain": [
       "<Figure size 640x480 with 1 Axes>"
      ]
     },
     "metadata": {},
     "output_type": "display_data"
    },
    {
     "data": {
      "image/png": "[encoded data removed]",
      "text/plain": [
       "<Figure size 640x480 with 1 Axes>"
      ]
     },
     "metadata": {},
     "output_type": "display_data"
    },
    {
     "data": {
      "text/plain": [
       "Text(0, 0.5, 'Number of evictions in Epoch')"
      ]
     },
     "execution_count": 19,
     "metadata": {},
     "output_type": "execute_result"
    },
    {
     "data": {
      "image/png": "[encoded data removed]",
      "text/plain": [
       "<Figure size 640x480 with 1 Axes>"
      ]
     },
     "metadata": {},
     "output_type": "display_data"
    }
   ],
   "source": [
    "plt.scatter(*cpu)\n",
    "plt.title(\"Max CPU vs Evictions\")\n",
    "plt.xlabel(\"Maximum CPU usage of Epoch\")\n",
    "plt.ylabel(\"Number of evictions in Epoch\")\n",
    "plt.show()\n",
    "plt.scatter(*memory)\n",
    "plt.title(\"Max memory vs Evictions\")\n",
    "plt.xlabel(\"Maximum memory usage of Epoch\")\n",
    "plt.ylabel(\"Number of evictions in Epoch\")\n",
    "plt.show()\n",
    "plt.scatter(*disk)\n",
    "plt.title(\"Max disk vs Evictions\")\n",
    "plt.xlabel(\"Maximum disk usage of Epoch\")\n",
    "plt.ylabel(\"Number of evictions in Epoch\")"
   ]
  },
  {
   "attachments": {},
   "cell_type": "markdown",
   "metadata": {},
   "source": [
    "## Additional Questions (added by us)\n",
    "\n",
    "Here are the final 2 questions that we came up with, each have their precisions to explain what it is we are looking for."
   ]
  },
  {
   "attachments": {},
   "cell_type": "markdown",
   "metadata": {},
   "source": [
    "### 1 - Study of the relation between Scheduling Class and Dead Time\n",
    "\n",
    "The Google documentation tells us that scheduling classes have different levels of latency sensitivity, with 3 supposedly having lower latency than 0. It also tells us that when a task dies (failed, evicted, etc.), the scheduler tries to submit it again as soon as possible. As such, we can verify the first statement by looking at the average time spent being dead for each classes. We should expect class 0 to have the most, and class 3 the least.\n",
    "\n",
    "First, let's remind ourself of the distribution of scheduling classes : "
   ]
  },
  {
   "cell_type": "code",
   "execution_count": 20,
   "metadata": {},
   "outputs": [
    {
     "name": "stderr",
     "output_type": "stream",
     "text": [
      "                                                                                \r"
     ]
    }
   ],
   "source": [
    "distribution = None\n",
    "try :\n",
    "    distribution = job_scheduling_classes\n",
    "except NameError:\n",
    "    distribution = job_events \\\n",
    "        .filter(lambda job_event: job_events_get['event type'](job_event) == 0) \\\n",
    "        .map(lambda event: (job_events_get['job ID'](event), job_events_get['scheduling class'](event))) \\\n",
    "        .distinct() \\\n",
    "        .map(lambda job_class: (job_class[1], 1)) \\\n",
    "        .reduceByKey(add) \\\n",
    "        .collect()"
   ]
  },
  {
   "cell_type": "code",
   "execution_count": 21,
   "metadata": {},
   "outputs": [
    {
     "data": {
      "image/png": "[encoded data removed]",
      "text/plain": [
       "<Figure size 640x480 with 1 Axes>"
      ]
     },
     "metadata": {},
     "output_type": "display_data"
    }
   ],
   "source": [
    "classes, hist = zip(*distribution)\n",
    "classes = [str(e) for e in classes]\n",
    "plt.bar(classes, hist)\n",
    "plt.title(\"Distribution of scheduling class\")\n",
    "plt.xlabel(\"Scheduling Class\")\n",
    "plt.ylabel(\"Number of Jobs\")\n",
    "plt.show()"
   ]
  },
  {
   "attachments": {},
   "cell_type": "markdown",
   "metadata": {},
   "source": [
    "Now let us form the timeline of each jobs, then perform the necessary transformations to have the average death time for each class."
   ]
  },
  {
   "cell_type": "code",
   "execution_count": 22,
   "metadata": {},
   "outputs": [],
   "source": [
    "jobs_timeline = job_events \\\n",
    "    .filter(lambda event: job_events_get['event type'](event) not in {7,8}) \\\n",
    "    .map(lambda event: (\n",
    "        (job_events_get['job ID'](event),job_events_get['scheduling class'](event)),\n",
    "        (job_events_get['time'](event), job_events_get['event type'](event))\n",
    "        )\n",
    "    ) \\\n",
    "    .groupByKey() \\\n",
    "    .mapValues(list) \\\n",
    "    .cache()"
   ]
  },
  {
   "cell_type": "code",
   "execution_count": 28,
   "metadata": {},
   "outputs": [],
   "source": [
    "def death_times(s_class, timeline):\n",
    "    timeline.sort(key=lambda x: x[0])\n",
    "    all_deaths = []\n",
    "    for i in range(1,len(timeline)):\n",
    "        if timeline[i-1][1] in {2,3,4,5,6} and timeline[i][1] == 0:\n",
    "            all_deaths += [(s_class,timeline[i][0] - timeline[i-1][0])]\n",
    "    if all_deaths == []:\n",
    "        return [(s_class,0)]\n",
    "    return all_deaths\n",
    "\n",
    "average_death_duration_per_class = jobs_timeline \\\n",
    "    .flatMap(lambda job: death_times(job[0][1],job[1])) \\\n",
    "    .aggregateByKey(\n",
    "        (0,0),\n",
    "        lambda acc, data : (acc[0] + data, acc[1] + 1),\n",
    "        lambda acc1, acc2 : (acc1[0] + acc2[0], acc1[1] + acc2[1])\n",
    "    ).mapValues(lambda v: v[0]/v[1])"
   ]
  },
  {
   "cell_type": "code",
   "execution_count": 29,
   "metadata": {},
   "outputs": [
    {
     "name": "stderr",
     "output_type": "stream",
     "text": [
      "                                                                                \r"
     ]
    },
    {
     "data": {
      "image/png": "[encoded data removed]",
      "text/plain": [
       "<Figure size 640x480 with 1 Axes>"
      ]
     },
     "metadata": {},
     "output_type": "display_data"
    }
   ],
   "source": [
    "_ , data_death_time = zip(*average_death_duration_per_class.sortByKey().collect())\n",
    "plt.bar([str(c) for c in range(4)],data_death_time)\n",
    "plt.title(\"Average Death Time per Scheduling Class\")\n",
    "plt.xlabel(\"Scheduling Class\")\n",
    "plt.ylabel(\"Average Death Time (ms)\")\n",
    "plt.show()"
   ]
  },
  {
   "attachments": {},
   "cell_type": "markdown",
   "metadata": {},
   "source": [
    "We can see from the above graph that scheduling class 0 is the only class with any visible latency, which is slightly unexpected but does not contradict what was said in the google documentation."
   ]
  },
  {
   "attachments": {},
   "cell_type": "markdown",
   "metadata": {},
   "source": [
    "### 2 - Task priority impact \n",
    "\n",
    "Is there a positive correlation between a task priority and the ratio of its life spent running. Logic would say that it does, as this is what we would expect the scheduler to do.\n",
    "\n",
    "Preliminary questions:\n",
    "- Can a task change priority level ?\n",
    "- Do some tasks not have a FINISH (4) event at the end of their timeline ?"
   ]
  },
  {
   "cell_type": "code",
   "execution_count": 30,
   "metadata": {},
   "outputs": [
    {
     "name": "stderr",
     "output_type": "stream",
     "text": [
      "                                                                                \r"
     ]
    },
    {
     "name": "stdout",
     "output_type": "stream",
     "text": [
      "There are 142 tasks that have changed priorities.\n"
     ]
    },
    {
     "name": "stderr",
     "output_type": "stream",
     "text": [
      "                                                                                \r"
     ]
    },
    {
     "name": "stdout",
     "output_type": "stream",
     "text": [
      "The distribution of last events are as follows :\n",
      "-  -------\n",
      "0    21292\n",
      "1   128291\n",
      "2     1053\n",
      "3     3339\n",
      "4  1554453\n",
      "5   731765\n",
      "6      486\n",
      "8      200\n",
      "-  -------\n"
     ]
    }
   ],
   "source": [
    "nb_tasks_several_priorities = task_events.map(lambda event: ((task_events_get['job ID'](event), task_events_get['task index'](event)), {task_events_get['priority'](event)})) \\\n",
    "    .reduceByKey(lambda p1, p2: p1 | p2) \\\n",
    "    .filter(lambda task: len(task[1])>1) \\\n",
    "    .count()\n",
    "\n",
    "print(f\"There are {nb_tasks_several_priorities} tasks that have changed priorities.\")\n",
    "\n",
    "tasks_last_event_distribution = task_events \\\n",
    "    .map(lambda event: (\n",
    "        (task_events_get['job ID'](event), task_events_get['task index'](event)),\n",
    "        (task_events_get['time'](event), task_events_get['event type'](event))\n",
    "        )\n",
    "    ) \\\n",
    "    .reduceByKey(lambda e1,e2: e1 if e1[0] > e2[0] else e2) \\\n",
    "    .map(lambda event : (event[1][1],1)) \\\n",
    "    .reduceByKey(add) \\\n",
    "    .sortBy(lambda e: e[0]) \\\n",
    "    .collect()\n",
    "\n",
    "print(f\"The distribution of last events are as follows :\\n{tabulate(tasks_last_event_distribution)}\")\n"
   ]
  },
  {
   "attachments": {},
   "cell_type": "markdown",
   "metadata": {},
   "source": [
    "Considering what we see, we need to filter events that have actually finished to have a relevant dataset for our question, as a task with high priority could have had a short life without running, getting a poor ratio as a result. We also need to filter by the timeline that starts with a submit, to prevent the cases where where a task changed priorities, and therefore doesn't have a full timeline.\n",
    "\n",
    "Now that we know that, we just need to look at each task's timelines (similar to how we did it in question 2) and determine its running time, and whole life. \n",
    "We will need to determine the running time out of all it's life. The running time is the time between the events SCHEDULE (1) and either EVICT (2), FINISHED (4), FAIL (3), KILL (5), or LOST (6). The last 3 events can indeed happen even if the task has finished, as the Google documentation specifies, if those events happens, the scheduler will try to re-submit the task.\n",
    "\n",
    "We will filter out the updates events, as they do not change the running status of our tasks."
   ]
  },
  {
   "cell_type": "code",
   "execution_count": 31,
   "metadata": {},
   "outputs": [],
   "source": [
    "tasks_timeline = task_events \\\n",
    "    .filter(lambda event: task_events_get['event type'](event) not in {7,8}) \\\n",
    "    .map(lambda event: (\n",
    "        (task_events_get['job ID'](event), task_events_get['task index'](event), task_events_get['priority'](event)),\n",
    "        (task_events_get['time'](event), task_events_get['event type'](event))\n",
    "        )\n",
    "    ) \\\n",
    "    .aggregateByKey(None,lambda acc, e: acc+[e] if acc is not None else [e],add) \\\n",
    "    .filter(lambda task: task[1][-1][1] == 4 and task[1][0][1] == 0) \\\n",
    "    .cache()\n",
    "\n",
    "# print(f\"We have a total of {tasks_timeline.count()} tasks timelines.\")"
   ]
  },
  {
   "cell_type": "code",
   "execution_count": 32,
   "metadata": {},
   "outputs": [
    {
     "name": "stderr",
     "output_type": "stream",
     "text": [
      "                                                                                \r"
     ]
    },
    {
     "data": {
      "image/png": "[encoded data removed]",
      "text/plain": [
       "<Figure size 640x480 with 1 Axes>"
      ]
     },
     "metadata": {},
     "output_type": "display_data"
    }
   ],
   "source": [
    "def running_ratio(timeline):\n",
    "    timeline.sort(key=lambda x: x[0])\n",
    "    total_time = timeline[-1][0] - timeline[0][0]\n",
    "    if total_time==0 :\n",
    "        total_time = 1\n",
    "    running_time = 0\n",
    "    for i in range(1,len(timeline)):\n",
    "        if timeline[i-1][1] == 1 and timeline[i][1] in {2,3,4,5,6}:\n",
    "            running_time += timeline[i][0] - timeline[i-1][0]\n",
    "    return float(running_time) / float(total_time)\n",
    "\n",
    "tasks_ratio = tasks_timeline.map(lambda task: (task[0][2],running_ratio(task[1])))\n",
    "\n",
    "plt.scatter(*zip(*tasks_ratio.collect()))\n",
    "plt.show()"
   ]
  },
  {
   "attachments": {},
   "cell_type": "markdown",
   "metadata": {},
   "source": [
    "Seeing all points does not help us, so let's see the average for each priority level."
   ]
  },
  {
   "cell_type": "code",
   "execution_count": 33,
   "metadata": {},
   "outputs": [
    {
     "name": "stderr",
     "output_type": "stream",
     "text": [
      "                                                                                \r"
     ]
    },
    {
     "data": {
      "image/png": "[encoded data removed]",
      "text/plain": [
       "<Figure size 640x480 with 1 Axes>"
      ]
     },
     "metadata": {},
     "output_type": "display_data"
    }
   ],
   "source": [
    "tasks_average_ratio = tasks_ratio \\\n",
    "    .map(lambda task: (task[0],(task[1],1))) \\\n",
    "    .reduceByKey(lambda t1,t2: (t1[0]+t2[0],t1[1]+t2[1])) \\\n",
    "    .map(lambda task: (task[0],task[1][0]/task[1][1]))\n",
    "\n",
    "plt.bar(*zip(*tasks_average_ratio.collect()))\n",
    "plt.show()"
   ]
  },
  {
   "attachments": {},
   "cell_type": "markdown",
   "metadata": {},
   "source": [
    "These results are very unexpected, the google documentation (page 8, Task events table section) clearly states that 0 is the lowest priority. But the document also states that there are 3 priority categories :\n",
    "- free : lowest priority\n",
    "- production : highest priorities\n",
    "- monitoring : special category for jobs that monitor others\n",
    "\n",
    "The graph we see might be a result of those 3 ranges, if we try to perform the above computations with more tables (currently 40, below with 100), we obtain the graph below :"
   ]
  },
  {
   "cell_type": "code",
   "execution_count": 1,
   "metadata": {},
   "outputs": [
    {
     "data": {
      "image/png": "[encoded data removed]",
      "text/plain": [
       "<IPython.core.display.Image object>"
      ]
     },
     "execution_count": 1,
     "metadata": {},
     "output_type": "execute_result"
    }
   ],
   "source": [
    "from IPython import display\n",
    "display.Image(\"priority_runtime_100tables.png\")"
   ]
  },
  {
   "attachments": {},
   "cell_type": "markdown",
   "metadata": {},
   "source": [
    "Seeing this new graph, we can have a better guess as to what the 3 categories are :\n",
    "- 0 to 2 -> *free* (low overall runtime compared to next section)\n",
    "- 3 to 8 -> *production* (consistently high overall runtime)\n",
    "- 9 to 11 -> *monitoring* (big drop in runtime)\n",
    "\n",
    "The number itself does not have much meaning then, except assigning you to one of the categories. As for the big drop in runtime for the last category, maybe monitoring has low ratios because it gets evicted often for long period monitoring, it does not need to run often, and therefore produces a lower ratio overall."
   ]
  },
  {
   "attachments": {},
   "cell_type": "markdown",
   "metadata": {},
   "source": [
    "# Extension Work : DataFrame Version of previous work\n",
    "\n",
    "As an extension for our work, we decided to use PySparkSQL DataFrame object instead of the RDD. We selected a few questions with different approach, and tried to redo them using DataFrames along with tools coming from PySparkSQL. \n",
    "\n",
    "Here are the results of our work, with both our successes and failures."
   ]
  },
  {
   "attachments": {},
   "cell_type": "markdown",
   "metadata": {},
   "source": [
    "## Starting PySparkSQL and importing the schema\n",
    "\n",
    "To use DataFrames, we need to use the SparkSession of PySparkSQL instead of the SparkContext. PySparkSQL allows the use the tabular methods provided by DataFrames. Spark offers a DataFrame API, through their Spark SQL."
   ]
  },
  {
   "cell_type": "code",
   "execution_count": 4,
   "metadata": {},
   "outputs": [],
   "source": [
    "from pyspark.sql import SparkSession\n",
    "from pyspark.sql import functions as F\n",
    "\n",
    "spark = SparkSession.builder \\\n",
    "    .master(\"local[*]\") \\\n",
    "    .appName(\"Cluster analysis\") \\\n",
    "    .getOrCreate()\n",
    "\n",
    "schema = Schema(\"./data/schema.csv\")"
   ]
  },
  {
   "attachments": {},
   "cell_type": "markdown",
   "metadata": {},
   "source": [
    "## Importing tables into DataFrame\n",
    "\n",
    "Importing .csv files into a DataFrame was a bit different from the RDD, but we found how to do it in the [documentation](https://spark.apache.org/docs/latest/api/python/reference/pyspark.sql/api/pyspark.sql.DataFrameReader.csv.html#pyspark.sql.DataFrameReader.csv) :"
   ]
  },
  {
   "cell_type": "code",
   "execution_count": 5,
   "metadata": {},
   "outputs": [],
   "source": [
    "from pyspark.sql.types import StructType, StructField\n",
    "from pyspark.sql.types import StringType, FloatType, IntegerType, LongType\n",
    "\n",
    "# Mapping from field type as provided by the schema file, to their SparkSQL equivalent types\n",
    "field_to_spark_type = {\n",
    "    'time': LongType,\n",
    "    'machine ID': LongType,\n",
    "    'event type': IntegerType,\n",
    "    'platform ID': StringType,\n",
    "    'CPUs': FloatType,\n",
    "    'Memory': FloatType\n",
    "}\n",
    "\n",
    "# Object representing the format of the data we will be loading, so SparkSQL can do the proper pre-processing\n",
    "machine_events_schema = StructType([\n",
    "    StructField(field['content'].replace(' ', '_'), field_to_spark_type[field['content']](), field['mandatory'])\n",
    "    for field in schema.get_table_schema('machine_events')['fields']\n",
    "])\n",
    "\n",
    "machine_events_df = spark.read \\\n",
    "    .format('csv') \\\n",
    "    .option(\"header\",\"false\") \\\n",
    "    .schema(machine_events_schema) \\\n",
    "    .load(\"./data/machine_events/*.csv\")"
   ]
  },
  {
   "attachments": {},
   "cell_type": "markdown",
   "metadata": {},
   "source": [
    "Let's see what the schema looks like, to see if it is what we expect it to be for machine events."
   ]
  },
  {
   "cell_type": "code",
   "execution_count": 6,
   "metadata": {},
   "outputs": [
    {
     "name": "stdout",
     "output_type": "stream",
     "text": [
      "root\n",
      " |-- time: long (nullable = true)\n",
      " |-- machine_ID: long (nullable = true)\n",
      " |-- event_type: integer (nullable = true)\n",
      " |-- platform_ID: string (nullable = true)\n",
      " |-- CPUs: float (nullable = true)\n",
      " |-- Memory: float (nullable = true)\n",
      "\n"
     ]
    }
   ],
   "source": [
    "machine_events_df.printSchema()"
   ]
  },
  {
   "attachments": {},
   "cell_type": "markdown",
   "metadata": {},
   "source": [
    "## Distribution of CPU Capacity (Q1)\n",
    "\n",
    "This question is simple enough to have a small expression that looks like what we did for RDDs :"
   ]
  },
  {
   "cell_type": "code",
   "execution_count": 7,
   "metadata": {},
   "outputs": [
    {
     "name": "stdout",
     "output_type": "stream",
     "text": [
      "+---------+-----+\n",
      "|max(CPUs)|count|\n",
      "+---------+-----+\n",
      "|     0.25|  123|\n",
      "|      0.5|11636|\n",
      "|      1.0|  796|\n",
      "+---------+-----+\n",
      "\n"
     ]
    }
   ],
   "source": [
    "creation_events = machine_events_df \\\n",
    "    .filter(machine_events_df.event_type == 0) \\\n",
    "    .filter(machine_events_df.CPUs.isNotNull())\n",
    "\n",
    "cpu_counts = creation_events \\\n",
    "    .groupBy(\"machine_ID\") \\\n",
    "    .agg({\"time\":\"max\",\"CPUs\":\"max\"}) \\\n",
    "    .groupBy(\"max(CPUs)\") \\\n",
    "    .count()\n",
    "\n",
    "cpu_counts.show()"
   ]
  },
  {
   "attachments": {},
   "cell_type": "markdown",
   "metadata": {},
   "source": [
    "It is still different enough, as we have to use an aggregation function after the *groupBy*. Furthermore, the renaming of Columns is something we need to account for, except if we want to rename them after each operations with *withColumnRenamed*.\n",
    "\n",
    "We can also use sql queries for the same purpose :"
   ]
  },
  {
   "cell_type": "code",
   "execution_count": 12,
   "metadata": {},
   "outputs": [
    {
     "name": "stdout",
     "output_type": "stream",
     "text": [
      "+---------+------------------+\n",
      "|CPU_Value|Number_Of_Machines|\n",
      "+---------+------------------+\n",
      "|     0.25|               123|\n",
      "|      0.5|             11636|\n",
      "|      1.0|               796|\n",
      "+---------+------------------+\n",
      "\n"
     ]
    }
   ],
   "source": [
    "creation_events.createOrReplaceTempView(\"creation_events\")\n",
    "\n",
    "spark.sql(\"SELECT cpu as CPU_Value, COUNT(*) AS Number_Of_Machines \"\n",
    "            \"FROM (\"\n",
    "                \"SELECT machine_ID AS ID, max(CPUs) AS cpu \"\n",
    "                \"FROM creation_events \"\n",
    "                \"GROUP BY id \"\n",
    "            \") \"\n",
    "            \"GROUP BY CPU_Value;\").show()"
   ]
  },
  {
   "attachments": {},
   "cell_type": "markdown",
   "metadata": {},
   "source": [
    "The above *select* gave small difficulties concerning the fact that we needed 2 groupBy back to back, that we were able to do via an embedded query from which we do the final groupBy. "
   ]
  },
  {
   "attachments": {},
   "cell_type": "markdown",
   "metadata": {},
   "source": [
    "## Percentage of lost computational power (Q2)\n",
    "\n",
    "We had the idea of doing this question because we thought it could be an interesting challenge, as it wasn't too hard to do it with RDD, but we didn't see how to do it with DataFrames at first. We nearly abandoned this question as an example of something we didn't manage to do with DataFrames but we managed to find a solution. This took a while.\n",
    "\n",
    "Here are the approach we took to tackle this question with DataFrames."
   ]
  },
  {
   "attachments": {},
   "cell_type": "markdown",
   "metadata": {},
   "source": [
    "#### Preliminary exploration\n",
    "\n",
    "We first need to check a few things to know what to account for in our operations. First off, let us verify if the value of CPUs can be null :"
   ]
  },
  {
   "cell_type": "code",
   "execution_count": 13,
   "metadata": {},
   "outputs": [
    {
     "data": {
      "text/plain": [
       "32"
      ]
     },
     "execution_count": 13,
     "metadata": {},
     "output_type": "execute_result"
    }
   ],
   "source": [
    "machine_events_df.createOrReplaceTempView(\"machine_events\")\n",
    "\n",
    "bad_cpu_machines = spark.sql(\"SELECT DISTINCT machine_ID \"\n",
    "                             \"FROM machine_events \"\n",
    "                             \"WHERE CPUs IS NULL\")\n",
    "bad_cpu_machines.count()"
   ]
  },
  {
   "attachments": {},
   "cell_type": "markdown",
   "metadata": {},
   "source": [
    "Indeed it can, now let us see the maximum number of events on each machine :"
   ]
  },
  {
   "cell_type": "code",
   "execution_count": 14,
   "metadata": {},
   "outputs": [
    {
     "name": "stdout",
     "output_type": "stream",
     "text": [
      "+--------+\n",
      "|n_events|\n",
      "+--------+\n",
      "|     330|\n",
      "+--------+\n",
      "\n"
     ]
    }
   ],
   "source": [
    "spark.sql(\n",
    "    \"SELECT COUNT(*) as n_events FROM machine_events \"\n",
    "    \"WHERE CPUs IS NOT NULL \"\n",
    "    \"GROUP BY machine_ID \"\n",
    "    \"ORDER BY n_events DESC \"\n",
    "    \"LIMIT 1\"\n",
    "    ).show()"
   ]
  },
  {
   "attachments": {},
   "cell_type": "markdown",
   "metadata": {},
   "source": [
    "A machine has therefore at most 330 events, it is small enough that python can handle one machine. We'll therefore group the list of events, CPUs rates and timestamps for each machine IDs, then operate on them to determine the lost computational power of the cluster."
   ]
  },
  {
   "attachments": {},
   "cell_type": "markdown",
   "metadata": {},
   "source": [
    "#### Machine timelines\n",
    "\n",
    "We here group a list of timestamps, CPU rates, and event types, for later use to determine lost computational power."
   ]
  },
  {
   "cell_type": "code",
   "execution_count": 15,
   "metadata": {},
   "outputs": [],
   "source": [
    "grouped_machine_events = machine_events_df \\\n",
    "    .orderBy(machine_events_df['time']) \\\n",
    "    .groupBy(machine_events_df['machine_ID']) \\\n",
    "    .agg(\n",
    "        F.collect_list('time').alias('time'),\n",
    "        F.collect_list('event_type').alias('event_type'),\n",
    "        F.max('CPUs').alias('cpu')) \\\n",
    "    .filter(F.col('cpu').isNotNull())"
   ]
  },
  {
   "cell_type": "code",
   "execution_count": 16,
   "metadata": {},
   "outputs": [
    {
     "name": "stdout",
     "output_type": "stream",
     "text": [
      "+----------+--------------------+----------+---+\n",
      "|machine_ID|                time|event_type|cpu|\n",
      "+----------+--------------------+----------+---+\n",
      "|         5|[835150655707, 83...| [1, 0, 0]|0.5|\n",
      "|         6|                 [0]|       [0]|0.5|\n",
      "|         7|                 [0]|       [0]|0.5|\n",
      "|        10|[1306164355566, 1...| [1, 0, 0]|0.5|\n",
      "|        13|[2447693838527, 2...| [1, 0, 0]|0.5|\n",
      "+----------+--------------------+----------+---+\n",
      "only showing top 5 rows\n",
      "\n"
     ]
    }
   ],
   "source": [
    "grouped_machine_events.show(5)"
   ]
  },
  {
   "attachments": {},
   "cell_type": "markdown",
   "metadata": {},
   "source": [
    "#### Computational Power Lost\n",
    "\n",
    "And now, we arrive at the problematic part. DataFrames are very powerful on many regards, but a weakness that we haven't found a solution to, is the fact that operations are done on columns, which is fine if there exists functions that we need in PySparkSQL, but gives difficulties if we need more complicated functions on serval columns. \n",
    "\n",
    "The idea we had was to add a new column with the method *withColumn*, and apply operations on the column time, event_type, and CPUs, but it wasn't a matter of just adding 3 numbers, or even do some simple vector operations. We need to retrieve the arrays inside each row, and apply operations on multiple element of the arrays at once (test 2 consecutive events, access 2 timestamps to get durations).\n",
    "\n",
    "We found a solution by defining a *udf function*, which enables us to do an operation close to \"mapping\" :"
   ]
  },
  {
   "cell_type": "code",
   "execution_count": 17,
   "metadata": {},
   "outputs": [],
   "source": [
    "from pyspark.sql.functions import udf, col\n",
    "\n",
    "# Computing the lost power for each machine\n",
    "def lost_power(time, event, cpu):\n",
    "  acc = 0\n",
    "  # The following test is here because some arrays had their first elements at the end, bu we could not figure out why\n",
    "  if time[-1]>time[0]:\n",
    "    for i in range(1,len(time)):\n",
    "      if event[i-1] ==1 and event[i] == 0:\n",
    "        acc += (time[i]-time[i-1]) * (cpu)\n",
    "  else :\n",
    "    for i in range(len(time)-1):\n",
    "      if event[(i-1)%len(time)] ==1 and event[i] == 0:\n",
    "        acc += (time[i]-time[(i-1)%len(time)]) * (cpu)\n",
    "  return acc\n",
    "\n",
    "# Finding the total power output of this machine\n",
    "def total_power(time, event, cpu, max_time):\n",
    "  if len(time)==1:\n",
    "    return (max_time - time[0]) * cpu\n",
    "\n",
    "  last_event_delete = False\n",
    "  if time[-1]>time[0]:\n",
    "    if event[-1] == 1:\n",
    "      last_event_delete = True\n",
    "  else :\n",
    "    if event[-2] == 1:\n",
    "      last_event_delete = True\n",
    "  \n",
    "  if last_event_delete:\n",
    "    return (max(time) - min(time)) * cpu\n",
    "  return (max_time - min(time)) * cpu\n",
    "\n",
    "lost_power_udf = udf(lambda time, event, cpu: lost_power(time,event,cpu))\n",
    "total_power_udf = udf(lambda time, event, cpu, max_time: total_power(time,event,cpu,max_time))\n",
    "\n",
    "max_time_tmp = machine_events_df.select(F.max(machine_events_df.time)).collect()[0].asDict()['max(time)']\n",
    "\n",
    "machine_lost_power = grouped_machine_events \\\n",
    "  .withColumn('max_time', F.lit(max_time_tmp)) \\\n",
    "  .withColumn('lost_power', lost_power_udf(col(\"time\"),col(\"event_type\"),col(\"cpu\"))) \\\n",
    "  .withColumn('total_power', total_power_udf(col(\"time\"),col(\"event_type\"),col(\"cpu\"),col(\"max_time\")))"
   ]
  },
  {
   "cell_type": "code",
   "execution_count": 18,
   "metadata": {},
   "outputs": [
    {
     "name": "stdout",
     "output_type": "stream",
     "text": [
      "+----------+--------------------+----------+---+-------------+-------------+------------------+\n",
      "|machine_ID|                time|event_type|cpu|     max_time|   lost_power|       total_power|\n",
      "+----------+--------------------+----------+---+-------------+-------------+------------------+\n",
      "|         5|[835150655707, 83...| [1, 0, 0]|0.5|2506135493517|4.871238785E8|1.2530677467585E12|\n",
      "|         6|                 [0]|       [0]|0.5|2506135493517|            0|1.2530677467585E12|\n",
      "|         7|                 [0]|       [0]|0.5|2506135493517|            0|1.2530677467585E12|\n",
      "|        10|[1306164355566, 1...| [1, 0, 0]|0.5|2506135493517| 4.99363174E8|1.2530677467585E12|\n",
      "|        13|[2447693838527, 2...| [1, 0, 0]|0.5|2506135493517|4.986401075E8|1.2530677467585E12|\n",
      "+----------+--------------------+----------+---+-------------+-------------+------------------+\n",
      "only showing top 5 rows\n",
      "\n"
     ]
    }
   ],
   "source": [
    "machine_lost_power.show(5)"
   ]
  },
  {
   "attachments": {},
   "cell_type": "markdown",
   "metadata": {},
   "source": [
    "As we can see, we needed to use the udf function to be able to do what we wanted. Now, we just need to do the final computation through a simple select and we are done."
   ]
  },
  {
   "cell_type": "code",
   "execution_count": 19,
   "metadata": {},
   "outputs": [
    {
     "name": "stdout",
     "output_type": "stream",
     "text": [
      "The cluster lost around 0.48275% of power overall.\n"
     ]
    }
   ],
   "source": [
    "percentage_of_lost_power = machine_lost_power.select(F.sum(col(\"lost_power\")) / F.sum(col(\"total_power\"))).collect()[0].asDict()['(sum(lost_power) / sum(total_power))']\n",
    "\n",
    "print(f\"The cluster lost around {percentage_of_lost_power*100:0.5f}% of power overall.\")"
   ]
  },
  {
   "attachments": {},
   "cell_type": "markdown",
   "metadata": {},
   "source": [
    "> **Note** : We have a different value than the ~0.68% from earlier, but it can be the result of the above code not taking into account the first 600s as active, whereas we removed it earlier. With almost all machine starting at time 0, this adds a lot of \"available\" time, lowering the above percentage."
   ]
  },
  {
   "attachments": {},
   "cell_type": "markdown",
   "metadata": {},
   "source": [
    "## Do tasks from the same job run on the same machine (Q5)\n",
    "\n",
    "For this question, we need to group task events by job IDs, then see how many *distinct* machine IDs we have, then do a histogram of it. With RDDs, we did it with maps and reduce using sets operations to account for distinct machine_ID. \n",
    "\n",
    "Using DataFrames, we are able to take advantage of groupBy then agg functions, along with column functions to make the process more straight forward.\n",
    "\n",
    "Let's first load the task events :"
   ]
  },
  {
   "cell_type": "code",
   "execution_count": 20,
   "metadata": {},
   "outputs": [],
   "source": [
    "# Mapping from field type as provided by the schema file, to their SparkSQL equivalent types\n",
    "from pyspark.sql.types import BooleanType\n",
    "\n",
    "field_to_spark_type = {\n",
    "    'time': LongType,\n",
    "    'missing info': LongType,\n",
    "    'job ID': LongType,\n",
    "    'task index': IntegerType,\n",
    "    'machine ID': LongType,\n",
    "    'event type': IntegerType,\n",
    "    'user': StringType,\n",
    "    'scheduling class': IntegerType,\n",
    "    'priority': IntegerType,\n",
    "    'CPU request': FloatType,\n",
    "    'memory request': FloatType,\n",
    "    'disk space request': FloatType,\n",
    "    'different machines restriction': BooleanType\n",
    "}\n",
    "\n",
    "# Object representing the format of the data we will be loading, so SparkSQL can do the proper pre-processing\n",
    "task_events_schema = StructType([\n",
    "    StructField(field['content'].replace(' ', '_'), field_to_spark_type[field['content']](), field['mandatory'])\n",
    "    for field in schema.get_table_schema('task_events')['fields']\n",
    "])\n",
    "\n",
    "task_events_df = spark.read \\\n",
    "    .format('csv') \\\n",
    "    .option(\"header\",\"false\") \\\n",
    "    .schema(task_events_schema) \\\n",
    "    .load(\"./data/task_events\")"
   ]
  },
  {
   "cell_type": "code",
   "execution_count": 22,
   "metadata": {},
   "outputs": [],
   "source": [
    "# task_events_df.show(5)"
   ]
  },
  {
   "attachments": {},
   "cell_type": "markdown",
   "metadata": {},
   "source": [
    "We note from the above display and the schema file that the attribute *machine_ID* can be *null*, as such, we need to filter it out before other operations."
   ]
  },
  {
   "cell_type": "code",
   "execution_count": 24,
   "metadata": {},
   "outputs": [
    {
     "name": "stderr",
     "output_type": "stream",
     "text": [
      "                                                                                \r"
     ]
    },
    {
     "name": "stdout",
     "output_type": "stream",
     "text": [
      "+----------+-----+\n",
      "|nb_machine|count|\n",
      "+----------+-----+\n",
      "|         1|37656|\n",
      "|         2| 3228|\n",
      "|         3|  665|\n",
      "|         4|  296|\n",
      "|         5|  407|\n",
      "|         6|  407|\n",
      "|         7|  199|\n",
      "|         8|  158|\n",
      "|         9|  472|\n",
      "|        10|  235|\n",
      "|        11|  848|\n",
      "|        12|  152|\n",
      "|        13|   85|\n",
      "|        14|  324|\n",
      "|        15| 1031|\n",
      "|        16|  231|\n",
      "|        17|   79|\n",
      "|        18|  107|\n",
      "|        19|   45|\n",
      "|        20|  110|\n",
      "+----------+-----+\n",
      "only showing top 20 rows\n",
      "\n"
     ]
    }
   ],
   "source": [
    "different_machines_histogram = task_events_df.filter(task_events_df.machine_ID.isNotNull())\\\n",
    "    .groupBy(\"job_ID\") \\\n",
    "    .agg(F.count_distinct(task_events_df.machine_ID)) \\\n",
    "    .groupBy(\"count(machine_ID)\") \\\n",
    "    .agg({\"job_ID\":\"count\"}) \\\n",
    "    .orderBy(\"count(machine_ID)\") \\\n",
    "    .withColumnRenamed(\"count(machine_ID)\",\"nb_machine\") \\\n",
    "    .withColumnRenamed(\"count(job_ID)\",\"count\") \\\n",
    "    .cache()\n",
    "\n",
    "different_machines_histogram.show()"
   ]
  },
  {
   "attachments": {},
   "cell_type": "markdown",
   "metadata": {},
   "source": [
    "Let us gather the data into a chart to see these results in a better light."
   ]
  },
  {
   "cell_type": "code",
   "execution_count": 25,
   "metadata": {},
   "outputs": [],
   "source": [
    "iterator = different_machines_histogram.toLocalIterator()\n",
    "X = []\n",
    "Y = []\n",
    "\n",
    "for row in iterator:\n",
    "    d = row.asDict()\n",
    "    X += [d[\"nb_machine\"]]\n",
    "    Y += [d[\"count\"]]"
   ]
  },
  {
   "cell_type": "code",
   "execution_count": 30,
   "metadata": {},
   "outputs": [
    {
     "data": {
      "image/png": "[encoded data removed]",
      "text/plain": [
       "<Figure size 640x480 with 1 Axes>"
      ]
     },
     "metadata": {},
     "output_type": "display_data"
    }
   ],
   "source": [
    "plt.plot(X,Y)\n",
    "plt.yscale(\"log\")\n",
    "plt.title(\"How many Jobs use any given number of machines\")\n",
    "plt.xlabel(\"Number of machines used by the same Job\")\n",
    "plt.ylabel(\"Number of Jobs (log)\")\n",
    "plt.show()"
   ]
  }
 ],
 "metadata": {
  "kernelspec": {
   "display_name": "SparkProject-DTXSDDnr",
   "language": "python",
   "name": "python3"
  },
  "language_info": {
   "codemirror_mode": {
    "name": "ipython",
    "version": 3
   },
   "file_extension": ".py",
   "mimetype": "text/x-python",
   "name": "python",
   "nbconvert_exporter": "python",
   "pygments_lexer": "ipython3",
   "version": "3.10.6"
  },
  "orig_nbformat": 4,
  "vscode": {
   "interpreter": {
    "hash": "cf96d2e1563c5703f4751942328699d80d1199668a3d2612f12bdd9a534862d2"
   }
  }
 },
 "nbformat": 4,
 "nbformat_minor": 2
}
