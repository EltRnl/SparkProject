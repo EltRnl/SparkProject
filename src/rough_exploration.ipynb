{
 "cells": [
  {
   "cell_type": "markdown",
   "metadata": {},
   "source": [
    "# Exploratory code\n",
    "\n",
    "The software in this file represents some of our explorations and experiments that were used to make our final analysis."
   ]
  },
  {
   "cell_type": "markdown",
   "metadata": {},
   "source": [
    "## Parsing the schema file"
   ]
  },
  {
   "cell_type": "code",
   "execution_count": 1,
   "metadata": {},
   "outputs": [],
   "source": [
    "from schema import Schema\n",
    "from tabulate import tabulate\n",
    "from importlib import reload"
   ]
  },
  {
   "cell_type": "code",
   "execution_count": 2,
   "metadata": {},
   "outputs": [
    {
     "name": "stdout",
     "output_type": "stream",
     "text": [
      "\n",
      "#########################################################################\n",
      "job_events (job_events/part-?????-of-?????.csv.gz):\n",
      "  field number  content           format       mandatory    formatter\n",
      "--------------  ----------------  -----------  -----------  ----------------------------------------------------------------\n",
      "             0  time              INTEGER      True         <function parse_schema_line.<locals>.<lambda> at 0x7f30638fdc60>\n",
      "             1  missing info      INTEGER      False        <function parse_schema_line.<locals>.<lambda> at 0x7f30638fdf30>\n",
      "             2  job ID            INTEGER      True         <function parse_schema_line.<locals>.<lambda> at 0x7f306399e710>\n",
      "             3  event type        INTEGER      True         <function parse_schema_line.<locals>.<lambda> at 0x7f306399e7a0>\n",
      "             4  user              STRING_HASH  False        <function parse_schema_line.<locals>.<lambda> at 0x7f30638fdfc0>\n",
      "             5  scheduling class  INTEGER      False        <function parse_schema_line.<locals>.<lambda> at 0x7f306399e290>\n",
      "             6  job name          STRING_HASH  False        <function parse_schema_line.<locals>.<lambda> at 0x7f306399e950>\n",
      "             7  logical job name  STRING_HASH  False        <function parse_schema_line.<locals>.<lambda> at 0x7f306399e9e0>\n",
      "#########################################################################\n",
      "task_events (task_events/part-?????-of-?????.csv.gz):\n",
      "  field number  content                         format       mandatory    formatter\n",
      "--------------  ------------------------------  -----------  -----------  ----------------------------------------------------------------\n",
      "             0  time                            INTEGER      True         <function parse_schema_line.<locals>.<lambda> at 0x7f306399e830>\n",
      "             1  missing info                    INTEGER      False        <function parse_schema_line.<locals>.<lambda> at 0x7f306399e8c0>\n",
      "             2  job ID                          INTEGER      True         <function parse_schema_line.<locals>.<lambda> at 0x7f306399ea70>\n",
      "             3  task index                      INTEGER      True         <function parse_schema_line.<locals>.<lambda> at 0x7f306399eb00>\n",
      "             4  machine ID                      INTEGER      False        <function parse_schema_line.<locals>.<lambda> at 0x7f306399eb90>\n",
      "             5  event type                      INTEGER      True         <function parse_schema_line.<locals>.<lambda> at 0x7f306399ec20>\n",
      "             6  user                            STRING_HASH  False        <function parse_schema_line.<locals>.<lambda> at 0x7f306399edd0>\n",
      "             7  scheduling class                INTEGER      False        <function parse_schema_line.<locals>.<lambda> at 0x7f306399ed40>\n",
      "             8  priority                        INTEGER      True         <function parse_schema_line.<locals>.<lambda> at 0x7f306399ecb0>\n",
      "             9  CPU request                     FLOAT        False        <function parse_schema_line.<locals>.<lambda> at 0x7f306399eef0>\n",
      "            10  memory request                  FLOAT        False        <function parse_schema_line.<locals>.<lambda> at 0x7f306399ef80>\n",
      "            11  disk space request              FLOAT        False        <function parse_schema_line.<locals>.<lambda> at 0x7f306399f010>\n",
      "            12  different machines restriction  BOOLEAN      False        <function parse_schema_line.<locals>.<lambda> at 0x7f306399f1c0>\n",
      "#########################################################################\n",
      "machine_events (machine_events/part-00000-of-00001.csv.gz):\n",
      "  field number  content      format       mandatory    formatter\n",
      "--------------  -----------  -----------  -----------  ----------------------------------------------------------------\n",
      "             0  time         INTEGER      True         <function parse_schema_line.<locals>.<lambda> at 0x7f306399ee60>\n",
      "             1  machine ID   INTEGER      True         <function parse_schema_line.<locals>.<lambda> at 0x7f306399f130>\n",
      "             2  event type   INTEGER      True         <function parse_schema_line.<locals>.<lambda> at 0x7f306399f0a0>\n",
      "             3  platform ID  STRING_HASH  False        <function parse_schema_line.<locals>.<lambda> at 0x7f306399f370>\n",
      "             4  CPUs         FLOAT        False        <function parse_schema_line.<locals>.<lambda> at 0x7f306399f250>\n",
      "             5  Memory       FLOAT        False        <function parse_schema_line.<locals>.<lambda> at 0x7f306399f400>\n",
      "#########################################################################\n",
      "machine_attributes (machine_attributes/part-00000-of-00001.csv.gz):\n",
      "  field number  content            format                  mandatory    formatter\n",
      "--------------  -----------------  ----------------------  -----------  ----------------------------------------------------------------\n",
      "             0  time               INTEGER                 True         <function parse_schema_line.<locals>.<lambda> at 0x7f306399f2e0>\n",
      "             1  machine ID         INTEGER                 True         <function parse_schema_line.<locals>.<lambda> at 0x7f306399f490>\n",
      "             2  attribute name     STRING_HASH             True         <function parse_schema_line.<locals>.<lambda> at 0x7f306399f640>\n",
      "             3  attribute value    STRING_HASH_OR_INTEGER  False        <function string_hash_or_integer at 0x7f30638fdbd0>\n",
      "             4  attribute deleted  BOOLEAN                 True         <function parse_schema_line.<locals>.<lambda> at 0x7f306399f6d0>\n",
      "#########################################################################\n",
      "task_constraints (task_constraints/part-?????-of-?????.csv.gz):\n",
      "  field number  content              format                  mandatory    formatter\n",
      "--------------  -------------------  ----------------------  -----------  ----------------------------------------------------------------\n",
      "             0  time                 INTEGER                 True         <function parse_schema_line.<locals>.<lambda> at 0x7f306399f520>\n",
      "             1  job ID               INTEGER                 True         <function parse_schema_line.<locals>.<lambda> at 0x7f306399f760>\n",
      "             2  task index           INTEGER                 True         <function parse_schema_line.<locals>.<lambda> at 0x7f306399f5b0>\n",
      "             3  comparison operator  INTEGER                 True         <function parse_schema_line.<locals>.<lambda> at 0x7f306399f7f0>\n",
      "             4  attribute name       STRING_HASH             True         <function parse_schema_line.<locals>.<lambda> at 0x7f306399f9a0>\n",
      "             5  attribute value      STRING_HASH_OR_INTEGER  False        <function string_hash_or_integer at 0x7f30638fdbd0>\n",
      "#########################################################################\n",
      "task_usage (task_usage/part-?????-of-?????.csv.gz):\n",
      "  field number  content                          format    mandatory    formatter\n",
      "--------------  -------------------------------  --------  -----------  ----------------------------------------------------------------\n",
      "             0  start time                       INTEGER   True         <function parse_schema_line.<locals>.<lambda> at 0x7f306399f880>\n",
      "             1  end time                         INTEGER   True         <function parse_schema_line.<locals>.<lambda> at 0x7f306399f910>\n",
      "             2  job ID                           INTEGER   True         <function parse_schema_line.<locals>.<lambda> at 0x7f306399fac0>\n",
      "             3  task index                       INTEGER   True         <function parse_schema_line.<locals>.<lambda> at 0x7f306399fa30>\n",
      "             4  machine ID                       INTEGER   True         <function parse_schema_line.<locals>.<lambda> at 0x7f306399fb50>\n",
      "             5  CPU rate                         FLOAT     False        <function parse_schema_line.<locals>.<lambda> at 0x7f306399fc70>\n",
      "             6  canonical memory usage           FLOAT     False        <function parse_schema_line.<locals>.<lambda> at 0x7f306399fd00>\n",
      "             7  assigned memory usage            FLOAT     False        <function parse_schema_line.<locals>.<lambda> at 0x7f306399fd90>\n",
      "             8  unmapped page cache              FLOAT     False        <function parse_schema_line.<locals>.<lambda> at 0x7f306399fe20>\n",
      "             9  total page cache                 FLOAT     False        <function parse_schema_line.<locals>.<lambda> at 0x7f306399feb0>\n",
      "            10  maximum memory usage             FLOAT     False        <function parse_schema_line.<locals>.<lambda> at 0x7f30639b0040>\n",
      "            11  disk I/O time                    FLOAT     False        <function parse_schema_line.<locals>.<lambda> at 0x7f30639b00d0>\n",
      "            12  local disk space usage           FLOAT     False        <function parse_schema_line.<locals>.<lambda> at 0x7f30639b0160>\n",
      "            13  maximum CPU rate                 FLOAT     False        <function parse_schema_line.<locals>.<lambda> at 0x7f30639b01f0>\n",
      "            14  maximum disk IO time             FLOAT     False        <function parse_schema_line.<locals>.<lambda> at 0x7f30639b0280>\n",
      "            15  cycles per instruction           FLOAT     False        <function parse_schema_line.<locals>.<lambda> at 0x7f30639b0310>\n",
      "            16  memory accesses per instruction  FLOAT     False        <function parse_schema_line.<locals>.<lambda> at 0x7f30639b03a0>\n",
      "            17  sample portion                   FLOAT     False        <function parse_schema_line.<locals>.<lambda> at 0x7f30639b0430>\n",
      "            18  aggregation type                 BOOLEAN   False        <function parse_schema_line.<locals>.<lambda> at 0x7f30639b0550>\n",
      "            19  sampled CPU usage                FLOAT     False        <function parse_schema_line.<locals>.<lambda> at 0x7f30639b04c0>\n"
     ]
    }
   ],
   "source": [
    "schema = Schema(\"../data/schema.csv\")\n",
    "print(schema)"
   ]
  },
  {
   "cell_type": "markdown",
   "metadata": {},
   "source": [
    "## Starting Spark"
   ]
  },
  {
   "cell_type": "code",
   "execution_count": 3,
   "metadata": {},
   "outputs": [
    {
     "name": "stderr",
     "output_type": "stream",
     "text": [
      "Setting default log level to \"WARN\".\n",
      "To adjust logging level use sc.setLogLevel(newLevel). For SparkR, use setLogLevel(newLevel).\n"
     ]
    },
    {
     "name": "stdout",
     "output_type": "stream",
     "text": [
      "23/01/02 16:47:44 WARN NativeCodeLoader: Unable to load native-hadoop library for your platform... using builtin-java classes where applicable\n"
     ]
    }
   ],
   "source": [
    "from pyspark import SparkContext\n",
    "\n",
    "# start spark with 1 worker thread\n",
    "sc = SparkContext(\"local[*]\")\n",
    "sc.setLogLevel(\"ERROR\")"
   ]
  },
  {
   "cell_type": "markdown",
   "metadata": {},
   "source": [
    "## Analysis on machine events\n",
    "\n",
    "This file describes events that occurred to the machines in the cluster, as well as their specifications (initial events).\n",
    "\n",
    "First, let us see the schema of this file's data:"
   ]
  },
  {
   "cell_type": "code",
   "execution_count": 4,
   "metadata": {},
   "outputs": [
    {
     "name": "stdout",
     "output_type": "stream",
     "text": [
      "  field number  content      format       mandatory    formatter\n",
      "--------------  -----------  -----------  -----------  ----------------------------------------------------------------\n",
      "             0  time         INTEGER      True         <function parse_schema_line.<locals>.<lambda> at 0x7f306399ee60>\n",
      "             1  machine ID   INTEGER      True         <function parse_schema_line.<locals>.<lambda> at 0x7f306399f130>\n",
      "             2  event type   INTEGER      True         <function parse_schema_line.<locals>.<lambda> at 0x7f306399f0a0>\n",
      "             3  platform ID  STRING_HASH  False        <function parse_schema_line.<locals>.<lambda> at 0x7f306399f370>\n",
      "             4  CPUs         FLOAT        False        <function parse_schema_line.<locals>.<lambda> at 0x7f306399f250>\n",
      "             5  Memory       FLOAT        False        <function parse_schema_line.<locals>.<lambda> at 0x7f306399f400>\n"
     ]
    }
   ],
   "source": [
    "print(tabulate(schema.get_table_schema('machine_events')['fields'],headers='keys'))"
   ]
  },
  {
   "cell_type": "markdown",
   "metadata": {},
   "source": [
    "### Machine Event RDD"
   ]
  },
  {
   "cell_type": "code",
   "execution_count": 5,
   "metadata": {},
   "outputs": [
    {
     "name": "stdout",
     "output_type": "stream",
     "text": [
      "[0, 5, 0, 'HofLGzk1Or/8Ildj2+Lqv0UGGvY82NLoni8+J/Yy0RU=', 0.5, 0.2493]\n",
      "[0, 6, 0, 'HofLGzk1Or/8Ildj2+Lqv0UGGvY82NLoni8+J/Yy0RU=', 0.5, 0.2493]\n",
      "[0, 7, 0, 'HofLGzk1Or/8Ildj2+Lqv0UGGvY82NLoni8+J/Yy0RU=', 0.5, 0.2493]\n",
      "[0, 10, 0, 'HofLGzk1Or/8Ildj2+Lqv0UGGvY82NLoni8+J/Yy0RU=', 0.5, 0.2493]\n",
      "[0, 13, 0, 'HofLGzk1Or/8Ildj2+Lqv0UGGvY82NLoni8+J/Yy0RU=', 0.5, 0.2493]\n"
     ]
    },
    {
     "name": "stderr",
     "output_type": "stream",
     "text": [
      "                                                                                \r"
     ]
    }
   ],
   "source": [
    "machine_events_get = schema.field_getters('machine_events')\n",
    "machine_events = schema.load_rdd(sc,'machine_events')\n",
    "machine_events.cache()\n",
    "\n",
    "for elem in machine_events.take(5):\n",
    "\tprint(elem)"
   ]
  },
  {
   "cell_type": "markdown",
   "metadata": {},
   "source": [
    "### Distribution of CPU usage (Q1)\n",
    "\n",
    "For the following, we only account for the machine creation events. We note that this method could count a given machine more than once, should it happen to be added more than once (and removed in-between) or modified.\n",
    "\n",
    "Distribution of machine capacity based on their CPU power:"
   ]
  },
  {
   "cell_type": "code",
   "execution_count": 6,
   "metadata": {},
   "outputs": [
    {
     "name": "stdout",
     "output_type": "stream",
     "text": [
      "123 machines have CPU 0.25\n",
      "11636 machines have CPU 0.5\n",
      "796 machines have CPU 1.0\n"
     ]
    }
   ],
   "source": [
    "from operator import add\n",
    "\n",
    "cpu = machine_events_get['CPUs']\n",
    "event = machine_events_get['event type']\n",
    "machine_id = machine_events_get['machine ID']\n",
    "time = machine_events_get['time']\n",
    "\n",
    "cpu_usage = machine_events \\\n",
    "    .filter(lambda row: event(row) == 0 and cpu(row) is not None) \\\n",
    "    .map(lambda row: (machine_id(row),row)) \\\n",
    "    .reduceByKey(lambda r1,r2: r1 if time(r1)>time(r2) else r2) \\\n",
    "    .map(lambda row: (cpu(row[1]), 1)) \\\n",
    "    .reduceByKey(add) \\\n",
    "    .sortBy(lambda x: x[0])\n",
    "\n",
    "for usage,nb in cpu_usage.collect():\n",
    "    print(f\"{nb} machines have CPU {usage}\")\n"
   ]
  },
  {
   "cell_type": "code",
   "execution_count": 7,
   "metadata": {},
   "outputs": [
    {
     "data": {
      "image/png": "[encoded data removed]",
      "text/plain": [
       "<Figure size 640x480 with 1 Axes>"
      ]
     },
     "metadata": {},
     "output_type": "display_data"
    }
   ],
   "source": [
    "import matplotlib.pyplot as plt\n",
    "fig = plt.figure()\n",
    "ax = fig.add_axes([0,0,1,1])\n",
    "legend = cpu_usage.map(lambda x: str(x[0]) if x[0] is not None else 'None').collect()\n",
    "count = cpu_usage.sortByKey().map(lambda x: x[1]).collect()\n",
    "ax.bar(legend,count)\n",
    "plt.show()"
   ]
  },
  {
   "cell_type": "markdown",
   "metadata": {},
   "source": [
    "### Lost Computational Power"
   ]
  },
  {
   "cell_type": "code",
   "execution_count": 8,
   "metadata": {},
   "outputs": [
    {
     "name": "stdout",
     "output_type": "stream",
     "text": [
      "-  -  -  --------------------------------------------  ---  ------\n",
      "0  6  0  HofLGzk1Or/8Ildj2+Lqv0UGGvY82NLoni8+J/Yy0RU=  0.5  0.2493\n",
      "-  -  -  --------------------------------------------  ---  ------\n",
      "-------------  --  -  --------------------------------------------  ---  ------\n",
      "            0  10  0  HofLGzk1Or/8Ildj2+Lqv0UGGvY82NLoni8+J/Yy0RU=  0.5  0.2493\n",
      "1306164355566  10  1  HofLGzk1Or/8Ildj2+Lqv0UGGvY82NLoni8+J/Yy0RU=  0.5  0.2493\n",
      "1307163081914  10  0  HofLGzk1Or/8Ildj2+Lqv0UGGvY82NLoni8+J/Yy0RU=  0.5  0.2493\n",
      "-------------  --  -  --------------------------------------------  ---  ------\n",
      "-  --  -  --------------------------------------------  ---  ------\n",
      "0  14  0  HofLGzk1Or/8Ildj2+Lqv0UGGvY82NLoni8+J/Yy0RU=  0.5  0.2493\n",
      "-  --  -  --------------------------------------------  ---  ------\n",
      "-------------  --  -  --------------------------------------------  ---  ------\n",
      "            0  26  0  HofLGzk1Or/8Ildj2+Lqv0UGGvY82NLoni8+J/Yy0RU=  0.5  0.2493\n",
      " 611893094118  26  1  HofLGzk1Or/8Ildj2+Lqv0UGGvY82NLoni8+J/Yy0RU=  0.5  0.2493\n",
      " 700559974858  26  0  HofLGzk1Or/8Ildj2+Lqv0UGGvY82NLoni8+J/Yy0RU=  0.5  0.2493\n",
      " 700559975977  26  2  HofLGzk1Or/8Ildj2+Lqv0UGGvY82NLoni8+J/Yy0RU=  0.5  0.2493\n",
      "1886486566970  26  2  HofLGzk1Or/8Ildj2+Lqv0UGGvY82NLoni8+J/Yy0RU=  0.5  0.2493\n",
      "1896956086270  26  2  HofLGzk1Or/8Ildj2+Lqv0UGGvY82NLoni8+J/Yy0RU=  0.5  0.2493\n",
      "-------------  --  -  --------------------------------------------  ---  ------\n",
      "-------------  --  -  --------------------------------------------  ---  ------\n",
      "            0  28  0  HofLGzk1Or/8Ildj2+Lqv0UGGvY82NLoni8+J/Yy0RU=  0.5  0.2493\n",
      " 339074705486  28  2  HofLGzk1Or/8Ildj2+Lqv0UGGvY82NLoni8+J/Yy0RU=  0.5  0.2493\n",
      " 883148217047  28  2  HofLGzk1Or/8Ildj2+Lqv0UGGvY82NLoni8+J/Yy0RU=  0.5  0.2493\n",
      " 891339944337  28  2  HofLGzk1Or/8Ildj2+Lqv0UGGvY82NLoni8+J/Yy0RU=  0.5  0.2493\n",
      " 905782355579  28  2  HofLGzk1Or/8Ildj2+Lqv0UGGvY82NLoni8+J/Yy0RU=  0.5  0.2493\n",
      " 996437104949  28  2  HofLGzk1Or/8Ildj2+Lqv0UGGvY82NLoni8+J/Yy0RU=  0.5  0.2493\n",
      "2013297937142  28  2  HofLGzk1Or/8Ildj2+Lqv0UGGvY82NLoni8+J/Yy0RU=  0.5  0.2493\n",
      "2013693139749  28  2  HofLGzk1Or/8Ildj2+Lqv0UGGvY82NLoni8+J/Yy0RU=  0.5  0.2493\n",
      "2028106138670  28  2  HofLGzk1Or/8Ildj2+Lqv0UGGvY82NLoni8+J/Yy0RU=  0.5  0.2493\n",
      "2237526736097  28  1  HofLGzk1Or/8Ildj2+Lqv0UGGvY82NLoni8+J/Yy0RU=  0.5  0.2493\n",
      "2237807267612  28  0  HofLGzk1Or/8Ildj2+Lqv0UGGvY82NLoni8+J/Yy0RU=  0.5  0.2493\n",
      "-------------  --  -  --------------------------------------------  ---  ------\n",
      "------------  --  -  --------------------------------------------  ---  ------\n",
      "           0  36  0  HofLGzk1Or/8Ildj2+Lqv0UGGvY82NLoni8+J/Yy0RU=  0.5  0.2493\n",
      "323263688716  36  1  HofLGzk1Or/8Ildj2+Lqv0UGGvY82NLoni8+J/Yy0RU=  0.5  0.2493\n",
      "323398567454  36  0  HofLGzk1Or/8Ildj2+Lqv0UGGvY82NLoni8+J/Yy0RU=  0.5  0.2493\n",
      "------------  --  -  --------------------------------------------  ---  ------\n",
      "-  --  -  --------------------------------------------  ---  ------\n",
      "0  38  0  HofLGzk1Or/8Ildj2+Lqv0UGGvY82NLoni8+J/Yy0RU=  0.5  0.2493\n",
      "-  --  -  --------------------------------------------  ---  ------\n",
      "------------  --  -  --------------------------------------------  ---  ------\n",
      "           0  46  0  HofLGzk1Or/8Ildj2+Lqv0UGGvY82NLoni8+J/Yy0RU=  0.5  0.2493\n",
      "111568648231  46  1  HofLGzk1Or/8Ildj2+Lqv0UGGvY82NLoni8+J/Yy0RU=  0.5  0.2493\n",
      "112578194091  46  0  HofLGzk1Or/8Ildj2+Lqv0UGGvY82NLoni8+J/Yy0RU=  0.5  0.2493\n",
      "113824293917  46  1  HofLGzk1Or/8Ildj2+Lqv0UGGvY82NLoni8+J/Yy0RU=  0.5  0.2493\n",
      "114525810337  46  0  HofLGzk1Or/8Ildj2+Lqv0UGGvY82NLoni8+J/Yy0RU=  0.5  0.2493\n",
      "301747677093  46  2  HofLGzk1Or/8Ildj2+Lqv0UGGvY82NLoni8+J/Yy0RU=  0.5  0.2493\n",
      "303787373076  46  2  HofLGzk1Or/8Ildj2+Lqv0UGGvY82NLoni8+J/Yy0RU=  0.5  0.2493\n",
      "318205948070  46  2  HofLGzk1Or/8Ildj2+Lqv0UGGvY82NLoni8+J/Yy0RU=  0.5  0.2493\n",
      "------------  --  -  --------------------------------------------  ---  ------\n",
      "-  --  -  --------------------------------------------  ---  ------\n",
      "0  52  0  HofLGzk1Or/8Ildj2+Lqv0UGGvY82NLoni8+J/Yy0RU=  0.5  0.2493\n",
      "-  --  -  --------------------------------------------  ---  ------\n",
      "-------------  --  -  --------------------------------------------  ---  ------\n",
      "            0  54  0  HofLGzk1Or/8Ildj2+Lqv0UGGvY82NLoni8+J/Yy0RU=  0.5  0.2493\n",
      " 102710977480  54  2  HofLGzk1Or/8Ildj2+Lqv0UGGvY82NLoni8+J/Yy0RU=  0.5  0.2493\n",
      " 103181992949  54  2  HofLGzk1Or/8Ildj2+Lqv0UGGvY82NLoni8+J/Yy0RU=  0.5  0.2493\n",
      " 117600416686  54  2  HofLGzk1Or/8Ildj2+Lqv0UGGvY82NLoni8+J/Yy0RU=  0.5  0.2493\n",
      "1100234723502  54  2  HofLGzk1Or/8Ildj2+Lqv0UGGvY82NLoni8+J/Yy0RU=  0.5  0.2493\n",
      "1109694866814  54  2  HofLGzk1Or/8Ildj2+Lqv0UGGvY82NLoni8+J/Yy0RU=  0.5  0.2493\n",
      "1124116526809  54  2  HofLGzk1Or/8Ildj2+Lqv0UGGvY82NLoni8+J/Yy0RU=  0.5  0.2493\n",
      "1268185307944  54  2  HofLGzk1Or/8Ildj2+Lqv0UGGvY82NLoni8+J/Yy0RU=  0.5  0.2493\n",
      "2503454655740  54  1  HofLGzk1Or/8Ildj2+Lqv0UGGvY82NLoni8+J/Yy0RU=  0.5  0.2493\n",
      "2504395384816  54  0  HofLGzk1Or/8Ildj2+Lqv0UGGvY82NLoni8+J/Yy0RU=  0.5  0.2493\n",
      "-------------  --  -  --------------------------------------------  ---  ------\n"
     ]
    }
   ],
   "source": [
    "machines_history = machine_events \\\n",
    "    .map(lambda row: (machine_id(row),row)) \\\n",
    "    .aggregateByKey(None,lambda acc, e: acc+[e] if acc is not None else [e],add) \\\n",
    "    .map(lambda machine: machine[1]) \\\n",
    "\n",
    "for e in machines_history.take(10):\n",
    "    print(tabulate(e))"
   ]
  },
  {
   "cell_type": "code",
   "execution_count": 9,
   "metadata": {},
   "outputs": [
    {
     "data": {
      "text/plain": [
       "0"
      ]
     },
     "execution_count": 9,
     "metadata": {},
     "output_type": "execute_result"
    }
   ],
   "source": [
    "machines_history.filter(lambda m: sorted(m)).count() - machines_history.count()"
   ]
  },
  {
   "cell_type": "markdown",
   "metadata": {},
   "source": [
    "The trace period starts at 600 seconds (aka $6 \\times 10^{8}$ microseconds), to obtain the total trace time, we find the latest event time and subtracted $6 \\times 10^{8}$ to it."
   ]
  },
  {
   "cell_type": "code",
   "execution_count": 10,
   "metadata": {},
   "outputs": [
    {
     "name": "stdout",
     "output_type": "stream",
     "text": [
      "The total trace time is 2505535493517 µs ≈ 696 hours ≈ 29 days\n"
     ]
    }
   ],
   "source": [
    "from math import ceil\n",
    "\n",
    "total_trace_time = time(machine_events.max(lambda row: time(row))) - 6*10**8\n",
    "\n",
    "print(f'The total trace time is {total_trace_time} µs ≈ {ceil(total_trace_time/(10**6 * 3600))} hours ≈ {ceil(total_trace_time/(10**6 * 3600 * 24))} days')"
   ]
  },
  {
   "cell_type": "markdown",
   "metadata": {},
   "source": [
    "Once we have this number, computing the total computation power of a given machine is a matter of subtracting the starting time of the machine and multiplying by the CPU capacity. We assume here that the CPU capacity of a machine never changes, and we remove the machines that have some cpu values at None to prevent weird events."
   ]
  },
  {
   "cell_type": "code",
   "execution_count": 11,
   "metadata": {},
   "outputs": [
    {
     "name": "stdout",
     "output_type": "stream",
     "text": [
      "There are 32 machines with None values in their CPUs. They will not be evaluated.\n",
      "During the trace time, around 0.4798% of the computational power was lost.\n",
      "The exact percentage obtained is 0.4798129882918588% !\n"
     ]
    }
   ],
   "source": [
    "def lost_and_total_power(events):\n",
    "    # Functions and Variables\n",
    "    status = machine_events_get['event type']\n",
    "    time = machine_events_get['time']\n",
    "    start = time(events[0])\n",
    "    cpu = machine_events_get['CPUs'](events[0])\n",
    "\n",
    "    # Lost time\n",
    "    lost_time = 0\n",
    "    for i,m in enumerate(events):\n",
    "        if i==0:\n",
    "            continue\n",
    "        if status(m)==0 and status(events[i-1])==1:\n",
    "            lost_time += time(m) - time(events[i-1])\n",
    "        \n",
    "    # Total time\n",
    "    total_time = total_trace_time if (start < 6*10**8) else (total_trace_time - start + 6*10**8)\n",
    "\n",
    "    # Resulting power\n",
    "    return (lost_time*cpu,total_time*cpu)\n",
    "\n",
    "def has_none_cpu(events):\n",
    "    cpu = machine_events_get['CPUs']\n",
    "    for m in events:\n",
    "        if cpu(m) is None:\n",
    "            return True\n",
    "    return False\n",
    "\n",
    "print(f'There are {machines_history.filter(has_none_cpu).count()} machines with None values in their CPUs. They will not be evaluated.')\n",
    "\n",
    "power_lost_and_total = machines_history \\\n",
    "    .filter(lambda m: not has_none_cpu(m)) \\\n",
    "    .map(lost_and_total_power) \\\n",
    "    .reduce(lambda p1,p2: (p1[0]+p2[0],p1[1]+p2[1]))\n",
    "\n",
    "print(f'During the trace time, around {(power_lost_and_total[0]/power_lost_and_total[1])*100:.4f}% of the computational power was lost.\\\n",
    "\\nThe exact percentage obtained is {(power_lost_and_total[0]/power_lost_and_total[1])*100}% !')\n"
   ]
  },
  {
   "cell_type": "markdown",
   "metadata": {},
   "source": [
    "## Distribution of jobs and tasks per scheduling class\n",
    "\n",
    "We will evaluate the distribution over **submitted** tasks and jobs. It also implies that we do not consider the distribution _over time_ but only within the _set_ of all submitted tasks and jobs.\n",
    "\n",
    "We could also consider the evolution of the scheduling class through time, looking at the event types UPDATE_PENDING and UPDATE_RUNNING. This is a different perspective where time is a key component."
   ]
  },
  {
   "cell_type": "markdown",
   "metadata": {},
   "source": [
    "### Studying jobs"
   ]
  },
  {
   "cell_type": "markdown",
   "metadata": {},
   "source": [
    "We start our analysis with jobs. They should be fewer, as there can be many tasks per job, but one job per task.\n",
    "\n",
    "Before all, the schema for the tables we will use:"
   ]
  },
  {
   "cell_type": "code",
   "execution_count": 12,
   "metadata": {},
   "outputs": [
    {
     "name": "stdout",
     "output_type": "stream",
     "text": [
      "  field number  content           format       mandatory    formatter\n",
      "--------------  ----------------  -----------  -----------  --------------------------------------\n",
      "             0  time              INTEGER      True         <function\n",
      "                                                            parse_schema_line.<locals>.<lambda> at\n",
      "                                                            0x7f30638fdc60>\n",
      "             1  missing info      INTEGER      False        <function\n",
      "                                                            parse_schema_line.<locals>.<lambda> at\n",
      "                                                            0x7f30638fdf30>\n",
      "             2  job ID            INTEGER      True         <function\n",
      "                                                            parse_schema_line.<locals>.<lambda> at\n",
      "                                                            0x7f306399e710>\n",
      "             3  event type        INTEGER      True         <function\n",
      "                                                            parse_schema_line.<locals>.<lambda> at\n",
      "                                                            0x7f306399e7a0>\n",
      "             4  user              STRING_HASH  False        <function\n",
      "                                                            parse_schema_line.<locals>.<lambda> at\n",
      "                                                            0x7f30638fdfc0>\n",
      "             5  scheduling class  INTEGER      False        <function\n",
      "                                                            parse_schema_line.<locals>.<lambda> at\n",
      "                                                            0x7f306399e290>\n",
      "             6  job name          STRING_HASH  False        <function\n",
      "                                                            parse_schema_line.<locals>.<lambda> at\n",
      "                                                            0x7f306399e950>\n",
      "             7  logical job name  STRING_HASH  False        <function\n",
      "                                                            parse_schema_line.<locals>.<lambda> at\n",
      "                                                            0x7f306399e9e0>\n"
     ]
    }
   ],
   "source": [
    "print(tabulate(schema.get_table_schema('job_events')['fields'], headers='keys', maxcolwidths=40))"
   ]
  },
  {
   "cell_type": "markdown",
   "metadata": {},
   "source": [
    "First step, gather the events based on the task or job they refer to. We expect such lists of events to be small enough to be handled in regular python lists."
   ]
  },
  {
   "cell_type": "code",
   "execution_count": 13,
   "metadata": {},
   "outputs": [
    {
     "name": "stdout",
     "output_type": "stream",
     "text": [
      "-    -------  -  --------------------------------------------  -  --------------------------------------------  --------------------------------------------\n",
      "0    3418309  0  70s3v5qRyCO/1PCdI6fVXnrW8FU/w+5CKRSa72xgcIo=  3  IHgtoxEBuUTHNbUeVs4hzptMY4n8rZKLbZg+Jh5fNG4=  wAmgn2H74cdoMuSFwJF3NaUEaudVBTZ0/HaNZBwIpEQ=\n",
      "0    3418314  0  70s3v5qRyCO/1PCdI6fVXnrW8FU/w+5CKRSa72xgcIo=  3  L52XDyhi9x9ChmVBZ1qavOFmnzPeVsvQ2QyGmBZcV4s=  ShNjeaoUeqGV2i9WMKEX9HTeuc9K2Fdfovibt7Mp6qI=\n",
      "0    3418319  0  70s3v5qRyCO/1PCdI6fVXnrW8FU/w+5CKRSa72xgcIo=  3  vq0IN3BWEbkDjYgYvkrVyH6OWoUoDwFFf3j/syEZzLA=  1A2GM17AzHRcKJcJet/oIF7FOORyFcAOcUSpR9Fqou8=\n",
      "0    3418324  0  70s3v5qRyCO/1PCdI6fVXnrW8FU/w+5CKRSa72xgcIo=  3  X+Vce15Yu3BCKb7Ttc6hvINAzdfG3NtYEDNNsPdMGKo=  seczVo7MBfi/kH3+eH/40Hxs0l2YKFtXFnamcvMjSQI=\n",
      "0    3418329  0  70s3v5qRyCO/1PCdI6fVXnrW8FU/w+5CKRSa72xgcIo=  3  EeK3DUWYi1P0vgBTp7wZdUos8UKj/+/FqudTLohMQ9M=  OEeQsaVr4kdGHFwQ2liQlDZ18529HEMmu6B6/3K1cBA=\n",
      "0    3418334  0  70s3v5qRyCO/1PCdI6fVXnrW8FU/w+5CKRSa72xgcIo=  3  noCrQkR+8CU32ibuNmNvobHFFGuXRZ2aM/ZvcMHaOg4=  ys6VJLz4Tz6SJxZJ7kwAZgxPgWnQAQiGIRIMcjOfU7I=\n",
      "0    3418339  0  70s3v5qRyCO/1PCdI6fVXnrW8FU/w+5CKRSa72xgcIo=  3  ORioZ5deSIAxIuzqmXo1Ivac+22YZbCucJEC0EqRbDc=  vnyDEfuZHSuCdaC9/e75DUMRro/rqh96Eb4I6sy1Vlc=\n",
      "0    3418356  0  70s3v5qRyCO/1PCdI6fVXnrW8FU/w+5CKRSa72xgcIo=  3  QGf5Bi+7GCnOYjucoJ9xKNPFf9bWGxoEA+M1A1JPvbQ=  fGRnr2XEPDr3kQsPccU/k1LELeeQonkj6hDpTP7ALkg=\n",
      "0    3418363  0  70s3v5qRyCO/1PCdI6fVXnrW8FU/w+5CKRSa72xgcIo=  3  HO9RaVGS/y7PpuPROMoq75iyAyG+zXqM9g6Tvy5fWH8=  sqjiCyXrA7ELryW0hfrlWgso+SOgl2bzpI64QYJnrgc=\n",
      "0    3418368  0  70s3v5qRyCO/1PCdI6fVXnrW8FU/w+5CKRSa72xgcIo=  3  mIF6r5X6TTau4MPuBTE+QevbEjjACcfyVeRTAU79lpg=  Uf/QCCjtbryfYhlweVpii4xGkiY/9ml5CzU9Wz1DEY4=\n",
      "-    -------  -  --------------------------------------------  -  --------------------------------------------  --------------------------------------------\n"
     ]
    }
   ],
   "source": [
    "job_events = schema.load_rdd(sc,'job_events')\n",
    "job_events.persist()\n",
    "\n",
    "job_events_get = schema.field_getters('job_events')\n",
    "\n",
    "print(tabulate(job_events.take(10)))"
   ]
  },
  {
   "cell_type": "markdown",
   "metadata": {},
   "source": [
    "We are interested in the job submission event, which is when they are assigned their (initial) scheduling class."
   ]
  },
  {
   "cell_type": "code",
   "execution_count": 14,
   "metadata": {},
   "outputs": [],
   "source": [
    "# event type 0 = SUBMIT\n",
    "scheduling_events = job_events \\\n",
    "    .filter(lambda job_event: job_events_get['event type'](job_event) == 0)"
   ]
  },
  {
   "cell_type": "markdown",
   "metadata": {},
   "source": [
    "The documentation says that it is possible for a job to be submitted more than once, when it has evicted, failed or been killed but still is runnable (up to a maximal number of trials).\n",
    "\n",
    "Do we have any such situation ?"
   ]
  },
  {
   "cell_type": "code",
   "execution_count": 15,
   "metadata": {},
   "outputs": [
    {
     "name": "stdout",
     "output_type": "stream",
     "text": [
      "0 jobs have more than one scheduling class.\n"
     ]
    }
   ],
   "source": [
    "jobs_with_several_scheduling_classes = scheduling_events \\\n",
    "    .map(lambda job_event: (job_events_get['job ID'](job_event), \n",
    "                            [job_events_get['scheduling class'](job_event)])) \\\n",
    "    .reduceByKey(lambda event1, event2: event1 + event2) \\\n",
    "    .filter(lambda x: len(x[1]) > 1) \\\n",
    "    .count()\n",
    "\n",
    "print(f'{jobs_with_several_scheduling_classes} jobs have more than one scheduling class.')"
   ]
  },
  {
   "cell_type": "markdown",
   "metadata": {},
   "source": [
    "No.\n",
    "\n",
    "Let us then proceed with gathering the scheduling classes."
   ]
  },
  {
   "cell_type": "code",
   "execution_count": 16,
   "metadata": {},
   "outputs": [
    {
     "name": "stdout",
     "output_type": "stream",
     "text": [
      "(2, 1419)\n",
      "(0, 919)\n",
      "(3, 937)\n",
      "(1, 1625)\n"
     ]
    }
   ],
   "source": [
    "job_scheduling_classes = scheduling_events \\\n",
    "    .map(lambda event: (job_events_get['scheduling class'](event), 1)) \\\n",
    "    .reduceByKey(add) \\\n",
    "    .collect()\n",
    "\n",
    "for scheduling_class in job_scheduling_classes:\n",
    "    print(scheduling_class)"
   ]
  },
  {
   "cell_type": "code",
   "execution_count": 17,
   "metadata": {},
   "outputs": [
    {
     "data": {
      "image/png": "[encoded data removed]",
      "text/plain": [
       "<Figure size 640x480 with 1 Axes>"
      ]
     },
     "metadata": {},
     "output_type": "display_data"
    }
   ],
   "source": [
    "def bar_plot_question3(scheduling_classes, title):\n",
    "    # TODO : make this into a proper function and put it in another file (plot.py ?)\n",
    "    fig = plt.figure()\n",
    "    ax = fig.add_axes([0,0,1,1])\n",
    "    scheduling_class = list(map(lambda x: x[0], scheduling_classes))\n",
    "    count = list(map(lambda x: x[1], scheduling_classes))\n",
    "    ax.bar(scheduling_class,count)\n",
    "    plt.xlabel(\"Scheduling classes\")\n",
    "    plt.ylabel(\"Number of jobs\")\n",
    "    plt.xticks(scheduling_class)\n",
    "    plt.title(title)\n",
    "    plt.show()\n",
    "\n",
    "bar_plot_question3(job_scheduling_classes, \"Distribution of scheduling classes for all submitted jobs\")"
   ]
  },
  {
   "cell_type": "markdown",
   "metadata": {},
   "source": [
    "### Repeating the analysis for tasks\n",
    "\n",
    "Let us now do the same analysis for all tasks, irrespective of which job they belong to.\n",
    "\n",
    "Starting with the schema of the tasks events table"
   ]
  },
  {
   "cell_type": "code",
   "execution_count": 18,
   "metadata": {},
   "outputs": [
    {
     "name": "stdout",
     "output_type": "stream",
     "text": [
      "  field number  content             format       mandatory    formatter\n",
      "--------------  ------------------  -----------  -----------  --------------------------------------\n",
      "             0  time                INTEGER      True         <function\n",
      "                                                              parse_schema_line.<locals>.<lambda> at\n",
      "                                                              0x7f306399e830>\n",
      "             1  missing info        INTEGER      False        <function\n",
      "                                                              parse_schema_line.<locals>.<lambda> at\n",
      "                                                              0x7f306399e8c0>\n",
      "             2  job ID              INTEGER      True         <function\n",
      "                                                              parse_schema_line.<locals>.<lambda> at\n",
      "                                                              0x7f306399ea70>\n",
      "             3  task index          INTEGER      True         <function\n",
      "                                                              parse_schema_line.<locals>.<lambda> at\n",
      "                                                              0x7f306399eb00>\n",
      "             4  machine ID          INTEGER      False        <function\n",
      "                                                              parse_schema_line.<locals>.<lambda> at\n",
      "                                                              0x7f306399eb90>\n",
      "             5  event type          INTEGER      True         <function\n",
      "                                                              parse_schema_line.<locals>.<lambda> at\n",
      "                                                              0x7f306399ec20>\n",
      "             6  user                STRING_HASH  False        <function\n",
      "                                                              parse_schema_line.<locals>.<lambda> at\n",
      "                                                              0x7f306399edd0>\n",
      "             7  scheduling class    INTEGER      False        <function\n",
      "                                                              parse_schema_line.<locals>.<lambda> at\n",
      "                                                              0x7f306399ed40>\n",
      "             8  priority            INTEGER      True         <function\n",
      "                                                              parse_schema_line.<locals>.<lambda> at\n",
      "                                                              0x7f306399ecb0>\n",
      "             9  CPU request         FLOAT        False        <function\n",
      "                                                              parse_schema_line.<locals>.<lambda> at\n",
      "                                                              0x7f306399eef0>\n",
      "            10  memory request      FLOAT        False        <function\n",
      "                                                              parse_schema_line.<locals>.<lambda> at\n",
      "                                                              0x7f306399ef80>\n",
      "            11  disk space request  FLOAT        False        <function\n",
      "                                                              parse_schema_line.<locals>.<lambda> at\n",
      "                                                              0x7f306399f010>\n",
      "            12  different machines  BOOLEAN      False        <function\n",
      "                restriction                                   parse_schema_line.<locals>.<lambda> at\n",
      "                                                              0x7f306399f1c0>\n"
     ]
    }
   ],
   "source": [
    "task_events_get = schema.field_getters('task_events')\n",
    "\n",
    "print(tabulate(\n",
    "    schema.get_table_schema('task_events')['fields'], \n",
    "    headers='keys',\n",
    "    maxcolwidths=[None, 20, None, None, 40]))"
   ]
  },
  {
   "cell_type": "markdown",
   "metadata": {},
   "source": [
    "Then, we load the data and filter for submission events."
   ]
  },
  {
   "cell_type": "code",
   "execution_count": 19,
   "metadata": {},
   "outputs": [
    {
     "name": "stderr",
     "output_type": "stream",
     "text": [
      "[Stage 44:>                                                         (0 + 1) / 1]\r"
     ]
    },
    {
     "name": "stdout",
     "output_type": "stream",
     "text": [
      "[0, 2, 3418309, 0, 4155527081, 0, '70s3v5qRyCO/1PCdI6fVXnrW8FU/w+5CKRSa72xgcIo=', 3, 9, None, None, None, None]\n",
      "[0, 2, 3418309, 1, 329150663, 0, '70s3v5qRyCO/1PCdI6fVXnrW8FU/w+5CKRSa72xgcIo=', 3, 9, None, None, None, None]\n",
      "[0, None, 3418314, 0, 3938719206, 0, '70s3v5qRyCO/1PCdI6fVXnrW8FU/w+5CKRSa72xgcIo=', 3, 9, 0.125, 0.07446, 0.0004244, False]\n",
      "[0, None, 3418314, 1, 351618647, 0, '70s3v5qRyCO/1PCdI6fVXnrW8FU/w+5CKRSa72xgcIo=', 3, 9, 0.125, 0.07446, 0.0004244, False]\n",
      "[0, 2, 3418319, 0, 431052910, 0, '70s3v5qRyCO/1PCdI6fVXnrW8FU/w+5CKRSa72xgcIo=', 3, 9, None, None, None, None]\n"
     ]
    },
    {
     "name": "stderr",
     "output_type": "stream",
     "text": [
      "                                                                                \r"
     ]
    }
   ],
   "source": [
    "task_events = schema.load_rdd(sc,'task_events').persist()\n",
    "\n",
    "task_submit_events = task_events.filter(\n",
    "    lambda task_event: task_events_get['event type'](task_event) == 0)\n",
    "\n",
    "# task_headers = map(lambda field: field['content'], task_events_schema['fields'])\n",
    "# print(tabulate(task_submit_events.take(5), headers=task_headers))\n",
    "for task_event in task_submit_events.take(5):\n",
    "    print(task_event)"
   ]
  },
  {
   "cell_type": "code",
   "execution_count": 20,
   "metadata": {},
   "outputs": [
    {
     "name": "stderr",
     "output_type": "stream",
     "text": [
      "[Stage 45:=============================>                            (1 + 1) / 2]\r"
     ]
    },
    {
     "name": "stdout",
     "output_type": "stream",
     "text": [
      "0 tasks have more than one scheduling class.\n"
     ]
    },
    {
     "name": "stderr",
     "output_type": "stream",
     "text": [
      "                                                                                \r"
     ]
    }
   ],
   "source": [
    "tasks_with_several_scheduling_classes = task_submit_events \\\n",
    "    .map(lambda event: ((task_events_get['job ID'](event), task_events_get['task index'](event)), \n",
    "                        {task_events_get['scheduling class'](event)})) \\\n",
    "    .reduceByKey(lambda event1, event2: event1 | event2) \\\n",
    "    .filter(lambda x: len(x[1]) > 1)\n",
    "\n",
    "print(f'{tasks_with_several_scheduling_classes.count()} tasks have more than one scheduling class.')"
   ]
  },
  {
   "cell_type": "markdown",
   "metadata": {},
   "source": [
    "From this, we conclude that, as with jobs, no task has ever seen its scheduling class changed after being resubmitted (due to eviction, failure, kill)."
   ]
  },
  {
   "cell_type": "code",
   "execution_count": 21,
   "metadata": {},
   "outputs": [
    {
     "name": "stdout",
     "output_type": "stream",
     "text": [
      "(2, 47599)\n",
      "(0, 98066)\n",
      "(3, 28192)\n",
      "(1, 27634)\n"
     ]
    }
   ],
   "source": [
    "task_scheduling_classes = task_submit_events \\\n",
    "    .map(lambda event: (task_events_get['scheduling class'](event), 1)) \\\n",
    "    .reduceByKey(add) \\\n",
    "    .collect()\n",
    "\n",
    "for scheduling_class in task_scheduling_classes:\n",
    "    print(scheduling_class)"
   ]
  },
  {
   "cell_type": "code",
   "execution_count": 22,
   "metadata": {},
   "outputs": [
    {
     "data": {
      "image/png": "[encoded data removed]",
      "text/plain": [
       "<Figure size 640x480 with 1 Axes>"
      ]
     },
     "metadata": {},
     "output_type": "display_data"
    }
   ],
   "source": [
    "bar_plot_question3(task_scheduling_classes, \"Distribution of scheduling classes for all submitted tasks\")"
   ]
  },
  {
   "cell_type": "markdown",
   "metadata": {},
   "source": [
    "## Relation between scheduling class and eviction of tasks"
   ]
  },
  {
   "cell_type": "code",
   "execution_count": 23,
   "metadata": {},
   "outputs": [
    {
     "name": "stdout",
     "output_type": "stream",
     "text": [
      "(0, 2864)\n",
      "(1, 792)\n",
      "(2, 662)\n",
      "(3, 20)\n"
     ]
    }
   ],
   "source": [
    "a_few = task_events \\\n",
    "    .filter(lambda event: task_events_get['event type'](event) == 2) \\\n",
    "    .map(lambda event: (task_events_get['scheduling class'](event), 1)) \\\n",
    "    .reduceByKey(add) \\\n",
    "    .sortBy(lambda x: x[0])\n",
    "\n",
    "for one in a_few.collect():\n",
    "    print(one)"
   ]
  },
  {
   "cell_type": "markdown",
   "metadata": {},
   "source": [
    "Tasks with lower scheduling class were evicted much more than those with higher scheduling class. Note that we chose to keep all eviction events, even when a single task is evicted several times.\n",
    "\n",
    "It matches the idea that latency-sensitive tasks, represented with higher scheduling classes, need to be interrupted (namely evicted) as little as possible, so that they can be completed soon."
   ]
  },
  {
   "attachments": {},
   "cell_type": "markdown",
   "metadata": {},
   "source": [
    "## Same Job -> Same machine ?\n",
    "\n",
    "We here take into account every task with the same job, and for each index we determine the number of machine used."
   ]
  },
  {
   "cell_type": "code",
   "execution_count": 24,
   "metadata": {},
   "outputs": [
    {
     "name": "stderr",
     "output_type": "stream",
     "text": [
      "                                                                                \r"
     ]
    },
    {
     "name": "stdout",
     "output_type": "stream",
     "text": [
      "186149 tasks have 1 or 2 machines.\n",
      "4777 tasks have more than 2 machines.\n"
     ]
    },
    {
     "data": {
      "image/png": "[encoded data removed]",
      "text/plain": [
       "<Figure size 640x480 with 1 Axes>"
      ]
     },
     "metadata": {},
     "output_type": "display_data"
    }
   ],
   "source": [
    "nb_machines_per_job = task_events \\\n",
    "    .map(lambda event: ((task_events_get[\"job ID\"](event),task_events_get[\"task index\"](event)),{task_events_get[\"machine ID\"](event)})) \\\n",
    "    .reduceByKey(lambda machine1,machine2: machine1 | machine2) \\\n",
    "    .map(lambda job: len(job[1])) \n",
    "\n",
    "same_and_different_distribution = nb_machines_per_job \\\n",
    "    .map(lambda count: \"1 or 2\" if count<=2 else \"more than 2\") \\\n",
    "    .countByValue() \\\n",
    "    .items()\n",
    "\n",
    "for stat in same_and_different_distribution:\n",
    "    print(f\"{stat[1]} tasks have {stat[0]} machines.\")\n",
    "\n",
    "final = list(nb_machines_per_job.countByValue().items())\n",
    "final.sort(key=lambda x:x[0])\n",
    "\n",
    "plt.plot(*zip(*final))\n",
    "plt.yscale(\"log\")\n",
    "plt.show()"
   ]
  },
  {
   "attachments": {},
   "cell_type": "markdown",
   "metadata": {},
   "source": [
    "As we can see, it is indeed most common to have our tasks from the same job run on 1 or 2 machines."
   ]
  },
  {
   "attachments": {},
   "cell_type": "markdown",
   "metadata": {},
   "source": [
    "## Comparison of resource request and resource usage for tasks\n",
    "\n",
    "This topic requires to do the analysis for three different resources: CPU cores, RAM and disk space. To start with, and become acquainted with the question at hand, we start with the CPU."
   ]
  },
  {
   "attachments": {},
   "cell_type": "markdown",
   "metadata": {},
   "source": [
    "### Resource requests\n",
    "\n",
    "Tasks can specify resource requirements when SUBMITTED (0) and upon UPDATE_PENDING (7) and UPDATE_RUNNING (8) events. Do they actually update their resource requests ?"
   ]
  },
  {
   "cell_type": "code",
   "execution_count": 25,
   "metadata": {},
   "outputs": [
    {
     "name": "stderr",
     "output_type": "stream",
     "text": [
      "                                                                                \r"
     ]
    },
    {
     "name": "stdout",
     "output_type": "stream",
     "text": [
      "There has been 37333 tasks changing their resource requests during their lifetime over a total of 190926, accounting for 19.55364905775012%. Here is a sample of those:\n",
      "- task (3418314, 0) requested the following resources: ({0.125, 0.0625}, {0.07446, 0.09473}, {0.0004244, 0.0004702})\n",
      "- task (3418368, 0) requested the following resources: ({0.03125, 0.125}, {0.08691, 0.09021}, {0.0008211, 0.0004549})\n",
      "- task (3418368, 2) requested the following resources: ({0.03125, 0.125}, {0.08691, 0.09021}, {0.0008211, 0.0004549})\n",
      "- task (3418380, 0) requested the following resources: ({0.1875, 0.125}, {0.09839, 0.08826}, {0.0008612, 0.0008135})\n",
      "- task (3418400, 0) requested the following resources: ({0.125}, {0.09082, 0.08923}, {0.0004702})\n"
     ]
    }
   ],
   "source": [
    "resource_requests = task_events \\\n",
    "    .filter(lambda event: task_events_get['CPU request'](event) is not None \\\n",
    "        and task_events_get['memory request'](event) is not None \\\n",
    "        and task_events_get['disk space request'](event) is not None) \\\n",
    "    .map(lambda event: ((task_events_get['job ID'](event), task_events_get['task index'](event)),\n",
    "        ({task_events_get['CPU request'](event)}, \\\n",
    "        {task_events_get['memory request'](event)}, \\\n",
    "        {task_events_get['disk space request'](event)}))) \\\n",
    "    .reduceByKey(lambda r1, r2: (r1[0] | r2[0], r1[1] | r2[1], r1[2] | r2[2]))\n",
    "\n",
    "multiple_requests = resource_requests.filter(lambda event: len(event[1][0]) > 1 or len(event[1][1]) > 1 or len(event[1][2]) > 1)\n",
    "\n",
    "print(f\"There has been {multiple_requests.count()} tasks changing their resource requests during their lifetime over a total of {resource_requests.count()}, accounting for {multiple_requests.count() / resource_requests.count() * 100}%. Here is a sample of those:\")\n",
    "\n",
    "for req in multiple_requests.take(5):\n",
    "    print(f\"- task {req[0]} requested the following resources: {req[1]}\")"
   ]
  },
  {
   "attachments": {},
   "cell_type": "markdown",
   "metadata": {},
   "source": [
    "Many tasks made more than one resource request in their lifetime."
   ]
  },
  {
   "attachments": {},
   "cell_type": "markdown",
   "metadata": {},
   "source": [
    "Let us also see when the CPU request is made. Is it only done at submit time or later ?"
   ]
  },
  {
   "cell_type": "code",
   "execution_count": 26,
   "metadata": {},
   "outputs": [
    {
     "name": "stderr",
     "output_type": "stream",
     "text": [
      "[Stage 70:=============================>                            (1 + 1) / 2]\r"
     ]
    },
    {
     "name": "stdout",
     "output_type": "stream",
     "text": [
      "defaultdict(<class 'int'>, {1: 132982, 0: 57944})\n"
     ]
    },
    {
     "name": "stderr",
     "output_type": "stream",
     "text": [
      "                                                                                \r"
     ]
    }
   ],
   "source": [
    "print(task_events.filter(lambda event: task_events_get['CPU request'](event) is not None) \\\n",
    "    .map(lambda event: ((task_events_get['job ID'](event), task_events_get['task index'](event)),\n",
    "        (task_events_get['event type'](event), task_events_get['time'](event)))) \\\n",
    "    .reduceByKey(lambda event1, event2: event1 if event1[1] < event2[1] else event2) \\\n",
    "    .map(lambda entry: entry[1][0]) \\\n",
    "    .countByValue())"
   ]
  },
  {
   "attachments": {},
   "cell_type": "markdown",
   "metadata": {},
   "source": [
    "We see that the vast majority of CPU requests are made at task submission. When it is not the case, the earliest CPU request is at scheduling. To our understanding, the SCHEDULE (1) event is caused by the system, not by the user, so we choose to only keep CPU requests defined at submission."
   ]
  },
  {
   "attachments": {},
   "cell_type": "markdown",
   "metadata": {},
   "source": [
    "Removing the tasks who make several different CPU requests."
   ]
  },
  {
   "cell_type": "code",
   "execution_count": 27,
   "metadata": {},
   "outputs": [
    {
     "name": "stderr",
     "output_type": "stream",
     "text": [
      "[Stage 72:=============================>                            (1 + 1) / 2]\r"
     ]
    },
    {
     "name": "stdout",
     "output_type": "stream",
     "text": [
      "frozenset({0, 1, 2})\n",
      "frozenset({0})\n",
      "frozenset({0, 1, 4})\n",
      "frozenset({0, 1, 2, 4})\n",
      "frozenset({0, 1, 2, 3, 4})\n",
      "frozenset({0, 1, 3, 5})\n",
      "frozenset({1})\n",
      "frozenset({0, 1, 2, 4, 5})\n",
      "frozenset({0, 1})\n",
      "frozenset({0, 1, 5})\n",
      "frozenset({0, 1, 3})\n",
      "frozenset({0, 1, 2, 3})\n",
      "frozenset({0, 1, 2, 5})\n",
      "frozenset({0, 1, 3, 4})\n",
      "frozenset({0, 5})\n",
      "frozenset({0, 1, 4, 5})\n"
     ]
    },
    {
     "name": "stderr",
     "output_type": "stream",
     "text": [
      "                                                                                \r"
     ]
    }
   ],
   "source": [
    "cpu_changing_events = task_events \\\n",
    "    .filter(lambda event: task_events_get['CPU request'](event) is not None) \\\n",
    "    .map(lambda event: ((task_events_get['job ID'](event), task_events_get['task index'](event)),\n",
    "        {task_events_get['event type'](event)})) \\\n",
    "    .reduceByKey(lambda cpu_request1, cpu_request2: cpu_request1 | cpu_request2) \\\n",
    "    .cache()\n",
    "\n",
    "for event in cpu_changing_events.map(lambda event: frozenset(event[1])).distinct().collect():\n",
    "    print(event)"
   ]
  },
  {
   "cell_type": "code",
   "execution_count": 28,
   "metadata": {},
   "outputs": [
    {
     "data": {
      "text/plain": [
       "190639"
      ]
     },
     "execution_count": 28,
     "metadata": {},
     "output_type": "execute_result"
    }
   ],
   "source": [
    "task_events \\\n",
    "    .filter(lambda event: task_events_get['CPU request'](event) is not None and task_events_get['event type'](event) == 0) \\\n",
    "    .map(lambda event: ((task_events_get['job ID'](event), task_events_get['task index'](event)), 1)) \\\n",
    "    .reduceByKey(add) \\\n",
    "    .count()"
   ]
  },
  {
   "cell_type": "code",
   "execution_count": 29,
   "metadata": {},
   "outputs": [],
   "source": [
    "resource_requests = task_events \\\n",
    "    .filter(lambda event: task_events_get['CPU request'](event) is not None \\\n",
    "        and task_events_get['memory request'](event) is not None \\\n",
    "        and task_events_get['disk space request'](event) is not None \\\n",
    "        and task_events_get['event type'](event) == 0) \\\n",
    "    .map(lambda event: ((task_events_get['job ID'](event), task_events_get['task index'](event)),\n",
    "        (task_events_get['CPU request'](event),task_events_get['memory request'](event),task_events_get['disk space request'](event)))) \\\n",
    "    .reduceByKey(lambda r1, r2: r1 if r1 == r2 else None) \\\n",
    "    .filter(lambda event: event[1] is not None) \\\n",
    "    .cache()"
   ]
  },
  {
   "cell_type": "code",
   "execution_count": 30,
   "metadata": {},
   "outputs": [
    {
     "name": "stderr",
     "output_type": "stream",
     "text": [
      "[Stage 77:=============================>                            (1 + 1) / 2]\r"
     ]
    },
    {
     "name": "stdout",
     "output_type": "stream",
     "text": [
      "((3418314, 0), (0.125, 0.07446, 0.0004244))\n",
      "((3418368, 0), (0.03125, 0.08691, 0.0004549))\n",
      "((3418368, 2), (0.03125, 0.08691, 0.0004549))\n",
      "((3418380, 0), (0.1875, 0.09839, 0.0008612))\n",
      "((3418400, 0), (0.125, 0.09082, 0.0004702))\n"
     ]
    },
    {
     "name": "stderr",
     "output_type": "stream",
     "text": [
      "                                                                                \r"
     ]
    }
   ],
   "source": [
    "for request in resource_requests.take(5):\n",
    "    print(request)"
   ]
  },
  {
   "attachments": {},
   "cell_type": "markdown",
   "metadata": {},
   "source": [
    "### Resource usage table\n",
    "\n",
    "The resource usage information is stored in its own table. We will have to learn to use it, and also to match its data with the task events.\n",
    "\n",
    "It is to be noted that resource measurement periods might overshoot after a task is killed. We might want to remove these parts of the measurements, if they prove problematic.\n",
    "\n",
    "The documentation for the data set also specifies how the maximum measurement data is aggregated (for sub-containers), and gives a field in the table for this information. I believe, for the sake of this work, that we can spare ourselves the extra mileage of using this field, and just consider that the measurements are accurate enough."
   ]
  },
  {
   "attachments": {},
   "cell_type": "markdown",
   "metadata": {},
   "source": [
    "First thing first, loading the related data set:"
   ]
  },
  {
   "cell_type": "code",
   "execution_count": 31,
   "metadata": {},
   "outputs": [
    {
     "name": "stderr",
     "output_type": "stream",
     "text": [
      "[Stage 79:>                                                         (0 + 1) / 1]\r"
     ]
    },
    {
     "name": "stdout",
     "output_type": "stream",
     "text": [
      "[600000000, 900000000, 3418309, 0, 4155527081, 0.001562, 0.06787, 0.07568, 0.001156, 0.001503, 0.06787, 2.861e-06, 0.0001869, 0.03967, 0.0003567, 2.445, 0.007243, 0.0, True, 0.0]\n",
      "[600000000, 900000000, 3418309, 1, 329150663, 0.001568, 0.06787, 0.07556, 0.0003195, 0.0007, 0.06787, 5.722e-06, 0.0001879, 0.03302, 0.0009289, 2.1, 0.005791, 0.0, True, 0.0]\n",
      "[600000000, 900000000, 3418314, 0, 3938719206, 0.0003071, 0.08044, 0.09521, 0.0002823, 0.0006704, 0.08044, 4.768e-06, 0.0001841, 0.02377, 0.0007858, 5.588, 0.0208, 0.0, True, 0.0]\n",
      "[600000000, 900000000, 3418314, 1, 351618647, 0.0003004, 0.08044, 0.09521, 0.0005369, 0.0008698, 0.08044, 9.537e-06, 0.0001831, 0.007919, 0.002285, 5.198, 0.02038, 0.0, True, 0.0]\n",
      "[600000000, 900000000, 3418319, 0, 431052910, 0.0004606, 0.07715, 0.0874, 0.0006247, 0.0008516, 0.07715, 1.907e-06, 0.0002041, 0.005112, 0.0002146, 2.937, 0.009449, 0.0, True, 0.0]\n"
     ]
    },
    {
     "name": "stderr",
     "output_type": "stream",
     "text": [
      "                                                                                \r"
     ]
    }
   ],
   "source": [
    "task_usage_get = schema.field_getters('task_usage')\n",
    "task_usage = schema.load_rdd(sc,'task_usage')\n",
    "task_usage.cache()\n",
    "\n",
    "for elem in task_usage.take(5):\n",
    "\tprint(elem)"
   ]
  },
  {
   "attachments": {},
   "cell_type": "markdown",
   "metadata": {},
   "source": [
    "Measurement records may be missing, not implying that a task is not running. Let us count how many such missing records there are, and how many tasks (ratio) are affected."
   ]
  },
  {
   "cell_type": "code",
   "execution_count": 32,
   "metadata": {},
   "outputs": [],
   "source": [
    "resource_fields = [\n",
    "        'start time',\n",
    "        'end time',\n",
    "        'CPU rate',\n",
    "        'canonical memory usage',\n",
    "        'local disk space usage'\n",
    "    ]\n",
    "\n",
    "def entry_converter(entry):\n",
    "    return tuple(task_usage_get[field](entry) for field in resource_fields)\n",
    "\n",
    "def aggregator(accumulator, resource_usage):\n",
    "    accumulator[0] += resource_usage[1]-resource_usage[0]\n",
    "    for i in range(2,len(resource_usage)):\n",
    "        accumulator[i-1] += resource_usage[0]*resource_usage[i]\n",
    "    return accumulator\n",
    "\n",
    "from operator import add\n",
    "def combiner(accumulator1, accumulator2):\n",
    "    return list(map(add, accumulator1, accumulator2))\n",
    "\n",
    "resources_per_task = task_usage \\\n",
    "    .map(lambda entry: ((task_usage_get['job ID'](entry), task_usage_get['task index'](entry)),\n",
    "        entry_converter(entry))) \\\n",
    "    .aggregateByKey([0,]*(len(resource_fields)-1), aggregator, combiner) \\\n",
    "    .cache()"
   ]
  },
  {
   "cell_type": "code",
   "execution_count": 33,
   "metadata": {},
   "outputs": [
    {
     "name": "stderr",
     "output_type": "stream",
     "text": [
      "[Stage 81:====>                                                   (1 + 11) / 12]\r"
     ]
    },
    {
     "name": "stdout",
     "output_type": "stream",
     "text": [
      "There are 179427 tasks for which we have resource consumption data.\n"
     ]
    },
    {
     "name": "stderr",
     "output_type": "stream",
     "text": [
      "                                                                                \r"
     ]
    }
   ],
   "source": [
    "print(f\"There are {resources_per_task.count()} tasks for which we have resource consumption data.\")"
   ]
  },
  {
   "cell_type": "code",
   "execution_count": 34,
   "metadata": {},
   "outputs": [
    {
     "name": "stdout",
     "output_type": "stream",
     "text": [
      "(3418309, 1)\n",
      "5100000000\n",
      "70875600.0\n",
      "3461370000.0\n",
      "9487140.0\n"
     ]
    }
   ],
   "source": [
    "for entry in resources_per_task.take(1):\n",
    "    print(entry[0])\n",
    "    # print(entry[1])\n",
    "    for x in entry[1]:\n",
    "        print(x)"
   ]
  },
  {
   "cell_type": "code",
   "execution_count": 35,
   "metadata": {},
   "outputs": [
    {
     "name": "stderr",
     "output_type": "stream",
     "text": [
      "                                                                                \r"
     ]
    }
   ],
   "source": [
    "joined = resource_requests \\\n",
    "    .join(resources_per_task) \\\n",
    "    .map(lambda x: (x[1][0], *x[1][1])) \\\n",
    "    .sortBy(lambda x: x[0]) \\\n",
    "    .cache()"
   ]
  },
  {
   "cell_type": "code",
   "execution_count": 36,
   "metadata": {},
   "outputs": [
    {
     "name": "stderr",
     "output_type": "stream",
     "text": [
      "[Stage 95:================================================>       (12 + 2) / 14]\r"
     ]
    },
    {
     "name": "stdout",
     "output_type": "stream",
     "text": [
      "((0.0, 0.0, 0.0), 4895000000, 4355074.67, 25008493.799999997, 0.0)\n",
      "((0.0, 0.0, 0.0), 5100000000, 406823.4, 6043770.0, 0.0)\n",
      "((0.0, 0.0001554, 0.0), 15000000, 117574.49999999999, 4354.442, 0.0)\n",
      "((0.0, 0.0001554, 0.0), 17000000, 165884.4, 0.0, 0.0)\n",
      "((0.0, 0.0001554, 0.0), 23000000, 293463.58999999997, 22986.177, 0.0)\n"
     ]
    },
    {
     "name": "stderr",
     "output_type": "stream",
     "text": [
      "                                                                                \r"
     ]
    }
   ],
   "source": [
    "for x in joined.take(5):\n",
    "    print(x)"
   ]
  },
  {
   "attachments": {},
   "cell_type": "markdown",
   "metadata": {},
   "source": [
    "In `joined`, the first element is a tuple of the requests for CPU, RAM, and storage space, and the following is respectively\n",
    "\n",
    "- the cumulated duration of the task,\n",
    "- the total amount of CPU.s for the task,\n",
    "- the RAM used,\n",
    "- the disk storage used."
   ]
  },
  {
   "cell_type": "code",
   "execution_count": 37,
   "metadata": {},
   "outputs": [],
   "source": [
    "cpu_req_vs_coresec = joined \\\n",
    "    .map(lambda x: (x[0][0],(x[2],1))) \\\n",
    "    .reduceByKey(lambda x,y: (x[0]+y[0],x[1]+y[1])) \\\n",
    "    .map(lambda x: (x[0],x[1][0]/x[1][1]))\\\n",
    "    .sortByKey()\\\n",
    "    .collect()\n",
    "\n",
    "mem_req_vs_coresec = joined \\\n",
    "    .map(lambda x: (x[0][1],(x[3],1))) \\\n",
    "    .reduceByKey(lambda x,y: (x[0]+y[0],x[1]+y[1])) \\\n",
    "    .map(lambda x: (x[0],x[1][0]/x[1][1]))\\\n",
    "    .sortByKey()\\\n",
    "    .collect()\n",
    "\n",
    "disk_req_vs_coresec = joined \\\n",
    "    .map(lambda x: (x[0][2],(x[4],1))) \\\n",
    "    .reduceByKey(lambda x,y: (x[0]+y[0],x[1]+y[1])) \\\n",
    "    .map(lambda x: (x[0],x[1][0]/x[1][1]))\\\n",
    "    .sortByKey()\\\n",
    "    .collect()"
   ]
  },
  {
   "cell_type": "code",
   "execution_count": 38,
   "metadata": {},
   "outputs": [
    {
     "data": {
      "image/png": "[encoded data removed]",
      "text/plain": [
       "<Figure size 640x480 with 1 Axes>"
      ]
     },
     "metadata": {},
     "output_type": "display_data"
    }
   ],
   "source": [
    "S=5\n",
    "\n",
    "plt.scatter(*zip(*cpu_req_vs_coresec),s=S)\n",
    "plt.scatter(*zip(*mem_req_vs_coresec),s=S)\n",
    "plt.scatter(*zip(*disk_req_vs_coresec),s=S)\n",
    "# plt.yscale(\"log\")\n",
    "plt.show()"
   ]
  },
  {
   "attachments": {},
   "cell_type": "markdown",
   "metadata": {},
   "source": [
    "Below, the code `.map(lambda x: (x[0],x[1][0]/x[1][1]))` performs averaging"
   ]
  },
  {
   "cell_type": "code",
   "execution_count": 39,
   "metadata": {},
   "outputs": [],
   "source": [
    "cpu_req_vs_core = joined \\\n",
    "    .map(lambda x: (x[0][0],(x[2]/x[1],1))) \\\n",
    "    .reduceByKey(lambda x,y: (x[0]+y[0],x[1]+y[1])) \\\n",
    "    .map(lambda x: (x[0],x[1][0]/x[1][1]))\\\n",
    "    .sortByKey()\\\n",
    "    .collect()\n",
    "\n",
    "mem_req_vs_core = joined \\\n",
    "    .map(lambda x: (x[0][1],(x[3]/x[1],1))) \\\n",
    "    .reduceByKey(lambda x,y: (x[0]+y[0],x[1]+y[1])) \\\n",
    "    .map(lambda x: (x[0],x[1][0]/x[1][1]))\\\n",
    "    .sortByKey()\\\n",
    "    .collect()\n",
    "\n",
    "disk_req_vs_core = joined \\\n",
    "    .map(lambda x: (x[0][2],(x[4]/x[1],1))) \\\n",
    "    .reduceByKey(lambda x,y: (x[0]+y[0],x[1]+y[1])) \\\n",
    "    .map(lambda x: (x[0],x[1][0]/x[1][1]))\\\n",
    "    .sortByKey()\\\n",
    "    .collect()"
   ]
  },
  {
   "cell_type": "code",
   "execution_count": 40,
   "metadata": {},
   "outputs": [
    {
     "data": {
      "image/png": "[encoded data removed]",
      "text/plain": [
       "<Figure size 640x480 with 1 Axes>"
      ]
     },
     "metadata": {},
     "output_type": "display_data"
    }
   ],
   "source": [
    "plt.scatter(*zip(*cpu_req_vs_core),s=S)\n",
    "plt.scatter(*zip(*mem_req_vs_core),s=S)\n",
    "plt.scatter(*zip(*disk_req_vs_core),s=S)\n",
    "#plt.xscale(\"log\")\n",
    "plt.show()"
   ]
  },
  {
   "cell_type": "code",
   "execution_count": 41,
   "metadata": {},
   "outputs": [
    {
     "data": {
      "image/png": "[encoded data removed]",
      "text/plain": [
       "<Figure size 640x480 with 3 Axes>"
      ]
     },
     "metadata": {},
     "output_type": "display_data"
    }
   ],
   "source": [
    "rspl = plt.subplot(2, 2, 1)\n",
    "rspl.scatter(*zip(*cpu_req_vs_core),s=S)\n",
    "plt.yscale(\"log\")\n",
    "plt.xscale(\"log\")\n",
    "plt.title(\"CPU\")\n",
    "rspl = plt.subplot(2, 2, 2)\n",
    "rspl.scatter(*zip(*mem_req_vs_core),s=S)\n",
    "plt.yscale(\"log\")\n",
    "plt.xscale(\"log\")\n",
    "plt.title(\"memory\")\n",
    "rspl = plt.subplot(2, 2, 3)\n",
    "rspl.scatter(*zip(*disk_req_vs_core),s=S)\n",
    "plt.yscale(\"log\")\n",
    "plt.xscale(\"log\")\n",
    "plt.title(\"storage\")\n",
    "plt.show()"
   ]
  },
  {
   "attachments": {},
   "cell_type": "markdown",
   "metadata": {},
   "source": [
    "These plots shows that, in general, there are no trends regarding the CPU and Disk requests vs their real usage. However, we can clearly see that there is one for the memory."
   ]
  },
  {
   "attachments": {},
   "cell_type": "markdown",
   "metadata": {},
   "source": [
    "## Relation between resource usage peaks and task evictions\n",
    "\n",
    "We will investigate, for any given machine, whether there is a correlation  between resource consumption peaks and task evictions."
   ]
  },
  {
   "attachments": {},
   "cell_type": "markdown",
   "metadata": {},
   "source": [
    "### Objective\n",
    "\n",
    "To find a correlation, we will first construct a timeline, for each machine, of the maximum resource used, and the eviction events. Fortunately, the table Task Usage contains data on the maximum resource used withing a given time window. As such, we just need to correlate these resources with the eviction events. The documentation does not mention that tasks are migrated between machines, so we do not have to account for that.\n",
    "\n",
    "Moreover, in the documentation we learn that the traces in our task usage data are done withing periods of 300 seconds starting at 600 seconds in the timeline. As such, to have a dataset easier to look at and perform operations on, we will form our timeline in epochs starting from 0. The first epoch 0 will therefore belongs to the time frame between 600s and 900s, epoch 1 will be between 900s and 1200s and so on.\n",
    "\n",
    "Doing so, we find that there are 17 epochs in total for both task usage and task events.\n",
    "\n",
    "Below are some tests showing that no task usage recording are in between epochs :"
   ]
  },
  {
   "attachments": {},
   "cell_type": "markdown",
   "metadata": {},
   "source": [
    "### Gathering task consumption peaks for all machines\n",
    "\n",
    "The machine resource table contains machine IDs, so we can gather task consumption peaks for all machines on the one hand, and then task eviction events for all machines on the other hand.\n",
    "\n",
    "We gather all maximum resource values for each machine, and their epochs. This should allow to later plot, or do some form of aggregation, for instance the count of values above a threshold."
   ]
  },
  {
   "cell_type": "code",
   "execution_count": 42,
   "metadata": {},
   "outputs": [],
   "source": [
    "def event_to_peak_resources(event):\n",
    "    return {(task_usage_get['start time'](event)-600000000)//300000000 : \n",
    "                (task_usage_get['maximum CPU rate'](event), \n",
    "                task_usage_get['maximum memory usage'](event), \n",
    "                task_usage_get['maximum disk IO time'](event))\n",
    "            }\n",
    "\n",
    "def fuse_max_dictionary(d1,d2):\n",
    "    for element in d2:\n",
    "        if element in d1:\n",
    "            a1, a2, a3 = d1[element]\n",
    "            b1, b2, b3 = d2[element]\n",
    "            d1[element] = (max(a1,b1),max(a2,b2),max(a3,b3))\n",
    "        else :\n",
    "            d1[element] = d2[element]\n",
    "    return d1\n",
    "\n",
    "default_dict = {0:(.0,.0,.0),\n",
    "                1:(.0,.0,.0),\n",
    "                2:(.0,.0,.0),\n",
    "                3:(.0,.0,.0),\n",
    "                4:(.0,.0,.0),\n",
    "                5:(.0,.0,.0),\n",
    "                6:(.0,.0,.0),\n",
    "                7:(.0,.0,.0),\n",
    "                8:(.0,.0,.0),\n",
    "                9:(.0,.0,.0),\n",
    "                10:(.0,.0,.0),\n",
    "                11:(.0,.0,.0),\n",
    "                12:(.0,.0,.0),\n",
    "                13:(.0,.0,.0),\n",
    "                14:(.0,.0,.0),\n",
    "                15:(.0,.0,.0),\n",
    "                16:(.0,.0,.0)\n",
    "                }\n",
    "\n",
    "machines_max_usage = task_usage \\\n",
    "    .filter(lambda event: task_usage_get['maximum memory usage'](event) is not None and \\\n",
    "        task_usage_get['maximum CPU rate'](event) is not None and \\\n",
    "        task_usage_get['maximum disk IO time'](event) is not None \\\n",
    "    ) \\\n",
    "    .map(lambda event: \n",
    "        (task_usage_get['machine ID'](event),\n",
    "        event_to_peak_resources(event))) \\\n",
    "    .foldByKey(default_dict,lambda measurement1, measurement2: fuse_max_dictionary(measurement1,measurement2)) \\\n",
    "    .map(lambda machine: (machine[0],\n",
    "            ([k for k,_ in machine[1].items()],\n",
    "            [v[0] for _,v in machine[1].items()],\n",
    "            [v[1] for _,v in machine[1].items()],\n",
    "            [v[2] for _,v in machine[1].items()])\n",
    "            )\n",
    "        )\\\n",
    "    .cache()"
   ]
  },
  {
   "attachments": {},
   "cell_type": "markdown",
   "metadata": {},
   "source": [
    "### Gathering task eviction events for all machines\n",
    "\n",
    "So, we mapped machine IDs to the related resource information we have. Let us now map machine IDs to eviction events. Joining the two should give us something we can analyze."
   ]
  },
  {
   "cell_type": "code",
   "execution_count": 43,
   "metadata": {},
   "outputs": [],
   "source": [
    "from numpy import histogram,arange\n",
    "\n",
    "task_evict_events = task_events \\\n",
    "    .filter(lambda task_event: task_events_get['event type'](task_event) == 2) \\\n",
    "    .map(lambda event: (\n",
    "            task_events_get['machine ID'](event),\n",
    "            [(\n",
    "                (task_events_get['time'](event)-600000000)//300000000\n",
    "            )]\n",
    "        )\n",
    "    ) \\\n",
    "    .reduceByKey(lambda events1, events2: events1 + events2) \\\n",
    "    .map(lambda machine : (machine[0],list(histogram(machine[1],arange(18))[0]))) \\\n",
    "    .cache()"
   ]
  },
  {
   "attachments": {},
   "cell_type": "markdown",
   "metadata": {},
   "source": [
    "### Correlation Study\n",
    "\n",
    "Now, how do we associate these two sets of values ? A simple join is enough as we need to correlate datasets with the same machine ID."
   ]
  },
  {
   "cell_type": "code",
   "execution_count": 63,
   "metadata": {},
   "outputs": [],
   "source": [
    "correlation = machines_max_usage.join(task_evict_events).map(lambda x: (x[0], (*x[1][0],x[1][1]))).cache()"
   ]
  },
  {
   "cell_type": "code",
   "execution_count": 64,
   "metadata": {},
   "outputs": [
    {
     "name": "stdout",
     "output_type": "stream",
     "text": [
      "Table for machine #4802479866\n",
      "-------  -------  -------  -------  -------  -------  -------  -------  -------  -------  --------  --------  --------  --------  --------  --------  --------\n",
      "0        1        2        3        4        5        6        7        8        9        10        11        12        13        14        15        16\n",
      "0.7188   0.9922   0.8213   0.8506   0.6123   0.5723   0.3989   0.2676   0.1326   0.1423    0.3701    0.1836    0.1316    0.1056    0.3618    0.3491    0.115\n",
      "0.01892  0.01819  0.01825  0.01828  0.01846  0.01865  0.01877  0.01901  0.01889  0.01849   0.02078   0.01846   0.01865   0.01886   0.01907   0.01892   0.01855\n",
      "0.05109  0.05615  0.05792  0.08423  0.1245   0.1171   0.108    0.08875  0.07202  0.06604   0.09802   0.08887   0.05475   0.05145   0.05273   0.07202   0.07654\n",
      "0        0        1        0        0        0        0        0        0        0        10         0         0         0         0         0         3\n",
      "-------  -------  -------  -------  -------  -------  -------  -------  -------  -------  --------  --------  --------  --------  --------  --------  --------\n",
      "Table for machine #450512000\n",
      "-  -  -  -  -  -  -  -  -  -  --  ---------  ---------  --------  --------  --------  --------\n",
      "0  1  2  3  4  5  6  7  8  9  10  11         12         13        14        15        16\n",
      "0  0  0  0  0  0  0  0  0  0   0   0.1934     0.1384     0.2417    0.1858    0.1926    0.2534\n",
      "0  0  0  0  0  0  0  0  0  0   0   0.002407   0.009018   0.01434   0.01414   0.02789   0.03754\n",
      "0  0  0  0  0  0  0  0  0  0   0   0.06348    0.07715    0.03085   0.06177   0.02557   0.03049\n",
      "0  0  0  0  0  0  0  0  0  0   0   0          7          0         3         0         4\n",
      "-  -  -  -  -  -  -  -  -  -  --  ---------  ---------  --------  --------  --------  --------\n",
      "Table for machine #1329890255\n",
      "-------  -------  -------  -------  -------  -------  -------  -------  -------  -------  --------  --------  --------  --------  --------  --------  --------\n",
      "0        1        2        3        4        5        6        7        8        9        10        11        12        13        14        15        16\n",
      "0.4043   0.2866   0.6152   0.4487   0.3594   0.3857   0.4116   0.3438   0.3311   0.6104    0.3477    0.3716    0.3423    0.2866    0.5898    0.3687    0.2944\n",
      "0.07983  0.07983  0.07983  0.07983  0.07983  0.07983  0.07983  0.07983  0.07983  0.07983   0.07983   0.07983   0.07983   0.07983   0.07983   0.07983   0.0592\n",
      "0.1117   0.1321   0.08643  0.1021   0.1215   0.1139   0.1929   0.1731   0.1088   0.07336   0.06085   0.124     0.06165   0.0531    0.1178    0.1228    0.05731\n",
      "0        0        3        0        0        0        3        0        0        0         0         0         0         0         3         0         4\n",
      "-------  -------  -------  -------  -------  -------  -------  -------  -------  -------  --------  --------  --------  --------  --------  --------  --------\n",
      "Table for machine #988233\n",
      "-------  -------  -------  -------  -------  -------  -------  ------  ------  -------  --------  --------  -------  ---------  --------  ---------  --------\n",
      "0        1        2        3        4        5        6        7       8       9        10        11        12       13         14        15         16\n",
      "0.2126   0.1465   0.08972  0.3857   0.1173   0.3491   0.375    0.3716  0.4668  0.4624    0.4922    0.459     0.1027   0.2324     0.3901    0.1219     0.1321\n",
      "0.2253   0.2253   0.2253   0.2253   0.2253   0.2253   0.2253   0.2253  0.2253  0.2253    0.2253    0.2253    0.2253   0.2253     0.2253    0.2253     0.2253\n",
      "0.05872  0.03043  0.06433  0.09131  0.07361  0.06274  0.08044  0.1357  0.1357  0.05212   0.03845   0.06421   0.0307   0.003998   0.06494   0.005783   0.02429\n",
      "0        0        7        0        0        4        0        0       0       0         0         0         0        0          0         0          0\n",
      "-------  -------  -------  -------  -------  -------  -------  ------  ------  -------  --------  --------  -------  ---------  --------  ---------  --------\n",
      "Table for machine #400148209\n",
      "-------  -------  -------  -------  -------  -------  -------  -------  -------  -------  --------  --------  --------  --------  --------  --------  --------\n",
      "0        1        2        3        4        5        6        7        8        9        10        11        12        13        14        15        16\n",
      "0.2593   0.2964   0.1411   0.1704   0.1189   0.354    0.4839   0.3657   0.5645   0.5918    0.3984    0.4028    0.4087    0.2407    0.4082    0.2258    0.1582\n",
      "0.03006  0.02982  0.03024  0.02963  0.0163   0.06567  0.06567  0.05951  0.07092  0.07178   0.06873   0.06885   0.06873   0.06897   0.06897   0.06555   0.05988\n",
      "0.07446  0.07532  0.05756  0.06384  0.04944  0.1379   0.07837  0.08582  0.125    0.05487   0.04602   0.06445   0.1152    0.07104   0.1127    0.1292    0.05219\n",
      "0        0        3        0        0        1        3        0        0        0         0         0         0         0         4         0         0\n",
      "-------  -------  -------  -------  -------  -------  -------  -------  -------  -------  --------  --------  --------  --------  --------  --------  --------\n"
     ]
    }
   ],
   "source": [
    "for e in correlation.sortBy(lambda x: sum(x[1][4]),ascending=False).take(5):\n",
    "    print(f\"Table for machine #{e[0]}\")\n",
    "    print(tabulate(e[1]))\n"
   ]
  },
  {
   "attachments": {},
   "cell_type": "markdown",
   "metadata": {},
   "source": [
    "Now that we have our data for each machines, we need to correlate the eviction events and max resource usage for each periods. To do so we will first try to determine the correlation coefficient (also known as ***Pearson Correlation Coefficient***) for each machine and each resource usage. To do so we use the already existing *numpy* function *corrcoef*."
   ]
  },
  {
   "cell_type": "code",
   "execution_count": 57,
   "metadata": {},
   "outputs": [
    {
     "name": "stderr",
     "output_type": "stream",
     "text": [
      "/home/akuma/.local/share/virtualenvs/SparkProject-DTXSDDnr/lib/python3.10/site-packages/numpy/lib/function_base.py:2853: RuntimeWarning: invalid value encountered in divide\n",
      "  c /= stddev[:, None]\n",
      "/home/akuma/.local/share/virtualenvs/SparkProject-DTXSDDnr/lib/python3.10/site-packages/numpy/lib/function_base.py:2854: RuntimeWarning: invalid value encountered in divide\n",
      "  c /= stddev[None, :]\n"
     ]
    }
   ],
   "source": [
    "import numpy as np\n",
    "\n",
    "coef = correlation.map(lambda e: ( \\\n",
    "    [np.corrcoef(np.array(e[1][4]),np.array(e[1][1]))[1][0]],\\\n",
    "    [np.corrcoef(np.array(e[1][4]),np.array(e[1][2]))[1][0]],\\\n",
    "    [np.corrcoef(np.array(e[1][4]),np.array(e[1][3]))[1][0]] \\\n",
    ")).reduce(lambda a,b: (a[0]+b[0],a[1]+b[1],a[2]+b[2]))"
   ]
  },
  {
   "cell_type": "code",
   "execution_count": 58,
   "metadata": {},
   "outputs": [
    {
     "name": "stdout",
     "output_type": "stream",
     "text": [
      "Maximum coefficients found : (0.9892731827813805, 1.0, 0.9357644161426849)\n",
      "Minimum coefficients found : (-0.7183509388828152, -1.0, -0.6833728026765434)\n",
      "Average of all coefficients : (0.1479072793666287, nan, 0.035908277672531734)\n",
      "Median coefficients : (0.1305085244186584, -0.023393999349448025, 0.014846958593496138)\n"
     ]
    }
   ],
   "source": [
    "from statistics import mean,median\n",
    "\n",
    "max_coef = tuple([max(e) for e in coef])\n",
    "min_coef = tuple([min(e) for e in coef])\n",
    "average_coef = tuple([mean(e) for e in coef])\n",
    "median_coef = tuple([median(e) for e in coef])\n",
    "\n",
    "print(f\"Maximum coefficients found : {max_coef}\\nMinimum coefficients found : {min_coef}\\nAverage of all coefficients : {average_coef}\\nMedian coefficients : {median_coef}\")"
   ]
  },
  {
   "attachments": {},
   "cell_type": "markdown",
   "metadata": {},
   "source": [
    "As we can see, there are machines that seems to have correlations between the maximum resource used and the number of evictions, but the whole data (especially the mean and median) suggest that no such correlation exists. If we look deeper at all the points formed by the correlation of the resource usage (X) and the number of eviction (Y), we obtain the following scatters for each resource :"
   ]
  },
  {
   "cell_type": "code",
   "execution_count": 59,
   "metadata": {},
   "outputs": [
    {
     "data": {
      "image/png": "[encoded data removed]",
      "text/plain": [
       "<Figure size 640x480 with 1 Axes>"
      ]
     },
     "metadata": {},
     "output_type": "display_data"
    },
    {
     "data": {
      "image/png": "[encoded data removed]",
      "text/plain": [
       "<Figure size 640x480 with 1 Axes>"
      ]
     },
     "metadata": {},
     "output_type": "display_data"
    },
    {
     "data": {
      "image/png": "[encoded data removed]",
      "text/plain": [
       "<Figure size 640x480 with 1 Axes>"
      ]
     },
     "metadata": {},
     "output_type": "display_data"
    }
   ],
   "source": [
    "elements = correlation.collect()\n",
    "\n",
    "for e in elements:\n",
    "    plt.scatter(e[1][1],e[1][4])\n",
    "plt.show()\n",
    "\n",
    "for e in elements:\n",
    "    plt.scatter(e[1][2],e[1][4])\n",
    "plt.show()\n",
    "\n",
    "for e in elements:\n",
    "    plt.scatter(e[1][3],e[1][4])\n",
    "plt.show()"
   ]
  },
  {
   "attachments": {},
   "cell_type": "markdown",
   "metadata": {},
   "source": [
    "Indeed, just like the coefficient suggested, we cannot see a correlation in the above scatters (except maybe a downward one in the first scatter for GPU usage). If we don't try to look at the coefficients machine by machine, but try to find the correlation coefficient of the whole data set (while keeping X being the maximum resource used and Y the number of eviction), we obtain the following numbers :"
   ]
  },
  {
   "cell_type": "code",
   "execution_count": 62,
   "metadata": {},
   "outputs": [
    {
     "name": "stdout",
     "output_type": "stream",
     "text": [
      "0.07183355917744491\n",
      "-0.008083391531660818\n",
      "0.012698962020061636\n"
     ]
    }
   ],
   "source": [
    "cpu = correlation.map(lambda e: (e[1][1],e[1][4])).reduce(lambda a,b: (a[0]+b[0],a[1]+b[1]))\n",
    "memory = correlation.map(lambda e: (e[1][2],e[1][4])).reduce(lambda a,b: (a[0]+b[0],a[1]+b[1]))\n",
    "disk = correlation.map(lambda e: (e[1][3],e[1][4])).reduce(lambda a,b: (a[0]+b[0],a[1]+b[1]))\n",
    "\n",
    "print(np.corrcoef(np.array(cpu[0]),np.array(cpu[1]))[1][0])\n",
    "print(np.corrcoef(np.array(memory[0]),np.array(memory[1]))[1][0])\n",
    "print(np.corrcoef(np.array(disk[0]),np.array(disk[1]))[1][0])"
   ]
  },
  {
   "attachments": {},
   "cell_type": "markdown",
   "metadata": {},
   "source": [
    "As such, we can safely conclude that there are no correlation, negative of positive, between the picks of resources of a machine and its eviction events."
   ]
  },
  {
   "cell_type": "markdown",
   "metadata": {},
   "source": [
    "## Appendix"
   ]
  },
  {
   "cell_type": "markdown",
   "metadata": {},
   "source": [
    "Alternate approach with SparkSQL, allowing the use of DataFrames:\n",
    "from pyspark.sql import SparkSession"
   ]
  },
  {
   "cell_type": "code",
   "execution_count": null,
   "metadata": {},
   "outputs": [],
   "source": [
    "from pyspark.sql import SparkSession\n",
    "\n",
    "spark = SparkSession.builder \\\n",
    "    .master(\"local(*]\") \\\n",
    "    .appName(\"Cluster analysis\") \\\n",
    "    .getOrCreate()"
   ]
  },
  {
   "cell_type": "markdown",
   "metadata": {},
   "source": [
    "### With DataFrames\n",
    "\n",
    "It would be nice to have the tabular methods provided by DataFrames. Fortunately, Spark offers a DataFrame API, through their Spark SQL. To [load a CSV as a DataFrame](https://spark.apache.org/docs/latest/api/python/reference/pyspark.sql/api/pyspark.sql.DataFrameReader.csv.html#pyspark.sql.DataFrameReader.csv),"
   ]
  },
  {
   "cell_type": "code",
   "execution_count": null,
   "metadata": {},
   "outputs": [],
   "source": [
    "from pyspark.sql.types import StructType, StructField\n",
    "from pyspark.sql.types import StringType, FloatType, IntegerType, LongType\n",
    "field_to_spark_type = {\n",
    "    'time': LongType,\n",
    "    'machine ID': LongType,\n",
    "    'event type': IntegerType,\n",
    "    'platform ID': StringType,\n",
    "    'CPUs': FloatType,\n",
    "    'Memory': FloatType\n",
    "}\n",
    "machine_events_schema = StructType([\n",
    "    StructField(field['content'].replace(' ', '_'), field_to_spark_type[field['content']](), field['mandatory']) for field in schemas['machine_events']['fields']\n",
    "])\n",
    "\n",
    "machine_events = spark.read \\\n",
    "    .format('csv') \\\n",
    "    .option(\"header\",\"true\") \\\n",
    "    .schema(machine_events_schema) \\\n",
    "    .load(\"../data/machine_events/part-00000-of-00001.csv\")"
   ]
  },
  {
   "cell_type": "markdown",
   "metadata": {},
   "source": [
    "Let us check that the schema is as we expect"
   ]
  },
  {
   "cell_type": "code",
   "execution_count": null,
   "metadata": {},
   "outputs": [],
   "source": [
    "machine_events.printSchema()"
   ]
  },
  {
   "cell_type": "markdown",
   "metadata": {},
   "source": [
    "And inspect the first few data"
   ]
  },
  {
   "cell_type": "code",
   "execution_count": null,
   "metadata": {},
   "outputs": [],
   "source": [
    "for elem in machine_events.take(5):\n",
    "\tprint(elem.asDict())"
   ]
  },
  {
   "cell_type": "markdown",
   "metadata": {},
   "source": [
    "How much events do we have?"
   ]
  },
  {
   "cell_type": "code",
   "execution_count": null,
   "metadata": {},
   "outputs": [],
   "source": [
    "machine_events.count(), machine_events.filter(machine_events.event_type == 1).count(),machine_events.filter(machine_events.event_type == 2).count()"
   ]
  },
  {
   "cell_type": "code",
   "execution_count": null,
   "metadata": {},
   "outputs": [],
   "source": [
    "machine_events.filter(machine_events.event_type == 0).CPUs"
   ]
  }
 ],
 "metadata": {
  "kernelspec": {
   "display_name": "SparkProject-DTXSDDnr",
   "language": "python",
   "name": "python3"
  },
  "language_info": {
   "codemirror_mode": {
    "name": "ipython",
    "version": 3
   },
   "file_extension": ".py",
   "mimetype": "text/x-python",
   "name": "python",
   "nbconvert_exporter": "python",
   "pygments_lexer": "ipython3",
   "version": "3.10.6"
  },
  "orig_nbformat": 4,
  "vscode": {
   "interpreter": {
    "hash": "cf96d2e1563c5703f4751942328699d80d1199668a3d2612f12bdd9a534862d2"
   }
  }
 },
 "nbformat": 4,
 "nbformat_minor": 2
}
