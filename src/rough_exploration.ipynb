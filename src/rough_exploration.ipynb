{
 "cells": [
  {
   "cell_type": "markdown",
   "metadata": {},
   "source": [
    "# Exploratory code\n",
    "\n",
    "The software in this file represents some of our explorations and experiments that were used to make our final analysis."
   ]
  },
  {
   "cell_type": "markdown",
   "metadata": {},
   "source": [
    "## Parsing the schema file"
   ]
  },
  {
   "cell_type": "code",
   "execution_count": 60,
   "metadata": {},
   "outputs": [],
   "source": [
    "import schema\n",
    "from tabulate import tabulate\n",
    "from importlib import reload\n",
    "reload(schema)\n",
    "\n",
    "schemas = schema.data_schemas_from_file(\"../data/schema.csv\")"
   ]
  },
  {
   "cell_type": "code",
   "execution_count": 3,
   "metadata": {},
   "outputs": [
    {
     "name": "stdout",
     "output_type": "stream",
     "text": [
      "#########################################################################\n",
      "job_events (job_events/part-?????-of-?????.csv.gz):\n",
      "  field number  content           format       mandatory    formatter\n",
      "--------------  ----------------  -----------  -----------  ----------------------------------------------------------------\n",
      "             0  time              INTEGER      True         <function parse_schema_line.<locals>.<lambda> at 0x7f8aecf57eb0>\n",
      "             1  missing info      INTEGER      False        <function parse_schema_line.<locals>.<lambda> at 0x7f8aecf80a60>\n",
      "             2  job ID            INTEGER      True         <function parse_schema_line.<locals>.<lambda> at 0x7f8aecf80af0>\n",
      "             3  event type        INTEGER      True         <function parse_schema_line.<locals>.<lambda> at 0x7f8aecf80b80>\n",
      "             4  user              STRING_HASH  False        <function parse_schema_line.<locals>.<lambda> at 0x7f8aefd71f30>\n",
      "             5  scheduling class  INTEGER      False        <function parse_schema_line.<locals>.<lambda> at 0x7f8aecf809d0>\n",
      "             6  job name          STRING_HASH  False        <function parse_schema_line.<locals>.<lambda> at 0x7f8aecf80d30>\n",
      "             7  logical job name  STRING_HASH  False        <function parse_schema_line.<locals>.<lambda> at 0x7f8aecf80dc0>\n",
      "#########################################################################\n",
      "task_events (task_events/part-?????-of-?????.csv.gz):\n",
      "  field number  content                         format       mandatory    formatter\n",
      "--------------  ------------------------------  -----------  -----------  ----------------------------------------------------------------\n",
      "             0  time                            INTEGER      True         <function parse_schema_line.<locals>.<lambda> at 0x7f8aecf80c10>\n",
      "             1  missing info                    INTEGER      False        <function parse_schema_line.<locals>.<lambda> at 0x7f8aecf80ca0>\n",
      "             2  job ID                          INTEGER      True         <function parse_schema_line.<locals>.<lambda> at 0x7f8aecf80e50>\n",
      "             3  task index                      INTEGER      True         <function parse_schema_line.<locals>.<lambda> at 0x7f8aecf80ee0>\n",
      "             4  machine ID                      INTEGER      False        <function parse_schema_line.<locals>.<lambda> at 0x7f8aecf80f70>\n",
      "             5  event type                      INTEGER      True         <function parse_schema_line.<locals>.<lambda> at 0x7f8aecf81000>\n",
      "             6  user                            STRING_HASH  False        <function parse_schema_line.<locals>.<lambda> at 0x7f8aecf811b0>\n",
      "             7  scheduling class                INTEGER      False        <function parse_schema_line.<locals>.<lambda> at 0x7f8aecf81120>\n",
      "             8  priority                        INTEGER      True         <function parse_schema_line.<locals>.<lambda> at 0x7f8aecf81090>\n",
      "             9  CPU request                     FLOAT        False        <function parse_schema_line.<locals>.<lambda> at 0x7f8aecf812d0>\n",
      "            10  memory request                  FLOAT        False        <function parse_schema_line.<locals>.<lambda> at 0x7f8aecf81360>\n",
      "            11  disk space request              FLOAT        False        <function parse_schema_line.<locals>.<lambda> at 0x7f8aecf813f0>\n",
      "            12  different machines restriction  BOOLEAN      False        <function parse_schema_line.<locals>.<lambda> at 0x7f8aecf815a0>\n",
      "#########################################################################\n",
      "machine_events (machine_events/part-00000-of-00001.csv.gz):\n",
      "  field number  content      format       mandatory    formatter\n",
      "--------------  -----------  -----------  -----------  ----------------------------------------------------------------\n",
      "             0  time         INTEGER      True         <function parse_schema_line.<locals>.<lambda> at 0x7f8aecf81240>\n",
      "             1  machine ID   INTEGER      True         <function parse_schema_line.<locals>.<lambda> at 0x7f8aecf81510>\n",
      "             2  event type   INTEGER      True         <function parse_schema_line.<locals>.<lambda> at 0x7f8aecf81480>\n",
      "             3  platform ID  STRING_HASH  False        <function parse_schema_line.<locals>.<lambda> at 0x7f8aecf81750>\n",
      "             4  CPUs         FLOAT        False        <function parse_schema_line.<locals>.<lambda> at 0x7f8aecf81630>\n",
      "             5  Memory       FLOAT        False        <function parse_schema_line.<locals>.<lambda> at 0x7f8aecf817e0>\n",
      "#########################################################################\n",
      "machine_attributes (machine_attributes/part-00000-of-00001.csv.gz):\n",
      "  field number  content            format                  mandatory    formatter\n",
      "--------------  -----------------  ----------------------  -----------  ----------------------------------------------------------------\n",
      "             0  time               INTEGER                 True         <function parse_schema_line.<locals>.<lambda> at 0x7f8aecf816c0>\n",
      "             1  machine ID         INTEGER                 True         <function parse_schema_line.<locals>.<lambda> at 0x7f8aecf81870>\n",
      "             2  attribute name     STRING_HASH             True         <function parse_schema_line.<locals>.<lambda> at 0x7f8aecf81a20>\n",
      "             3  attribute value    STRING_HASH_OR_INTEGER  False        <function string_hash_or_integer at 0x7f8aecf57d00>\n",
      "             4  attribute deleted  BOOLEAN                 True         <function parse_schema_line.<locals>.<lambda> at 0x7f8aecf81ab0>\n",
      "#########################################################################\n",
      "task_constraints (task_constraints/part-?????-of-?????.csv.gz):\n",
      "  field number  content              format                  mandatory    formatter\n",
      "--------------  -------------------  ----------------------  -----------  ----------------------------------------------------------------\n",
      "             0  time                 INTEGER                 True         <function parse_schema_line.<locals>.<lambda> at 0x7f8aecf81900>\n",
      "             1  job ID               INTEGER                 True         <function parse_schema_line.<locals>.<lambda> at 0x7f8aecf81b40>\n",
      "             2  task index           INTEGER                 True         <function parse_schema_line.<locals>.<lambda> at 0x7f8aecf81990>\n",
      "             3  comparison operator  INTEGER                 True         <function parse_schema_line.<locals>.<lambda> at 0x7f8aecf81bd0>\n",
      "             4  attribute name       STRING_HASH             True         <function parse_schema_line.<locals>.<lambda> at 0x7f8aecf81d80>\n",
      "             5  attribute value      STRING_HASH_OR_INTEGER  False        <function string_hash_or_integer at 0x7f8aecf57d00>\n",
      "#########################################################################\n",
      "task_usage (task_usage/part-?????-of-?????.csv.gz):\n",
      "  field number  content                          format    mandatory    formatter\n",
      "--------------  -------------------------------  --------  -----------  ----------------------------------------------------------------\n",
      "             0  start time                       INTEGER   True         <function parse_schema_line.<locals>.<lambda> at 0x7f8aecf81c60>\n",
      "             1  end time                         INTEGER   True         <function parse_schema_line.<locals>.<lambda> at 0x7f8aecf81cf0>\n",
      "             2  job ID                           INTEGER   True         <function parse_schema_line.<locals>.<lambda> at 0x7f8aecf81ea0>\n",
      "             3  task index                       INTEGER   True         <function parse_schema_line.<locals>.<lambda> at 0x7f8aecf81e10>\n",
      "             4  machine ID                       INTEGER   True         <function parse_schema_line.<locals>.<lambda> at 0x7f8aecf81f30>\n",
      "             5  CPU rate                         FLOAT     False        <function parse_schema_line.<locals>.<lambda> at 0x7f8aecf82050>\n",
      "             6  canonical memory usage           FLOAT     False        <function parse_schema_line.<locals>.<lambda> at 0x7f8aecf820e0>\n",
      "             7  assigned memory usage            FLOAT     False        <function parse_schema_line.<locals>.<lambda> at 0x7f8aecf82170>\n",
      "             8  unmapped page cache              FLOAT     False        <function parse_schema_line.<locals>.<lambda> at 0x7f8aecf82200>\n",
      "             9  total page cache                 FLOAT     False        <function parse_schema_line.<locals>.<lambda> at 0x7f8aecf82290>\n",
      "            10  maximum memory usage             FLOAT     False        <function parse_schema_line.<locals>.<lambda> at 0x7f8aecf82320>\n",
      "            11  disk I/O time                    FLOAT     False        <function parse_schema_line.<locals>.<lambda> at 0x7f8aecf823b0>\n",
      "            12  local disk space usage           FLOAT     False        <function parse_schema_line.<locals>.<lambda> at 0x7f8aecf82440>\n",
      "            13  maximum CPU rate                 FLOAT     False        <function parse_schema_line.<locals>.<lambda> at 0x7f8aecf824d0>\n",
      "            14  maximum disk IO time             FLOAT     False        <function parse_schema_line.<locals>.<lambda> at 0x7f8aecf82560>\n",
      "            15  cycles per instruction           FLOAT     False        <function parse_schema_line.<locals>.<lambda> at 0x7f8aecf825f0>\n",
      "            16  memory accesses per instruction  FLOAT     False        <function parse_schema_line.<locals>.<lambda> at 0x7f8aecf82680>\n",
      "            17  sample portion                   FLOAT     False        <function parse_schema_line.<locals>.<lambda> at 0x7f8aecf82710>\n",
      "            18  aggregation type                 BOOLEAN   False        <function parse_schema_line.<locals>.<lambda> at 0x7f8aecf828c0>\n",
      "            19  sampled CPU usage                FLOAT     False        <function parse_schema_line.<locals>.<lambda> at 0x7f8aecf82830>\n"
     ]
    }
   ],
   "source": [
    "for key,value in schemas.items():\n",
    "    print(\"#########################################################################\")\n",
    "    print(f\"{key} ({value['file pattern']}):\")\n",
    "    print(tabulate(value['fields'],headers='keys'))"
   ]
  },
  {
   "cell_type": "markdown",
   "metadata": {},
   "source": [
    "## Starting Spark"
   ]
  },
  {
   "cell_type": "code",
   "execution_count": 4,
   "metadata": {},
   "outputs": [
    {
     "name": "stderr",
     "output_type": "stream",
     "text": [
      "Setting default log level to \"WARN\".\n",
      "To adjust logging level use sc.setLogLevel(newLevel). For SparkR, use setLogLevel(newLevel).\n"
     ]
    },
    {
     "name": "stdout",
     "output_type": "stream",
     "text": [
      "22/12/05 14:02:39 WARN NativeCodeLoader: Unable to load native-hadoop library for your platform... using builtin-java classes where applicable\n",
      "22/12/05 14:02:40 WARN Utils: Service 'SparkUI' could not bind on port 4040. Attempting port 4041.\n"
     ]
    }
   ],
   "source": [
    "from pyspark import SparkContext\n",
    "\n",
    "# start spark with 1 worker thread\n",
    "sc = SparkContext(\"local[*]\")\n",
    "sc.setLogLevel(\"ERROR\")"
   ]
  },
  {
   "cell_type": "markdown",
   "metadata": {},
   "source": [
    "Alternate approach with SparkSQL, allowing the use of DataFrames:"
   ]
  },
  {
   "cell_type": "code",
   "execution_count": null,
   "metadata": {},
   "outputs": [],
   "source": [
    "from pyspark.sql import SparkSession\n",
    "\n",
    "spark = SparkSession.builder \\\n",
    "    .master(\"local(*]\") \\\n",
    "    .appName(\"Cluster analysis\") \\\n",
    "    .getOrCreate()"
   ]
  },
  {
   "cell_type": "markdown",
   "metadata": {},
   "source": [
    "## Analysis on machine events\n",
    "\n",
    "This file describes events that occurred to the machines in the cluster, as well as their specifications (initial events).\n",
    "\n",
    "First, let us see the schema of this file's data:"
   ]
  },
  {
   "cell_type": "code",
   "execution_count": 5,
   "metadata": {},
   "outputs": [
    {
     "name": "stdout",
     "output_type": "stream",
     "text": [
      "  field number  content      format       mandatory    formatter\n",
      "--------------  -----------  -----------  -----------  ----------------------------------------------------------------\n",
      "             0  time         INTEGER      True         <function parse_schema_line.<locals>.<lambda> at 0x7f8aecf81240>\n",
      "             1  machine ID   INTEGER      True         <function parse_schema_line.<locals>.<lambda> at 0x7f8aecf81510>\n",
      "             2  event type   INTEGER      True         <function parse_schema_line.<locals>.<lambda> at 0x7f8aecf81480>\n",
      "             3  platform ID  STRING_HASH  False        <function parse_schema_line.<locals>.<lambda> at 0x7f8aecf81750>\n",
      "             4  CPUs         FLOAT        False        <function parse_schema_line.<locals>.<lambda> at 0x7f8aecf81630>\n",
      "             5  Memory       FLOAT        False        <function parse_schema_line.<locals>.<lambda> at 0x7f8aecf817e0>\n"
     ]
    }
   ],
   "source": [
    "print(tabulate(schemas['machine_events']['fields'],headers='keys'))"
   ]
  },
  {
   "cell_type": "markdown",
   "metadata": {},
   "source": [
    "### Mahcine Event RDD"
   ]
  },
  {
   "cell_type": "code",
   "execution_count": 62,
   "metadata": {},
   "outputs": [
    {
     "name": "stdout",
     "output_type": "stream",
     "text": [
      "[0, 5, 0, 'HofLGzk1Or/8Ildj2+Lqv0UGGvY82NLoni8+J/Yy0RU=', 0.5, 0.2493]\n",
      "[0, 6, 0, 'HofLGzk1Or/8Ildj2+Lqv0UGGvY82NLoni8+J/Yy0RU=', 0.5, 0.2493]\n",
      "[0, 7, 0, 'HofLGzk1Or/8Ildj2+Lqv0UGGvY82NLoni8+J/Yy0RU=', 0.5, 0.2493]\n",
      "[0, 10, 0, 'HofLGzk1Or/8Ildj2+Lqv0UGGvY82NLoni8+J/Yy0RU=', 0.5, 0.2493]\n",
      "[0, 13, 0, 'HofLGzk1Or/8Ildj2+Lqv0UGGvY82NLoni8+J/Yy0RU=', 0.5, 0.2493]\n"
     ]
    }
   ],
   "source": [
    "machine_events_schema = schemas['machine_events']\n",
    "machine_events_get = schema.field_getters(machine_events_schema)\n",
    "\n",
    "machine_events = sc.textFile(\"../data/machine_events/part-00000-of-00001.csv\").map(lambda row: schema.format_row(machine_events_schema, row.split(',')))\n",
    "machine_events.cache()\n",
    "\n",
    "for elem in machine_events.take(5):\n",
    "\tprint(elem)"
   ]
  },
  {
   "cell_type": "markdown",
   "metadata": {},
   "source": [
    "### Distribution of CPU usage (Q1)\n",
    "\n",
    "For the following, we only account for the machine creation events. We note that this method could count a given machine more than once, should it happen to be added more than once (and removed in-between) or modified.\n",
    "\n",
    "Distribution of machine capacity based on their CPU power:"
   ]
  },
  {
   "cell_type": "code",
   "execution_count": 23,
   "metadata": {},
   "outputs": [
    {
     "name": "stderr",
     "output_type": "stream",
     "text": [
      "11636 machines have CPU 0.5\n",
      "123 machines have CPU 0.25\n",
      "796 machines have CPU 1.0\n"
     ]
    }
   ],
   "source": [
    "from operator import add\n",
    "\n",
    "cpu = schema.index_of_field(machine_events_schema, 'CPUs')\n",
    "event = schema.index_of_field(machine_events_schema, 'event type')\n",
    "machine_id = schema.index_of_field(machine_events_schema, 'machine ID')\n",
    "time = schema.index_of_field(machine_events_schema, 'time')\n",
    "\n",
    "cpu_usage = machine_events \\\n",
    "    .filter(lambda row: row[event] == 0 and row[cpu] is not None) \\\n",
    "    .map(lambda row: (row[machine_id],row)) \\\n",
    "    .reduceByKey(lambda r1,r2: r1 if r1[time]>r2[time] else r2) \\\n",
    "    .map(lambda row: (row[1][cpu], 1)) \\\n",
    "    .reduceByKey(add)\n",
    "\n",
    "cpu_usage.foreach(lambda cpu: print(f\"{cpu[1]} machines have CPU {cpu[0]}\"))"
   ]
  },
  {
   "cell_type": "code",
   "execution_count": 24,
   "metadata": {},
   "outputs": [
    {
     "data": {
      "image/png": "[encoded data removed]",
      "text/plain": [
       "<Figure size 640x480 with 1 Axes>"
      ]
     },
     "metadata": {},
     "output_type": "display_data"
    }
   ],
   "source": [
    "import matplotlib.pyplot as plt\n",
    "fig = plt.figure()\n",
    "ax = fig.add_axes([0,0,1,1])\n",
    "legend = cpu_usage.map(lambda x: str(x[0]) if x[0] is not None else 'None').collect()\n",
    "count = cpu_usage.sortByKey().map(lambda x: x[1]).collect()\n",
    "ax.bar(legend,count)\n",
    "plt.show()"
   ]
  },
  {
   "cell_type": "markdown",
   "metadata": {},
   "source": [
    "### Lost Computational Power"
   ]
  },
  {
   "cell_type": "code",
   "execution_count": 38,
   "metadata": {},
   "outputs": [
    {
     "name": "stdout",
     "output_type": "stream",
     "text": [
      "-  -  -  --------------------------------------------  ---  ------\n",
      "0  6  0  HofLGzk1Or/8Ildj2+Lqv0UGGvY82NLoni8+J/Yy0RU=  0.5  0.2493\n",
      "-  -  -  --------------------------------------------  ---  ------\n",
      "-------------  --  -  --------------------------------------------  ---  ------\n",
      "            0  10  0  HofLGzk1Or/8Ildj2+Lqv0UGGvY82NLoni8+J/Yy0RU=  0.5  0.2493\n",
      "1306164355566  10  1  HofLGzk1Or/8Ildj2+Lqv0UGGvY82NLoni8+J/Yy0RU=  0.5  0.2493\n",
      "1307163081914  10  0  HofLGzk1Or/8Ildj2+Lqv0UGGvY82NLoni8+J/Yy0RU=  0.5  0.2493\n",
      "-------------  --  -  --------------------------------------------  ---  ------\n",
      "-  --  -  --------------------------------------------  ---  ------\n",
      "0  14  0  HofLGzk1Or/8Ildj2+Lqv0UGGvY82NLoni8+J/Yy0RU=  0.5  0.2493\n",
      "-  --  -  --------------------------------------------  ---  ------\n",
      "-------------  --  -  --------------------------------------------  ---  ------\n",
      "            0  26  0  HofLGzk1Or/8Ildj2+Lqv0UGGvY82NLoni8+J/Yy0RU=  0.5  0.2493\n",
      " 611893094118  26  1  HofLGzk1Or/8Ildj2+Lqv0UGGvY82NLoni8+J/Yy0RU=  0.5  0.2493\n",
      " 700559974858  26  0  HofLGzk1Or/8Ildj2+Lqv0UGGvY82NLoni8+J/Yy0RU=  0.5  0.2493\n",
      " 700559975977  26  2  HofLGzk1Or/8Ildj2+Lqv0UGGvY82NLoni8+J/Yy0RU=  0.5  0.2493\n",
      "1886486566970  26  2  HofLGzk1Or/8Ildj2+Lqv0UGGvY82NLoni8+J/Yy0RU=  0.5  0.2493\n",
      "1896956086270  26  2  HofLGzk1Or/8Ildj2+Lqv0UGGvY82NLoni8+J/Yy0RU=  0.5  0.2493\n",
      "-------------  --  -  --------------------------------------------  ---  ------\n",
      "-------------  --  -  --------------------------------------------  ---  ------\n",
      "            0  28  0  HofLGzk1Or/8Ildj2+Lqv0UGGvY82NLoni8+J/Yy0RU=  0.5  0.2493\n",
      " 339074705486  28  2  HofLGzk1Or/8Ildj2+Lqv0UGGvY82NLoni8+J/Yy0RU=  0.5  0.2493\n",
      " 883148217047  28  2  HofLGzk1Or/8Ildj2+Lqv0UGGvY82NLoni8+J/Yy0RU=  0.5  0.2493\n",
      " 891339944337  28  2  HofLGzk1Or/8Ildj2+Lqv0UGGvY82NLoni8+J/Yy0RU=  0.5  0.2493\n",
      " 905782355579  28  2  HofLGzk1Or/8Ildj2+Lqv0UGGvY82NLoni8+J/Yy0RU=  0.5  0.2493\n",
      " 996437104949  28  2  HofLGzk1Or/8Ildj2+Lqv0UGGvY82NLoni8+J/Yy0RU=  0.5  0.2493\n",
      "2013297937142  28  2  HofLGzk1Or/8Ildj2+Lqv0UGGvY82NLoni8+J/Yy0RU=  0.5  0.2493\n",
      "2013693139749  28  2  HofLGzk1Or/8Ildj2+Lqv0UGGvY82NLoni8+J/Yy0RU=  0.5  0.2493\n",
      "2028106138670  28  2  HofLGzk1Or/8Ildj2+Lqv0UGGvY82NLoni8+J/Yy0RU=  0.5  0.2493\n",
      "2237526736097  28  1  HofLGzk1Or/8Ildj2+Lqv0UGGvY82NLoni8+J/Yy0RU=  0.5  0.2493\n",
      "2237807267612  28  0  HofLGzk1Or/8Ildj2+Lqv0UGGvY82NLoni8+J/Yy0RU=  0.5  0.2493\n",
      "-------------  --  -  --------------------------------------------  ---  ------\n",
      "------------  --  -  --------------------------------------------  ---  ------\n",
      "           0  36  0  HofLGzk1Or/8Ildj2+Lqv0UGGvY82NLoni8+J/Yy0RU=  0.5  0.2493\n",
      "323263688716  36  1  HofLGzk1Or/8Ildj2+Lqv0UGGvY82NLoni8+J/Yy0RU=  0.5  0.2493\n",
      "323398567454  36  0  HofLGzk1Or/8Ildj2+Lqv0UGGvY82NLoni8+J/Yy0RU=  0.5  0.2493\n",
      "------------  --  -  --------------------------------------------  ---  ------\n",
      "-  --  -  --------------------------------------------  ---  ------\n",
      "0  38  0  HofLGzk1Or/8Ildj2+Lqv0UGGvY82NLoni8+J/Yy0RU=  0.5  0.2493\n",
      "-  --  -  --------------------------------------------  ---  ------\n",
      "------------  --  -  --------------------------------------------  ---  ------\n",
      "           0  46  0  HofLGzk1Or/8Ildj2+Lqv0UGGvY82NLoni8+J/Yy0RU=  0.5  0.2493\n",
      "111568648231  46  1  HofLGzk1Or/8Ildj2+Lqv0UGGvY82NLoni8+J/Yy0RU=  0.5  0.2493\n",
      "112578194091  46  0  HofLGzk1Or/8Ildj2+Lqv0UGGvY82NLoni8+J/Yy0RU=  0.5  0.2493\n",
      "113824293917  46  1  HofLGzk1Or/8Ildj2+Lqv0UGGvY82NLoni8+J/Yy0RU=  0.5  0.2493\n",
      "114525810337  46  0  HofLGzk1Or/8Ildj2+Lqv0UGGvY82NLoni8+J/Yy0RU=  0.5  0.2493\n",
      "301747677093  46  2  HofLGzk1Or/8Ildj2+Lqv0UGGvY82NLoni8+J/Yy0RU=  0.5  0.2493\n",
      "303787373076  46  2  HofLGzk1Or/8Ildj2+Lqv0UGGvY82NLoni8+J/Yy0RU=  0.5  0.2493\n",
      "318205948070  46  2  HofLGzk1Or/8Ildj2+Lqv0UGGvY82NLoni8+J/Yy0RU=  0.5  0.2493\n",
      "------------  --  -  --------------------------------------------  ---  ------\n",
      "-  --  -  --------------------------------------------  ---  ------\n",
      "0  52  0  HofLGzk1Or/8Ildj2+Lqv0UGGvY82NLoni8+J/Yy0RU=  0.5  0.2493\n",
      "-  --  -  --------------------------------------------  ---  ------\n",
      "-------------  --  -  --------------------------------------------  ---  ------\n",
      "            0  54  0  HofLGzk1Or/8Ildj2+Lqv0UGGvY82NLoni8+J/Yy0RU=  0.5  0.2493\n",
      " 102710977480  54  2  HofLGzk1Or/8Ildj2+Lqv0UGGvY82NLoni8+J/Yy0RU=  0.5  0.2493\n",
      " 103181992949  54  2  HofLGzk1Or/8Ildj2+Lqv0UGGvY82NLoni8+J/Yy0RU=  0.5  0.2493\n",
      " 117600416686  54  2  HofLGzk1Or/8Ildj2+Lqv0UGGvY82NLoni8+J/Yy0RU=  0.5  0.2493\n",
      "1100234723502  54  2  HofLGzk1Or/8Ildj2+Lqv0UGGvY82NLoni8+J/Yy0RU=  0.5  0.2493\n",
      "1109694866814  54  2  HofLGzk1Or/8Ildj2+Lqv0UGGvY82NLoni8+J/Yy0RU=  0.5  0.2493\n",
      "1124116526809  54  2  HofLGzk1Or/8Ildj2+Lqv0UGGvY82NLoni8+J/Yy0RU=  0.5  0.2493\n",
      "1268185307944  54  2  HofLGzk1Or/8Ildj2+Lqv0UGGvY82NLoni8+J/Yy0RU=  0.5  0.2493\n",
      "2503454655740  54  1  HofLGzk1Or/8Ildj2+Lqv0UGGvY82NLoni8+J/Yy0RU=  0.5  0.2493\n",
      "2504395384816  54  0  HofLGzk1Or/8Ildj2+Lqv0UGGvY82NLoni8+J/Yy0RU=  0.5  0.2493\n",
      "-------------  --  -  --------------------------------------------  ---  ------\n",
      "[2506135493517, 4246147567, 1, 'HofLGzk1Or/8Ildj2+Lqv0UGGvY82NLoni8+J/Yy0RU=', 0.5, 0.749]\n"
     ]
    }
   ],
   "source": [
    "machines_history = machine_events \\\n",
    "    .map(lambda row: (row[machine_id],row)) \\\n",
    "    .aggregateByKey(None,lambda acc, e: acc+[e] if acc is not None else [e],add) \\\n",
    "    .map(lambda machine: machine[1]) \\\n",
    "\n",
    "for e in machines_history.take(10):\n",
    "    print(tabulate(e))\n",
    "\n"
   ]
  },
  {
   "cell_type": "code",
   "execution_count": 52,
   "metadata": {},
   "outputs": [
    {
     "data": {
      "text/plain": [
       "0"
      ]
     },
     "execution_count": 52,
     "metadata": {},
     "output_type": "execute_result"
    }
   ],
   "source": [
    "machines_history.filter(lambda m: sorted(m)).count() - machines_history.count()"
   ]
  },
  {
   "cell_type": "markdown",
   "metadata": {},
   "source": [
    "The trace period starts at 600 seconds (aka $6 \\times 10^{8}$ microseconds), to obtain the total trace time, we find the latest event time and subtracted $6 \\times 10^{8}$ to it."
   ]
  },
  {
   "cell_type": "code",
   "execution_count": 40,
   "metadata": {},
   "outputs": [
    {
     "name": "stdout",
     "output_type": "stream",
     "text": [
      "The total trace time is 2505535493517 µs ≈ 696 hours ≈ 29 days\n"
     ]
    }
   ],
   "source": [
    "from math import ceil\n",
    "\n",
    "total_trace_time = machine_events.max(lambda row: row[time])[time] - 6*10**8\n",
    "\n",
    "print(f'The total trace time is {total_trace_time} µs ≈ {ceil(total_trace_time/(10**6 * 3600))} hours ≈ {ceil(total_trace_time/(10**6 * 3600 * 24))} days')"
   ]
  },
  {
   "cell_type": "markdown",
   "metadata": {},
   "source": [
    "Once we have this number, computing the total computation power of a given machine is a matter of subtracting the starting time of the machine and multiplying by the CPU capacity. We assume here that the CPU capacity of a machine never changes, and we remove the machines that have some cpu values at None to prevent weird events."
   ]
  },
  {
   "cell_type": "code",
   "execution_count": 102,
   "metadata": {},
   "outputs": [
    {
     "name": "stdout",
     "output_type": "stream",
     "text": [
      "There are 32 machines with None values in their CPUs. They will not be evaluated.\n",
      "During the trace time, around 0.4798% of the computational power was lost.\n",
      "The exact percentage obtained is 0.4798129882918588% !\n"
     ]
    }
   ],
   "source": [
    "def lost_and_total_power(events):\n",
    "    # Functions and Variables\n",
    "    status = machine_events_get['event type']\n",
    "    time = machine_events_get['time']\n",
    "    start = time(events[0])\n",
    "    cpu = machine_events_get['CPUs'](events[0])\n",
    "\n",
    "    # Lost time\n",
    "    lost_time = 0\n",
    "    for i,m in enumerate(events):\n",
    "        if i==0:\n",
    "            continue\n",
    "        if status(m)==0 and status(events[i-1])==1:\n",
    "            lost_time += time(m) - time(events[i-1])\n",
    "        \n",
    "    # Total time\n",
    "    total_time = total_trace_time if (start < 6*10**8) else (total_trace_time - start + 6*10**8)\n",
    "\n",
    "    # Resulting power\n",
    "    return (lost_time*cpu,total_time*cpu)\n",
    "\n",
    "def has_none_cpu(events):\n",
    "    cpu = machine_events_get['CPUs']\n",
    "    for m in events:\n",
    "        if cpu(m) is None:\n",
    "            return True\n",
    "    return False\n",
    "\n",
    "print(f'There are {machines_history.filter(has_none_cpu).count()} machines with None values in their CPUs. They will not be evaluated.')\n",
    "\n",
    "power_lost_and_total = machines_history.filter(lambda m: not has_none_cpu(m)).map(lost_and_total_power).reduce(lambda p1,p2: (p1[0]+p2[0],p1[1]+p2[1]))\n",
    "print(f'During the trace time, around {(power_lost_and_total[0]/power_lost_and_total[1])*100:.4f}% of the computational power was lost.\\\n",
    "\\nThe exact percentage obtained is {(power_lost_and_total[0]/power_lost_and_total[1])*100}% !')\n"
   ]
  },
  {
   "cell_type": "markdown",
   "metadata": {},
   "source": [
    "## Appendix"
   ]
  },
  {
   "cell_type": "markdown",
   "metadata": {},
   "source": [
    "### With DataFrames\n",
    "\n",
    "It would be nice to have the tabular methods provided by DataFrames. Fortunately, Spark offers a DataFrame API, through their Spark SQL. To [load a CSV as a DataFrame](https://spark.apache.org/docs/latest/api/python/reference/pyspark.sql/api/pyspark.sql.DataFrameReader.csv.html#pyspark.sql.DataFrameReader.csv),"
   ]
  },
  {
   "cell_type": "code",
   "execution_count": null,
   "metadata": {},
   "outputs": [],
   "source": [
    "from pyspark.sql.types import StructType, StructField\n",
    "from pyspark.sql.types import StringType, FloatType, IntegerType, LongType\n",
    "field_to_spark_type = {\n",
    "    'time': LongType,\n",
    "    'machine ID': LongType,\n",
    "    'event type': IntegerType,\n",
    "    'platform ID': StringType,\n",
    "    'CPUs': FloatType,\n",
    "    'Memory': FloatType\n",
    "}\n",
    "machine_events_schema = StructType([\n",
    "    StructField(field['content'].replace(' ', '_'), field_to_spark_type[field['content']](), field['mandatory']) for field in schemas['machine_events']['fields']\n",
    "])\n",
    "\n",
    "machine_events = spark.read \\\n",
    "    .format('csv') \\\n",
    "    .option(\"header\",\"true\") \\\n",
    "    .schema(machine_events_schema) \\\n",
    "    .load(\"../data/machine_events/part-00000-of-00001.csv\")"
   ]
  },
  {
   "cell_type": "markdown",
   "metadata": {},
   "source": [
    "Let us check that the schema is as we expect"
   ]
  },
  {
   "cell_type": "code",
   "execution_count": null,
   "metadata": {},
   "outputs": [
    {
     "ename": "NameError",
     "evalue": "name 'machine_events' is not defined",
     "output_type": "error",
     "traceback": [
      "\u001b[0;31m---------------------------------------------------------------------------\u001b[0m\n",
      "\u001b[0;31mNameError\u001b[0m                                 Traceback (most recent call last)\n",
      "Cell \u001b[0;32mIn[5], line 1\u001b[0m\n",
      "\u001b[0;32m----> 1\u001b[0m machine_events\u001b[39m.\u001b[39mprintSchema()\n",
      "\n",
      "\u001b[0;31mNameError\u001b[0m: name 'machine_events' is not defined"
     ]
    }
   ],
   "source": [
    "machine_events.printSchema()"
   ]
  },
  {
   "cell_type": "markdown",
   "metadata": {},
   "source": [
    "And inspect the first few data"
   ]
  },
  {
   "cell_type": "code",
   "execution_count": null,
   "metadata": {},
   "outputs": [],
   "source": [
    "for elem in machine_events.take(5):\n",
    "\tprint(elem.asDict())"
   ]
  },
  {
   "cell_type": "markdown",
   "metadata": {},
   "source": [
    "How much events do we have?"
   ]
  },
  {
   "cell_type": "code",
   "execution_count": null,
   "metadata": {},
   "outputs": [],
   "source": [
    "machine_events.count(), machine_events.filter(machine_events.event_type == 1).count(),machine_events.filter(machine_events.event_type == 2).count()"
   ]
  },
  {
   "cell_type": "code",
   "execution_count": null,
   "metadata": {},
   "outputs": [],
   "source": [
    "machine_events.filter(machine_events.event_type == 0).CPUs"
   ]
  }
 ],
 "metadata": {
  "kernelspec": {
   "display_name": "Python 3.10.6 ('SparkProject-DTXSDDnr')",
   "language": "python",
   "name": "python3"
  },
  "language_info": {
   "codemirror_mode": {
    "name": "ipython",
    "version": 3
   },
   "file_extension": ".py",
   "mimetype": "text/x-python",
   "name": "python",
   "nbconvert_exporter": "python",
   "pygments_lexer": "ipython3",
   "version": "3.10.6"
  },
  "orig_nbformat": 4,
  "vscode": {
   "interpreter": {
    "hash": "cf96d2e1563c5703f4751942328699d80d1199668a3d2612f12bdd9a534862d2"
   }
  }
 },
 "nbformat": 4,
 "nbformat_minor": 2
}
