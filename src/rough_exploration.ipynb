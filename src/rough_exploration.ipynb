{
 "cells": [
  {
   "cell_type": "markdown",
   "metadata": {},
   "source": [
    "# Exploratory code\n",
    "\n",
    "The software in this file represents some of our explorations and experiments that were used to make our final analysis."
   ]
  },
  {
   "cell_type": "markdown",
   "metadata": {},
   "source": [
    "## Parsing the schema file"
   ]
  },
  {
   "cell_type": "code",
   "execution_count": 1,
   "metadata": {},
   "outputs": [],
   "source": [
    "from schema import Schema\n",
    "from tabulate import tabulate\n",
    "from importlib import reload"
   ]
  },
  {
   "cell_type": "code",
   "execution_count": 2,
   "metadata": {},
   "outputs": [
    {
     "name": "stdout",
     "output_type": "stream",
     "text": [
      "\n",
      "#########################################################################\n",
      "job_events (job_events/part-?????-of-?????.csv.gz):\n",
      "  field number  content           format       mandatory    formatter\n",
      "--------------  ----------------  -----------  -----------  ----------------------------------------------------------------\n",
      "             0  time              INTEGER      True         <function parse_schema_line.<locals>.<lambda> at 0x7f24d907b370>\n",
      "             1  missing info      INTEGER      False        <function parse_schema_line.<locals>.<lambda> at 0x7f24d907ac20>\n",
      "             2  job ID            INTEGER      True         <function parse_schema_line.<locals>.<lambda> at 0x7f24d907aef0>\n",
      "             3  event type        INTEGER      True         <function parse_schema_line.<locals>.<lambda> at 0x7f24d912fac0>\n",
      "             4  user              STRING_HASH  False        <function parse_schema_line.<locals>.<lambda> at 0x7f24d907b400>\n",
      "             5  scheduling class  INTEGER      False        <function parse_schema_line.<locals>.<lambda> at 0x7f24d912fa30>\n",
      "             6  job name          STRING_HASH  False        <function parse_schema_line.<locals>.<lambda> at 0x7f24d912fc70>\n",
      "             7  logical job name  STRING_HASH  False        <function parse_schema_line.<locals>.<lambda> at 0x7f24d912fd00>\n",
      "#########################################################################\n",
      "task_events (task_events/part-?????-of-?????.csv.gz):\n",
      "  field number  content                         format       mandatory    formatter\n",
      "--------------  ------------------------------  -----------  -----------  ----------------------------------------------------------------\n",
      "             0  time                            INTEGER      True         <function parse_schema_line.<locals>.<lambda> at 0x7f24d912fb50>\n",
      "             1  missing info                    INTEGER      False        <function parse_schema_line.<locals>.<lambda> at 0x7f24d912fbe0>\n",
      "             2  job ID                          INTEGER      True         <function parse_schema_line.<locals>.<lambda> at 0x7f24d912fd90>\n",
      "             3  task index                      INTEGER      True         <function parse_schema_line.<locals>.<lambda> at 0x7f24d912fe20>\n",
      "             4  machine ID                      INTEGER      False        <function parse_schema_line.<locals>.<lambda> at 0x7f24d912ff40>\n",
      "             5  event type                      INTEGER      True         <function parse_schema_line.<locals>.<lambda> at 0x7f24b7f0c0d0>\n",
      "             6  user                            STRING_HASH  False        <function parse_schema_line.<locals>.<lambda> at 0x7f24d912feb0>\n",
      "             7  scheduling class                INTEGER      False        <function parse_schema_line.<locals>.<lambda> at 0x7f24b7f0c040>\n",
      "             8  priority                        INTEGER      True         <function parse_schema_line.<locals>.<lambda> at 0x7f24b7f0c160>\n",
      "             9  CPU request                     FLOAT        False        <function parse_schema_line.<locals>.<lambda> at 0x7f24b7f0c280>\n",
      "            10  memory request                  FLOAT        False        <function parse_schema_line.<locals>.<lambda> at 0x7f24b7f0c310>\n",
      "            11  disk space request              FLOAT        False        <function parse_schema_line.<locals>.<lambda> at 0x7f24b7f0c3a0>\n",
      "            12  different machines restriction  BOOLEAN      False        <function parse_schema_line.<locals>.<lambda> at 0x7f24b7f0c550>\n",
      "#########################################################################\n",
      "machine_events (machine_events/part-00000-of-00001.csv.gz):\n",
      "  field number  content      format       mandatory    formatter\n",
      "--------------  -----------  -----------  -----------  ----------------------------------------------------------------\n",
      "             0  time         INTEGER      True         <function parse_schema_line.<locals>.<lambda> at 0x7f24b7f0c1f0>\n",
      "             1  machine ID   INTEGER      True         <function parse_schema_line.<locals>.<lambda> at 0x7f24b7f0c4c0>\n",
      "             2  event type   INTEGER      True         <function parse_schema_line.<locals>.<lambda> at 0x7f24b7f0c430>\n",
      "             3  platform ID  STRING_HASH  False        <function parse_schema_line.<locals>.<lambda> at 0x7f24b7f0c700>\n",
      "             4  CPUs         FLOAT        False        <function parse_schema_line.<locals>.<lambda> at 0x7f24b7f0c5e0>\n",
      "             5  Memory       FLOAT        False        <function parse_schema_line.<locals>.<lambda> at 0x7f24b7f0c790>\n",
      "#########################################################################\n",
      "machine_attributes (machine_attributes/part-00000-of-00001.csv.gz):\n",
      "  field number  content            format                  mandatory    formatter\n",
      "--------------  -----------------  ----------------------  -----------  ----------------------------------------------------------------\n",
      "             0  time               INTEGER                 True         <function parse_schema_line.<locals>.<lambda> at 0x7f24b7f0c670>\n",
      "             1  machine ID         INTEGER                 True         <function parse_schema_line.<locals>.<lambda> at 0x7f24b7f0c820>\n",
      "             2  attribute name     STRING_HASH             True         <function parse_schema_line.<locals>.<lambda> at 0x7f24b7f0c9d0>\n",
      "             3  attribute value    STRING_HASH_OR_INTEGER  False        <function string_hash_or_integer at 0x7f24d907a680>\n",
      "             4  attribute deleted  BOOLEAN                 True         <function parse_schema_line.<locals>.<lambda> at 0x7f24b7f0ca60>\n",
      "#########################################################################\n",
      "task_constraints (task_constraints/part-?????-of-?????.csv.gz):\n",
      "  field number  content              format                  mandatory    formatter\n",
      "--------------  -------------------  ----------------------  -----------  ----------------------------------------------------------------\n",
      "             0  time                 INTEGER                 True         <function parse_schema_line.<locals>.<lambda> at 0x7f24b7f0c8b0>\n",
      "             1  job ID               INTEGER                 True         <function parse_schema_line.<locals>.<lambda> at 0x7f24b7f0caf0>\n",
      "             2  task index           INTEGER                 True         <function parse_schema_line.<locals>.<lambda> at 0x7f24b7f0c940>\n",
      "             3  comparison operator  INTEGER                 True         <function parse_schema_line.<locals>.<lambda> at 0x7f24b7f0cb80>\n",
      "             4  attribute name       STRING_HASH             True         <function parse_schema_line.<locals>.<lambda> at 0x7f24b7f0cd30>\n",
      "             5  attribute value      STRING_HASH_OR_INTEGER  False        <function string_hash_or_integer at 0x7f24d907a680>\n",
      "#########################################################################\n",
      "task_usage (task_usage/part-?????-of-?????.csv.gz):\n",
      "  field number  content                          format    mandatory    formatter\n",
      "--------------  -------------------------------  --------  -----------  ----------------------------------------------------------------\n",
      "             0  start time                       INTEGER   True         <function parse_schema_line.<locals>.<lambda> at 0x7f24b7f0cc10>\n",
      "             1  end time                         INTEGER   True         <function parse_schema_line.<locals>.<lambda> at 0x7f24b7f0cca0>\n",
      "             2  job ID                           INTEGER   True         <function parse_schema_line.<locals>.<lambda> at 0x7f24b7f0ce50>\n",
      "             3  task index                       INTEGER   True         <function parse_schema_line.<locals>.<lambda> at 0x7f24b7f0cdc0>\n",
      "             4  machine ID                       INTEGER   True         <function parse_schema_line.<locals>.<lambda> at 0x7f24b7f0cee0>\n",
      "             5  CPU rate                         FLOAT     False        <function parse_schema_line.<locals>.<lambda> at 0x7f24b7f0d000>\n",
      "             6  canonical memory usage           FLOAT     False        <function parse_schema_line.<locals>.<lambda> at 0x7f24b7f0d090>\n",
      "             7  assigned memory usage            FLOAT     False        <function parse_schema_line.<locals>.<lambda> at 0x7f24b7f0d120>\n",
      "             8  unmapped page cache              FLOAT     False        <function parse_schema_line.<locals>.<lambda> at 0x7f24b7f0d1b0>\n",
      "             9  total page cache                 FLOAT     False        <function parse_schema_line.<locals>.<lambda> at 0x7f24b7f0d240>\n",
      "            10  maximum memory usage             FLOAT     False        <function parse_schema_line.<locals>.<lambda> at 0x7f24b7f0d2d0>\n",
      "            11  disk I/O time                    FLOAT     False        <function parse_schema_line.<locals>.<lambda> at 0x7f24b7f0d360>\n",
      "            12  local disk space usage           FLOAT     False        <function parse_schema_line.<locals>.<lambda> at 0x7f24b7f0d3f0>\n",
      "            13  maximum CPU rate                 FLOAT     False        <function parse_schema_line.<locals>.<lambda> at 0x7f24b7f0d480>\n",
      "            14  maximum disk IO time             FLOAT     False        <function parse_schema_line.<locals>.<lambda> at 0x7f24b7f0d510>\n",
      "            15  cycles per instruction           FLOAT     False        <function parse_schema_line.<locals>.<lambda> at 0x7f24b7f0d5a0>\n",
      "            16  memory accesses per instruction  FLOAT     False        <function parse_schema_line.<locals>.<lambda> at 0x7f24b7f0d630>\n",
      "            17  sample portion                   FLOAT     False        <function parse_schema_line.<locals>.<lambda> at 0x7f24b7f0d6c0>\n",
      "            18  aggregation type                 BOOLEAN   False        <function parse_schema_line.<locals>.<lambda> at 0x7f24b7f0d870>\n",
      "            19  sampled CPU usage                FLOAT     False        <function parse_schema_line.<locals>.<lambda> at 0x7f24b7f0d7e0>\n"
     ]
    }
   ],
   "source": [
    "schema = Schema(\"../data/schema.csv\")\n",
    "print(schema)"
   ]
  },
  {
   "cell_type": "markdown",
   "metadata": {},
   "source": [
    "## Starting Spark"
   ]
  },
  {
   "cell_type": "code",
   "execution_count": 3,
   "metadata": {},
   "outputs": [
    {
     "name": "stdout",
     "output_type": "stream",
     "text": [
      "22/12/13 17:22:14 WARN Utils: Your hostname, Kixus-k resolves to a loopback address: 127.0.1.1; using 130.190.51.188 instead (on interface wlp4s0)\n",
      "22/12/13 17:22:14 WARN Utils: Set SPARK_LOCAL_IP if you need to bind to another address\n"
     ]
    },
    {
     "name": "stderr",
     "output_type": "stream",
     "text": [
      "Setting default log level to \"WARN\".\n",
      "To adjust logging level use sc.setLogLevel(newLevel). For SparkR, use setLogLevel(newLevel).\n"
     ]
    },
    {
     "name": "stdout",
     "output_type": "stream",
     "text": [
      "22/12/13 17:22:14 WARN NativeCodeLoader: Unable to load native-hadoop library for your platform... using builtin-java classes where applicable\n"
     ]
    }
   ],
   "source": [
    "from pyspark import SparkContext\n",
    "\n",
    "# start spark with 1 worker thread\n",
    "sc = SparkContext(\"local[*]\")\n",
    "sc.setLogLevel(\"ERROR\")"
   ]
  },
  {
   "cell_type": "markdown",
   "metadata": {},
   "source": [
    "## Analysis on machine events\n",
    "\n",
    "This file describes events that occurred to the machines in the cluster, as well as their specifications (initial events).\n",
    "\n",
    "First, let us see the schema of this file's data:"
   ]
  },
  {
   "cell_type": "code",
   "execution_count": 4,
   "metadata": {},
   "outputs": [
    {
     "name": "stdout",
     "output_type": "stream",
     "text": [
      "  field number  content      format       mandatory    formatter\n",
      "--------------  -----------  -----------  -----------  ----------------------------------------------------------------\n",
      "             0  time         INTEGER      True         <function parse_schema_line.<locals>.<lambda> at 0x7f24b7f0c1f0>\n",
      "             1  machine ID   INTEGER      True         <function parse_schema_line.<locals>.<lambda> at 0x7f24b7f0c4c0>\n",
      "             2  event type   INTEGER      True         <function parse_schema_line.<locals>.<lambda> at 0x7f24b7f0c430>\n",
      "             3  platform ID  STRING_HASH  False        <function parse_schema_line.<locals>.<lambda> at 0x7f24b7f0c700>\n",
      "             4  CPUs         FLOAT        False        <function parse_schema_line.<locals>.<lambda> at 0x7f24b7f0c5e0>\n",
      "             5  Memory       FLOAT        False        <function parse_schema_line.<locals>.<lambda> at 0x7f24b7f0c790>\n"
     ]
    }
   ],
   "source": [
    "print(tabulate(schema.get_table_schema('machine_events')['fields'],headers='keys'))"
   ]
  },
  {
   "cell_type": "markdown",
   "metadata": {},
   "source": [
    "### Machine Event RDD"
   ]
  },
  {
   "cell_type": "code",
   "execution_count": 5,
   "metadata": {},
   "outputs": [
    {
     "name": "stderr",
     "output_type": "stream",
     "text": [
      "[Stage 0:>                                                          (0 + 1) / 1]\r"
     ]
    }
   ],
   "source": [
    "machine_events_get = schema.field_getters('machine_events')\n",
    "machine_events = schema.load_rdd(sc,'machine_events')\n",
    "machine_events.cache()\n",
    "\n",
    "for elem in machine_events.take(5):\n",
    "\tprint(elem)"
   ]
  },
  {
   "cell_type": "markdown",
   "metadata": {},
   "source": [
    "### Distribution of CPU usage (Q1)\n",
    "\n",
    "For the following, we only account for the machine creation events. We note that this method could count a given machine more than once, should it happen to be added more than once (and removed in-between) or modified.\n",
    "\n",
    "Distribution of machine capacity based on their CPU power:"
   ]
  },
  {
   "cell_type": "code",
   "execution_count": null,
   "metadata": {},
   "outputs": [],
   "source": [
    "from operator import add\n",
    "\n",
    "cpu = machine_events_get['CPUs']\n",
    "event = machine_events_get['event type']\n",
    "machine_id = machine_events_get['machine ID']\n",
    "time = machine_events_get['time']\n",
    "\n",
    "cpu_usage = machine_events \\\n",
    "    .filter(lambda row: event(row) == 0 and cpu(row) is not None) \\\n",
    "    .map(lambda row: (machine_id(row),row)) \\\n",
    "    .reduceByKey(lambda r1,r2: r1 if time(r1)>time(r2) else r2) \\\n",
    "    .map(lambda row: (cpu(row[1]), 1)) \\\n",
    "    .reduceByKey(add) \\\n",
    "    .sortBy(lambda x: x[0])\n",
    "\n",
    "for usage,nb in cpu_usage.collect():\n",
    "    print(f\"{nb} machines have CPU {usage}\")\n"
   ]
  },
  {
   "cell_type": "code",
   "execution_count": null,
   "metadata": {},
   "outputs": [],
   "source": [
    "import matplotlib.pyplot as plt\n",
    "fig = plt.figure()\n",
    "ax = fig.add_axes([0,0,1,1])\n",
    "legend = cpu_usage.map(lambda x: str(x[0]) if x[0] is not None else 'None').collect()\n",
    "count = cpu_usage.sortByKey().map(lambda x: x[1]).collect()\n",
    "ax.bar(legend,count)\n",
    "plt.show()"
   ]
  },
  {
   "cell_type": "markdown",
   "metadata": {},
   "source": [
    "### Lost Computational Power"
   ]
  },
  {
   "cell_type": "code",
   "execution_count": null,
   "metadata": {},
   "outputs": [],
   "source": [
    "machines_history = machine_events \\\n",
    "    .map(lambda row: (machine_id(row),row)) \\\n",
    "    .aggregateByKey(None,lambda acc, e: acc+[e] if acc is not None else [e],add) \\\n",
    "    .map(lambda machine: machine[1]) \\\n",
    "\n",
    "for e in machines_history.take(10):\n",
    "    print(tabulate(e))"
   ]
  },
  {
   "cell_type": "code",
   "execution_count": null,
   "metadata": {},
   "outputs": [],
   "source": [
    "machines_history.filter(lambda m: sorted(m)).count() - machines_history.count()"
   ]
  },
  {
   "cell_type": "markdown",
   "metadata": {},
   "source": [
    "The trace period starts at 600 seconds (aka $6 \\times 10^{8}$ microseconds), to obtain the total trace time, we find the latest event time and subtracted $6 \\times 10^{8}$ to it."
   ]
  },
  {
   "cell_type": "code",
   "execution_count": null,
   "metadata": {},
   "outputs": [],
   "source": [
    "from math import ceil\n",
    "\n",
    "total_trace_time = time(machine_events.max(lambda row: time(row))) - 6*10**8\n",
    "\n",
    "print(f'The total trace time is {total_trace_time} µs ≈ {ceil(total_trace_time/(10**6 * 3600))} hours ≈ {ceil(total_trace_time/(10**6 * 3600 * 24))} days')"
   ]
  },
  {
   "cell_type": "markdown",
   "metadata": {},
   "source": [
    "Once we have this number, computing the total computation power of a given machine is a matter of subtracting the starting time of the machine and multiplying by the CPU capacity. We assume here that the CPU capacity of a machine never changes, and we remove the machines that have some cpu values at None to prevent weird events."
   ]
  },
  {
   "cell_type": "code",
   "execution_count": null,
   "metadata": {},
   "outputs": [],
   "source": [
    "def lost_and_total_power(events):\n",
    "    # Functions and Variables\n",
    "    status = machine_events_get['event type']\n",
    "    time = machine_events_get['time']\n",
    "    start = time(events[0])\n",
    "    cpu = machine_events_get['CPUs'](events[0])\n",
    "\n",
    "    # Lost time\n",
    "    lost_time = 0\n",
    "    for i,m in enumerate(events):\n",
    "        if i==0:\n",
    "            continue\n",
    "        if status(m)==0 and status(events[i-1])==1:\n",
    "            lost_time += time(m) - time(events[i-1])\n",
    "        \n",
    "    # Total time\n",
    "    total_time = total_trace_time if (start < 6*10**8) else (total_trace_time - start + 6*10**8)\n",
    "\n",
    "    # Resulting power\n",
    "    return (lost_time*cpu,total_time*cpu)\n",
    "\n",
    "def has_none_cpu(events):\n",
    "    cpu = machine_events_get['CPUs']\n",
    "    for m in events:\n",
    "        if cpu(m) is None:\n",
    "            return True\n",
    "    return False\n",
    "\n",
    "print(f'There are {machines_history.filter(has_none_cpu).count()} machines with None values in their CPUs. They will not be evaluated.')\n",
    "\n",
    "power_lost_and_total = machines_history \\\n",
    "    .filter(lambda m: not has_none_cpu(m)) \\\n",
    "    .map(lost_and_total_power) \\\n",
    "    .reduce(lambda p1,p2: (p1[0]+p2[0],p1[1]+p2[1]))\n",
    "\n",
    "print(f'During the trace time, around {(power_lost_and_total[0]/power_lost_and_total[1])*100:.4f}% of the computational power was lost.\\\n",
    "\\nThe exact percentage obtained is {(power_lost_and_total[0]/power_lost_and_total[1])*100}% !')\n"
   ]
  },
  {
   "cell_type": "markdown",
   "metadata": {},
   "source": [
    "## Distribution of jobs and tasks per scheduling class\n",
    "\n",
    "We will evaluate the distribution over **submitted** tasks and jobs. It also implies that we do not consider the distribution _over time_ but only within the _set_ of all submitted tasks and jobs.\n",
    "\n",
    "We could also consider the evolution of the scheduling class through time, looking at the event types UPDATE_PENDING and UPDATE_RUNNING. This is a different perspective where time is a key component."
   ]
  },
  {
   "cell_type": "markdown",
   "metadata": {},
   "source": [
    "### Studying jobs"
   ]
  },
  {
   "cell_type": "markdown",
   "metadata": {},
   "source": [
    "We start our analysis with jobs. They should be fewer, as there can be many tasks per job, but one job per task.\n",
    "\n",
    "Before all, the schema for the tables we will use:"
   ]
  },
  {
   "cell_type": "code",
   "execution_count": null,
   "metadata": {},
   "outputs": [],
   "source": [
    "print(tabulate(schema.get_table_schema('job_events')['fields'], headers='keys', maxcolwidths=40))"
   ]
  },
  {
   "cell_type": "markdown",
   "metadata": {},
   "source": [
    "First step, gather the events based on the task or job they refer to. We expect such lists of events to be small enough to be handled in regular python lists."
   ]
  },
  {
   "cell_type": "code",
   "execution_count": null,
   "metadata": {},
   "outputs": [],
   "source": [
    "job_events = schema.load_rdd(sc,'job_events')\n",
    "job_events.persist()\n",
    "\n",
    "job_events_get = schema.field_getters('job_events')\n",
    "\n",
    "print(tabulate(job_events.take(10)))"
   ]
  },
  {
   "cell_type": "markdown",
   "metadata": {},
   "source": [
    "We are interested in the job submission event, which is when they are assigned their (initial) scheduling class."
   ]
  },
  {
   "cell_type": "code",
   "execution_count": null,
   "metadata": {},
   "outputs": [],
   "source": [
    "# event type 0 = SUBMIT\n",
    "scheduling_events = job_events \\\n",
    "    .filter(lambda job_event: job_events_get['event type'](job_event) == 0)"
   ]
  },
  {
   "cell_type": "markdown",
   "metadata": {},
   "source": [
    "The documentation says that it is possible for a job to be submitted more than once, when it has evicted, failed or been killed but still is runnable (up to a maximal number of trials).\n",
    "\n",
    "Do we have any such situation ?"
   ]
  },
  {
   "cell_type": "code",
   "execution_count": null,
   "metadata": {},
   "outputs": [],
   "source": [
    "jobs_with_several_scheduling_classes = scheduling_events \\\n",
    "    .map(lambda job_event: (job_events_get['job ID'](job_event), \n",
    "                            [job_events_get['scheduling class'](job_event)])) \\\n",
    "    .reduceByKey(lambda event1, event2: event1 + event2) \\\n",
    "    .filter(lambda x: len(x[1]) > 1) \\\n",
    "    .count()\n",
    "\n",
    "print(f'{jobs_with_several_scheduling_classes} jobs have more than one scheduling class.')"
   ]
  },
  {
   "cell_type": "markdown",
   "metadata": {},
   "source": [
    "No.\n",
    "\n",
    "Let us then proceed with gathering the scheduling classes."
   ]
  },
  {
   "cell_type": "code",
   "execution_count": null,
   "metadata": {},
   "outputs": [],
   "source": [
    "job_scheduling_classes = scheduling_events \\\n",
    "    .map(lambda event: (job_events_get['scheduling class'](event), 1)) \\\n",
    "    .reduceByKey(add) \\\n",
    "    .collect()\n",
    "\n",
    "for scheduling_class in job_scheduling_classes:\n",
    "    print(scheduling_class)"
   ]
  },
  {
   "cell_type": "code",
   "execution_count": null,
   "metadata": {},
   "outputs": [],
   "source": [
    "def bar_plot_question3(scheduling_classes, title):\n",
    "    # TODO : make this into a proper function and put it in another file (plot.py ?)\n",
    "    fig = plt.figure()\n",
    "    ax = fig.add_axes([0,0,1,1])\n",
    "    scheduling_class = list(map(lambda x: x[0], scheduling_classes))\n",
    "    count = list(map(lambda x: x[1], scheduling_classes))\n",
    "    ax.bar(scheduling_class,count)\n",
    "    plt.xlabel(\"Scheduling classes\")\n",
    "    plt.ylabel(\"Number of jobs\")\n",
    "    plt.xticks(scheduling_class)\n",
    "    plt.title(title)\n",
    "    plt.show()\n",
    "\n",
    "bar_plot_question3(job_scheduling_classes, \"Distribution of scheduling classes for all submitted jobs\")"
   ]
  },
  {
   "cell_type": "markdown",
   "metadata": {},
   "source": [
    "### Repeating the analysis for tasks\n",
    "\n",
    "Let us now do the same analysis for all tasks, irrespective of which job they belong to.\n",
    "\n",
    "Starting with the schema of the tasks events table"
   ]
  },
  {
   "cell_type": "code",
   "execution_count": null,
   "metadata": {},
   "outputs": [],
   "source": [
    "task_events_get = schema.field_getters('task_events')\n",
    "\n",
    "print(tabulate(\n",
    "    schema.get_table_schema('task_events')['fields'], \n",
    "    headers='keys',\n",
    "    maxcolwidths=[None, 20, None, None, 40]))"
   ]
  },
  {
   "cell_type": "markdown",
   "metadata": {},
   "source": [
    "Then, we load the data and filter for submission events."
   ]
  },
  {
   "cell_type": "code",
   "execution_count": null,
   "metadata": {},
   "outputs": [],
   "source": [
    "task_events = schema.load_rdd(sc,'task_events').persist()\n",
    "\n",
    "task_submit_events = task_events.filter(\n",
    "    lambda task_event: task_events_get['event type'](task_event) == 0)\n",
    "\n",
    "# task_headers = map(lambda field: field['content'], task_events_schema['fields'])\n",
    "# print(tabulate(task_submit_events.take(5), headers=task_headers))\n",
    "for task_event in task_submit_events.take(5):\n",
    "    print(task_event)"
   ]
  },
  {
   "cell_type": "code",
   "execution_count": null,
   "metadata": {},
   "outputs": [],
   "source": [
    "tasks_with_several_scheduling_classes = task_submit_events \\\n",
    "    .map(lambda event: ((task_events_get['job ID'](event), task_events_get['task index'](event)), \n",
    "                        {task_events_get['scheduling class'](event)})) \\\n",
    "    .reduceByKey(lambda event1, event2: event1 | event2) \\\n",
    "    .filter(lambda x: len(x[1]) > 1)\n",
    "\n",
    "print(f'{tasks_with_several_scheduling_classes.count()} tasks have more than one scheduling class.')"
   ]
  },
  {
   "cell_type": "markdown",
   "metadata": {},
   "source": [
    "From this, we conclude that, as with jobs, no task has ever seen its scheduling class changed after being resubmitted (due to eviction, failure, kill)."
   ]
  },
  {
   "cell_type": "code",
   "execution_count": null,
   "metadata": {},
   "outputs": [],
   "source": [
    "task_scheduling_classes = task_submit_events \\\n",
    "    .map(lambda event: (task_events_get['scheduling class'](event), 1)) \\\n",
    "    .reduceByKey(add) \\\n",
    "    .collect()\n",
    "\n",
    "for scheduling_class in task_scheduling_classes:\n",
    "    print(scheduling_class)"
   ]
  },
  {
   "cell_type": "code",
   "execution_count": null,
   "metadata": {},
   "outputs": [],
   "source": [
    "bar_plot_question3(task_scheduling_classes, \"Distribution of scheduling classes for all submitted tasks\")"
   ]
  },
  {
   "cell_type": "markdown",
   "metadata": {},
   "source": [
    "## Relation between scheduling class and eviction of tasks"
   ]
  },
  {
   "cell_type": "code",
   "execution_count": null,
   "metadata": {},
   "outputs": [],
   "source": [
    "a_few = task_events \\\n",
    "    .filter(lambda event: task_events_get['event type'](event) == 2) \\\n",
    "    .map(lambda event: (task_events_get['scheduling class'](event), 1)) \\\n",
    "    .reduceByKey(add) \\\n",
    "    .sortBy(lambda x: x[0])\n",
    "\n",
    "for one in a_few.collect():\n",
    "    print(one)"
   ]
  },
  {
   "cell_type": "markdown",
   "metadata": {},
   "source": [
    "Tasks with lower scheduling class were evicted much more than those with higher scheduling class. Note that we chose to keep all eviction events, even when a single task is evicted several times.\n",
    "\n",
    "It matches the idea that latency-sensitive tasks, represented with higher scheduling classes, need to be interrupted (namely evicted) as little as possible, so that they can be completed soon."
   ]
  },
  {
   "attachments": {},
   "cell_type": "markdown",
   "metadata": {},
   "source": [
    "## Comparison of resource request and resource usage for tasks\n",
    "\n",
    "This topic requires to do the analysis for three different resources: CPU cores, RAM and disk space. To start with, and become acquainted with the question at hand, we start with the CPU."
   ]
  },
  {
   "attachments": {},
   "cell_type": "markdown",
   "metadata": {},
   "source": [
    "Tasks can specify resource requirements when SUBMITTED (0) and upon UPDATE_PENDING (7) and UPDATE_RUNNING (8) events. Do they actually update their resource requests ?"
   ]
  },
  {
   "cell_type": "code",
   "execution_count": null,
   "metadata": {},
   "outputs": [],
   "source": [
    "cpu_requests = task_events \\\n",
    "    .filter(lambda event: task_events_get['CPU request'](event) is not None) \\\n",
    "    .map(lambda event: ((task_events_get['job ID'](event), task_events_get['task index'](event)),\n",
    "        {task_events_get['CPU request'](event)})) \\\n",
    "    .reduceByKey(lambda cpu_request1, cpu_request2: cpu_request1 | cpu_request2)\n",
    "\n",
    "multiple_cpu_request = cpu_requests.filter(lambda event: len(event[1]) > 1)\n",
    "\n",
    "print(f\"There has been {multiple_cpu_request.count()} tasks changing their CPU resource request during their lifetime over a total of {cpu_requests.count()}, accounting for {multiple_cpu_request.count() / cpu_requests.count() * 100}%. Here is a sample of those:\")\n",
    "\n",
    "for req in multiple_cpu_request.take(5):\n",
    "    print(f\"- task {req[0]} requested the following CPU allocations: {req[1]}\")"
   ]
  },
  {
   "attachments": {},
   "cell_type": "markdown",
   "metadata": {},
   "source": [
    "Many tasks made more than one resource request in their lifetime."
   ]
  },
  {
   "attachments": {},
   "cell_type": "markdown",
   "metadata": {},
   "source": [
    "Let us also see when the CPU request is made. Is it only done at submit time or later ?"
   ]
  },
  {
   "cell_type": "code",
   "execution_count": null,
   "metadata": {},
   "outputs": [],
   "source": [
    "print(task_events.filter(lambda event: task_events_get['CPU request'](event) is not None) \\\n",
    "    .map(lambda event: ((task_events_get['job ID'](event), task_events_get['task index'](event)),\n",
    "        (task_events_get['event type'](event), task_events_get['time'](event)))) \\\n",
    "    .reduceByKey(lambda event1, event2: event1 if event1[1] < event2[1] else event2) \\\n",
    "    .map(lambda entry: entry[1][0]) \\\n",
    "    .countByValue())"
   ]
  },
  {
   "attachments": {},
   "cell_type": "markdown",
   "metadata": {},
   "source": [
    "We see that the vast majority of CPU requests are made at task submission. When it is not the case, the earliest CPU request is at scheduling. To our understanding, the SCHEDULE (1) event is caused by the system, not by the user, so we choose to only keep CPU requests defined at submission."
   ]
  },
  {
   "attachments": {},
   "cell_type": "markdown",
   "metadata": {},
   "source": [
    "Removing the tasks who make several different CPU requests."
   ]
  },
  {
   "cell_type": "code",
   "execution_count": null,
   "metadata": {},
   "outputs": [],
   "source": [
    "cpu_changing_events = task_events \\\n",
    "    .filter(lambda event: task_events_get['CPU request'](event) is not None) \\\n",
    "    .map(lambda event: ((task_events_get['job ID'](event), task_events_get['task index'](event)),\n",
    "        {task_events_get['event type'](event)})) \\\n",
    "    .reduceByKey(lambda cpu_request1, cpu_request2: cpu_request1 | cpu_request2) \\\n",
    "    .cache()\n",
    "\n",
    "for event in cpu_changing_events.map(lambda event: frozenset(event[1])).distinct().collect():\n",
    "    print(event)"
   ]
  },
  {
   "cell_type": "code",
   "execution_count": null,
   "metadata": {},
   "outputs": [],
   "source": [
    "task_events \\\n",
    "    .filter(lambda event: task_events_get['CPU request'](event) is not None and task_events_get['event type'](event) == 0) \\\n",
    "    .map(lambda event: ((task_events_get['job ID'](event), task_events_get['task index'](event)), 1)) \\\n",
    "    .reduceByKey(add) \\\n",
    "    .count()"
   ]
  },
  {
   "cell_type": "code",
   "execution_count": null,
   "metadata": {},
   "outputs": [],
   "source": [
    "cpu_requests = task_events \\\n",
    "    .filter(lambda event: task_events_get['CPU request'](event) is not None and task_events_get['event type'](event) == 0) \\\n",
    "    .map(lambda event: ((task_events_get['job ID'](event), task_events_get['task index'](event)),\n",
    "        task_events_get['CPU request'](event))) \\\n",
    "    .reduceByKey(lambda cpu1, cpu2: cpu1 if cpu1 == cpu2 else None) \\\n",
    "    .filter(lambda event: event[1] is not None) \\\n",
    "    .cache()"
   ]
  },
  {
   "attachments": {},
   "cell_type": "markdown",
   "metadata": {},
   "source": [
    "### Resource usage table\n",
    "\n",
    "The resource usage information is stored in its own table. We will have to learn to use it, and also to match its data with the task events.\n",
    "\n",
    "It is to be noted that resource measurement periods might overshoot after a task is killed. We might want to remove these parts of the measurements, if they prove problematic.\n",
    "\n",
    "The documentation for the data set also specifies how the maximum measurement data is aggregated (for sub-containers), and gives a field in the table for this information. I believe, for the sake of this work, that we can spare ourselves the extra mileage of using this field, and just consider that the measurements are accurate enough."
   ]
  },
  {
   "attachments": {},
   "cell_type": "markdown",
   "metadata": {},
   "source": [
    "First thing first, loading the related data set:"
   ]
  },
  {
   "cell_type": "code",
   "execution_count": null,
   "metadata": {},
   "outputs": [],
   "source": [
    "task_usage_get = schema.field_getters('task_usage')\n",
    "task_usage = schema.load_rdd(sc,'task_usage')\n",
    "task_usage.cache()\n",
    "\n",
    "for elem in task_usage.take(5):\n",
    "\tprint(elem)"
   ]
  },
  {
   "attachments": {},
   "cell_type": "markdown",
   "metadata": {},
   "source": [
    "Measurement records may be missing, not implying that a task is not running. Let us count how many such missing records there are, and how many tasks (ratio) are affected."
   ]
  },
  {
   "cell_type": "code",
   "execution_count": null,
   "metadata": {},
   "outputs": [],
   "source": [
    "resource_fields = [\n",
    "        'start time',\n",
    "        'end time',\n",
    "        'CPU rate',\n",
    "        # 'maximum CPU rate',\n",
    "        'canonical memory usage',\n",
    "        # 'maximum memory usage',\n",
    "        'local disk space usage'\n",
    "    ]\n",
    "\n",
    "def entry_converter(entry):\n",
    "    return tuple(task_usage_get[field](entry) for field in resource_fields)\n",
    "\n",
    "def aggregator(accumulator, resource_usage):\n",
    "    accumulator[0] += resource_usage[1]-resource_usage[0]\n",
    "    for i in range(2,len(resource_usage)):\n",
    "        accumulator[i-1] += resource_usage[0]*resource_usage[i]\n",
    "    return accumulator\n",
    "\n",
    "from operator import add\n",
    "def combiner(accumulator1, accumulator2):\n",
    "    return list(map(add, accumulator1, accumulator2))\n",
    "\n",
    "resources_per_task = task_usage \\\n",
    "    .map(lambda entry: ((task_usage_get['job ID'](entry), task_usage_get['task index'](entry)),\n",
    "        entry_converter(entry))) \\\n",
    "    .aggregateByKey([0,]*(len(resource_fields)-1), aggregator, combiner) \\\n",
    "    .cache()"
   ]
  },
  {
   "cell_type": "code",
   "execution_count": null,
   "metadata": {},
   "outputs": [],
   "source": [
    "print(f\"There are {resources_per_task.count()} tasks for which we have resource consumption data.\")"
   ]
  },
  {
   "cell_type": "code",
   "execution_count": null,
   "metadata": {},
   "outputs": [],
   "source": [
    "for entry in resources_per_task.take(1):\n",
    "    print(entry[0])\n",
    "    # print(entry[1])\n",
    "    for x in entry[1]:\n",
    "        print(x)"
   ]
  },
  {
   "cell_type": "code",
   "execution_count": null,
   "metadata": {},
   "outputs": [
    {
     "name": "stderr",
     "output_type": "stream",
     "text": [
      "                                                                                \r"
     ]
    }
   ],
   "source": [
    "joined = cpu_requests \\\n",
    "    .join(resources_per_task) \\\n",
    "    .map(lambda x: (x[1][0], *x[1][1])) \\\n",
    "    .sortBy(lambda x: x[0]) \\\n",
    "    .cache()"
   ]
  },
  {
   "cell_type": "code",
   "execution_count": null,
   "metadata": {},
   "outputs": [],
   "source": [
    "for x in joined.take(5):\n",
    "    print(x)"
   ]
  },
  {
   "cell_type": "code",
   "execution_count": null,
   "metadata": {},
   "outputs": [
    {
     "name": "stderr",
     "output_type": "stream",
     "text": [
      "                                                                                \r"
     ]
    },
    {
     "name": "stdout",
     "output_type": "stream",
     "text": [
      "(0.0, 352257600.0)\n",
      "(0.0, 370117800.0)\n",
      "(0.0, 14044680.0)\n",
      "(0.0, 1678494.0)\n",
      "(0.0, 151039200.0)\n",
      "(0.0, 582006000.0)\n",
      "(0.0, 34091700.0)\n",
      "(0.0, 26160630.0)\n",
      "(0.0, 2204178.0)\n",
      "(0.0, 199409400.0)\n"
     ]
    },
    {
     "data": {
      "image/png": "[encoded data removed]",
      "text/plain": [
       "<Figure size 640x480 with 1 Axes>"
      ]
     },
     "metadata": {},
     "output_type": "display_data"
    }
   ],
   "source": [
    "cpu_req_vs_coresec = joined.map(lambda x: (x[0],x[2])).collect()\n",
    "\n",
    "for elem in cpu_req_vs_coresec[:10]:\n",
    "    print(elem)\n",
    "\n",
    "plt.scatter(*zip(*cpu_req_vs_coresec))\n",
    "plt.yscale(\"log\")\n",
    "plt.show()"
   ]
  },
  {
   "cell_type": "code",
   "execution_count": null,
   "metadata": {},
   "outputs": [],
   "source": [
    "cpu_req_vs_core = joined.map(lambda x: (x[0],x[2]/x[1])).collect()"
   ]
  },
  {
   "cell_type": "code",
   "execution_count": 55,
   "metadata": {},
   "outputs": [
    {
     "name": "stderr",
     "output_type": "stream",
     "text": [
      "                                                                                \r"
     ]
    },
    {
     "name": "stdout",
     "output_type": "stream",
     "text": [
      "(0.0, 0.06907011764705882)\n",
      "(0.0, 0.07257211764705883)\n",
      "(0.0, 0.002753858823529412)\n",
      "(0.0, 0.0003291164705882353)\n",
      "(0.0, 0.029615529411764707)\n",
      "(0.0, 0.11411882352941176)\n",
      "(0.0, 0.0066846470588235295)\n",
      "(0.0, 0.005129535294117647)\n",
      "(0.0, 0.00043219176470588234)\n",
      "(0.0, 0.03909988235294118)\n"
     ]
    },
    {
     "ename": "KeyboardInterrupt",
     "evalue": "",
     "output_type": "error",
     "traceback": [
      "\u001b[0;31m---------------------------------------------------------------------------\u001b[0m",
      "\u001b[0;31mKeyboardInterrupt\u001b[0m                         Traceback (most recent call last)",
      "Cell \u001b[0;32mIn[55], line 7\u001b[0m\n\u001b[1;32m      4\u001b[0m     \u001b[39mprint\u001b[39m(elem)\n\u001b[1;32m      6\u001b[0m \u001b[39m# plt.scatter(*zip(*cpu_req_vs_core), s = [1, ]*len(cpu_req_vs_core))\u001b[39;00m\n\u001b[0;32m----> 7\u001b[0m plt\u001b[39m.\u001b[39;49mbar(\u001b[39m*\u001b[39;49m\u001b[39mzip\u001b[39;49m(\u001b[39m*\u001b[39;49mcpu_req_vs_core), width\u001b[39m=\u001b[39;49m\u001b[39m0.1\u001b[39;49m)\n\u001b[1;32m      8\u001b[0m plt\u001b[39m.\u001b[39mshow()\n",
      "File \u001b[0;32m~/.local/share/virtualenvs/5_SparkProject-Tuj_Du56/lib/python3.10/site-packages/matplotlib/pyplot.py:2367\u001b[0m, in \u001b[0;36mbar\u001b[0;34m(x, height, width, bottom, align, data, **kwargs)\u001b[0m\n\u001b[1;32m   2363\u001b[0m \u001b[39m@_copy_docstring_and_deprecators\u001b[39m(Axes\u001b[39m.\u001b[39mbar)\n\u001b[1;32m   2364\u001b[0m \u001b[39mdef\u001b[39;00m \u001b[39mbar\u001b[39m(\n\u001b[1;32m   2365\u001b[0m         x, height, width\u001b[39m=\u001b[39m\u001b[39m0.8\u001b[39m, bottom\u001b[39m=\u001b[39m\u001b[39mNone\u001b[39;00m, \u001b[39m*\u001b[39m, align\u001b[39m=\u001b[39m\u001b[39m'\u001b[39m\u001b[39mcenter\u001b[39m\u001b[39m'\u001b[39m,\n\u001b[1;32m   2366\u001b[0m         data\u001b[39m=\u001b[39m\u001b[39mNone\u001b[39;00m, \u001b[39m*\u001b[39m\u001b[39m*\u001b[39mkwargs):\n\u001b[0;32m-> 2367\u001b[0m     \u001b[39mreturn\u001b[39;00m gca()\u001b[39m.\u001b[39;49mbar(\n\u001b[1;32m   2368\u001b[0m         x, height, width\u001b[39m=\u001b[39;49mwidth, bottom\u001b[39m=\u001b[39;49mbottom, align\u001b[39m=\u001b[39;49malign,\n\u001b[1;32m   2369\u001b[0m         \u001b[39m*\u001b[39;49m\u001b[39m*\u001b[39;49m({\u001b[39m\"\u001b[39;49m\u001b[39mdata\u001b[39;49m\u001b[39m\"\u001b[39;49m: data} \u001b[39mif\u001b[39;49;00m data \u001b[39mis\u001b[39;49;00m \u001b[39mnot\u001b[39;49;00m \u001b[39mNone\u001b[39;49;00m \u001b[39melse\u001b[39;49;00m {}), \u001b[39m*\u001b[39;49m\u001b[39m*\u001b[39;49mkwargs)\n",
      "File \u001b[0;32m~/.local/share/virtualenvs/5_SparkProject-Tuj_Du56/lib/python3.10/site-packages/matplotlib/__init__.py:1423\u001b[0m, in \u001b[0;36m_preprocess_data.<locals>.inner\u001b[0;34m(ax, data, *args, **kwargs)\u001b[0m\n\u001b[1;32m   1420\u001b[0m \u001b[39m@functools\u001b[39m\u001b[39m.\u001b[39mwraps(func)\n\u001b[1;32m   1421\u001b[0m \u001b[39mdef\u001b[39;00m \u001b[39minner\u001b[39m(ax, \u001b[39m*\u001b[39margs, data\u001b[39m=\u001b[39m\u001b[39mNone\u001b[39;00m, \u001b[39m*\u001b[39m\u001b[39m*\u001b[39mkwargs):\n\u001b[1;32m   1422\u001b[0m     \u001b[39mif\u001b[39;00m data \u001b[39mis\u001b[39;00m \u001b[39mNone\u001b[39;00m:\n\u001b[0;32m-> 1423\u001b[0m         \u001b[39mreturn\u001b[39;00m func(ax, \u001b[39m*\u001b[39;49m\u001b[39mmap\u001b[39;49m(sanitize_sequence, args), \u001b[39m*\u001b[39;49m\u001b[39m*\u001b[39;49mkwargs)\n\u001b[1;32m   1425\u001b[0m     bound \u001b[39m=\u001b[39m new_sig\u001b[39m.\u001b[39mbind(ax, \u001b[39m*\u001b[39margs, \u001b[39m*\u001b[39m\u001b[39m*\u001b[39mkwargs)\n\u001b[1;32m   1426\u001b[0m     auto_label \u001b[39m=\u001b[39m (bound\u001b[39m.\u001b[39marguments\u001b[39m.\u001b[39mget(label_namer)\n\u001b[1;32m   1427\u001b[0m                   \u001b[39mor\u001b[39;00m bound\u001b[39m.\u001b[39mkwargs\u001b[39m.\u001b[39mget(label_namer))\n",
      "File \u001b[0;32m~/.local/share/virtualenvs/5_SparkProject-Tuj_Du56/lib/python3.10/site-packages/matplotlib/axes/_axes.py:2468\u001b[0m, in \u001b[0;36mAxes.bar\u001b[0;34m(self, x, height, width, bottom, align, **kwargs)\u001b[0m\n\u001b[1;32m   2466\u001b[0m     \u001b[39melse\u001b[39;00m:  \u001b[39m# horizontal\u001b[39;00m\n\u001b[1;32m   2467\u001b[0m         r\u001b[39m.\u001b[39msticky_edges\u001b[39m.\u001b[39mx\u001b[39m.\u001b[39mappend(l)\n\u001b[0;32m-> 2468\u001b[0m     \u001b[39mself\u001b[39;49m\u001b[39m.\u001b[39;49madd_patch(r)\n\u001b[1;32m   2469\u001b[0m     patches\u001b[39m.\u001b[39mappend(r)\n\u001b[1;32m   2471\u001b[0m \u001b[39mif\u001b[39;00m xerr \u001b[39mis\u001b[39;00m \u001b[39mnot\u001b[39;00m \u001b[39mNone\u001b[39;00m \u001b[39mor\u001b[39;00m yerr \u001b[39mis\u001b[39;00m \u001b[39mnot\u001b[39;00m \u001b[39mNone\u001b[39;00m:\n",
      "File \u001b[0;32m~/.local/share/virtualenvs/5_SparkProject-Tuj_Du56/lib/python3.10/site-packages/matplotlib/axes/_base.py:2415\u001b[0m, in \u001b[0;36m_AxesBase.add_patch\u001b[0;34m(self, p)\u001b[0m\n\u001b[1;32m   2413\u001b[0m \u001b[39mif\u001b[39;00m p\u001b[39m.\u001b[39mget_clip_path() \u001b[39mis\u001b[39;00m \u001b[39mNone\u001b[39;00m:\n\u001b[1;32m   2414\u001b[0m     p\u001b[39m.\u001b[39mset_clip_path(\u001b[39mself\u001b[39m\u001b[39m.\u001b[39mpatch)\n\u001b[0;32m-> 2415\u001b[0m \u001b[39mself\u001b[39;49m\u001b[39m.\u001b[39;49m_update_patch_limits(p)\n\u001b[1;32m   2416\u001b[0m \u001b[39mself\u001b[39m\u001b[39m.\u001b[39m_children\u001b[39m.\u001b[39mappend(p)\n\u001b[1;32m   2417\u001b[0m p\u001b[39m.\u001b[39m_remove_method \u001b[39m=\u001b[39m \u001b[39mself\u001b[39m\u001b[39m.\u001b[39m_children\u001b[39m.\u001b[39mremove\n",
      "File \u001b[0;32m~/.local/share/virtualenvs/5_SparkProject-Tuj_Du56/lib/python3.10/site-packages/matplotlib/axes/_base.py:2446\u001b[0m, in \u001b[0;36m_AxesBase._update_patch_limits\u001b[0;34m(self, patch)\u001b[0m\n\u001b[1;32m   2443\u001b[0m \u001b[39mif\u001b[39;00m \u001b[39mlen\u001b[39m(vertices):\n\u001b[1;32m   2444\u001b[0m     vertices \u001b[39m=\u001b[39m np\u001b[39m.\u001b[39mrow_stack(vertices)\n\u001b[0;32m-> 2446\u001b[0m patch_trf \u001b[39m=\u001b[39m patch\u001b[39m.\u001b[39;49mget_transform()\n\u001b[1;32m   2447\u001b[0m updatex, updatey \u001b[39m=\u001b[39m patch_trf\u001b[39m.\u001b[39mcontains_branch_seperately(\u001b[39mself\u001b[39m\u001b[39m.\u001b[39mtransData)\n\u001b[1;32m   2448\u001b[0m \u001b[39mif\u001b[39;00m \u001b[39mnot\u001b[39;00m (updatex \u001b[39mor\u001b[39;00m updatey):\n",
      "File \u001b[0;32m~/.local/share/virtualenvs/5_SparkProject-Tuj_Du56/lib/python3.10/site-packages/matplotlib/patches.py:262\u001b[0m, in \u001b[0;36mPatch.get_transform\u001b[0;34m(self)\u001b[0m\n\u001b[1;32m    260\u001b[0m \u001b[39mdef\u001b[39;00m \u001b[39mget_transform\u001b[39m(\u001b[39mself\u001b[39m):\n\u001b[1;32m    261\u001b[0m     \u001b[39m\"\"\"Return the `~.transforms.Transform` applied to the `Patch`.\"\"\"\u001b[39;00m\n\u001b[0;32m--> 262\u001b[0m     \u001b[39mreturn\u001b[39;00m \u001b[39mself\u001b[39;49m\u001b[39m.\u001b[39;49mget_patch_transform() \u001b[39m+\u001b[39m artist\u001b[39m.\u001b[39mArtist\u001b[39m.\u001b[39mget_transform(\u001b[39mself\u001b[39m)\n",
      "File \u001b[0;32m~/.local/share/virtualenvs/5_SparkProject-Tuj_Du56/lib/python3.10/site-packages/matplotlib/patches.py:753\u001b[0m, in \u001b[0;36mRectangle.get_patch_transform\u001b[0;34m(self)\u001b[0m\n\u001b[1;32m    751\u001b[0m \u001b[39melse\u001b[39;00m:\n\u001b[1;32m    752\u001b[0m     rotation_point \u001b[39m=\u001b[39m \u001b[39mself\u001b[39m\u001b[39m.\u001b[39mrotation_point\n\u001b[0;32m--> 753\u001b[0m \u001b[39mreturn\u001b[39;00m transforms\u001b[39m.\u001b[39;49mBboxTransformTo(bbox) \\\n\u001b[1;32m    754\u001b[0m         \u001b[39m+\u001b[39m transforms\u001b[39m.\u001b[39mAffine2D() \\\n\u001b[1;32m    755\u001b[0m         \u001b[39m.\u001b[39mtranslate(\u001b[39m-\u001b[39mrotation_point[\u001b[39m0\u001b[39m], \u001b[39m-\u001b[39mrotation_point[\u001b[39m1\u001b[39m]) \\\n\u001b[1;32m    756\u001b[0m         \u001b[39m.\u001b[39mscale(\u001b[39m1\u001b[39m, \u001b[39mself\u001b[39m\u001b[39m.\u001b[39m_aspect_ratio_correction) \\\n\u001b[1;32m    757\u001b[0m         \u001b[39m.\u001b[39mrotate_deg(\u001b[39mself\u001b[39m\u001b[39m.\u001b[39mangle) \\\n\u001b[1;32m    758\u001b[0m         \u001b[39m.\u001b[39mscale(\u001b[39m1\u001b[39m, \u001b[39m1\u001b[39m \u001b[39m/\u001b[39m \u001b[39mself\u001b[39m\u001b[39m.\u001b[39m_aspect_ratio_correction) \\\n\u001b[1;32m    759\u001b[0m         \u001b[39m.\u001b[39mtranslate(\u001b[39m*\u001b[39mrotation_point)\n",
      "File \u001b[0;32m~/.local/share/virtualenvs/5_SparkProject-Tuj_Du56/lib/python3.10/site-packages/matplotlib/transforms.py:2586\u001b[0m, in \u001b[0;36mBboxTransformTo.__init__\u001b[0;34m(self, boxout, **kwargs)\u001b[0m\n\u001b[1;32m   2579\u001b[0m \u001b[39m\"\"\"\u001b[39;00m\n\u001b[1;32m   2580\u001b[0m \u001b[39m`BboxTransformTo` is a transformation that linearly transforms points from\u001b[39;00m\n\u001b[1;32m   2581\u001b[0m \u001b[39mthe unit bounding box to a given `Bbox`.\u001b[39;00m\n\u001b[1;32m   2582\u001b[0m \u001b[39m\"\"\"\u001b[39;00m\n\u001b[1;32m   2584\u001b[0m is_separable \u001b[39m=\u001b[39m \u001b[39mTrue\u001b[39;00m\n\u001b[0;32m-> 2586\u001b[0m \u001b[39mdef\u001b[39;00m \u001b[39m__init__\u001b[39m(\u001b[39mself\u001b[39m, boxout, \u001b[39m*\u001b[39m\u001b[39m*\u001b[39mkwargs):\n\u001b[1;32m   2587\u001b[0m     \u001b[39m\"\"\"\u001b[39;00m\n\u001b[1;32m   2588\u001b[0m \u001b[39m    Create a new `BboxTransformTo` that linearly transforms\u001b[39;00m\n\u001b[1;32m   2589\u001b[0m \u001b[39m    points from the unit bounding box to *boxout*.\u001b[39;00m\n\u001b[1;32m   2590\u001b[0m \u001b[39m    \"\"\"\u001b[39;00m\n\u001b[1;32m   2591\u001b[0m     \u001b[39mif\u001b[39;00m \u001b[39mnot\u001b[39;00m boxout\u001b[39m.\u001b[39mis_bbox:\n",
      "\u001b[0;31mKeyboardInterrupt\u001b[0m: "
     ]
    }
   ],
   "source": [
    "for elem in cpu_req_vs_core[:10]:\n",
    "    print(elem)\n",
    "\n",
    "# plt.scatter(*zip(*cpu_req_vs_core), s = [1, ]*len(cpu_req_vs_core))\n",
    "plt.bar(*zip(*cpu_req_vs_core))\n",
    "plt.show()"
   ]
  },
  {
   "attachments": {},
   "cell_type": "markdown",
   "metadata": {},
   "source": [
    "This plot shows that, in general, tasks requiring more CPU are using less than the others."
   ]
  },
  {
   "cell_type": "markdown",
   "metadata": {},
   "source": [
    "## Appendix"
   ]
  },
  {
   "cell_type": "markdown",
   "metadata": {},
   "source": [
    "Alternate approach with SparkSQL, allowing the use of DataFrames:\n",
    "from pyspark.sql import SparkSession"
   ]
  },
  {
   "cell_type": "code",
   "execution_count": null,
   "metadata": {},
   "outputs": [],
   "source": [
    "from pyspark.sql import SparkSession\n",
    "\n",
    "spark = SparkSession.builder \\\n",
    "    .master(\"local(*]\") \\\n",
    "    .appName(\"Cluster analysis\") \\\n",
    "    .getOrCreate()"
   ]
  },
  {
   "cell_type": "markdown",
   "metadata": {},
   "source": [
    "### With DataFrames\n",
    "\n",
    "It would be nice to have the tabular methods provided by DataFrames. Fortunately, Spark offers a DataFrame API, through their Spark SQL. To [load a CSV as a DataFrame](https://spark.apache.org/docs/latest/api/python/reference/pyspark.sql/api/pyspark.sql.DataFrameReader.csv.html#pyspark.sql.DataFrameReader.csv),"
   ]
  },
  {
   "cell_type": "code",
   "execution_count": null,
   "metadata": {},
   "outputs": [],
   "source": [
    "from pyspark.sql.types import StructType, StructField\n",
    "from pyspark.sql.types import StringType, FloatType, IntegerType, LongType\n",
    "field_to_spark_type = {\n",
    "    'time': LongType,\n",
    "    'machine ID': LongType,\n",
    "    'event type': IntegerType,\n",
    "    'platform ID': StringType,\n",
    "    'CPUs': FloatType,\n",
    "    'Memory': FloatType\n",
    "}\n",
    "machine_events_schema = StructType([\n",
    "    StructField(field['content'].replace(' ', '_'), field_to_spark_type[field['content']](), field['mandatory']) for field in schemas['machine_events']['fields']\n",
    "])\n",
    "\n",
    "machine_events = spark.read \\\n",
    "    .format('csv') \\\n",
    "    .option(\"header\",\"true\") \\\n",
    "    .schema(machine_events_schema) \\\n",
    "    .load(\"../data/machine_events/part-00000-of-00001.csv\")"
   ]
  },
  {
   "cell_type": "markdown",
   "metadata": {},
   "source": [
    "Let us check that the schema is as we expect"
   ]
  },
  {
   "cell_type": "code",
   "execution_count": null,
   "metadata": {},
   "outputs": [],
   "source": [
    "machine_events.printSchema()"
   ]
  },
  {
   "cell_type": "markdown",
   "metadata": {},
   "source": [
    "And inspect the first few data"
   ]
  },
  {
   "cell_type": "code",
   "execution_count": null,
   "metadata": {},
   "outputs": [],
   "source": [
    "for elem in machine_events.take(5):\n",
    "\tprint(elem.asDict())"
   ]
  },
  {
   "cell_type": "markdown",
   "metadata": {},
   "source": [
    "How much events do we have?"
   ]
  },
  {
   "cell_type": "code",
   "execution_count": null,
   "metadata": {},
   "outputs": [],
   "source": [
    "machine_events.count(), machine_events.filter(machine_events.event_type == 1).count(),machine_events.filter(machine_events.event_type == 2).count()"
   ]
  },
  {
   "cell_type": "code",
   "execution_count": null,
   "metadata": {},
   "outputs": [],
   "source": [
    "machine_events.filter(machine_events.event_type == 0).CPUs"
   ]
  }
 ],
 "metadata": {
  "kernelspec": {
   "display_name": "5_SparkProject-Tuj_Du56",
   "language": "python",
   "name": "python3"
  },
  "language_info": {
   "codemirror_mode": {
    "name": "ipython",
    "version": 3
   },
   "file_extension": ".py",
   "mimetype": "text/x-python",
   "name": "python",
   "nbconvert_exporter": "python",
   "pygments_lexer": "ipython3",
   "version": "3.10.6"
  },
  "orig_nbformat": 4,
  "vscode": {
   "interpreter": {
    "hash": "f7ede0eb55671c30ba8a6f7c0b4ab1936479b84180dfb1e39512798d9c89e30c"
   }
  }
 },
 "nbformat": 4,
 "nbformat_minor": 2
}
