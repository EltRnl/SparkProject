{
 "cells": [
  {
   "cell_type": "markdown",
   "metadata": {},
   "source": [
    "# Exploratory code\n",
    "\n",
    "The software in this file represents some of our explorations and experiments that were used to make our final analysis."
   ]
  },
  {
   "cell_type": "markdown",
   "metadata": {},
   "source": [
    "## Parsing the schema file"
   ]
  },
  {
   "cell_type": "code",
   "execution_count": 1,
   "metadata": {},
   "outputs": [],
   "source": [
    "from schema import Schema\n",
    "from tabulate import tabulate\n",
    "from importlib import reload"
   ]
  },
  {
   "cell_type": "code",
   "execution_count": 3,
   "metadata": {},
   "outputs": [
    {
     "name": "stdout",
     "output_type": "stream",
     "text": [
      "\n",
      "#########################################################################\n",
      "job_events (job_events/part-?????-of-?????.csv.gz):\n",
      "  field number  content           format       mandatory    formatter\n",
      "--------------  ----------------  -----------  -----------  ----------------------------------------------------------------\n",
      "             0  time              INTEGER      True         <function parse_schema_line.<locals>.<lambda> at 0x7fa04ab72a70>\n",
      "             1  missing info      INTEGER      False        <function parse_schema_line.<locals>.<lambda> at 0x7fa04ab72b90>\n",
      "             2  job ID            INTEGER      True         <function parse_schema_line.<locals>.<lambda> at 0x7fa04ab72c20>\n",
      "             3  event type        INTEGER      True         <function parse_schema_line.<locals>.<lambda> at 0x7fa04ab72cb0>\n",
      "             4  user              STRING_HASH  False        <function parse_schema_line.<locals>.<lambda> at 0x7fa06919b1c0>\n",
      "             5  scheduling class  INTEGER      False        <function parse_schema_line.<locals>.<lambda> at 0x7fa04ab72b00>\n",
      "             6  job name          STRING_HASH  False        <function parse_schema_line.<locals>.<lambda> at 0x7fa04ab72e60>\n",
      "             7  logical job name  STRING_HASH  False        <function parse_schema_line.<locals>.<lambda> at 0x7fa04ab72ef0>\n",
      "#########################################################################\n",
      "task_events (task_events/part-?????-of-?????.csv.gz):\n",
      "  field number  content                         format       mandatory    formatter\n",
      "--------------  ------------------------------  -----------  -----------  ----------------------------------------------------------------\n",
      "             0  time                            INTEGER      True         <function parse_schema_line.<locals>.<lambda> at 0x7fa04ab72d40>\n",
      "             1  missing info                    INTEGER      False        <function parse_schema_line.<locals>.<lambda> at 0x7fa04ab72dd0>\n",
      "             2  job ID                          INTEGER      True         <function parse_schema_line.<locals>.<lambda> at 0x7fa04ab72f80>\n",
      "             3  task index                      INTEGER      True         <function parse_schema_line.<locals>.<lambda> at 0x7fa04ab73010>\n",
      "             4  machine ID                      INTEGER      False        <function parse_schema_line.<locals>.<lambda> at 0x7fa04ab730a0>\n",
      "             5  event type                      INTEGER      True         <function parse_schema_line.<locals>.<lambda> at 0x7fa04ab73130>\n",
      "             6  user                            STRING_HASH  False        <function parse_schema_line.<locals>.<lambda> at 0x7fa04ab732e0>\n",
      "             7  scheduling class                INTEGER      False        <function parse_schema_line.<locals>.<lambda> at 0x7fa04ab73250>\n",
      "             8  priority                        INTEGER      True         <function parse_schema_line.<locals>.<lambda> at 0x7fa04ab731c0>\n",
      "             9  CPU request                     FLOAT        False        <function parse_schema_line.<locals>.<lambda> at 0x7fa04ab73400>\n",
      "            10  memory request                  FLOAT        False        <function parse_schema_line.<locals>.<lambda> at 0x7fa04ab73490>\n",
      "            11  disk space request              FLOAT        False        <function parse_schema_line.<locals>.<lambda> at 0x7fa04ab73520>\n",
      "            12  different machines restriction  BOOLEAN      False        <function parse_schema_line.<locals>.<lambda> at 0x7fa04ab736d0>\n",
      "#########################################################################\n",
      "machine_events (machine_events/part-00000-of-00001.csv.gz):\n",
      "  field number  content      format       mandatory    formatter\n",
      "--------------  -----------  -----------  -----------  ----------------------------------------------------------------\n",
      "             0  time         INTEGER      True         <function parse_schema_line.<locals>.<lambda> at 0x7fa04ab73370>\n",
      "             1  machine ID   INTEGER      True         <function parse_schema_line.<locals>.<lambda> at 0x7fa04ab73640>\n",
      "             2  event type   INTEGER      True         <function parse_schema_line.<locals>.<lambda> at 0x7fa04ab735b0>\n",
      "             3  platform ID  STRING_HASH  False        <function parse_schema_line.<locals>.<lambda> at 0x7fa04ab73880>\n",
      "             4  CPUs         FLOAT        False        <function parse_schema_line.<locals>.<lambda> at 0x7fa04ab73760>\n",
      "             5  Memory       FLOAT        False        <function parse_schema_line.<locals>.<lambda> at 0x7fa04ab73910>\n",
      "#########################################################################\n",
      "machine_attributes (machine_attributes/part-00000-of-00001.csv.gz):\n",
      "  field number  content            format                  mandatory    formatter\n",
      "--------------  -----------------  ----------------------  -----------  ----------------------------------------------------------------\n",
      "             0  time               INTEGER                 True         <function parse_schema_line.<locals>.<lambda> at 0x7fa04ab737f0>\n",
      "             1  machine ID         INTEGER                 True         <function parse_schema_line.<locals>.<lambda> at 0x7fa04ab739a0>\n",
      "             2  attribute name     STRING_HASH             True         <function parse_schema_line.<locals>.<lambda> at 0x7fa04ab73b50>\n",
      "             3  attribute value    STRING_HASH_OR_INTEGER  False        <function string_hash_or_integer at 0x7fa0606fc8b0>\n",
      "             4  attribute deleted  BOOLEAN                 True         <function parse_schema_line.<locals>.<lambda> at 0x7fa04ab73be0>\n",
      "#########################################################################\n",
      "task_constraints (task_constraints/part-?????-of-?????.csv.gz):\n",
      "  field number  content              format                  mandatory    formatter\n",
      "--------------  -------------------  ----------------------  -----------  ----------------------------------------------------------------\n",
      "             0  time                 INTEGER                 True         <function parse_schema_line.<locals>.<lambda> at 0x7fa04ab73a30>\n",
      "             1  job ID               INTEGER                 True         <function parse_schema_line.<locals>.<lambda> at 0x7fa04ab73c70>\n",
      "             2  task index           INTEGER                 True         <function parse_schema_line.<locals>.<lambda> at 0x7fa04ab73ac0>\n",
      "             3  comparison operator  INTEGER                 True         <function parse_schema_line.<locals>.<lambda> at 0x7fa04ab73d00>\n",
      "             4  attribute name       STRING_HASH             True         <function parse_schema_line.<locals>.<lambda> at 0x7fa04ab73eb0>\n",
      "             5  attribute value      STRING_HASH_OR_INTEGER  False        <function string_hash_or_integer at 0x7fa0606fc8b0>\n",
      "#########################################################################\n",
      "task_usage (task_usage/part-?????-of-?????.csv.gz):\n",
      "  field number  content                          format    mandatory    formatter\n",
      "--------------  -------------------------------  --------  -----------  ----------------------------------------------------------------\n",
      "             0  start time                       INTEGER   True         <function parse_schema_line.<locals>.<lambda> at 0x7fa04ab73e20>\n",
      "             1  end time                         INTEGER   True         <function parse_schema_line.<locals>.<lambda> at 0x7fa04ab73d90>\n",
      "             2  job ID                           INTEGER   True         <function parse_schema_line.<locals>.<lambda> at 0x7fa04abe40d0>\n",
      "             3  task index                       INTEGER   True         <function parse_schema_line.<locals>.<lambda> at 0x7fa04abe4160>\n",
      "             4  machine ID                       INTEGER   True         <function parse_schema_line.<locals>.<lambda> at 0x7fa04abe41f0>\n",
      "             5  CPU rate                         FLOAT     False        <function parse_schema_line.<locals>.<lambda> at 0x7fa04abe4040>\n",
      "             6  canonical memory usage           FLOAT     False        <function parse_schema_line.<locals>.<lambda> at 0x7fa04abe4280>\n",
      "             7  assigned memory usage            FLOAT     False        <function parse_schema_line.<locals>.<lambda> at 0x7fa04abe4310>\n",
      "             8  unmapped page cache              FLOAT     False        <function parse_schema_line.<locals>.<lambda> at 0x7fa04abe43a0>\n",
      "             9  total page cache                 FLOAT     False        <function parse_schema_line.<locals>.<lambda> at 0x7fa04abe4430>\n",
      "            10  maximum memory usage             FLOAT     False        <function parse_schema_line.<locals>.<lambda> at 0x7fa04abe44c0>\n",
      "            11  disk I/O time                    FLOAT     False        <function parse_schema_line.<locals>.<lambda> at 0x7fa04abe4550>\n",
      "            12  local disk space usage           FLOAT     False        <function parse_schema_line.<locals>.<lambda> at 0x7fa04abe45e0>\n",
      "            13  maximum CPU rate                 FLOAT     False        <function parse_schema_line.<locals>.<lambda> at 0x7fa04abe4670>\n",
      "            14  maximum disk IO time             FLOAT     False        <function parse_schema_line.<locals>.<lambda> at 0x7fa04abe4700>\n",
      "            15  cycles per instruction           FLOAT     False        <function parse_schema_line.<locals>.<lambda> at 0x7fa04abe4790>\n",
      "            16  memory accesses per instruction  FLOAT     False        <function parse_schema_line.<locals>.<lambda> at 0x7fa04abe4820>\n",
      "            17  sample portion                   FLOAT     False        <function parse_schema_line.<locals>.<lambda> at 0x7fa04abe48b0>\n",
      "            18  aggregation type                 BOOLEAN   False        <function parse_schema_line.<locals>.<lambda> at 0x7fa04abe4a60>\n",
      "            19  sampled CPU usage                FLOAT     False        <function parse_schema_line.<locals>.<lambda> at 0x7fa04abe49d0>\n"
     ]
    }
   ],
   "source": [
    "schema = Schema(\"../data/schema.csv\")\n",
    "print(schema)"
   ]
  },
  {
   "cell_type": "markdown",
   "metadata": {},
   "source": [
    "## Starting Spark"
   ]
  },
  {
   "cell_type": "code",
   "execution_count": 4,
   "metadata": {},
   "outputs": [
    {
     "name": "stderr",
     "output_type": "stream",
     "text": [
      "Setting default log level to \"WARN\".\n",
      "To adjust logging level use sc.setLogLevel(newLevel). For SparkR, use setLogLevel(newLevel).\n"
     ]
    },
    {
     "name": "stdout",
     "output_type": "stream",
     "text": [
      "22/12/07 16:12:16 WARN NativeCodeLoader: Unable to load native-hadoop library for your platform... using builtin-java classes where applicable\n"
     ]
    }
   ],
   "source": [
    "from pyspark import SparkContext\n",
    "\n",
    "# start spark with 1 worker thread\n",
    "sc = SparkContext(\"local[*]\")\n",
    "sc.setLogLevel(\"ERROR\")"
   ]
  },
  {
   "cell_type": "markdown",
   "metadata": {},
   "source": [
    "## Analysis on machine events\n",
    "\n",
    "This file describes events that occurred to the machines in the cluster, as well as their specifications (initial events).\n",
    "\n",
    "First, let us see the schema of this file's data:"
   ]
  },
  {
   "cell_type": "code",
   "execution_count": null,
   "metadata": {},
   "outputs": [],
   "source": [
    "print(tabulate(schema.get_table_schema('machine_events')['fields'],headers='keys'))"
   ]
  },
  {
   "cell_type": "markdown",
   "metadata": {},
   "source": [
    "### Machine Event RDD"
   ]
  },
  {
   "cell_type": "code",
   "execution_count": 5,
   "metadata": {},
   "outputs": [
    {
     "name": "stdout",
     "output_type": "stream",
     "text": [
      "[0, 5, 0, 'HofLGzk1Or/8Ildj2+Lqv0UGGvY82NLoni8+J/Yy0RU=', 0.5, 0.2493]\n",
      "[0, 6, 0, 'HofLGzk1Or/8Ildj2+Lqv0UGGvY82NLoni8+J/Yy0RU=', 0.5, 0.2493]\n",
      "[0, 7, 0, 'HofLGzk1Or/8Ildj2+Lqv0UGGvY82NLoni8+J/Yy0RU=', 0.5, 0.2493]\n",
      "[0, 10, 0, 'HofLGzk1Or/8Ildj2+Lqv0UGGvY82NLoni8+J/Yy0RU=', 0.5, 0.2493]\n",
      "[0, 13, 0, 'HofLGzk1Or/8Ildj2+Lqv0UGGvY82NLoni8+J/Yy0RU=', 0.5, 0.2493]\n"
     ]
    },
    {
     "name": "stderr",
     "output_type": "stream",
     "text": [
      "                                                                                \r"
     ]
    }
   ],
   "source": [
    "machine_events_get = schema.field_getters('machine_events')\n",
    "machine_events = schema.load_rdd(sc,'machine_events')\n",
    "machine_events.cache()\n",
    "\n",
    "for elem in machine_events.take(5):\n",
    "\tprint(elem)"
   ]
  },
  {
   "cell_type": "markdown",
   "metadata": {},
   "source": [
    "### Distribution of CPU usage (Q1)\n",
    "\n",
    "For the following, we only account for the machine creation events. We note that this method could count a given machine more than once, should it happen to be added more than once (and removed in-between) or modified.\n",
    "\n",
    "Distribution of machine capacity based on their CPU power:"
   ]
  },
  {
   "cell_type": "code",
   "execution_count": 33,
   "metadata": {},
   "outputs": [
    {
     "name": "stderr",
     "output_type": "stream",
     "text": [
      "796 machines have CPU 1.0\n",
      "123 machines have CPU 0.25\n",
      "11636 machines have CPU 0.5\n"
     ]
    }
   ],
   "source": [
    "from operator import add\n",
    "\n",
    "cpu = machine_events_get['CPUs']\n",
    "event = machine_events_get['event type']\n",
    "machine_id = machine_events_get['machine ID']\n",
    "time = machine_events_get['time']\n",
    "\n",
    "cpu_usage = machine_events \\\n",
    "    .filter(lambda row: event(row) == 0 and cpu(row) is not None) \\\n",
    "    .map(lambda row: (machine_id(row),row)) \\\n",
    "    .reduceByKey(lambda r1,r2: r1 if time(r1)>time(r2) else r2) \\\n",
    "    .map(lambda row: (cpu(row[1]), 1)) \\\n",
    "    .reduceByKey(add) \\\n",
    "    .sortBy(lambda x: x[0])\n",
    "\n",
    "cpu_usage.foreach(lambda cpu: print(f\"{cpu[1]} machines have CPU {cpu[0]}\"))"
   ]
  },
  {
   "cell_type": "code",
   "execution_count": 34,
   "metadata": {},
   "outputs": [
    {
     "data": {
      "image/png": "[encoded data removed]",
      "text/plain": [
       "<Figure size 640x480 with 1 Axes>"
      ]
     },
     "metadata": {},
     "output_type": "display_data"
    }
   ],
   "source": [
    "import matplotlib.pyplot as plt\n",
    "fig = plt.figure()\n",
    "ax = fig.add_axes([0,0,1,1])\n",
    "legend = cpu_usage.map(lambda x: str(x[0]) if x[0] is not None else 'None').collect()\n",
    "count = cpu_usage.sortByKey().map(lambda x: x[1]).collect()\n",
    "ax.bar(legend,count)\n",
    "plt.show()"
   ]
  },
  {
   "cell_type": "markdown",
   "metadata": {},
   "source": [
    "### Lost Computational Power"
   ]
  },
  {
   "cell_type": "code",
   "execution_count": 35,
   "metadata": {},
   "outputs": [
    {
     "name": "stdout",
     "output_type": "stream",
     "text": [
      "-  -  -  --------------------------------------------  ---  ------\n",
      "0  6  0  HofLGzk1Or/8Ildj2+Lqv0UGGvY82NLoni8+J/Yy0RU=  0.5  0.2493\n",
      "-  -  -  --------------------------------------------  ---  ------\n",
      "-------------  --  -  --------------------------------------------  ---  ------\n",
      "            0  10  0  HofLGzk1Or/8Ildj2+Lqv0UGGvY82NLoni8+J/Yy0RU=  0.5  0.2493\n",
      "1306164355566  10  1  HofLGzk1Or/8Ildj2+Lqv0UGGvY82NLoni8+J/Yy0RU=  0.5  0.2493\n",
      "1307163081914  10  0  HofLGzk1Or/8Ildj2+Lqv0UGGvY82NLoni8+J/Yy0RU=  0.5  0.2493\n",
      "-------------  --  -  --------------------------------------------  ---  ------\n",
      "-  --  -  --------------------------------------------  ---  ------\n",
      "0  14  0  HofLGzk1Or/8Ildj2+Lqv0UGGvY82NLoni8+J/Yy0RU=  0.5  0.2493\n",
      "-  --  -  --------------------------------------------  ---  ------\n",
      "-------------  --  -  --------------------------------------------  ---  ------\n",
      "            0  26  0  HofLGzk1Or/8Ildj2+Lqv0UGGvY82NLoni8+J/Yy0RU=  0.5  0.2493\n",
      " 611893094118  26  1  HofLGzk1Or/8Ildj2+Lqv0UGGvY82NLoni8+J/Yy0RU=  0.5  0.2493\n",
      " 700559974858  26  0  HofLGzk1Or/8Ildj2+Lqv0UGGvY82NLoni8+J/Yy0RU=  0.5  0.2493\n",
      " 700559975977  26  2  HofLGzk1Or/8Ildj2+Lqv0UGGvY82NLoni8+J/Yy0RU=  0.5  0.2493\n",
      "1886486566970  26  2  HofLGzk1Or/8Ildj2+Lqv0UGGvY82NLoni8+J/Yy0RU=  0.5  0.2493\n",
      "1896956086270  26  2  HofLGzk1Or/8Ildj2+Lqv0UGGvY82NLoni8+J/Yy0RU=  0.5  0.2493\n",
      "-------------  --  -  --------------------------------------------  ---  ------\n",
      "-------------  --  -  --------------------------------------------  ---  ------\n",
      "            0  28  0  HofLGzk1Or/8Ildj2+Lqv0UGGvY82NLoni8+J/Yy0RU=  0.5  0.2493\n",
      " 339074705486  28  2  HofLGzk1Or/8Ildj2+Lqv0UGGvY82NLoni8+J/Yy0RU=  0.5  0.2493\n",
      " 883148217047  28  2  HofLGzk1Or/8Ildj2+Lqv0UGGvY82NLoni8+J/Yy0RU=  0.5  0.2493\n",
      " 891339944337  28  2  HofLGzk1Or/8Ildj2+Lqv0UGGvY82NLoni8+J/Yy0RU=  0.5  0.2493\n",
      " 905782355579  28  2  HofLGzk1Or/8Ildj2+Lqv0UGGvY82NLoni8+J/Yy0RU=  0.5  0.2493\n",
      " 996437104949  28  2  HofLGzk1Or/8Ildj2+Lqv0UGGvY82NLoni8+J/Yy0RU=  0.5  0.2493\n",
      "2013297937142  28  2  HofLGzk1Or/8Ildj2+Lqv0UGGvY82NLoni8+J/Yy0RU=  0.5  0.2493\n",
      "2013693139749  28  2  HofLGzk1Or/8Ildj2+Lqv0UGGvY82NLoni8+J/Yy0RU=  0.5  0.2493\n",
      "2028106138670  28  2  HofLGzk1Or/8Ildj2+Lqv0UGGvY82NLoni8+J/Yy0RU=  0.5  0.2493\n",
      "2237526736097  28  1  HofLGzk1Or/8Ildj2+Lqv0UGGvY82NLoni8+J/Yy0RU=  0.5  0.2493\n",
      "2237807267612  28  0  HofLGzk1Or/8Ildj2+Lqv0UGGvY82NLoni8+J/Yy0RU=  0.5  0.2493\n",
      "-------------  --  -  --------------------------------------------  ---  ------\n",
      "------------  --  -  --------------------------------------------  ---  ------\n",
      "           0  36  0  HofLGzk1Or/8Ildj2+Lqv0UGGvY82NLoni8+J/Yy0RU=  0.5  0.2493\n",
      "323263688716  36  1  HofLGzk1Or/8Ildj2+Lqv0UGGvY82NLoni8+J/Yy0RU=  0.5  0.2493\n",
      "323398567454  36  0  HofLGzk1Or/8Ildj2+Lqv0UGGvY82NLoni8+J/Yy0RU=  0.5  0.2493\n",
      "------------  --  -  --------------------------------------------  ---  ------\n",
      "-  --  -  --------------------------------------------  ---  ------\n",
      "0  38  0  HofLGzk1Or/8Ildj2+Lqv0UGGvY82NLoni8+J/Yy0RU=  0.5  0.2493\n",
      "-  --  -  --------------------------------------------  ---  ------\n",
      "------------  --  -  --------------------------------------------  ---  ------\n",
      "           0  46  0  HofLGzk1Or/8Ildj2+Lqv0UGGvY82NLoni8+J/Yy0RU=  0.5  0.2493\n",
      "111568648231  46  1  HofLGzk1Or/8Ildj2+Lqv0UGGvY82NLoni8+J/Yy0RU=  0.5  0.2493\n",
      "112578194091  46  0  HofLGzk1Or/8Ildj2+Lqv0UGGvY82NLoni8+J/Yy0RU=  0.5  0.2493\n",
      "113824293917  46  1  HofLGzk1Or/8Ildj2+Lqv0UGGvY82NLoni8+J/Yy0RU=  0.5  0.2493\n",
      "114525810337  46  0  HofLGzk1Or/8Ildj2+Lqv0UGGvY82NLoni8+J/Yy0RU=  0.5  0.2493\n",
      "301747677093  46  2  HofLGzk1Or/8Ildj2+Lqv0UGGvY82NLoni8+J/Yy0RU=  0.5  0.2493\n",
      "303787373076  46  2  HofLGzk1Or/8Ildj2+Lqv0UGGvY82NLoni8+J/Yy0RU=  0.5  0.2493\n",
      "318205948070  46  2  HofLGzk1Or/8Ildj2+Lqv0UGGvY82NLoni8+J/Yy0RU=  0.5  0.2493\n",
      "------------  --  -  --------------------------------------------  ---  ------\n",
      "-  --  -  --------------------------------------------  ---  ------\n",
      "0  52  0  HofLGzk1Or/8Ildj2+Lqv0UGGvY82NLoni8+J/Yy0RU=  0.5  0.2493\n",
      "-  --  -  --------------------------------------------  ---  ------\n",
      "-------------  --  -  --------------------------------------------  ---  ------\n",
      "            0  54  0  HofLGzk1Or/8Ildj2+Lqv0UGGvY82NLoni8+J/Yy0RU=  0.5  0.2493\n",
      " 102710977480  54  2  HofLGzk1Or/8Ildj2+Lqv0UGGvY82NLoni8+J/Yy0RU=  0.5  0.2493\n",
      " 103181992949  54  2  HofLGzk1Or/8Ildj2+Lqv0UGGvY82NLoni8+J/Yy0RU=  0.5  0.2493\n",
      " 117600416686  54  2  HofLGzk1Or/8Ildj2+Lqv0UGGvY82NLoni8+J/Yy0RU=  0.5  0.2493\n",
      "1100234723502  54  2  HofLGzk1Or/8Ildj2+Lqv0UGGvY82NLoni8+J/Yy0RU=  0.5  0.2493\n",
      "1109694866814  54  2  HofLGzk1Or/8Ildj2+Lqv0UGGvY82NLoni8+J/Yy0RU=  0.5  0.2493\n",
      "1124116526809  54  2  HofLGzk1Or/8Ildj2+Lqv0UGGvY82NLoni8+J/Yy0RU=  0.5  0.2493\n",
      "1268185307944  54  2  HofLGzk1Or/8Ildj2+Lqv0UGGvY82NLoni8+J/Yy0RU=  0.5  0.2493\n",
      "2503454655740  54  1  HofLGzk1Or/8Ildj2+Lqv0UGGvY82NLoni8+J/Yy0RU=  0.5  0.2493\n",
      "2504395384816  54  0  HofLGzk1Or/8Ildj2+Lqv0UGGvY82NLoni8+J/Yy0RU=  0.5  0.2493\n",
      "-------------  --  -  --------------------------------------------  ---  ------\n"
     ]
    }
   ],
   "source": [
    "machines_history = machine_events \\\n",
    "    .map(lambda row: (machine_id(row),row)) \\\n",
    "    .aggregateByKey(None,lambda acc, e: acc+[e] if acc is not None else [e],add) \\\n",
    "    .map(lambda machine: machine[1]) \\\n",
    "\n",
    "for e in machines_history.take(10):\n",
    "    print(tabulate(e))"
   ]
  },
  {
   "cell_type": "code",
   "execution_count": 36,
   "metadata": {},
   "outputs": [
    {
     "data": {
      "text/plain": [
       "0"
      ]
     },
     "execution_count": 36,
     "metadata": {},
     "output_type": "execute_result"
    }
   ],
   "source": [
    "machines_history.filter(lambda m: sorted(m)).count() - machines_history.count()"
   ]
  },
  {
   "cell_type": "markdown",
   "metadata": {},
   "source": [
    "The trace period starts at 600 seconds (aka $6 \\times 10^{8}$ microseconds), to obtain the total trace time, we find the latest event time and subtracted $6 \\times 10^{8}$ to it."
   ]
  },
  {
   "cell_type": "code",
   "execution_count": 38,
   "metadata": {},
   "outputs": [
    {
     "name": "stdout",
     "output_type": "stream",
     "text": [
      "The total trace time is 2505535493517 µs ≈ 696 hours ≈ 29 days\n"
     ]
    }
   ],
   "source": [
    "from math import ceil\n",
    "\n",
    "total_trace_time = time(machine_events.max(lambda row: time(row))) - 6*10**8\n",
    "\n",
    "print(f'The total trace time is {total_trace_time} µs ≈ {ceil(total_trace_time/(10**6 * 3600))} hours ≈ {ceil(total_trace_time/(10**6 * 3600 * 24))} days')"
   ]
  },
  {
   "cell_type": "markdown",
   "metadata": {},
   "source": [
    "Once we have this number, computing the total computation power of a given machine is a matter of subtracting the starting time of the machine and multiplying by the CPU capacity. We assume here that the CPU capacity of a machine never changes, and we remove the machines that have some cpu values at None to prevent weird events."
   ]
  },
  {
   "cell_type": "code",
   "execution_count": 39,
   "metadata": {},
   "outputs": [
    {
     "name": "stdout",
     "output_type": "stream",
     "text": [
      "There are 32 machines with None values in their CPUs. They will not be evaluated.\n",
      "During the trace time, around 0.4798% of the computational power was lost.\n",
      "The exact percentage obtained is 0.4798129882918588% !\n"
     ]
    }
   ],
   "source": [
    "def lost_and_total_power(events):\n",
    "    # Functions and Variables\n",
    "    status = machine_events_get['event type']\n",
    "    time = machine_events_get['time']\n",
    "    start = time(events[0])\n",
    "    cpu = machine_events_get['CPUs'](events[0])\n",
    "\n",
    "    # Lost time\n",
    "    lost_time = 0\n",
    "    for i,m in enumerate(events):\n",
    "        if i==0:\n",
    "            continue\n",
    "        if status(m)==0 and status(events[i-1])==1:\n",
    "            lost_time += time(m) - time(events[i-1])\n",
    "        \n",
    "    # Total time\n",
    "    total_time = total_trace_time if (start < 6*10**8) else (total_trace_time - start + 6*10**8)\n",
    "\n",
    "    # Resulting power\n",
    "    return (lost_time*cpu,total_time*cpu)\n",
    "\n",
    "def has_none_cpu(events):\n",
    "    cpu = machine_events_get['CPUs']\n",
    "    for m in events:\n",
    "        if cpu(m) is None:\n",
    "            return True\n",
    "    return False\n",
    "\n",
    "print(f'There are {machines_history.filter(has_none_cpu).count()} machines with None values in their CPUs. They will not be evaluated.')\n",
    "\n",
    "power_lost_and_total = machines_history \\\n",
    "    .filter(lambda m: not has_none_cpu(m)) \\\n",
    "    .map(lost_and_total_power) \\\n",
    "    .reduce(lambda p1,p2: (p1[0]+p2[0],p1[1]+p2[1]))\n",
    "\n",
    "print(f'During the trace time, around {(power_lost_and_total[0]/power_lost_and_total[1])*100:.4f}% of the computational power was lost.\\\n",
    "\\nThe exact percentage obtained is {(power_lost_and_total[0]/power_lost_and_total[1])*100}% !')\n"
   ]
  },
  {
   "cell_type": "markdown",
   "metadata": {},
   "source": [
    "## Distribution of jobs and tasks per scheduling class\n",
    "\n",
    "We will evaluate the distribution over **submitted** tasks and jobs. It also implies that we do not consider the distribution _over time_ but only within the _set_ of all submitted tasks and jobs.\n",
    "\n",
    "We could also consider the evolution of the scheduling class through time, looking at the event types UPDATE_PENDING and UPDATE_RUNNING. This is a different perspective where time is a key component."
   ]
  },
  {
   "cell_type": "markdown",
   "metadata": {},
   "source": [
    "### Studying jobs"
   ]
  },
  {
   "cell_type": "markdown",
   "metadata": {},
   "source": [
    "We start our analysis with jobs. They should be fewer, as there can be many tasks per job, but one job per task.\n",
    "\n",
    "Before all, the schema for the tables we will use:"
   ]
  },
  {
   "cell_type": "code",
   "execution_count": null,
   "metadata": {},
   "outputs": [],
   "source": [
    "job_events_schema = schemas['job_events']\n",
    "\n",
    "print(tabulate(job_events_schema['fields'], headers='keys', maxcolwidths=40))"
   ]
  },
  {
   "cell_type": "markdown",
   "metadata": {},
   "source": [
    "First step, gather the events based on the task or job they refer to. We expect such lists of events to be small enough to be handled in regular python lists."
   ]
  },
  {
   "cell_type": "code",
   "execution_count": null,
   "metadata": {},
   "outputs": [],
   "source": [
    "job_events = sc.textFile(\"../data/job_events/part-00000-of-00500.csv\") \\\n",
    "    .map(lambda row: schema.format_row(job_events_schema, row.split(',')))\n",
    "job_events.persist()\n",
    "\n",
    "job_events_get = schema.field_getters(job_events_schema)\n",
    "\n",
    "print(tabulate(job_events.take(10)))"
   ]
  },
  {
   "cell_type": "markdown",
   "metadata": {},
   "source": [
    "We are interested in the job submission event, which is when they are assigned their (initial) scheduling class."
   ]
  },
  {
   "cell_type": "code",
   "execution_count": null,
   "metadata": {},
   "outputs": [],
   "source": [
    "# event type 0 = SUBMIT\n",
    "scheduling_events = job_events \\\n",
    "    .filter(lambda job_event: job_events_get['event type'](job_event) == 0)"
   ]
  },
  {
   "cell_type": "markdown",
   "metadata": {},
   "source": [
    "The documentation says that it is possible for a job to be submitted more than once, when it has evicted, failed or been killed but still is runnable (up to a maximal number of trials).\n",
    "\n",
    "Do we have any such situation ?"
   ]
  },
  {
   "cell_type": "code",
   "execution_count": null,
   "metadata": {},
   "outputs": [],
   "source": [
    "jobs_with_several_scheduling_classes = scheduling_events \\\n",
    "    .map(lambda job_event: (job_events_get['job ID'](job_event), \n",
    "                            [job_events_get['scheduling class'](job_event)])) \\\n",
    "    .reduceByKey(lambda event1, event2: event1 + event2) \\\n",
    "    .filter(lambda x: len(x[1]) > 1) \\\n",
    "    .count()\n",
    "\n",
    "print(f'{jobs_with_several_scheduling_classes} jobs have been submitted more than once (and hence could have changed their scheduling class).')"
   ]
  },
  {
   "cell_type": "markdown",
   "metadata": {},
   "source": [
    "No.\n",
    "\n",
    "Let us then proceed with gathering the scheduling classes."
   ]
  },
  {
   "cell_type": "code",
   "execution_count": null,
   "metadata": {},
   "outputs": [],
   "source": [
    "job_scheduling_classes = scheduling_events \\\n",
    "    .map(lambda event: (job_events_get['scheduling class'](event), 1)) \\\n",
    "    .reduceByKey(add) \\\n",
    "    .collect()\n",
    "\n",
    "for scheduling_class in job_scheduling_classes:\n",
    "    print(scheduling_class)"
   ]
  },
  {
   "cell_type": "code",
   "execution_count": null,
   "metadata": {},
   "outputs": [],
   "source": [
    "fig = plt.figure()\n",
    "ax = fig.add_axes([0,0,1,1])\n",
    "scheduling_class = list(map(lambda x: x[0], job_scheduling_classes))\n",
    "count = list(map(lambda x: x[1], job_scheduling_classes))\n",
    "ax.bar(scheduling_class,count)\n",
    "plt.xlabel(\"Scheduling classes\")\n",
    "plt.ylabel(\"Number of jobs\")\n",
    "plt.xticks(scheduling_class)\n",
    "plt.title(\"Distribution of scheduling classes for all submitted jobs\")\n",
    "plt.show()"
   ]
  },
  {
   "cell_type": "markdown",
   "metadata": {},
   "source": [
    "### Repeating the analysis for tasks\n",
    "\n",
    "Let us now do the same analysis for all tasks, irrespective of which job they belong to."
   ]
  },
  {
   "cell_type": "code",
   "execution_count": null,
   "metadata": {},
   "outputs": [],
   "source": [
    "task_events_schema = schemas['task_events']\n",
    "\n",
    "print(tabulate(task_events_schema['fields'], headers='keys', maxcolwidths=40))"
   ]
  },
  {
   "cell_type": "markdown",
   "metadata": {},
   "source": [
    "## Appendix"
   ]
  },
  {
   "cell_type": "markdown",
   "metadata": {},
   "source": [
    "Alternate approach with SparkSQL, allowing the use of DataFrames:\n",
    "from pyspark.sql import SparkSession"
   ]
  },
  {
   "cell_type": "code",
   "execution_count": null,
   "metadata": {},
   "outputs": [],
   "source": [
    "spark = SparkSession.builder \\\n",
    "    .master(\"local(*]\") \\\n",
    "    .appName(\"Cluster analysis\") \\\n",
    "    .getOrCreate()"
   ]
  },
  {
   "cell_type": "markdown",
   "metadata": {},
   "source": [
    "### With DataFrames\n",
    "\n",
    "It would be nice to have the tabular methods provided by DataFrames. Fortunately, Spark offers a DataFrame API, through their Spark SQL. To [load a CSV as a DataFrame](https://spark.apache.org/docs/latest/api/python/reference/pyspark.sql/api/pyspark.sql.DataFrameReader.csv.html#pyspark.sql.DataFrameReader.csv),"
   ]
  },
  {
   "cell_type": "code",
   "execution_count": null,
   "metadata": {},
   "outputs": [],
   "source": [
    "from pyspark.sql.types import StructType, StructField\n",
    "from pyspark.sql.types import StringType, FloatType, IntegerType, LongType\n",
    "field_to_spark_type = {\n",
    "    'time': LongType,\n",
    "    'machine ID': LongType,\n",
    "    'event type': IntegerType,\n",
    "    'platform ID': StringType,\n",
    "    'CPUs': FloatType,\n",
    "    'Memory': FloatType\n",
    "}\n",
    "machine_events_schema = StructType([\n",
    "    StructField(field['content'].replace(' ', '_'), field_to_spark_type[field['content']](), field['mandatory']) for field in schemas['machine_events']['fields']\n",
    "])\n",
    "\n",
    "machine_events = spark.read \\\n",
    "    .format('csv') \\\n",
    "    .option(\"header\",\"true\") \\\n",
    "    .schema(machine_events_schema) \\\n",
    "    .load(\"../data/machine_events/part-00000-of-00001.csv\")"
   ]
  },
  {
   "cell_type": "markdown",
   "metadata": {},
   "source": [
    "Let us check that the schema is as we expect"
   ]
  },
  {
   "cell_type": "code",
   "execution_count": null,
   "metadata": {},
   "outputs": [],
   "source": [
    "machine_events.printSchema()"
   ]
  },
  {
   "cell_type": "markdown",
   "metadata": {},
   "source": [
    "And inspect the first few data"
   ]
  },
  {
   "cell_type": "code",
   "execution_count": null,
   "metadata": {},
   "outputs": [],
   "source": [
    "for elem in machine_events.take(5):\n",
    "\tprint(elem.asDict())"
   ]
  },
  {
   "cell_type": "markdown",
   "metadata": {},
   "source": [
    "How much events do we have?"
   ]
  },
  {
   "cell_type": "code",
   "execution_count": null,
   "metadata": {},
   "outputs": [],
   "source": [
    "machine_events.count(), machine_events.filter(machine_events.event_type == 1).count(),machine_events.filter(machine_events.event_type == 2).count()"
   ]
  },
  {
   "cell_type": "code",
   "execution_count": null,
   "metadata": {},
   "outputs": [],
   "source": [
    "machine_events.filter(machine_events.event_type == 0).CPUs"
   ]
  }
 ],
 "metadata": {
  "kernelspec": {
   "display_name": "Python 3.10.6 ('SparkProject-DTXSDDnr')",
   "language": "python",
   "name": "python3"
  },
  "language_info": {
   "codemirror_mode": {
    "name": "ipython",
    "version": 3
   },
   "file_extension": ".py",
   "mimetype": "text/x-python",
   "name": "python",
   "nbconvert_exporter": "python",
   "pygments_lexer": "ipython3",
   "version": "3.10.6"
  },
  "orig_nbformat": 4,
  "vscode": {
   "interpreter": {
    "hash": "cf96d2e1563c5703f4751942328699d80d1199668a3d2612f12bdd9a534862d2"
   }
  }
 },
 "nbformat": 4,
 "nbformat_minor": 2
}
