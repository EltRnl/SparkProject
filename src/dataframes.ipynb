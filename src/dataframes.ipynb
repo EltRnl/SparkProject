{
 "cells": [
  {
   "attachments": {},
   "cell_type": "markdown",
   "metadata": {},
   "source": [
    "# Exploring a DataFrames version of the former work\n",
    "\n",
    "## Starting PySparkSQL\n",
    "\n",
    "This interface allows the use the tabular methods provided by DataFrames. Spark offers a DataFrame API, through their Spark SQL."
   ]
  },
  {
   "cell_type": "code",
   "execution_count": 1,
   "metadata": {},
   "outputs": [
    {
     "name": "stderr",
     "output_type": "stream",
     "text": [
      "Setting default log level to \"WARN\".\n",
      "To adjust logging level use sc.setLogLevel(newLevel). For SparkR, use setLogLevel(newLevel).\n"
     ]
    },
    {
     "name": "stdout",
     "output_type": "stream",
     "text": [
      "23/01/16 10:06:18 WARN NativeCodeLoader: Unable to load native-hadoop library for your platform... using builtin-java classes where applicable\n"
     ]
    }
   ],
   "source": [
    "from pyspark.sql import SparkSession\n",
    "\n",
    "spark = SparkSession.builder \\\n",
    "    .master(\"local[*]\") \\\n",
    "    .appName(\"Cluster analysis\") \\\n",
    "    .getOrCreate()"
   ]
  },
  {
   "attachments": {},
   "cell_type": "markdown",
   "metadata": {},
   "source": [
    "## Parsing the schema file"
   ]
  },
  {
   "cell_type": "code",
   "execution_count": 2,
   "metadata": {},
   "outputs": [],
   "source": [
    "from schema import Schema\n",
    "from tabulate import tabulate\n",
    "from importlib import reload\n",
    "from pyspark.sql import functions as F\n",
    "\n",
    "schema = Schema(\"../data/schema.csv\")"
   ]
  },
  {
   "attachments": {},
   "cell_type": "markdown",
   "metadata": {},
   "source": [
    "## Loading a CSV file\n",
    "\n",
    "To [load a CSV as a DataFrame](https://spark.apache.org/docs/latest/api/python/reference/pyspark.sql/api/pyspark.sql.DataFrameReader.csv.html#pyspark.sql.DataFrameReader.csv),"
   ]
  },
  {
   "cell_type": "code",
   "execution_count": 3,
   "metadata": {},
   "outputs": [],
   "source": [
    "from pyspark.sql.types import StructType, StructField\n",
    "from pyspark.sql.types import StringType, FloatType, IntegerType, LongType\n",
    "\n",
    "# Mapping from field type as provided by the schema file, to their SparkSQL equivalent types\n",
    "field_to_spark_type = {\n",
    "    'time': LongType,\n",
    "    'machine ID': LongType,\n",
    "    'event type': IntegerType,\n",
    "    'platform ID': StringType,\n",
    "    'CPUs': FloatType,\n",
    "    'Memory': FloatType\n",
    "}\n",
    "\n",
    "# Object representing the format of the data we will be loading, so SparkSQL can do the proper pre-processing\n",
    "machine_events_schema = StructType([\n",
    "    StructField(field['content'].replace(' ', '_'), field_to_spark_type[field['content']](), field['mandatory'])\n",
    "    for field in schema.get_table_schema('machine_events')['fields']\n",
    "])\n",
    "\n",
    "machine_events = spark.read \\\n",
    "    .format('csv') \\\n",
    "    .option(\"header\",\"false\") \\\n",
    "    .schema(machine_events_schema) \\\n",
    "    .load(\"../data/machine_events/part-00000-of-00001.csv\")"
   ]
  },
  {
   "cell_type": "markdown",
   "metadata": {},
   "source": [
    "Let us check that the schema is as we expect"
   ]
  },
  {
   "cell_type": "code",
   "execution_count": 4,
   "metadata": {},
   "outputs": [
    {
     "name": "stdout",
     "output_type": "stream",
     "text": [
      "root\n",
      " |-- time: long (nullable = true)\n",
      " |-- machine_ID: long (nullable = true)\n",
      " |-- event_type: integer (nullable = true)\n",
      " |-- platform_ID: string (nullable = true)\n",
      " |-- CPUs: float (nullable = true)\n",
      " |-- Memory: float (nullable = true)\n",
      "\n"
     ]
    }
   ],
   "source": [
    "machine_events.printSchema()"
   ]
  },
  {
   "cell_type": "markdown",
   "metadata": {},
   "source": [
    "And inspect the first few data"
   ]
  },
  {
   "cell_type": "code",
   "execution_count": 5,
   "metadata": {},
   "outputs": [
    {
     "name": "stdout",
     "output_type": "stream",
     "text": [
      "{'time': 0, 'machine_ID': 5, 'event_type': 0, 'platform_ID': 'HofLGzk1Or/8Ildj2+Lqv0UGGvY82NLoni8+J/Yy0RU=', 'CPUs': 0.5, 'Memory': 0.2493000030517578}\n",
      "{'time': 0, 'machine_ID': 6, 'event_type': 0, 'platform_ID': 'HofLGzk1Or/8Ildj2+Lqv0UGGvY82NLoni8+J/Yy0RU=', 'CPUs': 0.5, 'Memory': 0.2493000030517578}\n",
      "{'time': 0, 'machine_ID': 7, 'event_type': 0, 'platform_ID': 'HofLGzk1Or/8Ildj2+Lqv0UGGvY82NLoni8+J/Yy0RU=', 'CPUs': 0.5, 'Memory': 0.2493000030517578}\n",
      "{'time': 0, 'machine_ID': 10, 'event_type': 0, 'platform_ID': 'HofLGzk1Or/8Ildj2+Lqv0UGGvY82NLoni8+J/Yy0RU=', 'CPUs': 0.5, 'Memory': 0.2493000030517578}\n",
      "{'time': 0, 'machine_ID': 13, 'event_type': 0, 'platform_ID': 'HofLGzk1Or/8Ildj2+Lqv0UGGvY82NLoni8+J/Yy0RU=', 'CPUs': 0.5, 'Memory': 0.2493000030517578}\n"
     ]
    }
   ],
   "source": [
    "for elem in machine_events.take(5):\n",
    "\tprint(elem.asDict())"
   ]
  },
  {
   "cell_type": "markdown",
   "metadata": {},
   "source": [
    "How much events do we have?"
   ]
  },
  {
   "cell_type": "code",
   "execution_count": 6,
   "metadata": {},
   "outputs": [
    {
     "data": {
      "text/plain": [
       "(37780, 8957, 7380)"
      ]
     },
     "execution_count": 6,
     "metadata": {},
     "output_type": "execute_result"
    }
   ],
   "source": [
    "machine_events.count(), machine_events.filter(machine_events.event_type == 1).count(),machine_events.filter(machine_events.event_type == 2).count()"
   ]
  },
  {
   "cell_type": "code",
   "execution_count": 7,
   "metadata": {},
   "outputs": [
    {
     "name": "stdout",
     "output_type": "stream",
     "text": [
      "+----+-----+\n",
      "|CPUs|count|\n",
      "+----+-----+\n",
      "|0.25|  224|\n",
      "|null|   32|\n",
      "| 0.5|19773|\n",
      "| 1.0| 1414|\n",
      "+----+-----+\n",
      "\n"
     ]
    }
   ],
   "source": [
    "creation_events = machine_events.filter(machine_events.event_type == 0)\n",
    "\n",
    "cpu_counts = creation_events.groupBy(\"CPUs\").count()\n",
    "cpu_counts.show()"
   ]
  },
  {
   "attachments": {},
   "cell_type": "markdown",
   "metadata": {},
   "source": [
    "Just because we can, here is a version in SQL:"
   ]
  },
  {
   "cell_type": "code",
   "execution_count": 8,
   "metadata": {},
   "outputs": [
    {
     "name": "stdout",
     "output_type": "stream",
     "text": [
      "+----+--------+\n",
      "|CPUs|count(1)|\n",
      "+----+--------+\n",
      "|0.25|     224|\n",
      "|null|      32|\n",
      "| 0.5|   19773|\n",
      "| 1.0|    1414|\n",
      "+----+--------+\n",
      "\n"
     ]
    }
   ],
   "source": [
    "creation_events.createOrReplaceTempView(\"creation_events\")\n",
    "\n",
    "spark.sql(\"SELECT CPUs, COUNT(*) \"\n",
    "           \"FROM creation_events \"\n",
    "           \"GROUP BY CPUs;\").show()"
   ]
  },
  {
   "attachments": {},
   "cell_type": "markdown",
   "metadata": {},
   "source": [
    "## Percentage of lost computational power"
   ]
  },
  {
   "cell_type": "code",
   "execution_count": 9,
   "metadata": {},
   "outputs": [],
   "source": [
    "machine_events.createOrReplaceTempView(\"machine_events\")"
   ]
  },
  {
   "cell_type": "code",
   "execution_count": 10,
   "metadata": {},
   "outputs": [
    {
     "data": {
      "text/plain": [
       "32"
      ]
     },
     "execution_count": 10,
     "metadata": {},
     "output_type": "execute_result"
    }
   ],
   "source": [
    "bad_cpu_machines = spark.sql(\"SELECT DISTINCT machine_ID \"\n",
    "                             \"FROM machine_events \"\n",
    "                             \"WHERE CPUs IS NULL\")\n",
    "bad_cpu_machines.count()"
   ]
  },
  {
   "cell_type": "code",
   "execution_count": 11,
   "metadata": {},
   "outputs": [
    {
     "name": "stdout",
     "output_type": "stream",
     "text": [
      "+----+----------+----------+--------------------+----+------+\n",
      "|time|machine_ID|event_type|         platform_ID|CPUs|Memory|\n",
      "+----+----------+----------+--------------------+----+------+\n",
      "|   0|         5|         0|HofLGzk1Or/8Ildj2...| 0.5|0.2493|\n",
      "|   0|         6|         0|HofLGzk1Or/8Ildj2...| 0.5|0.2493|\n",
      "|   0|         7|         0|HofLGzk1Or/8Ildj2...| 0.5|0.2493|\n",
      "|   0|        10|         0|HofLGzk1Or/8Ildj2...| 0.5|0.2493|\n",
      "|   0|        13|         0|HofLGzk1Or/8Ildj2...| 0.5|0.2493|\n",
      "|   0|        14|         0|HofLGzk1Or/8Ildj2...| 0.5|0.2493|\n",
      "|   0|        19|         0|HofLGzk1Or/8Ildj2...| 0.5|0.2493|\n",
      "|   0|        21|         0|HofLGzk1Or/8Ildj2...| 0.5|0.2493|\n",
      "|   0|        23|         0|HofLGzk1Or/8Ildj2...| 0.5|0.2493|\n",
      "|   0|        25|         0|HofLGzk1Or/8Ildj2...| 0.5|0.2493|\n",
      "|   0|        26|         0|HofLGzk1Or/8Ildj2...| 0.5|0.2493|\n",
      "|   0|        27|         0|HofLGzk1Or/8Ildj2...| 0.5|0.2493|\n",
      "|   0|        28|         0|HofLGzk1Or/8Ildj2...| 0.5|0.2493|\n",
      "|   0|        36|         0|HofLGzk1Or/8Ildj2...| 0.5|0.2493|\n",
      "|   0|        37|         0|HofLGzk1Or/8Ildj2...| 0.5|0.2493|\n",
      "|   0|        38|         0|HofLGzk1Or/8Ildj2...| 0.5|0.2493|\n",
      "|   0|        39|         0|HofLGzk1Or/8Ildj2...| 0.5|0.2493|\n",
      "|   0|        41|         0|HofLGzk1Or/8Ildj2...| 0.5|0.2493|\n",
      "|   0|        43|         0|HofLGzk1Or/8Ildj2...| 0.5|0.2493|\n",
      "|   0|        45|         0|HofLGzk1Or/8Ildj2...| 0.5|0.2493|\n",
      "+----+----------+----------+--------------------+----+------+\n",
      "only showing top 20 rows\n",
      "\n"
     ]
    }
   ],
   "source": [
    "spark.sql(\n",
    "    \"SELECT * FROM machine_events \"\n",
    "    \"WHERE CPUs IS NOT NULL \"\n",
    "    # \"GROUP BY machine_ID \"\n",
    "    \"ORDER BY time \"\n",
    "    ).show()"
   ]
  },
  {
   "attachments": {},
   "cell_type": "markdown",
   "metadata": {},
   "source": [
    "Let us check the maximum number of events associated with any machine:"
   ]
  },
  {
   "cell_type": "code",
   "execution_count": 12,
   "metadata": {},
   "outputs": [
    {
     "name": "stdout",
     "output_type": "stream",
     "text": [
      "+--------+\n",
      "|n_events|\n",
      "+--------+\n",
      "|     330|\n",
      "+--------+\n",
      "\n"
     ]
    }
   ],
   "source": [
    "spark.sql(\n",
    "    \"SELECT COUNT(*) as n_events FROM machine_events \"\n",
    "    \"WHERE CPUs IS NOT NULL \"\n",
    "    \"GROUP BY machine_ID \"\n",
    "    \"ORDER BY n_events DESC \"\n",
    "    \"LIMIT 1\"\n",
    "    ).show()"
   ]
  },
  {
   "attachments": {},
   "cell_type": "markdown",
   "metadata": {},
   "source": [
    "We have here 330 events at most for a machine. It should be easily managable by regular python code so we can proceed with the approach below."
   ]
  },
  {
   "cell_type": "code",
   "execution_count": 13,
   "metadata": {},
   "outputs": [],
   "source": [
    "grouped_machine_events = machine_events \\\n",
    "    .filter(machine_events['CPUs'].isNotNull()) \\\n",
    "    .orderBy(machine_events['time']) \\\n",
    "    .groupBy(machine_events['machine_ID']) \\\n",
    "    .agg(\n",
    "        F.collect_list('time').alias('time'),\n",
    "        F.collect_list('event_type').alias('event_type'),\n",
    "        F.collect_list('CPUs').alias('CPUs'))"
   ]
  },
  {
   "cell_type": "code",
   "execution_count": 14,
   "metadata": {},
   "outputs": [
    {
     "name": "stdout",
     "output_type": "stream",
     "text": [
      "+----------+--------------------+--------------------+--------------------+\n",
      "|machine_ID|                time|          event_type|                CPUs|\n",
      "+----------+--------------------+--------------------+--------------------+\n",
      "|         5|[835150655707, 83...|           [1, 0, 0]|     [0.5, 0.5, 0.5]|\n",
      "|         6|                 [0]|                 [0]|               [0.5]|\n",
      "|         7|                 [0]|                 [0]|               [0.5]|\n",
      "|        10|[1306164355566, 1...|           [1, 0, 0]|     [0.5, 0.5, 0.5]|\n",
      "|        13|[2447693838527, 2...|           [1, 0, 0]|     [0.5, 0.5, 0.5]|\n",
      "|        14|                 [0]|                 [0]|               [0.5]|\n",
      "|        19|                 [0]|                 [0]|               [0.5]|\n",
      "|        21|[1973117638055, 1...|        [2, 2, 2, 0]|[0.5, 0.5, 0.5, 0.5]|\n",
      "|        23|[481673206369, 48...|     [2, 2, 1, 0, 0]|[0.5, 0.5, 0.5, 0...|\n",
      "|        25|[669036455186, 68...|[2, 2, 2, 2, 2, 2...|[0.5, 0.5, 0.5, 0...|\n",
      "|        26|[611893094118, 70...|  [1, 0, 2, 2, 2, 0]|[0.5, 0.5, 0.5, 0...|\n",
      "|        27|                 [0]|                 [0]|               [0.5]|\n",
      "|        28|[339074705486, 88...|[2, 2, 2, 2, 2, 2...|[0.5, 0.5, 0.5, 0...|\n",
      "|        36|[323263688716, 32...|           [1, 0, 0]|     [0.5, 0.5, 0.5]|\n",
      "|        37|                 [0]|                 [0]|               [0.5]|\n",
      "|        38|                 [0]|                 [0]|               [0.5]|\n",
      "|        39|                 [0]|                 [0]|               [0.5]|\n",
      "|        41|[993255752546, 99...|[2, 2, 2, 2, 2, 2...|[0.5, 0.5, 0.5, 0...|\n",
      "|        43|[372991930737, 37...|[2, 2, 2, 2, 2, 2...|[0.5, 0.5, 0.5, 0...|\n",
      "|        45|[291376434099, 29...|     [1, 0, 1, 0, 0]|[0.5, 0.5, 0.5, 0...|\n",
      "+----------+--------------------+--------------------+--------------------+\n",
      "only showing top 20 rows\n",
      "\n"
     ]
    }
   ],
   "source": [
    "grouped_machine_events.show()"
   ]
  },
  {
   "cell_type": "code",
   "execution_count": 15,
   "metadata": {},
   "outputs": [
    {
     "ename": "TypeError",
     "evalue": "object of type 'Column' has no len()",
     "output_type": "error",
     "traceback": [
      "\u001b[0;31m---------------------------------------------------------------------------\u001b[0m",
      "\u001b[0;31mTypeError\u001b[0m                                 Traceback (most recent call last)",
      "Cell \u001b[0;32mIn[15], line 10\u001b[0m\n\u001b[1;32m      5\u001b[0m     \u001b[39m# accumulateur = df.machine_ID * 0\u001b[39;00m\n\u001b[1;32m      6\u001b[0m     \u001b[39m# for t in  df.time:\u001b[39;00m\n\u001b[1;32m      7\u001b[0m     \u001b[39m#     accumulateur += t\u001b[39;00m\n\u001b[1;32m      8\u001b[0m     \u001b[39mreturn\u001b[39;00m df\u001b[39m.\u001b[39mtime\n\u001b[0;32m---> 10\u001b[0m grouped_machine_events\u001b[39m.\u001b[39mwithColumn(\u001b[39m'\u001b[39m\u001b[39maggrégée\u001b[39m\u001b[39m'\u001b[39m, col_gen(grouped_machine_events))\u001b[39m.\u001b[39mshow()\n",
      "Cell \u001b[0;32mIn[15], line 4\u001b[0m, in \u001b[0;36mcol_gen\u001b[0;34m(df)\u001b[0m\n\u001b[1;32m      3\u001b[0m \u001b[39mdef\u001b[39;00m \u001b[39mcol_gen\u001b[39m(df):\n\u001b[0;32m----> 4\u001b[0m     \u001b[39mprint\u001b[39m(\u001b[39mlen\u001b[39;49m(F\u001b[39m.\u001b[39;49marray(df\u001b[39m.\u001b[39;49mtime)))\n\u001b[1;32m      5\u001b[0m     \u001b[39m# accumulateur = df.machine_ID * 0\u001b[39;00m\n\u001b[1;32m      6\u001b[0m     \u001b[39m# for t in  df.time:\u001b[39;00m\n\u001b[1;32m      7\u001b[0m     \u001b[39m#     accumulateur += t\u001b[39;00m\n\u001b[1;32m      8\u001b[0m     \u001b[39mreturn\u001b[39;00m df\u001b[39m.\u001b[39mtime\n",
      "\u001b[0;31mTypeError\u001b[0m: object of type 'Column' has no len()"
     ]
    }
   ],
   "source": [
    "from pyspark.sql import Column\n",
    "\n",
    "def col_gen(df):\n",
    "    print(len(F.array(df.time)))\n",
    "    # accumulateur = df.machine_ID * 0\n",
    "    # for t in  df.time:\n",
    "    #     accumulateur += t\n",
    "    return df.time\n",
    "\n",
    "grouped_machine_events.withColumn('aggrégée', col_gen(grouped_machine_events)).show()"
   ]
  },
  {
   "cell_type": "code",
   "execution_count": null,
   "metadata": {},
   "outputs": [],
   "source": [
    "from pyspark.sql.functions import pandas_udf\n",
    "\n",
    "def filter_func(iterator):\n",
    "    for pdf in iterator:\n",
    "        print(type(pdf))\n",
    "        yield pdf\n",
    "\n",
    "grouped_machine_events.mapInPandas(filter_func, grouped_machine_events.schema).show()"
   ]
  },
  {
   "cell_type": "code",
   "execution_count": null,
   "metadata": {},
   "outputs": [],
   "source": [
    "def my_function(df):\n",
    "    df.time[0]+1\n",
    "\n",
    "grouped_machine_events.to_pandas_on_spark().apply(my_function)"
   ]
  },
  {
   "cell_type": "code",
   "execution_count": null,
   "metadata": {},
   "outputs": [],
   "source": [
    "import pandas as pd\n",
    "from pyspark.sql.functions import pandas_udf"
   ]
  },
  {
   "cell_type": "code",
   "execution_count": null,
   "metadata": {},
   "outputs": [],
   "source": [
    "event_mapping = {0: 'add', 1: 'remove', 2: 'update'}\n",
    "\n",
    "@pandas_udf(\"cpu double\")\n",
    "def lost_and_total_power(time: pd.Series, event_type: pd.Series, CPUs: pd.Series) -> tuple[float, float]:\n",
    "    return CPUs[-1]\n",
    "    min_cpu = float('inf')\n",
    "    max_cpu = float('-inf')\n",
    "    for i, ev in events.items():\n",
    "        # event_to_accumulator(event)\n",
    "        # update_accumulator(event)\n",
    "        if ev['CPUs'] < min_cpu:\n",
    "            min_cpu = ev['CPUs']\n",
    "        if ev['CPUs'] > max_cpu:\n",
    "            max_cpu = ev['CPUs']\n",
    "    return pd.DataFrame({'min cpu': min_cpu, 'max cpu': max_cpu})\n",
    "\n",
    "\n",
    "grouped_machine_events \\\n",
    "    .agg(\n",
    "        lost_and_total_power(\n",
    "            machine_events['time'],\n",
    "            machine_events['event_type'],\n",
    "            machine_events['CPUs'])) \\\n",
    "    .show()"
   ]
  },
  {
   "attachments": {},
   "cell_type": "markdown",
   "metadata": {},
   "source": [
    "This route seams to be a dead end. The `applyInPandas` method on grouped data seems to not allow for iterative code. How can I do this aggregation then ?"
   ]
  },
  {
   "attachments": {},
   "cell_type": "markdown",
   "metadata": {},
   "source": [
    "Based on the documentation[[1]](https://spark.apache.org/docs/latest/api/python/reference/pyspark.sql/api/pyspark.sql.functions.pandas_udf.html#pyspark.sql.functions.pandas_udf)[[2]](https://spark.apache.org/docs/latest/api/python/reference/pyspark.sql/api/pyspark.sql.GroupedData.applyInPandas.html#pyspark.sql.GroupedData.applyInPandas) and our experiments, it seems infeasible to use the grouped data to compute the lost computational power."
   ]
  },
  {
   "attachments": {},
   "cell_type": "markdown",
   "metadata": {},
   "source": [
    "## In general, do tasks from the same job run on the same machine?"
   ]
  },
  {
   "cell_type": "code",
   "execution_count": 16,
   "metadata": {},
   "outputs": [],
   "source": [
    "# Mapping from field type as provided by the schema file, to their SparkSQL equivalent types\n",
    "from pyspark.sql.types import BooleanType\n",
    "\n",
    "field_to_spark_type = {\n",
    "    'time': LongType,\n",
    "    'missing info': LongType,\n",
    "    'job ID': LongType,\n",
    "    'task index': IntegerType,\n",
    "    'machine ID': LongType,\n",
    "    'event type': IntegerType,\n",
    "    'user': StringType,\n",
    "    'scheduling class': IntegerType,\n",
    "    'priority': IntegerType,\n",
    "    'CPU request': FloatType,\n",
    "    'memory request': FloatType,\n",
    "    'disk space request': FloatType,\n",
    "    'different machines restriction': BooleanType\n",
    "}\n",
    "\n",
    "# Object representing the format of the data we will be loading, so SparkSQL can do the proper pre-processing\n",
    "task_events_schema = StructType([\n",
    "    StructField(field['content'].replace(' ', '_'), field_to_spark_type[field['content']](), field['mandatory'])\n",
    "    for field in schema.get_table_schema('task_events')['fields']\n",
    "])\n",
    "\n",
    "task_events = spark.read \\\n",
    "    .format('csv') \\\n",
    "    .option(\"header\",\"false\") \\\n",
    "    .schema(task_events_schema) \\\n",
    "    .load(\"../data/task_events\")"
   ]
  },
  {
   "cell_type": "code",
   "execution_count": 17,
   "metadata": {},
   "outputs": [
    {
     "name": "stdout",
     "output_type": "stream",
     "text": [
      "+-----------+------------+----------+----------+----------+----------+--------------------+----------------+--------+-----------+--------------+------------------+------------------------------+\n",
      "|       time|missing_info|    job_ID|task_index|machine_ID|event_type|                user|scheduling_class|priority|CPU_request|memory_request|disk_space_request|different_machines_restriction|\n",
      "+-----------+------------+----------+----------+----------+----------+--------------------+----------------+--------+-----------+--------------+------------------+------------------------------+\n",
      "|95813803204|        null|6238340468|      2025| 317469463|         2|1wRYrkVgrhQf/fNZQ...|               1|       0|     0.0625|       0.03961|          3.815E-5|                          null|\n",
      "|95813803212|        null|6238340468|      2025|      null|         0|1wRYrkVgrhQf/fNZQ...|               1|       0|     0.0625|       0.03961|          3.815E-5|                          null|\n",
      "|95813803214|        null|6238340468|      2770| 317469463|         2|1wRYrkVgrhQf/fNZQ...|               1|       0|     0.0625|       0.03961|          3.815E-5|                          null|\n",
      "|95813803222|        null|6238340468|      2770|      null|         0|1wRYrkVgrhQf/fNZQ...|               1|       0|     0.0625|       0.03961|          3.815E-5|                          null|\n",
      "|95813803224|        null|6259281745|        77| 317469463|         1|E2Ck2gvizHUwShxSu...|               1|       4|     0.0625|        0.0318|          3.862E-4|                          null|\n",
      "|95813803226|        null|6225099547|      3652| 317469463|         1|9bg757+k8xeWFApxO...|               2|       2|    0.03064|       0.01317|          1.554E-4|                          null|\n",
      "|95813803441|        null|6255532702|       266| 337872643|         2|4Ubmtvv/epOnUEgeg...|               0|       0|    0.06873|       0.01193|          1.154E-4|                          null|\n",
      "|95813803450|        null|6255532702|       266|      null|         0|4Ubmtvv/epOnUEgeg...|               0|       0|    0.06873|       0.01193|          1.154E-4|                          null|\n",
      "|95813803451|        null|6258857209|        63| 337872643|         2|ycbMkTOh7F0buLKJl...|               0|       0|     0.0125|        0.0127|          7.534E-4|                          null|\n",
      "|95813803459|        null|6258857209|        63|      null|         0|ycbMkTOh7F0buLKJl...|               0|       0|     0.0125|        0.0127|          7.534E-4|                          null|\n",
      "|95813803461|        null|6225099547|      1541| 337872643|         1|9bg757+k8xeWFApxO...|               2|       2|    0.03064|       0.01317|          1.554E-4|                          null|\n",
      "|95813803523|        null|6233569879|         4| 431054440|         2|QNl8ZGPAiYiz+xvxU...|               3|       1|    0.01562|       0.02332|          1.907E-5|                          null|\n",
      "|95813803530|        null|6233569879|         4|      null|         0|QNl8ZGPAiYiz+xvxU...|               3|       1|    0.01562|       0.02332|          1.907E-5|                          null|\n",
      "|95813803531|        null|6256018813|       671| 431054440|         2|RhvHT3w1FJPk+ffa5...|               2|       1|     0.0125|       0.02298|          7.629E-6|                          null|\n",
      "|95813803538|        null|6256018813|       671|      null|         0|RhvHT3w1FJPk+ffa5...|               2|       1|     0.0125|       0.02298|          7.629E-6|                          null|\n",
      "|95813803539|        null|6256018813|       672| 431054440|         2|RhvHT3w1FJPk+ffa5...|               2|       1|     0.0125|       0.02298|          7.629E-6|                          null|\n",
      "|95813803547|        null|6256018813|       672|      null|         0|RhvHT3w1FJPk+ffa5...|               2|       1|     0.0125|       0.02298|          7.629E-6|                          null|\n",
      "|95813803548|        null|6256018813|       670| 431054440|         2|RhvHT3w1FJPk+ffa5...|               2|       1|     0.0125|       0.02298|          7.629E-6|                          null|\n",
      "|95813803555|        null|6256018813|       670|      null|         0|RhvHT3w1FJPk+ffa5...|               2|       1|     0.0125|       0.02298|          7.629E-6|                          null|\n",
      "|95813803556|        null|6258380499|      1829| 431054440|         2|Nugr6rX+U6WELDvGY...|               0|       1|     0.0625|        0.0318|          1.926E-4|                          null|\n",
      "+-----------+------------+----------+----------+----------+----------+--------------------+----------------+--------+-----------+--------------+------------------+------------------------------+\n",
      "only showing top 20 rows\n",
      "\n"
     ]
    }
   ],
   "source": [
    "task_events.show()"
   ]
  },
  {
   "attachments": {},
   "cell_type": "markdown",
   "metadata": {},
   "source": [
    "We note from the above display and the schema file that the attribute *machine_ID* can be *null*, as such, we need to filter it out before other operations."
   ]
  },
  {
   "cell_type": "code",
   "execution_count": 20,
   "metadata": {},
   "outputs": [
    {
     "name": "stderr",
     "output_type": "stream",
     "text": [
      "                                                                                \r"
     ]
    },
    {
     "name": "stdout",
     "output_type": "stream",
     "text": [
      "+----------+-----+\n",
      "|nb_machine|count|\n",
      "+----------+-----+\n",
      "|         1|37656|\n",
      "|         2| 3228|\n",
      "|         3|  665|\n",
      "|         4|  296|\n",
      "|         5|  407|\n",
      "|         6|  407|\n",
      "|         7|  199|\n",
      "|         8|  158|\n",
      "|         9|  472|\n",
      "|        10|  235|\n",
      "|        11|  848|\n",
      "|        12|  152|\n",
      "|        13|   85|\n",
      "|        14|  324|\n",
      "|        15| 1031|\n",
      "|        16|  231|\n",
      "|        17|   79|\n",
      "|        18|  107|\n",
      "|        19|   45|\n",
      "|        20|  110|\n",
      "+----------+-----+\n",
      "only showing top 20 rows\n",
      "\n"
     ]
    }
   ],
   "source": [
    "different_machines_histogram = task_events.filter(task_events.machine_ID.isNotNull())\\\n",
    "    .groupBy(\"job_ID\") \\\n",
    "    .agg(F.count_distinct(task_events.machine_ID)) \\\n",
    "    .groupBy(\"count(machine_ID)\") \\\n",
    "    .agg({\"job_ID\":\"count\"}) \\\n",
    "    .orderBy(\"count(machine_ID)\") \\\n",
    "    .withColumnRenamed(\"count(machine_ID)\",\"nb_machine\") \\\n",
    "    .withColumnRenamed(\"count(job_ID)\",\"count\") \\\n",
    "    .cache()\n",
    "\n",
    "different_machines_histogram.show()\n"
   ]
  },
  {
   "cell_type": "code",
   "execution_count": 28,
   "metadata": {},
   "outputs": [],
   "source": [
    "import matplotlib.pyplot as plt\n",
    "\n",
    "iterator = different_machines_histogram.toLocalIterator()\n",
    "X = []\n",
    "Y = []\n",
    "\n",
    "for row in iterator:\n",
    "    d = row.asDict()\n",
    "    X += [d[\"nb_machine\"]]\n",
    "    Y += [d[\"count\"]]\n",
    "    "
   ]
  },
  {
   "cell_type": "code",
   "execution_count": 30,
   "metadata": {},
   "outputs": [
    {
     "data": {
      "image/png": "[encoded data removed]",
      "text/plain": [
       "<Figure size 640x480 with 1 Axes>"
      ]
     },
     "metadata": {},
     "output_type": "display_data"
    }
   ],
   "source": [
    "plt.plot(X,Y)\n",
    "plt.yscale(\"log\")\n",
    "plt.show()"
   ]
  }
 ],
 "metadata": {
  "kernelspec": {
   "display_name": "SparkProject-DTXSDDnr",
   "language": "python",
   "name": "python3"
  },
  "language_info": {
   "codemirror_mode": {
    "name": "ipython",
    "version": 3
   },
   "file_extension": ".py",
   "mimetype": "text/x-python",
   "name": "python",
   "nbconvert_exporter": "python",
   "pygments_lexer": "ipython3",
   "version": "3.10.6"
  },
  "orig_nbformat": 4,
  "vscode": {
   "interpreter": {
    "hash": "cf96d2e1563c5703f4751942328699d80d1199668a3d2612f12bdd9a534862d2"
   }
  }
 },
 "nbformat": 4,
 "nbformat_minor": 2
}
